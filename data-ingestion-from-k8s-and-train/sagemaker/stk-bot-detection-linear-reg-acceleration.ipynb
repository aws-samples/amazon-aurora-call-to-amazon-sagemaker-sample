{
 "cells": [
  {
   "cell_type": "markdown",
   "metadata": {},
   "source": [
    "# STK player bot detector with SageMaker Linear Regression - Logistic Regression\n"
   ]
  },
  {
   "cell_type": "markdown",
   "metadata": {},
   "source": [
    "We'll look at a cool video game example where we're looking for cheaters, e.g., players who write bots to play on their behalf or coordinate with other players to gain advantage over legitimate players. We'll show which ML models can detect these cheats and how to run the analysis from the customer application using SQL. The scenario we simulate is a successful multiplayer game you launched few months ago on AWS. The game is fun, but the customer care team recently received many complaints about players cheating in the game. The task is to catch the cheaters and remove them from the game. You need to build a cheat detection system that will extend the customer-care application to hint with good efficacy about cheaters to improve the playing experience. We assume the customer care application uses Aurora MySQL, so you would like to minimize the changes to the application and use Aurora MySQL tools to detect the cheaters. \n",
    "\n",
    "We assume thegame server (https://github.com/aws-samples/amazon-aurora-call-to-amazon-sagemaker-sample/tree/master/stk-sample/env-build/eks) runs in Elastic Kubernetes Service and streams the server stdout to Kinesis Firehose using Fluentbit (https://fluentbit.io/) project. Kinesis Firehose stores the player actions in S3 that loads (https://github.com/aws-samples/amazon-aurora-call-to-amazon-sagemaker-sample/tree/master/stk-sample/env-build/lambda/stk-player-events-loader) in bulks the data to Aurora table actions. \n",
    "The game play actions defined as the struct Action. \n",
    "\n",
    "```\n",
    "struct Action\n",
    "    {\n",
    "        int          m_ticks;\n",
    "        int          m_kart_id;\n",
    "        PlayerAction m_action;\n",
    "        int          m_value;\n",
    "        int          m_value_l;\n",
    "        int          m_value_r;\n",
    "    }; \n",
    "```\n",
    "\n",
    "The game server emits player game actions logs in near real-time as the game progressed. m_ticks is a counter that increments upon any player action. m_kart_id is the player kart unique id. The m_value, m_value_l, and m_value_r indicates the action magnitude e.g., when player attempt to slow down abruptly, the brake action carries the max integer 32768. Similarly for accelerating and kart steer.\n",
    "\n",
    "```\n",
    "+-----------+--------------+------+-----+---------+----------------+\n",
    "| Field     | Type         | Null | Key | Default | Extra          |\n",
    "+-----------+--------------+------+-----+---------+----------------+\n",
    "| id        | mediumint(9) | NO   | PRI | NULL    | auto_increment |\n",
    "| m_ticks   | double | YES |      | NUL |         |\n",
    "| m_kart_id | double | YES |      | NUL |         |\n",
    "| m_action  | double | YES |      | NUL |         |\n",
    "| m_value   | double | YES |      | NUL |         |\n",
    "| m_value_l | double | YES |      | NUL |         |\n",
    "| m_value_r | double | YES |      | NUL |         |\n",
    "| class     | int(11)| YES |      | NUL |         |\n",
    "+-----------+--------------+------+-----+---------+----------------+\n",
    "```\n",
    "\n",
    "We facilitated hundreds of legitimate multiplayer game sessions and bot simulated game sessions. Game sessions were manually classified by updating sequence of player actions after the game session. e.g., we captured the last game sequence id prior the game session and updated the class value with 1 in the case of bot simulated session or 0 in the case of legitimate game session. e.g. update actions set class=1 where id>Num and class is null\n",
    "\n",
    "## Formulating the ML problem\n",
    "\n",
    "The game we use is SuperTuxKart, a free and open-source kart racing game.\n",
    "Players take actions during the game like collecting and using cans of Nitro. Players also use of various power-up (https://en.wikipedia.org/wiki/Power-up) items obtained by driving into item boxes laid out on the course. These power-ups include mushrooms (https://en.wikipedia.org/wiki/Super_Mario_(series)#Mushrooms) to give players a speed boost, Koopa (https://en.wikipedia.org/wiki/Koopa_Troopa) Shells to be thrown at opponents, and banana peels (https://en.wikipedia.org/wiki/Banana_peel) and fake item boxes that can be laid on the course as hazards.  \n",
    "Player actions (https://github.com/supertuxkart/stk-code/blob/master/src/input/input.hpp) are defined as a collection of game actions such as kart steer, brake, drift, look back etc. Cheating allows bots to benefit from power-up items while steering or braking the karts. Below we will classify the player behavior and distinct between human and bot actions. We will classify the suspicious player actions and then cross-reference it with other customer records already stored in the application database schema. e.g., customer care application that stores players' records in-game micro-transactions and customer care events. Therefore, we will train two models. The first is tracking bots by player moves and the second is to detect suspicious in-game micro-transactions.\n",
    "\n",
    "The rest of the notebook Implements the data exploration, preparation, model trainning, deployments and testing. "
   ]
  },
  {
   "cell_type": "markdown",
   "metadata": {},
   "source": [
    "#### Install packages"
   ]
  },
  {
   "cell_type": "code",
   "execution_count": 283,
   "metadata": {},
   "outputs": [
    {
     "name": "stdout",
     "output_type": "stream",
     "text": [
      "Requirement already satisfied: mysql-connector-python in /home/ec2-user/anaconda3/envs/pytorch_latest_p36/lib/python3.6/site-packages (8.0.21)\n",
      "Requirement already satisfied: protobuf>=3.0.0 in /home/ec2-user/anaconda3/envs/pytorch_latest_p36/lib/python3.6/site-packages (from mysql-connector-python) (3.13.0)\n",
      "Requirement already satisfied: setuptools in /home/ec2-user/anaconda3/envs/pytorch_latest_p36/lib/python3.6/site-packages (from protobuf>=3.0.0->mysql-connector-python) (45.2.0.post20200210)\n",
      "Requirement already satisfied: six>=1.9 in /home/ec2-user/anaconda3/envs/pytorch_latest_p36/lib/python3.6/site-packages (from protobuf>=3.0.0->mysql-connector-python) (1.14.0)\n"
     ]
    },
    {
     "name": "stderr",
     "output_type": "stream",
     "text": [
      "bash: line 2: /home/ec2-user/SageMaker/amazon-aurora-call-to-amazon-sagemaker-sample/stk-sample/env-build/sagemaker/env: No such file or directory\n",
      "WARNING: You are using pip version 20.0.2; however, version 20.3.1 is available.\n",
      "You should consider upgrading via the '/home/ec2-user/anaconda3/envs/pytorch_latest_p36/bin/python -m pip install --upgrade pip' command.\n"
     ]
    }
   ],
   "source": [
    "%%bash \n",
    "home=`pwd`\n",
    ". $home/env\n",
    "pip3 install mysql-connector-python"
   ]
  },
  {
   "cell_type": "code",
   "execution_count": 284,
   "metadata": {},
   "outputs": [
    {
     "name": "stdout",
     "output_type": "stream",
     "text": [
      "arn:aws:iam::163538056407:role/service-role/AmazonSageMaker-ExecutionRole-20200913T212219\n"
     ]
    }
   ],
   "source": [
    "import sagemaker\n",
    "execution_role = sagemaker.get_execution_role()\n",
    "print(execution_role)"
   ]
  },
  {
   "cell_type": "markdown",
   "metadata": {},
   "source": [
    "## Data Exploration"
   ]
  },
  {
   "cell_type": "code",
   "execution_count": 506,
   "metadata": {},
   "outputs": [
    {
     "name": "stdout",
     "output_type": "stream",
     "text": [
      "CPU times: user 6.71 ms, sys: 0 ns, total: 6.71 ms\n",
      "Wall time: 5.96 ms\n"
     ]
    }
   ],
   "source": [
    "%%time\n",
    "\n",
    "import json\n",
    "import boto3\n",
    "import csv\n",
    "import mysql.connector\n",
    "import sys\n",
    "import os\n",
    "import configparser\n",
    "\n",
    "config = configparser.ConfigParser()\n",
    "\n",
    "config.read('rds.ini')\n",
    "\n",
    "ENDPOINT=config['default']['ENDPOINT']\n",
    "USR=config['default']['USR']\n",
    "PASWD=config['default']['PASWD']\n",
    "REGION=config['default']['REGION']\n",
    "DBNAME=config['default']['DBNAME']\n",
    "\n",
    "client = boto3.client('rds')"
   ]
  },
  {
   "cell_type": "markdown",
   "metadata": {},
   "source": [
    "Getting the right size of the grouping"
   ]
  },
  {
   "cell_type": "code",
   "execution_count": 286,
   "metadata": {},
   "outputs": [
    {
     "name": "stdout",
     "output_type": "stream",
     "text": [
      "CPU times: user 42.8 ms, sys: 0 ns, total: 42.8 ms\n",
      "Wall time: 434 ms\n"
     ]
    }
   ],
   "source": [
    "%%time\n",
    "import pandas as pd\n",
    "\n",
    "try:\n",
    "  conn =  mysql.connector.connect(host=ENDPOINT, user=USR, passwd=PASWD, port=3306, database=DBNAME)\n",
    "  cur = conn.cursor()\n",
    "    \n",
    "  cur.execute(\"\"\"select id,c_v,vel,vel_l,vel_r,class from v_actions_m_value_velocity where class=0 and party_size=2\"\"\")\n",
    "  human_vel_m_value_list=cur.fetchall()\n",
    "    \n",
    "  cur.execute(\"\"\"select id,c_v,vel,vel_l,vel_r,class from v_actions_m_value_velocity where class=1 and party_size=2\"\"\")\n",
    "  bot_vel_m_value_list=cur.fetchall()  \n",
    "\n",
    "  cur.execute(\"\"\"select id,accel,accel_l,accel_r,class from v_actions_m_value_accel where class=0 and party_size=2\"\"\")\n",
    "  human_accel_m_value_list=cur.fetchall()\n",
    "    \n",
    "  cur.execute(\"\"\"select id,accel,accel_l,accel_r,class from v_actions_m_value_accel where class=1 and party_size=2\"\"\")\n",
    "  bot_accel_m_value_list=cur.fetchall()\n",
    "    \n",
    "  cur.execute(\"\"\"select id,c_t,vel,class from v_actions_ticks_velocity where class=0\"\"\")\n",
    "  human_vel_ticks_list=cur.fetchall()\n",
    "    \n",
    "  cur.execute(\"\"\"select id,c_t,vel,class from v_actions_ticks_velocity where class=1\"\"\")\n",
    "  bot_vel_ticks_list=cur.fetchall()\n",
    "    \n",
    "  cur.execute(\"\"\"select id,accel,class from v_actions_ticks_accel where class=0\"\"\")\n",
    "  human_accel_ticks_list=cur.fetchall()\n",
    "    \n",
    "  cur.execute(\"\"\"select id,accel,class from v_actions_ticks_accel where class=1\"\"\")\n",
    "  bot_accel_ticks_list=cur.fetchall()\n",
    "    \n",
    "except Exception as e:\n",
    "  print(\"Database connection failed due to {}\".format(e))"
   ]
  },
  {
   "cell_type": "markdown",
   "metadata": {},
   "source": [
    "### Investigate and process the data"
   ]
  },
  {
   "cell_type": "code",
   "execution_count": 287,
   "metadata": {},
   "outputs": [],
   "source": [
    "import pandas as pd\n",
    "\n",
    "human_vel_m_value=pd.DataFrame(human_vel_m_value_list)\n",
    "bot_vel_m_value=pd.DataFrame(bot_vel_m_value_list)\n",
    "\n",
    "human_vel_m_value.rename(columns={0:'id',\n",
    "                            1:'c_v',\n",
    "                            2:'vel',\n",
    "                            3:'vel_l',\n",
    "                            4:'vel_r',\n",
    "                            5:'class'\n",
    "                           }, \n",
    "                 inplace=True)\n",
    "bot_vel_m_value.rename(columns={0:'id',\n",
    "                            1:'c_v',\n",
    "                            2:'vel',\n",
    "                            3:'vel_l',\n",
    "                            4:'vel_r',\n",
    "                            5:'class'\n",
    "                           }, \n",
    "                 inplace=True)\n",
    "\n",
    "\n",
    "human_accel_m_value=pd.DataFrame(human_accel_m_value_list)\n",
    "bot_accel_m_value=pd.DataFrame(bot_accel_m_value_list)\n",
    "\n",
    "human_accel_m_value.rename(columns={0:'id',\n",
    "                            1:'accel',\n",
    "                            2:'accel_l',\n",
    "                            3:'accel_r',\n",
    "                            4:'class'\n",
    "                           }, \n",
    "                 inplace=True)\n",
    "bot_accel_m_value.rename(columns={0:'id',\n",
    "                            1:'accel',\n",
    "                            2:'accel_l',\n",
    "                            3:'accel_r',\n",
    "                            4:'class'\n",
    "                           }, \n",
    "                 inplace=True)\n",
    "\n",
    "\n",
    "human_vel_ticks=pd.DataFrame(human_vel_ticks_list)\n",
    "bot_vel_ticks=pd.DataFrame(bot_vel_ticks_list)\n",
    "\n",
    "human_vel_ticks.rename(columns={0:'id',\n",
    "                            1:'c_t',\n",
    "                            2:'vel',\n",
    "                            3:'class'\n",
    "                           }, \n",
    "                 inplace=True)\n",
    "bot_vel_ticks.rename(columns={0:'id',\n",
    "                            1:'c_t',\n",
    "                            2:'vel',\n",
    "                            3:'class'\n",
    "                           }, \n",
    "                 inplace=True)\n",
    "\n",
    "\n",
    "human_accel_ticks=pd.DataFrame(human_accel_ticks_list)\n",
    "bot_accel_ticks=pd.DataFrame(bot_accel_ticks_list)\n",
    "\n",
    "human_accel_ticks.rename(columns={0:'id',\n",
    "                            1:'accel',\n",
    "                            2:'class'\n",
    "                           }, \n",
    "                 inplace=True)\n",
    "bot_accel_ticks.rename(columns={0:'id',\n",
    "                            1:'accel',\n",
    "                            2:'class'\n",
    "                           }, \n",
    "                 inplace=True)"
   ]
  },
  {
   "cell_type": "markdown",
   "metadata": {},
   "source": [
    "### Let's look for interesting data patterns\n",
    "#### first look at player ticks "
   ]
  },
  {
   "cell_type": "markdown",
   "metadata": {},
   "source": [
    "The game simulates car's motions that move at a dynamic acceleration along a non-straight line. We can use fundamental kinematic physics to calculate the average velocity and acceleration changes and train a linear regression-based model that predicts bot or human kart velocity and acceleration.\n",
    "We found that the values of the actions generated by bot distributed differently than the human player. We attribute the findings to a naively written bot, but the methodology we propose is not limited to the bot implementation. This behavior can be attributed to the specific player level that tends to generate more hectic action values than a bot that knows the right path to take.\n",
    "\n",
    "Lets first calculate the player actions velocity, vel in a session for bot and human `(prev.class=curr.class)` as follow:\n",
    "\n",
    "```sql\n",
    "create or replace view v_actions_m_value_velocity as\n",
    "select id,m_action,m_kart_id,c_v,p_v,(c_v-p_v) vel,c_v_l,p_v_l,(c_v_l-p_v_l) vel_l,c_v_r,p_v_r,(c_v_r-p_v_r) vel_r,party_size,session,class\n",
    "from\n",
    "(\n",
    "select curr.id,curr.m_action,curr.m_kart_id,curr.m_value c_v,prev.m_value p_v,curr.m_value_l c_v_l,prev.m_value_l p_v_l,curr.m_value_r c_v_r,prev.m_value_r p_v_r,curr.party_size,curr.session,curr.class\n",
    "from actions prev, actions curr\n",
    "where prev.id=curr.id-1 and prev.class=curr.class and curr.m_kart_id=prev.m_kart_id and curr.m_action=prev.m_action and curr.party_size=prev.party_size and curr.session=prev.session and party_size=2\n",
    "order by curr.m_kart_id,curr.id\n",
    ") v\n",
    "\n",
    "create or replace view v_actions_m_value_accel as\n",
    "select id,m_action,m_kart_id,c_v,p_v,c_vel,p_vel,(c_vel-p_vel) accel,c_v_l,p_v_l,c_vel_l,p_vel_l,(c_vel_l-p_vel_l) accel_l,c_v_r,p_v_r,c_vel_r,p_vel_r,(c_vel_r-p_vel_r) accel_r,party_size,session,class\n",
    "from\n",
    "(\n",
    "select curr.id,curr.m_action,curr.m_kart_id,curr.c_v,curr.p_v,curr.vel c_vel,prev.vel p_vel,curr.c_v_l,curr.p_v_l,curr.vel_l c_vel_l,prev.vel_l p_vel_l,curr.c_v_r,curr.p_v_r,curr.vel_r c_vel_r,prev.vel_r p_vel_r,curr.party_size,curr.session,curr.class\n",
    "  from v_actions_m_value_velocity prev,v_actions_m_value_velocity curr\n",
    "  where prev.id=curr.id-1 and prev.class=curr.class and curr.m_kart_id=prev.m_kart_id and curr.m_action=prev.m_action and curr.party_size=prev.party_size and curr.session=prev.session and curr.party_size=2\n",
    "  order by curr.m_kart_id,curr.id\n",
    ") v\n",
    "```\n",
    "\n",
    "We are going to look for patterns in the velocity and acceleration rates"
   ]
  },
  {
   "cell_type": "code",
   "execution_count": 288,
   "metadata": {},
   "outputs": [],
   "source": [
    "import matplotlib.pyplot as plt\n",
    "import pandas as pd"
   ]
  },
  {
   "cell_type": "code",
   "execution_count": 289,
   "metadata": {},
   "outputs": [
    {
     "name": "stdout",
     "output_type": "stream",
     "text": [
      "id       1372\n",
      "c_t      1372\n",
      "vel      1372\n",
      "class    1372\n",
      "dtype: int64\n"
     ]
    },
    {
     "data": {
      "image/png": "[encoded data removed]",
      "text/plain": [
       "<Figure size 432x288 with 1 Axes>"
      ]
     },
     "metadata": {
      "needs_background": "light"
     },
     "output_type": "display_data"
    }
   ],
   "source": [
    "print(bot_vel_ticks.count())\n",
    "bot_vel_ticks[100:200].plot(kind='scatter',x='id',y='c_t',color='red')\n",
    "plt.show()"
   ]
  },
  {
   "cell_type": "code",
   "execution_count": 290,
   "metadata": {},
   "outputs": [
    {
     "name": "stdout",
     "output_type": "stream",
     "text": [
      "id       5140\n",
      "c_t      5140\n",
      "vel      5140\n",
      "class    5140\n",
      "dtype: int64\n"
     ]
    },
    {
     "data": {
      "image/png": "[encoded data removed]",
      "text/plain": [
       "<Figure size 432x288 with 1 Axes>"
      ]
     },
     "metadata": {
      "needs_background": "light"
     },
     "output_type": "display_data"
    }
   ],
   "source": [
    "print(human_vel_ticks.count())\n",
    "human_vel_ticks[100:200].plot(kind='scatter',x='id',y='c_t',color='blue')\n",
    "plt.show()"
   ]
  },
  {
   "cell_type": "code",
   "execution_count": 291,
   "metadata": {},
   "outputs": [
    {
     "name": "stdout",
     "output_type": "stream",
     "text": [
      "id       1250\n",
      "accel    1250\n",
      "class    1250\n",
      "dtype: int64\n"
     ]
    },
    {
     "data": {
      "image/png": "[encoded data removed]",
      "text/plain": [
       "<Figure size 432x288 with 1 Axes>"
      ]
     },
     "metadata": {
      "needs_background": "light"
     },
     "output_type": "display_data"
    }
   ],
   "source": [
    "print(bot_accel_ticks.count())\n",
    "bot_accel_ticks[100:200].plot(kind='scatter',x='id',y='accel',color='red')\n",
    "plt.show()"
   ]
  },
  {
   "cell_type": "code",
   "execution_count": 292,
   "metadata": {},
   "outputs": [
    {
     "name": "stdout",
     "output_type": "stream",
     "text": [
      "id       2034\n",
      "accel    2034\n",
      "class    2034\n",
      "dtype: int64\n"
     ]
    },
    {
     "data": {
      "image/png": "[encoded data removed]",
      "text/plain": [
       "<Figure size 432x288 with 1 Axes>"
      ]
     },
     "metadata": {
      "needs_background": "light"
     },
     "output_type": "display_data"
    }
   ],
   "source": [
    "print(human_accel_ticks.count())\n",
    "human_accel_ticks[100:200].plot(kind='scatter',x='id',y='accel',color='blue')\n",
    "plt.show()"
   ]
  },
  {
   "cell_type": "markdown",
   "metadata": {},
   "source": [
    "We can see different patterns for `m_ticks` in bot and human. But `m_ticks` average velocity and acceleration seems to be similar so we need to look for more patterns. Lets look at `m_values` of those player ticks. Specifically for `actions=0 or 1`"
   ]
  },
  {
   "cell_type": "code",
   "execution_count": 293,
   "metadata": {},
   "outputs": [
    {
     "name": "stdout",
     "output_type": "stream",
     "text": [
      "id       4721\n",
      "c_v      4721\n",
      "vel      4721\n",
      "vel_l    4721\n",
      "vel_r    4721\n",
      "class    4721\n",
      "dtype: int64\n",
      "Index(['id', 'c_v', 'vel', 'vel_l', 'vel_r', 'class'], dtype='object')\n"
     ]
    },
    {
     "data": {
      "image/png": "[encoded data removed]",
      "text/plain": [
       "<Figure size 432x288 with 1 Axes>"
      ]
     },
     "metadata": {
      "needs_background": "light"
     },
     "output_type": "display_data"
    }
   ],
   "source": [
    "print(human_vel_m_value.count())\n",
    "print(human_vel_m_value.columns)\n",
    "human_vel_m_value[100:200].plot(kind='scatter',x='id',y='c_v',color='blue')\n",
    "plt.show()"
   ]
  },
  {
   "cell_type": "code",
   "execution_count": 294,
   "metadata": {},
   "outputs": [
    {
     "name": "stdout",
     "output_type": "stream",
     "text": [
      "id       198\n",
      "c_v      198\n",
      "vel      198\n",
      "vel_l    198\n",
      "vel_r    198\n",
      "class    198\n",
      "dtype: int64\n",
      "Index(['id', 'c_v', 'vel', 'vel_l', 'vel_r', 'class'], dtype='object')\n"
     ]
    },
    {
     "data": {
      "image/png": "[encoded data removed]",
      "text/plain": [
       "<Figure size 432x288 with 1 Axes>"
      ]
     },
     "metadata": {
      "needs_background": "light"
     },
     "output_type": "display_data"
    }
   ],
   "source": [
    "print(bot_vel_m_value.count())\n",
    "print(bot_vel_m_value.columns)\n",
    "bot_vel_m_value[100:200].plot(kind='scatter',x='id',y='c_v',color='red')\n",
    "plt.show()"
   ]
  },
  {
   "cell_type": "markdown",
   "metadata": {},
   "source": [
    "We can see the bot `m_value` distrubition is different than human. Lets see the average velocity changes. "
   ]
  },
  {
   "cell_type": "code",
   "execution_count": 295,
   "metadata": {},
   "outputs": [
    {
     "data": {
      "image/png": "[encoded data removed]",
      "text/plain": [
       "<Figure size 432x288 with 1 Axes>"
      ]
     },
     "metadata": {
      "needs_background": "light"
     },
     "output_type": "display_data"
    },
    {
     "data": {
      "text/plain": [
       "Index(['id', 'c_v', 'vel', 'vel_l', 'vel_r', 'class'], dtype='object')"
      ]
     },
     "execution_count": 295,
     "metadata": {},
     "output_type": "execute_result"
    }
   ],
   "source": [
    "human_vel_m_value[100:200].plot(kind='scatter',x='id',y='vel_r',color='blue')\n",
    "plt.show()\n",
    "human_vel_m_value.columns"
   ]
  },
  {
   "cell_type": "code",
   "execution_count": 296,
   "metadata": {},
   "outputs": [
    {
     "data": {
      "image/png": "[encoded data removed]",
      "text/plain": [
       "<Figure size 432x288 with 1 Axes>"
      ]
     },
     "metadata": {
      "needs_background": "light"
     },
     "output_type": "display_data"
    },
    {
     "data": {
      "text/plain": [
       "Index(['id', 'c_v', 'vel', 'vel_l', 'vel_r', 'class'], dtype='object')"
      ]
     },
     "execution_count": 296,
     "metadata": {},
     "output_type": "execute_result"
    }
   ],
   "source": [
    "bot_vel_m_value[100:200].plot(kind='scatter',x='id',y='vel_r',color='red')\n",
    "plt.show()\n",
    "bot_vel_m_value.columns"
   ]
  },
  {
   "cell_type": "code",
   "execution_count": 297,
   "metadata": {},
   "outputs": [
    {
     "data": {
      "image/png": "[encoded data removed]",
      "text/plain": [
       "<Figure size 432x288 with 1 Axes>"
      ]
     },
     "metadata": {
      "needs_background": "light"
     },
     "output_type": "display_data"
    },
    {
     "data": {
      "text/plain": [
       "Index(['id', 'accel', 'accel_l', 'accel_r', 'class'], dtype='object')"
      ]
     },
     "execution_count": 297,
     "metadata": {},
     "output_type": "execute_result"
    }
   ],
   "source": [
    "human_accel_m_value[600:2500].plot(kind='scatter',x='id',y='accel', label='human-acceleration',color='blue')\n",
    "plt.show()\n",
    "human_accel_m_value.columns"
   ]
  },
  {
   "cell_type": "code",
   "execution_count": 298,
   "metadata": {},
   "outputs": [
    {
     "data": {
      "image/png": "[encoded data removed]",
      "text/plain": [
       "<Figure size 432x288 with 1 Axes>"
      ]
     },
     "metadata": {
      "needs_background": "light"
     },
     "output_type": "display_data"
    },
    {
     "data": {
      "text/plain": [
       "Index(['id', 'accel', 'accel_l', 'accel_r', 'class'], dtype='object')"
      ]
     },
     "execution_count": 298,
     "metadata": {},
     "output_type": "execute_result"
    }
   ],
   "source": [
    "bot_accel_m_value[100:1500].plot(kind='scatter',x='id',y='accel',label='bot acceleration',color='red')\n",
    "plt.show()\n",
    "bot_accel_m_value.columns"
   ]
  },
  {
   "cell_type": "markdown",
   "metadata": {},
   "source": [
    "## Data preparation "
   ]
  },
  {
   "cell_type": "markdown",
   "metadata": {},
   "source": [
    "Alright, enough with the graphs, we noticed `m_value` and its `accel` as well as `m_value_l` and `m_value_r` and its `accel_l`, `accel_r` behave diffrently for `party_size=2`. lets build a data structure that includes these fields. "
   ]
  },
  {
   "cell_type": "code",
   "execution_count": 496,
   "metadata": {},
   "outputs": [
    {
     "name": "stdout",
     "output_type": "stream",
     "text": [
      "CPU times: user 27 ms, sys: 0 ns, total: 27 ms\n",
      "Wall time: 174 ms\n"
     ]
    },
    {
     "data": {
      "text/plain": [
       "class\n",
       "0    1264\n",
       "1     153\n",
       "dtype: int64"
      ]
     },
     "execution_count": 496,
     "metadata": {},
     "output_type": "execute_result"
    }
   ],
   "source": [
    "%%time\n",
    "import pandas as pd\n",
    "\n",
    "try:\n",
    "  conn =  mysql.connector.connect(host=ENDPOINT, user=USR, passwd=PASWD, port=3306, database=DBNAME)\n",
    "  cur = conn.cursor()\n",
    "    \n",
    "  cur.execute(\"\"\"select class,m_action,\n",
    "                  c_v value,c_vel velocity,accel,\n",
    "                  c_v_l value_l,c_vel_l velocity_l,accel_l,\n",
    "                  c_v_r value_r,c_vel_r velocity_r,accel_r\n",
    "                 from v_actions_m_value_accel where party_size=2\"\"\")\n",
    "  actions_m_value_accel_list=cur.fetchall()\n",
    "    \n",
    "except Exception as e:\n",
    "  print(\"Database connection failed due to {}\".format(e))\n",
    "\n",
    "\n",
    "actions_m_value_accel=pd.DataFrame(actions_m_value_accel_list)\n",
    "\n",
    "actions_m_value_accel.rename(columns={\n",
    "                            0:'class',\n",
    "                            1:'m_action',\n",
    "                            2:'value',\n",
    "                            3:'velocity',\n",
    "                            4:'accel',\n",
    "                            5:'value_l',\n",
    "                            6:'velocity_l',\n",
    "                            7:'accel_l',\n",
    "                            8:'value_r',\n",
    "                            9:'velocity_r',\n",
    "                           10:'accel_r'\n",
    "                           }, \n",
    "                 inplace=True)\n",
    "actions_m_value_accel.groupby('class').size()"
   ]
  },
  {
   "cell_type": "markdown",
   "metadata": {},
   "source": [
    "### Encoding the categorical feature m_action "
   ]
  },
  {
   "cell_type": "code",
   "execution_count": 497,
   "metadata": {},
   "outputs": [
    {
     "name": "stdout",
     "output_type": "stream",
     "text": [
      "sample of the one hot encoding [1. 0. 0. 0. 0. 0. 0.]\n",
      "the length of the m_action onehot encoding is 1417\n"
     ]
    },
    {
     "data": {
      "text/plain": [
       "(1417, 7)"
      ]
     },
     "execution_count": 497,
     "metadata": {},
     "output_type": "execute_result"
    }
   ],
   "source": [
    "from numpy import argmax\n",
    "from numpy import array\n",
    "import numpy\n",
    "from sklearn.preprocessing import OneHotEncoder\n",
    "from sklearn.preprocessing import LabelEncoder\n",
    "label_encoder = LabelEncoder()\n",
    "actions_m_value_accel_array=array(actions_m_value_accel.m_action)\n",
    "# integer encode\n",
    "label_encoder = LabelEncoder()\n",
    "integer_encoded = label_encoder.fit_transform(actions_m_value_accel_array)\n",
    "# binary encode\n",
    "onehot_encoder = OneHotEncoder(sparse=False)\n",
    "integer_encoded = integer_encoded.reshape(len(integer_encoded), 1)\n",
    "onehot_encoded = onehot_encoder.fit_transform(integer_encoded)\n",
    "\n",
    "print('sample of the one hot encoding {}'.format(onehot_encoded[10]))\n",
    "print('the length of the m_action onehot encoding is {}'.format(len(onehot_encoded)))\n",
    "onehot_encoded.shape"
   ]
  },
  {
   "cell_type": "markdown",
   "metadata": {},
   "source": [
    "Preparing the `actions_m_value_accel` dataframe with the 7xn encoded `m_action` array.\n",
    "\n",
    "* Removing the `m_action` column\n",
    "* Convert the `actions_m_value_accel` to array \n",
    "* Append the 7xn `onehot_encoded` array with `actions_m_value_accel_arr` "
   ]
  },
  {
   "cell_type": "code",
   "execution_count": 494,
   "metadata": {},
   "outputs": [
    {
     "name": "stdout",
     "output_type": "stream",
     "text": [
      "Index(['class', 'm_action', 'value', 'velocity', 'accel', 'value_l',\n",
      "       'velocity_l', 'accel_l', 'value_r', 'velocity_r', 'accel_r'],\n",
      "      dtype='object')\n",
      "Index(['class', 'value', 'velocity', 'accel', 'value_l', 'velocity_l',\n",
      "       'accel_l', 'value_r', 'velocity_r', 'accel_r'],\n",
      "      dtype='object')\n",
      "actions_m_value_accel_arr.shape=(1417, 10)\n"
     ]
    },
    {
     "data": {
      "text/plain": [
       "(1417, 17)"
      ]
     },
     "execution_count": 494,
     "metadata": {},
     "output_type": "execute_result"
    }
   ],
   "source": [
    "print(actions_m_value_accel.columns)\n",
    "actions_m_value_accel=actions_m_value_accel.drop(columns=['m_action'])\n",
    "print(actions_m_value_accel.columns)\n",
    "actions_m_value_accel_arr=array(actions_m_value_accel)\n",
    "print(\"actions_m_value_accel_arr.shape=\"+str(actions_m_value_accel_arr.shape))\n",
    "all_data = numpy.append(actions_m_value_accel_arr, onehot_encoded, 1)\n",
    "all_data.shape"
   ]
  },
  {
   "cell_type": "markdown",
   "metadata": {},
   "source": [
    "Create a mapping table between player `m_action` and the onehotencoding used for training\n",
    "```\n",
    "create table if not exists m_action_encoding (\n",
    "  m_action int,\n",
    "  i_0 int,\n",
    "  i_1 int,\n",
    "  i_2 int,\n",
    "  i_3 int,\n",
    "  i_4 int,\n",
    "  i_5 int,\n",
    "  i_6 int\n",
    ");\n",
    "```\n"
   ]
  },
  {
   "cell_type": "code",
   "execution_count": 507,
   "metadata": {},
   "outputs": [
    {
     "name": "stdout",
     "output_type": "stream",
     "text": [
      "insert_stmt = INSERT INTO m_action_encoding(m_action,i_0,i_1,i_2,i_3,i_4,i_5,i_6) VALUES (1,0.,1.,0.,0.,0.,0.,0.),(0,1.,0.,0.,0.,0.,0.,0.),(3,0.,0.,0.,1.,0.,0.,0.),(2,0.,0.,1.,0.,0.,0.,0.),(5,0.,0.,0.,0.,0.,1.,0.),(6,0.,0.,0.,0.,0.,0.,1.),(4,0.,0.,0.,0.,1.,0.,0.)\n"
     ]
    }
   ],
   "source": [
    "m_action_encoded_dict={}\n",
    "#dedup m_action_encoded\n",
    "for i in range(0,len(onehot_encoded),1):\n",
    "    key=str(onehot_encoded[i])+';'+str(integer_encoded[i])\n",
    "    m_action_encoded_dict[key]=1\n",
    "   \n",
    "values=''    \n",
    "for j in m_action_encoded_dict:\n",
    "    m_action_encode=j.split(';')\n",
    "    m_action_onehot=m_action_encode[0].replace('[','').replace(']','').split()\n",
    "    m_action_int=m_action_encode[1].replace('[','').replace(']','')\n",
    "    #print('{},{}'.format(m_action_onehot,m_action_int))\n",
    "    i_0=m_action_onehot[0]\n",
    "    i_1=m_action_onehot[1]\n",
    "    i_2=m_action_onehot[2]\n",
    "    i_3=m_action_onehot[3]\n",
    "    i_4=m_action_onehot[4]\n",
    "    i_5=m_action_onehot[5]\n",
    "    i_6=m_action_onehot[6]\n",
    "    value='('+m_action_int+','+i_0+','+i_1+','+i_2+','+i_3+','+i_4+','+i_5+','+i_6+')'\n",
    "    if(values):\n",
    "      values=values+','+value\n",
    "    else:\n",
    "      values=value\n",
    "    \n",
    "#print('values = {}'.format(values))\n",
    "insert_stmt=(\n",
    "  \"INSERT INTO m_action_encoding(m_action,i_0,i_1,i_2,i_3,i_4,i_5,i_6)\"\n",
    "  \" VALUES \"+values\n",
    ")    \n",
    "print('insert_stmt = {}'.format(insert_stmt))\n",
    "\n",
    "try:\n",
    "    conn =  mysql.connector.connect(host=ENDPOINT, user=USR, passwd=PASWD, port=3306, database=DBNAME)\n",
    "    cur = conn.cursor()\n",
    "    cur.execute('DELETE FROM m_action_encoding')\n",
    "    cur.execute(insert_stmt)\n",
    "    conn.commit()\n",
    "except Exception as e:\n",
    "    print(\"Database connection failed due to {}\".format(e))\n"
   ]
  },
  {
   "cell_type": "code",
   "execution_count": 512,
   "metadata": {},
   "outputs": [],
   "source": [
    "df=pd.DataFrame(all_data) \n",
    "df.head()\n",
    "df.rename(columns={\n",
    "                    0:'class',\n",
    "                    1:'value',\n",
    "                    2:'velocity',\n",
    "                    3:'accel',\n",
    "                    4:'value_l',\n",
    "                    5:'velocity_l',\n",
    "                    6:'accel_l',\n",
    "                    7:'value_r',\n",
    "                    8:'velocity_r',\n",
    "                    9:'accel_r',\n",
    "                    10:'m_action_0',\n",
    "                    11:'m_action_1',\n",
    "                    12:'m_action_2',\n",
    "                    13:'m_action_3',\n",
    "                    14:'m_action_4',\n",
    "                    15:'m_action_5',\n",
    "                    16:'m_action_6'\n",
    "                }, \n",
    "                 inplace=True)"
   ]
  },
  {
   "cell_type": "code",
   "execution_count": 522,
   "metadata": {},
   "outputs": [
    {
     "data": {
      "text/plain": [
       "Index(['class', 'value', 'velocity', 'accel', 'value_l', 'velocity_l',\n",
       "       'accel_l', 'value_r', 'velocity_r', 'accel_r', 'm_action_0',\n",
       "       'm_action_1', 'm_action_2', 'm_action_3', 'm_action_4', 'm_action_5',\n",
       "       'm_action_6'],\n",
       "      dtype='object')"
      ]
     },
     "execution_count": 522,
     "metadata": {},
     "output_type": "execute_result"
    }
   ],
   "source": [
    "df.columns"
   ]
  },
  {
   "cell_type": "code",
   "execution_count": 514,
   "metadata": {},
   "outputs": [
    {
     "data": {
      "text/html": [
       "<div>\n",
       "<style scoped>\n",
       "    .dataframe tbody tr th:only-of-type {\n",
       "        vertical-align: middle;\n",
       "    }\n",
       "\n",
       "    .dataframe tbody tr th {\n",
       "        vertical-align: top;\n",
       "    }\n",
       "\n",
       "    .dataframe thead th {\n",
       "        text-align: right;\n",
       "    }\n",
       "</style>\n",
       "<table border=\"1\" class=\"dataframe\">\n",
       "  <thead>\n",
       "    <tr style=\"text-align: right;\">\n",
       "      <th></th>\n",
       "      <th>class</th>\n",
       "      <th>value</th>\n",
       "      <th>velocity</th>\n",
       "      <th>accel</th>\n",
       "      <th>value_l</th>\n",
       "      <th>velocity_l</th>\n",
       "      <th>accel_l</th>\n",
       "      <th>value_r</th>\n",
       "      <th>velocity_r</th>\n",
       "      <th>accel_r</th>\n",
       "      <th>m_action_0</th>\n",
       "      <th>m_action_1</th>\n",
       "      <th>m_action_2</th>\n",
       "      <th>m_action_3</th>\n",
       "      <th>m_action_4</th>\n",
       "      <th>m_action_5</th>\n",
       "      <th>m_action_6</th>\n",
       "    </tr>\n",
       "  </thead>\n",
       "  <tbody>\n",
       "    <tr>\n",
       "      <th>0</th>\n",
       "      <td>0.0</td>\n",
       "      <td>32768.0</td>\n",
       "      <td>32768.0</td>\n",
       "      <td>65536.0</td>\n",
       "      <td>0.0</td>\n",
       "      <td>0.0</td>\n",
       "      <td>0.0</td>\n",
       "      <td>0.0</td>\n",
       "      <td>32768.0</td>\n",
       "      <td>65536.0</td>\n",
       "      <td>0.0</td>\n",
       "      <td>1.0</td>\n",
       "      <td>0.0</td>\n",
       "      <td>0.0</td>\n",
       "      <td>0.0</td>\n",
       "      <td>0.0</td>\n",
       "      <td>0.0</td>\n",
       "    </tr>\n",
       "    <tr>\n",
       "      <th>1</th>\n",
       "      <td>0.0</td>\n",
       "      <td>0.0</td>\n",
       "      <td>-32768.0</td>\n",
       "      <td>-65536.0</td>\n",
       "      <td>0.0</td>\n",
       "      <td>0.0</td>\n",
       "      <td>0.0</td>\n",
       "      <td>-32768.0</td>\n",
       "      <td>-32768.0</td>\n",
       "      <td>-65536.0</td>\n",
       "      <td>0.0</td>\n",
       "      <td>1.0</td>\n",
       "      <td>0.0</td>\n",
       "      <td>0.0</td>\n",
       "      <td>0.0</td>\n",
       "      <td>0.0</td>\n",
       "      <td>0.0</td>\n",
       "    </tr>\n",
       "    <tr>\n",
       "      <th>2</th>\n",
       "      <td>0.0</td>\n",
       "      <td>32768.0</td>\n",
       "      <td>32768.0</td>\n",
       "      <td>65536.0</td>\n",
       "      <td>0.0</td>\n",
       "      <td>0.0</td>\n",
       "      <td>0.0</td>\n",
       "      <td>0.0</td>\n",
       "      <td>32768.0</td>\n",
       "      <td>65536.0</td>\n",
       "      <td>0.0</td>\n",
       "      <td>1.0</td>\n",
       "      <td>0.0</td>\n",
       "      <td>0.0</td>\n",
       "      <td>0.0</td>\n",
       "      <td>0.0</td>\n",
       "      <td>0.0</td>\n",
       "    </tr>\n",
       "    <tr>\n",
       "      <th>3</th>\n",
       "      <td>0.0</td>\n",
       "      <td>0.0</td>\n",
       "      <td>-32768.0</td>\n",
       "      <td>-65536.0</td>\n",
       "      <td>0.0</td>\n",
       "      <td>0.0</td>\n",
       "      <td>0.0</td>\n",
       "      <td>-32768.0</td>\n",
       "      <td>-32768.0</td>\n",
       "      <td>-65536.0</td>\n",
       "      <td>0.0</td>\n",
       "      <td>1.0</td>\n",
       "      <td>0.0</td>\n",
       "      <td>0.0</td>\n",
       "      <td>0.0</td>\n",
       "      <td>0.0</td>\n",
       "      <td>0.0</td>\n",
       "    </tr>\n",
       "    <tr>\n",
       "      <th>4</th>\n",
       "      <td>0.0</td>\n",
       "      <td>32768.0</td>\n",
       "      <td>32768.0</td>\n",
       "      <td>65536.0</td>\n",
       "      <td>0.0</td>\n",
       "      <td>0.0</td>\n",
       "      <td>0.0</td>\n",
       "      <td>0.0</td>\n",
       "      <td>32768.0</td>\n",
       "      <td>65536.0</td>\n",
       "      <td>0.0</td>\n",
       "      <td>1.0</td>\n",
       "      <td>0.0</td>\n",
       "      <td>0.0</td>\n",
       "      <td>0.0</td>\n",
       "      <td>0.0</td>\n",
       "      <td>0.0</td>\n",
       "    </tr>\n",
       "  </tbody>\n",
       "</table>\n",
       "</div>"
      ],
      "text/plain": [
       "   class    value  velocity    accel  value_l  velocity_l  accel_l  value_r  \\\n",
       "0    0.0  32768.0   32768.0  65536.0      0.0         0.0      0.0      0.0   \n",
       "1    0.0      0.0  -32768.0 -65536.0      0.0         0.0      0.0 -32768.0   \n",
       "2    0.0  32768.0   32768.0  65536.0      0.0         0.0      0.0      0.0   \n",
       "3    0.0      0.0  -32768.0 -65536.0      0.0         0.0      0.0 -32768.0   \n",
       "4    0.0  32768.0   32768.0  65536.0      0.0         0.0      0.0      0.0   \n",
       "\n",
       "   velocity_r  accel_r  m_action_0  m_action_1  m_action_2  m_action_3  \\\n",
       "0     32768.0  65536.0         0.0         1.0         0.0         0.0   \n",
       "1    -32768.0 -65536.0         0.0         1.0         0.0         0.0   \n",
       "2     32768.0  65536.0         0.0         1.0         0.0         0.0   \n",
       "3    -32768.0 -65536.0         0.0         1.0         0.0         0.0   \n",
       "4     32768.0  65536.0         0.0         1.0         0.0         0.0   \n",
       "\n",
       "   m_action_4  m_action_5  m_action_6  \n",
       "0         0.0         0.0         0.0  \n",
       "1         0.0         0.0         0.0  \n",
       "2         0.0         0.0         0.0  \n",
       "3         0.0         0.0         0.0  \n",
       "4         0.0         0.0         0.0  "
      ]
     },
     "execution_count": 514,
     "metadata": {},
     "output_type": "execute_result"
    }
   ],
   "source": [
    "df.head()"
   ]
  },
  {
   "cell_type": "code",
   "execution_count": 523,
   "metadata": {},
   "outputs": [
    {
     "data": {
      "text/plain": [
       "Index(['value', 'velocity', 'accel', 'value_l', 'velocity_l', 'accel_l',\n",
       "       'value_r', 'velocity_r', 'accel_r', 'm_action_0', 'm_action_1',\n",
       "       'm_action_2', 'm_action_3', 'm_action_4', 'm_action_5', 'm_action_6'],\n",
       "      dtype='object')"
      ]
     },
     "execution_count": 523,
     "metadata": {},
     "output_type": "execute_result"
    }
   ],
   "source": [
    "df.columns[1:17]"
   ]
  },
  {
   "cell_type": "code",
   "execution_count": 524,
   "metadata": {},
   "outputs": [
    {
     "data": {
      "text/plain": [
       "'class'"
      ]
     },
     "execution_count": 524,
     "metadata": {},
     "output_type": "execute_result"
    }
   ],
   "source": [
    "df.columns[0]"
   ]
  },
  {
   "cell_type": "markdown",
   "metadata": {},
   "source": [
    "## Build a model - m_value velocity and acceleration"
   ]
  },
  {
   "cell_type": "code",
   "execution_count": 525,
   "metadata": {},
   "outputs": [
    {
     "name": "stdout",
     "output_type": "stream",
     "text": [
      "feature_columns=Index(['value', 'velocity', 'accel', 'value_l', 'velocity_l', 'accel_l',\n",
      "       'value_r', 'velocity_r', 'accel_r', 'm_action_0', 'm_action_1',\n",
      "       'm_action_2', 'm_action_3', 'm_action_4', 'm_action_5', 'm_action_6'],\n",
      "      dtype='object')\n",
      "label_column=class\n",
      "[ 0.0000e+00 -3.2768e+04 -6.5536e+04  0.0000e+00  0.0000e+00  0.0000e+00\n",
      " -3.2768e+04 -3.2768e+04 -6.5536e+04  0.0000e+00  1.0000e+00  0.0000e+00\n",
      "  0.0000e+00  0.0000e+00  0.0000e+00  0.0000e+00]\n"
     ]
    },
    {
     "data": {
      "text/plain": [
       "0.0"
      ]
     },
     "execution_count": 525,
     "metadata": {},
     "output_type": "execute_result"
    }
   ],
   "source": [
    "feature_columns = df.columns[1:17]\n",
    "label_column = df.columns[0]\n",
    "\n",
    "print('feature_columns={}'.format(feature_columns))\n",
    "print('label_column={}'.format(label_column))\n",
    "\n",
    "features = df[feature_columns].values.astype('float32')\n",
    "labels = (df[label_column].values).astype('float32')\n",
    "print(features[3])\n",
    "labels[3]"
   ]
  },
  {
   "cell_type": "code",
   "execution_count": 526,
   "metadata": {},
   "outputs": [],
   "source": [
    "import io\n",
    "import sagemaker.amazon.common as smac\n",
    "\n",
    "buf = io.BytesIO()\n",
    "smac.write_numpy_to_dense_tensor(buf, features, labels)\n",
    "buf.seek(0);"
   ]
  },
  {
   "cell_type": "code",
   "execution_count": 527,
   "metadata": {},
   "outputs": [
    {
     "name": "stdout",
     "output_type": "stream",
     "text": [
      "Uploaded training data location: s3://stk-events/bot-detect-ticks-model/train/recordio-pb-data\n",
      "Training artifacts will be uploaded to: s3://stk-events/bot-detect-ticks-model/output\n"
     ]
    }
   ],
   "source": [
    "import boto3\n",
    "import os\n",
    "import sagemaker\n",
    "\n",
    "session = sagemaker.Session()\n",
    "bucket = 'stk-events'\n",
    "\n",
    "prefix = 'bot-detect-ticks-model'\n",
    "key = 'recordio-pb-data'\n",
    "\n",
    "boto3.resource('s3').Bucket(bucket).Object(os.path.join(prefix, 'train', key)).upload_fileobj(buf)\n",
    "\n",
    "s3_train_data = 's3://{}/{}/train/{}'.format(bucket, prefix, key)\n",
    "print('Uploaded training data location: {}'.format(s3_train_data))\n",
    "\n",
    "output_location = 's3://{}/{}/output'.format(bucket, prefix)\n",
    "print('Training artifacts will be uploaded to: {}'.format(output_location))"
   ]
  },
  {
   "cell_type": "code",
   "execution_count": 528,
   "metadata": {},
   "outputs": [
    {
     "name": "stderr",
     "output_type": "stream",
     "text": [
      "'get_image_uri' method will be deprecated in favor of 'ImageURIProvider' class in SageMaker Python SDK v2.\n",
      "Parameter image_name will be renamed to image_uri in SageMaker Python SDK v2.\n",
      "'s3_input' class will be renamed to 'TrainingInput' in SageMaker Python SDK v2.\n"
     ]
    }
   ],
   "source": [
    "from sagemaker.amazon.amazon_estimator import get_image_uri\n",
    "\n",
    "container = get_image_uri(boto3.Session().region_name, 'linear-learner')\n",
    "\n",
    "from sagemaker import get_execution_role\n",
    "\n",
    "linear = sagemaker.estimator.Estimator(container,\n",
    "                                       get_execution_role(), \n",
    "                                       train_instance_count=1, \n",
    "                                       train_instance_type='ml.c4.xlarge',\n",
    "                                       output_path=output_location,\n",
    "                                       sagemaker_session=session)\n",
    "linear.set_hyperparameters(feature_dim=features.shape[1],\n",
    "                           predictor_type='binary_classifier',\n",
    "                           mini_batch_size=200)\n",
    "\n",
    "linear.fit({'train': s3_train_data},wait=False)"
   ]
  },
  {
   "cell_type": "code",
   "execution_count": null,
   "metadata": {},
   "outputs": [],
   "source": [
    "#delete old endpoint\n",
    "sagemaker.Session().delete_endpoint(\"stk-bot-detect-actions\")"
   ]
  },
  {
   "cell_type": "code",
   "execution_count": 532,
   "metadata": {},
   "outputs": [
    {
     "name": "stderr",
     "output_type": "stream",
     "text": [
      "Parameter image will be renamed to image_uri in SageMaker Python SDK v2.\n"
     ]
    },
    {
     "name": "stdout",
     "output_type": "stream",
     "text": [
      "---------------!Endpoint name: stk-bot-detect-actions\n"
     ]
    }
   ],
   "source": [
    "from sagemaker.predictor import csv_serializer, json_deserializer\n",
    "\n",
    "\n",
    "linear_predictor = linear.deploy(initial_instance_count=1,\n",
    "                                 endpoint_name='stk-bot-detect-actions',\n",
    "                                 instance_type='ml.c4.large')\n",
    "# Specify input and output formats.\n",
    "linear_predictor.content_type = 'text/csv'\n",
    "linear_predictor.serializer = csv_serializer\n",
    "linear_predictor.deserializer = json_deserializer\n",
    "print('Endpoint name: {}'.format(linear_predictor.endpoint))"
   ]
  },
  {
   "cell_type": "markdown",
   "metadata": {},
   "source": [
    "Lets test the model with existing data. Pull classified data and see if the model predicted the correct classification. e.g., calls with `where class=1` returns `'predicted_label': 1` \n",
    "\n",
    "Another way is to let two players play the game, wait two minutes for the game events to stream to Aurora and look for events with `class is null` instead of `class=1` or `class=0`"
   ]
  },
  {
   "cell_type": "code",
   "execution_count": 562,
   "metadata": {},
   "outputs": [
    {
     "name": "stdout",
     "output_type": "stream",
     "text": [
      "CPU times: user 19.5 ms, sys: 0 ns, total: 19.5 ms\n",
      "Wall time: 94.3 ms\n"
     ]
    }
   ],
   "source": [
    "%%time\n",
    "import pandas as pd\n",
    "\n",
    "try:\n",
    "  conn =  mysql.connector.connect(host=ENDPOINT, user=USR, passwd=PASWD, port=3306, database=DBNAME)\n",
    "  cur = conn.cursor()\n",
    "  cur.execute(\"\"\"\n",
    "    SELECT c_v,c_vel,accel,c_v_l,c_vel_l,accel_l,c_v_r,c_vel_r,accel_r,\n",
    "          t2.i_0,t2.i_1,t2.i_2,t2.i_3,t2.i_4,t2.i_5,t2.i_6 \n",
    "    FROM v_actions_m_value_accel t1,m_action_encoding t2 \n",
    "    WHERE t1.m_action=t2.m_action and class=1\n",
    "    LIMIT 3\n",
    "              \"\"\")\n",
    "  result_list=cur.fetchall()  \n",
    "except Exception as e:\n",
    "  print(\"Database connection failed due to {}\".format(e))\n",
    "#sample=''.join(sample_list[0])"
   ]
  },
  {
   "cell_type": "code",
   "execution_count": 563,
   "metadata": {},
   "outputs": [
    {
     "name": "stdout",
     "output_type": "stream",
     "text": [
      "(924.0, 87.0, 34.0, 837.0, 53.0, -101.0, 0.0, 0.0, 0.0, 1, 0, 0, 0, 0, 0, 0)\n",
      "{'predictions': [{'score': 0.9363782405853271, 'predicted_label': 1}]}\n",
      "(588.0, -336.0, -423.0, 924.0, 87.0, 34.0, 0.0, 0.0, 0.0, 1, 0, 0, 0, 0, 0, 0)\n",
      "{'predictions': [{'score': 0.9387953877449036, 'predicted_label': 1}]}\n",
      "(534.0, -54.0, 282.0, 588.0, -336.0, -423.0, 0.0, 0.0, 0.0, 1, 0, 0, 0, 0, 0, 0)\n",
      "{'predictions': [{'score': 0.9430064558982849, 'predicted_label': 1}]}\n"
     ]
    }
   ],
   "source": [
    "for sample in result_list:\n",
    "    print(sample)\n",
    "    ret=linear_predictor.predict(sample)\n",
    "    print(ret)"
   ]
  },
  {
   "cell_type": "markdown",
   "metadata": {},
   "source": [
    "### Clean up\n"
   ]
  },
  {
   "cell_type": "markdown",
   "metadata": {},
   "source": [
    "We will leave the prediction endpoint running at the end of this notebook so we can handle incoming event streams. However, don't forget to delete the prediction endpoint when you're done. You can do that at the Amazon SageMaker console in the Endpoints page. Or you can run linear_predictor.delete_endpoint()"
   ]
  }
 ],
 "metadata": {
  "kernelspec": {
   "display_name": "conda_pytorch_latest_p36",
   "language": "python",
   "name": "conda_pytorch_latest_p36"
  },
  "language_info": {
   "codemirror_mode": {
    "name": "ipython",
    "version": 3
   },
   "file_extension": ".py",
   "mimetype": "text/x-python",
   "name": "python",
   "nbconvert_exporter": "python",
   "pygments_lexer": "ipython3",
   "version": "3.6.10"
  }
 },
 "nbformat": 4,
 "nbformat_minor": 4
}
