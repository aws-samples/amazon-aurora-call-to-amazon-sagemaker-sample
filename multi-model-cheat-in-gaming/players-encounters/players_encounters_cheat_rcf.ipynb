{
 "cells": [
  {
   "cell_type": "markdown",
   "metadata": {},
   "source": [
    "# Players encounters anomalies with SageMaker Random Cut Forests\n",
    "\n",
    "***Unsupervised anomaly detection on timeseries data a Random Cut Forest algorithm.***\n",
    "\n",
    "---\n",
    "\n",
    "1. [Introduction](#Introduction)\n",
    "1. [Setup](#Setup)\n",
    "1. [Training](#Training)\n",
    "1. [Inference](#Inference)\n",
    "1. [Epilogue](#Epilogue)"
   ]
  },
  {
   "cell_type": "markdown",
   "metadata": {},
   "source": [
    "# Introduction\n",
    "***\n",
    "\n",
    "Amazon SageMaker Random Cut Forest (RCF) is an algorithm designed to detect anomalous data points within a dataset. \n",
    "In this example we are going to detect players moves during encounters in game sessions events. \n",
    "\n",
    "In this notebook, we will use the SageMaker RCF algorithm to train an RCF model on a banchmark conducted based on tpy game which records players moves over the course of six weeks gameplay. We will then use this model to predict anomalous events by emitting an \"anomaly score\" for each data point. The main goals of this notebook are,\n",
    "\n",
    "* to learn how to obtain, transform, and store data for use in Amazon SageMaker;\n",
    "* to create an AWS SageMaker training job on a data set to produce an RCF model,\n",
    "* use the RCF model to perform inference with an Amazon SageMaker endpoint.\n",
    "\n",
    "More about RCF please check out the [SageMaker RCF Documentation](https://docs.aws.amazon.com/sagemaker/latest/dg/randomcutforest.html)."
   ]
  },
  {
   "cell_type": "markdown",
   "metadata": {},
   "source": [
    "# Setup\n",
    "\n",
    "***\n",
    "\n",
    "*This notebook was created and tested on an ml.m4.xlarge notebook instance.*\n",
    "\n",
    "Our first step is to setup our AWS credentials so that AWS SageMaker can store and access training data and model artifacts. We also need some data to inspect and to train upon."
   ]
  },
  {
   "cell_type": "markdown",
   "metadata": {},
   "source": [
    "## Select Amazon S3 Bucket\n",
    "\n",
    "We first need to specify the locations where we will store our training data and trained model artifacts. ***This is the only cell of this notebook that you will need to edit.*** In particular, we need the following data:\n",
    "\n",
    "* `bucket` - An S3 bucket accessible by this account.\n",
    "* `prefix` - The location in the bucket where this notebook's input and output data will be stored. (The default value is sufficient.)"
   ]
  },
  {
   "cell_type": "code",
   "execution_count": 30,
   "metadata": {
    "isConfigCell": true,
    "tags": [
     "parameters"
    ]
   },
   "outputs": [
    {
     "name": "stdout",
     "output_type": "stream",
     "text": [
      "Training input/output will be stored in: s3://percona2020-player-events/sagemaker/rcf-benchmarks\n"
     ]
    }
   ],
   "source": [
    "import boto3\n",
    "import botocore\n",
    "import sagemaker\n",
    "import sys\n",
    "\n",
    "\n",
    "bucket = 'percona2020-player-events'   # <--- specify a bucket you have access to\n",
    "prefix = 'sagemaker/rcf-benchmarks'\n",
    "execution_role = sagemaker.get_execution_role()\n",
    "\n",
    "\n",
    "# check if the bucket exists\n",
    "try:\n",
    "    boto3.Session().client('s3').head_bucket(Bucket=bucket)\n",
    "except botocore.exceptions.ParamValidationError as e:\n",
    "    print('Hey! You either forgot to specify your S3 bucket'\n",
    "          ' or you gave your bucket an invalid name!')\n",
    "except botocore.exceptions.ClientError as e:\n",
    "    if e.response['Error']['Code'] == '403':\n",
    "        print(\"Hey! You don't have permission to access the bucket, {}.\".format(bucket))\n",
    "    elif e.response['Error']['Code'] == '404':\n",
    "        print(\"Hey! Your bucket, {}, doesn't exist!\".format(bucket))\n",
    "    else:\n",
    "        raise\n",
    "else:\n",
    "    print('Training input/output will be stored in: s3://{}/{}'.format(bucket, prefix))"
   ]
  },
  {
   "cell_type": "markdown",
   "metadata": {},
   "source": [
    "We curated the csv file using curate scripts `curate.sh` and `curate.py`. Load the results file and observe before training and exported the data to `players_cheat_model/player_encounters-full-curated.csv`"
   ]
  },
  {
   "cell_type": "code",
   "execution_count": 1,
   "metadata": {},
   "outputs": [
    {
     "name": "stdout",
     "output_type": "stream",
     "text": [
      "Index(['playerx', 'playerz', 'quadrant', 'sector', 'event'], dtype='object')\n",
      "CPU times: user 1min 24s, sys: 18.5 s, total: 1min 42s\n",
      "Wall time: 1min 45s\n"
     ]
    }
   ],
   "source": [
    "%%time\n",
    "\n",
    "import pandas as pd\n",
    "import urllib.request\n",
    "import boto3\n",
    "\n",
    "data_filename = 'player_encounters-full-curated.csv'\n",
    "data_objectname = 'players_cheat_model/player_encounters-full-curated.csv'\n",
    "data_source = 'percona2020-player-events'\n",
    "\n",
    "\n",
    "s3 = boto3.client('s3')\n",
    "s3.download_file(data_source, data_objectname, data_filename)\n",
    "\n",
    "player_data = pd.read_csv(data_filename, delimiter=',')\n",
    "print(player_data.columns)"
   ]
  },
  {
   "cell_type": "markdown",
   "metadata": {},
   "source": [
    "Before training any models it is important to inspect our data, first. Perhaps there are some underlying patterns or structures that we could provide as \"hints\" to the model or maybe there is some noise that we could pre-process away. The raw data looks like this:"
   ]
  },
  {
   "cell_type": "code",
   "execution_count": 2,
   "metadata": {},
   "outputs": [
    {
     "data": {
      "text/html": [
       "<div>\n",
       "<style scoped>\n",
       "    .dataframe tbody tr th:only-of-type {\n",
       "        vertical-align: middle;\n",
       "    }\n",
       "\n",
       "    .dataframe tbody tr th {\n",
       "        vertical-align: top;\n",
       "    }\n",
       "\n",
       "    .dataframe thead th {\n",
       "        text-align: right;\n",
       "    }\n",
       "</style>\n",
       "<table border=\"1\" class=\"dataframe\">\n",
       "  <thead>\n",
       "    <tr style=\"text-align: right;\">\n",
       "      <th></th>\n",
       "      <th>playerx</th>\n",
       "      <th>playerz</th>\n",
       "      <th>quadrant</th>\n",
       "      <th>sector</th>\n",
       "      <th>event</th>\n",
       "    </tr>\n",
       "  </thead>\n",
       "  <tbody>\n",
       "    <tr>\n",
       "      <th>0</th>\n",
       "      <td>199.0827</td>\n",
       "      <td>49.08284</td>\n",
       "      <td>Quadrant 3</td>\n",
       "      <td>Sector 1 -2</td>\n",
       "      <td>TraverseSector</td>\n",
       "    </tr>\n",
       "    <tr>\n",
       "      <th>1</th>\n",
       "      <td>178.2321</td>\n",
       "      <td>146.22680</td>\n",
       "      <td>Quadrant 3</td>\n",
       "      <td>Sector 0 0</td>\n",
       "      <td>TraverseSector</td>\n",
       "    </tr>\n",
       "    <tr>\n",
       "      <th>2</th>\n",
       "      <td>186.6547</td>\n",
       "      <td>-115.94910</td>\n",
       "      <td>Quadrant 1</td>\n",
       "      <td>Sector 0 0</td>\n",
       "      <td>EventResponseWormholeAnomaly</td>\n",
       "    </tr>\n",
       "    <tr>\n",
       "      <th>3</th>\n",
       "      <td>178.9562</td>\n",
       "      <td>-116.42950</td>\n",
       "      <td>Quadrant 1</td>\n",
       "      <td>Sector 0 0</td>\n",
       "      <td>EventResponseWormholeAnomaly</td>\n",
       "    </tr>\n",
       "    <tr>\n",
       "      <th>4</th>\n",
       "      <td>185.8585</td>\n",
       "      <td>-103.28220</td>\n",
       "      <td>Quadrant 1</td>\n",
       "      <td>Sector 0 0</td>\n",
       "      <td>EventResponseWormholeAnomaly</td>\n",
       "    </tr>\n",
       "  </tbody>\n",
       "</table>\n",
       "</div>"
      ],
      "text/plain": [
       "    playerx    playerz    quadrant       sector                         event\n",
       "0  199.0827   49.08284  Quadrant 3  Sector 1 -2                TraverseSector\n",
       "1  178.2321  146.22680  Quadrant 3   Sector 0 0                TraverseSector\n",
       "2  186.6547 -115.94910  Quadrant 1   Sector 0 0  EventResponseWormholeAnomaly\n",
       "3  178.9562 -116.42950  Quadrant 1   Sector 0 0  EventResponseWormholeAnomaly\n",
       "4  185.8585 -103.28220  Quadrant 1   Sector 0 0  EventResponseWormholeAnomaly"
      ]
     },
     "execution_count": 2,
     "metadata": {},
     "output_type": "execute_result"
    }
   ],
   "source": [
    "player_data.head()"
   ]
  },
  {
   "cell_type": "code",
   "execution_count": 3,
   "metadata": {},
   "outputs": [
    {
     "data": {
      "text/html": [
       "<div>\n",
       "<style scoped>\n",
       "    .dataframe tbody tr th:only-of-type {\n",
       "        vertical-align: middle;\n",
       "    }\n",
       "\n",
       "    .dataframe tbody tr th {\n",
       "        vertical-align: top;\n",
       "    }\n",
       "\n",
       "    .dataframe thead th {\n",
       "        text-align: right;\n",
       "    }\n",
       "</style>\n",
       "<table border=\"1\" class=\"dataframe\">\n",
       "  <thead>\n",
       "    <tr style=\"text-align: right;\">\n",
       "      <th></th>\n",
       "      <th>playerx</th>\n",
       "      <th>playerz</th>\n",
       "      <th>quadrant</th>\n",
       "      <th>sector</th>\n",
       "      <th>event</th>\n",
       "      <th>quadrant_encoded</th>\n",
       "      <th>sector_encoded</th>\n",
       "      <th>event_encoded</th>\n",
       "    </tr>\n",
       "  </thead>\n",
       "  <tbody>\n",
       "    <tr>\n",
       "      <th>0</th>\n",
       "      <td>199.0827</td>\n",
       "      <td>49.08284</td>\n",
       "      <td>Quadrant 3</td>\n",
       "      <td>Sector 1 -2</td>\n",
       "      <td>TraverseSector</td>\n",
       "      <td>3</td>\n",
       "      <td>25</td>\n",
       "      <td>7</td>\n",
       "    </tr>\n",
       "    <tr>\n",
       "      <th>1</th>\n",
       "      <td>178.2321</td>\n",
       "      <td>146.22680</td>\n",
       "      <td>Quadrant 3</td>\n",
       "      <td>Sector 0 0</td>\n",
       "      <td>TraverseSector</td>\n",
       "      <td>3</td>\n",
       "      <td>21</td>\n",
       "      <td>7</td>\n",
       "    </tr>\n",
       "    <tr>\n",
       "      <th>2</th>\n",
       "      <td>186.6547</td>\n",
       "      <td>-115.94910</td>\n",
       "      <td>Quadrant 1</td>\n",
       "      <td>Sector 0 0</td>\n",
       "      <td>EventResponseWormholeAnomaly</td>\n",
       "      <td>1</td>\n",
       "      <td>21</td>\n",
       "      <td>3</td>\n",
       "    </tr>\n",
       "    <tr>\n",
       "      <th>3</th>\n",
       "      <td>178.9562</td>\n",
       "      <td>-116.42950</td>\n",
       "      <td>Quadrant 1</td>\n",
       "      <td>Sector 0 0</td>\n",
       "      <td>EventResponseWormholeAnomaly</td>\n",
       "      <td>1</td>\n",
       "      <td>21</td>\n",
       "      <td>3</td>\n",
       "    </tr>\n",
       "    <tr>\n",
       "      <th>4</th>\n",
       "      <td>185.8585</td>\n",
       "      <td>-103.28220</td>\n",
       "      <td>Quadrant 1</td>\n",
       "      <td>Sector 0 0</td>\n",
       "      <td>EventResponseWormholeAnomaly</td>\n",
       "      <td>1</td>\n",
       "      <td>21</td>\n",
       "      <td>3</td>\n",
       "    </tr>\n",
       "  </tbody>\n",
       "</table>\n",
       "</div>"
      ],
      "text/plain": [
       "    playerx    playerz    quadrant       sector                         event  \\\n",
       "0  199.0827   49.08284  Quadrant 3  Sector 1 -2                TraverseSector   \n",
       "1  178.2321  146.22680  Quadrant 3   Sector 0 0                TraverseSector   \n",
       "2  186.6547 -115.94910  Quadrant 1   Sector 0 0  EventResponseWormholeAnomaly   \n",
       "3  178.9562 -116.42950  Quadrant 1   Sector 0 0  EventResponseWormholeAnomaly   \n",
       "4  185.8585 -103.28220  Quadrant 1   Sector 0 0  EventResponseWormholeAnomaly   \n",
       "\n",
       "   quadrant_encoded  sector_encoded  event_encoded  \n",
       "0                 3              25              7  \n",
       "1                 3              21              7  \n",
       "2                 1              21              3  \n",
       "3                 1              21              3  \n",
       "4                 1              21              3  "
      ]
     },
     "execution_count": 3,
     "metadata": {},
     "output_type": "execute_result"
    }
   ],
   "source": [
    "import csv\n",
    "import sys\n",
    "import pandas as pd\n",
    "pd.set_option(\"display.max_rows\", None, \"display.max_columns\", None)\n",
    "from sklearn.preprocessing import OneHotEncoder\n",
    "from sklearn.preprocessing import LabelEncoder\n",
    "\n",
    "label_encoder = LabelEncoder()\n",
    "integer_quadrant_encoded = label_encoder.fit_transform(player_data.quadrant)\n",
    "player_data[\"quadrant_encoded\"]=integer_quadrant_encoded\n",
    "\n",
    "integer_sector_encoded = label_encoder.fit_transform(player_data.sector)\n",
    "player_data[\"sector_encoded\"]=integer_sector_encoded\n",
    "\n",
    "integer_event_encoded = label_encoder.fit_transform(player_data.event)\n",
    "player_data[\"event_encoded\"]=integer_event_encoded\n",
    "\n",
    "player_data.head()"
   ]
  },
  {
   "cell_type": "markdown",
   "metadata": {},
   "source": [
    "The folowing printouts help us to determine the encoding strategy. We apply the same strategy in the RDS side as we use it for calling the model using aurora_ml. We also use the `.size` method to determine we have only numbers in the data set. "
   ]
  },
  {
   "cell_type": "code",
   "execution_count": 6,
   "metadata": {},
   "outputs": [
    {
     "name": "stdout",
     "output_type": "stream",
     "text": [
      "quadrant_encoded\n",
      "0     3837916\n",
      "1    28939141\n",
      "2    29053511\n",
      "3     3495932\n",
      "dtype: int64\n",
      "event_encoded\n",
      "0        7852\n",
      "1     9643885\n",
      "2     5581043\n",
      "3     8987499\n",
      "4      116480\n",
      "5     3499828\n",
      "6     3437154\n",
      "7    34052759\n",
      "dtype: int64\n"
     ]
    }
   ],
   "source": [
    "quadrant = player_data.groupby('quadrant_encoded').size()\n",
    "print(quadrant)\n",
    "sector = player_data.groupby('sector_encoded').size()\n",
    "print(sector)\n",
    "event = player_data.groupby('event_encoded').size()\n",
    "print(event)"
   ]
  },
  {
   "cell_type": "code",
   "execution_count": 7,
   "metadata": {},
   "outputs": [
    {
     "data": {
      "text/html": [
       "<div>\n",
       "<style scoped>\n",
       "    .dataframe tbody tr th:only-of-type {\n",
       "        vertical-align: middle;\n",
       "    }\n",
       "\n",
       "    .dataframe tbody tr th {\n",
       "        vertical-align: top;\n",
       "    }\n",
       "\n",
       "    .dataframe thead th {\n",
       "        text-align: right;\n",
       "    }\n",
       "</style>\n",
       "<table border=\"1\" class=\"dataframe\">\n",
       "  <thead>\n",
       "    <tr style=\"text-align: right;\">\n",
       "      <th></th>\n",
       "      <th>playerx</th>\n",
       "      <th>playerz</th>\n",
       "      <th>quadrant_encoded</th>\n",
       "      <th>sector_encoded</th>\n",
       "      <th>event_encoded</th>\n",
       "    </tr>\n",
       "  </thead>\n",
       "  <tbody>\n",
       "    <tr>\n",
       "      <th>0</th>\n",
       "      <td>199.0827</td>\n",
       "      <td>49.08284</td>\n",
       "      <td>3</td>\n",
       "      <td>25</td>\n",
       "      <td>7</td>\n",
       "    </tr>\n",
       "    <tr>\n",
       "      <th>1</th>\n",
       "      <td>178.2321</td>\n",
       "      <td>146.22680</td>\n",
       "      <td>3</td>\n",
       "      <td>21</td>\n",
       "      <td>7</td>\n",
       "    </tr>\n",
       "    <tr>\n",
       "      <th>2</th>\n",
       "      <td>186.6547</td>\n",
       "      <td>-115.94910</td>\n",
       "      <td>1</td>\n",
       "      <td>21</td>\n",
       "      <td>3</td>\n",
       "    </tr>\n",
       "    <tr>\n",
       "      <th>3</th>\n",
       "      <td>178.9562</td>\n",
       "      <td>-116.42950</td>\n",
       "      <td>1</td>\n",
       "      <td>21</td>\n",
       "      <td>3</td>\n",
       "    </tr>\n",
       "    <tr>\n",
       "      <th>4</th>\n",
       "      <td>185.8585</td>\n",
       "      <td>-103.28220</td>\n",
       "      <td>1</td>\n",
       "      <td>21</td>\n",
       "      <td>3</td>\n",
       "    </tr>\n",
       "  </tbody>\n",
       "</table>\n",
       "</div>"
      ],
      "text/plain": [
       "    playerx    playerz  quadrant_encoded  sector_encoded  event_encoded\n",
       "0  199.0827   49.08284                 3              25              7\n",
       "1  178.2321  146.22680                 3              21              7\n",
       "2  186.6547 -115.94910                 1              21              3\n",
       "3  178.9562 -116.42950                 1              21              3\n",
       "4  185.8585 -103.28220                 1              21              3"
      ]
     },
     "execution_count": 7,
     "metadata": {},
     "output_type": "execute_result"
    }
   ],
   "source": [
    "player_data=player_data.drop('event',axis=1)\n",
    "player_data=player_data.drop('quadrant',axis=1)\n",
    "player_data=player_data.drop('sector',axis=1)\n",
    "player_data.head()"
   ]
  },
  {
   "cell_type": "code",
   "execution_count": 8,
   "metadata": {},
   "outputs": [
    {
     "name": "stdout",
     "output_type": "stream",
     "text": [
      "Index(['playerx', 'playerz', 'quadrant_encoded', 'sector_encoded',\n",
      "       'event_encoded'],\n",
      "      dtype='object')\n"
     ]
    },
    {
     "data": {
      "text/html": [
       "<div>\n",
       "<style scoped>\n",
       "    .dataframe tbody tr th:only-of-type {\n",
       "        vertical-align: middle;\n",
       "    }\n",
       "\n",
       "    .dataframe tbody tr th {\n",
       "        vertical-align: top;\n",
       "    }\n",
       "\n",
       "    .dataframe thead th {\n",
       "        text-align: right;\n",
       "    }\n",
       "</style>\n",
       "<table border=\"1\" class=\"dataframe\">\n",
       "  <thead>\n",
       "    <tr style=\"text-align: right;\">\n",
       "      <th></th>\n",
       "      <th>playerx</th>\n",
       "      <th>playerz</th>\n",
       "      <th>quadrant_encoded</th>\n",
       "      <th>sector_encoded</th>\n",
       "      <th>event_encoded</th>\n",
       "    </tr>\n",
       "  </thead>\n",
       "  <tbody>\n",
       "    <tr>\n",
       "      <th>count</th>\n",
       "      <td>6.532650e+07</td>\n",
       "      <td>6.532650e+07</td>\n",
       "      <td>6.532650e+07</td>\n",
       "      <td>6.532650e+07</td>\n",
       "      <td>6.532650e+07</td>\n",
       "    </tr>\n",
       "    <tr>\n",
       "      <th>mean</th>\n",
       "      <td>-4.124771e-01</td>\n",
       "      <td>-5.616098e-01</td>\n",
       "      <td>1.493023e+00</td>\n",
       "      <td>1.505362e+01</td>\n",
       "      <td>4.970812e+00</td>\n",
       "    </tr>\n",
       "    <tr>\n",
       "      <th>std</th>\n",
       "      <td>1.636912e+02</td>\n",
       "      <td>1.637119e+02</td>\n",
       "      <td>6.888253e-01</td>\n",
       "      <td>1.016202e+01</td>\n",
       "      <td>2.413060e+00</td>\n",
       "    </tr>\n",
       "    <tr>\n",
       "      <th>min</th>\n",
       "      <td>-2.927359e+02</td>\n",
       "      <td>-2.928427e+02</td>\n",
       "      <td>0.000000e+00</td>\n",
       "      <td>0.000000e+00</td>\n",
       "      <td>0.000000e+00</td>\n",
       "    </tr>\n",
       "    <tr>\n",
       "      <th>25%</th>\n",
       "      <td>-1.493577e+02</td>\n",
       "      <td>-1.506637e+02</td>\n",
       "      <td>1.000000e+00</td>\n",
       "      <td>5.000000e+00</td>\n",
       "      <td>3.000000e+00</td>\n",
       "    </tr>\n",
       "    <tr>\n",
       "      <th>50%</th>\n",
       "      <td>-1.826301e+01</td>\n",
       "      <td>-1.612999e+01</td>\n",
       "      <td>1.000000e+00</td>\n",
       "      <td>1.800000e+01</td>\n",
       "      <td>7.000000e+00</td>\n",
       "    </tr>\n",
       "    <tr>\n",
       "      <th>75%</th>\n",
       "      <td>1.501168e+02</td>\n",
       "      <td>1.496264e+02</td>\n",
       "      <td>2.000000e+00</td>\n",
       "      <td>2.400000e+01</td>\n",
       "      <td>7.000000e+00</td>\n",
       "    </tr>\n",
       "    <tr>\n",
       "      <th>max</th>\n",
       "      <td>2.927549e+02</td>\n",
       "      <td>2.927474e+02</td>\n",
       "      <td>3.000000e+00</td>\n",
       "      <td>3.500000e+01</td>\n",
       "      <td>7.000000e+00</td>\n",
       "    </tr>\n",
       "  </tbody>\n",
       "</table>\n",
       "</div>"
      ],
      "text/plain": [
       "            playerx       playerz  quadrant_encoded  sector_encoded  \\\n",
       "count  6.532650e+07  6.532650e+07      6.532650e+07    6.532650e+07   \n",
       "mean  -4.124771e-01 -5.616098e-01      1.493023e+00    1.505362e+01   \n",
       "std    1.636912e+02  1.637119e+02      6.888253e-01    1.016202e+01   \n",
       "min   -2.927359e+02 -2.928427e+02      0.000000e+00    0.000000e+00   \n",
       "25%   -1.493577e+02 -1.506637e+02      1.000000e+00    5.000000e+00   \n",
       "50%   -1.826301e+01 -1.612999e+01      1.000000e+00    1.800000e+01   \n",
       "75%    1.501168e+02  1.496264e+02      2.000000e+00    2.400000e+01   \n",
       "max    2.927549e+02  2.927474e+02      3.000000e+00    3.500000e+01   \n",
       "\n",
       "       event_encoded  \n",
       "count   6.532650e+07  \n",
       "mean    4.970812e+00  \n",
       "std     2.413060e+00  \n",
       "min     0.000000e+00  \n",
       "25%     3.000000e+00  \n",
       "50%     7.000000e+00  \n",
       "75%     7.000000e+00  \n",
       "max     7.000000e+00  "
      ]
     },
     "execution_count": 8,
     "metadata": {},
     "output_type": "execute_result"
    }
   ],
   "source": [
    "print(player_data.columns)\n",
    "player_data[['playerx','playerz','quadrant_encoded','sector_encoded','event_encoded']].describe()"
   ]
  },
  {
   "cell_type": "code",
   "execution_count": 9,
   "metadata": {},
   "outputs": [
    {
     "data": {
      "text/html": [
       "<div>\n",
       "<style scoped>\n",
       "    .dataframe tbody tr th:only-of-type {\n",
       "        vertical-align: middle;\n",
       "    }\n",
       "\n",
       "    .dataframe tbody tr th {\n",
       "        vertical-align: top;\n",
       "    }\n",
       "\n",
       "    .dataframe thead th {\n",
       "        text-align: right;\n",
       "    }\n",
       "</style>\n",
       "<table border=\"1\" class=\"dataframe\">\n",
       "  <thead>\n",
       "    <tr style=\"text-align: right;\">\n",
       "      <th></th>\n",
       "      <th>quadrant</th>\n",
       "      <th>playerz</th>\n",
       "    </tr>\n",
       "  </thead>\n",
       "  <tbody>\n",
       "    <tr>\n",
       "      <th>0</th>\n",
       "      <td>199.0827</td>\n",
       "      <td>49.08284</td>\n",
       "    </tr>\n",
       "    <tr>\n",
       "      <th>1</th>\n",
       "      <td>178.2321</td>\n",
       "      <td>146.22680</td>\n",
       "    </tr>\n",
       "    <tr>\n",
       "      <th>2</th>\n",
       "      <td>186.6547</td>\n",
       "      <td>-115.94910</td>\n",
       "    </tr>\n",
       "    <tr>\n",
       "      <th>3</th>\n",
       "      <td>178.9562</td>\n",
       "      <td>-116.42950</td>\n",
       "    </tr>\n",
       "    <tr>\n",
       "      <th>4</th>\n",
       "      <td>185.8585</td>\n",
       "      <td>-103.28220</td>\n",
       "    </tr>\n",
       "  </tbody>\n",
       "</table>\n",
       "</div>"
      ],
      "text/plain": [
       "   quadrant    playerz\n",
       "0  199.0827   49.08284\n",
       "1  178.2321  146.22680\n",
       "2  186.6547 -115.94910\n",
       "3  178.9562 -116.42950\n",
       "4  185.8585 -103.28220"
      ]
     },
     "execution_count": 9,
     "metadata": {},
     "output_type": "execute_result"
    }
   ],
   "source": [
    "features_of_players = pd.DataFrame({'quadrant': player_data['playerx'], 'playerz': player_data['playerz']})\n",
    "\n",
    "features_of_players.head()"
   ]
  },
  {
   "cell_type": "markdown",
   "metadata": {},
   "source": [
    "Let's take a look at a plot of the data."
   ]
  },
  {
   "cell_type": "markdown",
   "metadata": {},
   "source": [
    "Lets look at perceiving patterns. "
   ]
  },
  {
   "cell_type": "code",
   "execution_count": 23,
   "metadata": {},
   "outputs": [
    {
     "data": {
      "text/plain": [
       "<matplotlib.axes._subplots.AxesSubplot at 0x7f15c18cca90>"
      ]
     },
     "execution_count": 23,
     "metadata": {},
     "output_type": "execute_result"
    },
    {
     "data": {
      "image/png": "[encoded data removed]",
      "text/plain": [
       "<Figure size 432x288 with 1 Axes>"
      ]
     },
     "metadata": {},
     "output_type": "display_data"
    }
   ],
   "source": [
    "features_of_players[660:700].plot()"
   ]
  },
  {
   "cell_type": "markdown",
   "metadata": {},
   "source": [
    "Removing playerguid before training. "
   ]
  },
  {
   "cell_type": "code",
   "execution_count": null,
   "metadata": {},
   "outputs": [],
   "source": [
    "features_of_players[328800:328816]"
   ]
  },
  {
   "cell_type": "markdown",
   "metadata": {},
   "source": [
    "# Training\n",
    "\n",
    "***\n",
    "\n",
    "Next, we configure a SageMaker training job to train the Random Cut Forest (RCF) algorithm on the taxi cab data."
   ]
  },
  {
   "cell_type": "markdown",
   "metadata": {},
   "source": [
    "## Hyperparameters\n",
    "\n",
    "Particular to a SageMaker RCF training job are the following hyperparameters:\n",
    "\n",
    "* **`num_samples_per_tree`** - the number randomly sampled data points sent to each tree. As a general rule, `1/num_samples_per_tree` should approximate the the estimated ratio of anomalies to normal points in the dataset.\n",
    "* **`num_trees`** - the number of trees to create in the forest. Each tree learns a separate model from different samples of data. The full forest model uses the mean predicted anomaly score from each constituent tree.\n",
    "* **`feature_dim`** - the dimension of each data point.\n",
    "\n",
    "In addition to these RCF model hyperparameters, we provide additional parameters defining things like the EC2 instance type on which training will run, the S3 bucket containing the data, and the AWS access role. Note that,\n",
    "\n",
    "* Recommended instance type: `ml.m4`, `ml.c4`, or `ml.c5`\n",
    "* Current limitations:\n",
    "  * The RCF algorithm does not take advantage of GPU hardware."
   ]
  },
  {
   "cell_type": "code",
   "execution_count": 11,
   "metadata": {},
   "outputs": [
    {
     "name": "stdout",
     "output_type": "stream",
     "text": [
      "[[ 199.0827    49.08284    3.        25.         7.     ]\n",
      " [ 178.2321   146.2268     3.        21.         7.     ]\n",
      " [ 186.6547  -115.9491     1.        21.         3.     ]\n",
      " ...\n",
      " [-107.2072   107.2072     2.        18.         1.     ]\n",
      " [-140.7918   125.         2.        18.         1.     ]\n",
      " [-150.0805   117.0529     2.         0.         1.     ]]\n"
     ]
    }
   ],
   "source": [
    "print(player_data.values.reshape(-1,5))\n"
   ]
  },
  {
   "cell_type": "code",
   "execution_count": 7,
   "metadata": {},
   "outputs": [
    {
     "name": "stdout",
     "output_type": "stream",
     "text": [
      "2020-04-22 04:44:48 Starting - Starting the training job...\n",
      "2020-04-22 04:44:50 Starting - Launching requested ML instances......\n",
      "2020-04-22 04:45:52 Starting - Preparing the instances for training...\n",
      "2020-04-22 04:46:39 Downloading - Downloading input data............\n",
      "2020-04-22 04:48:37 Training - Downloading the training image..\u001b[34mDocker entrypoint called with argument(s): train\u001b[0m\n",
      "\u001b[34m/opt/amazon/lib/python2.7/site-packages/scipy/_lib/_numpy_compat.py:10: DeprecationWarning: Importing from numpy.testing.nosetester is deprecated, import from numpy.testing instead.\n",
      "  from numpy.testing.nosetester import import_nose\u001b[0m\n",
      "\u001b[34m/opt/amazon/lib/python2.7/site-packages/scipy/stats/morestats.py:12: DeprecationWarning: Importing from numpy.testing.decorators is deprecated, import from numpy.testing instead.\n",
      "  from numpy.testing.decorators import setastest\u001b[0m\n",
      "\u001b[34m[04/22/2020 04:49:00 INFO 139928461305664] Reading default configuration from /opt/amazon/lib/python2.7/site-packages/algorithm/resources/default-conf.json: {u'_ftp_port': 8999, u'num_samples_per_tree': 256, u'_tuning_objective_metric': u'', u'_num_gpus': u'auto', u'_log_level': u'info', u'_kvstore': u'dist_async', u'force_dense': u'true', u'epochs': 1, u'num_trees': 100, u'eval_metrics': [u'accuracy', u'precision_recall_fscore'], u'_num_kv_servers': u'auto', u'mini_batch_size': 1000}\u001b[0m\n",
      "\u001b[34m[04/22/2020 04:49:00 INFO 139928461305664] Reading provided configuration from /opt/ml/input/config/hyperparameters.json: {u'mini_batch_size': u'1000', u'feature_dim': u'5', u'num_samples_per_tree': u'512', u'num_trees': u'50'}\u001b[0m\n",
      "\u001b[34m[04/22/2020 04:49:00 INFO 139928461305664] Final configuration: {u'_ftp_port': 8999, u'num_samples_per_tree': u'512', u'_tuning_objective_metric': u'', u'_num_gpus': u'auto', u'_log_level': u'info', u'_kvstore': u'dist_async', u'force_dense': u'true', u'epochs': 1, u'feature_dim': u'5', u'num_trees': u'50', u'eval_metrics': [u'accuracy', u'precision_recall_fscore'], u'_num_kv_servers': u'auto', u'mini_batch_size': u'1000'}\u001b[0m\n",
      "\u001b[34m[04/22/2020 04:49:00 WARNING 139928461305664] Loggers have already been setup.\u001b[0m\n",
      "\u001b[34m[04/22/2020 04:49:00 INFO 139928461305664] Launching parameter server for role scheduler\u001b[0m\n",
      "\u001b[34m[04/22/2020 04:49:00 INFO 139928461305664] {'ECS_CONTAINER_METADATA_URI': 'http://169.254.170.2/v3/8c0ee340-1be8-42c6-b03e-049664aa12b9', 'PROTOCOL_BUFFERS_PYTHON_IMPLEMENTATION_VERSION': '2', 'PATH': '/opt/amazon/bin:/usr/local/nvidia/bin:/usr/local/sbin:/usr/local/bin:/usr/sbin:/usr/bin:/sbin:/bin:/opt/amazon/bin:/opt/amazon/bin', 'SAGEMAKER_HTTP_PORT': '8080', 'HOME': '/root', 'PYTHONUNBUFFERED': 'TRUE', 'CANONICAL_ENVROOT': '/opt/amazon', 'LD_LIBRARY_PATH': '/opt/amazon/lib/python2.7/site-packages/cv2/../../../../lib:/usr/local/nvidia/lib64:/opt/amazon/lib', 'MXNET_KVSTORE_BIGARRAY_BOUND': '400000000', 'LANG': 'en_US.utf8', 'DMLC_INTERFACE': 'eth0', 'SHLVL': '1', 'AWS_REGION': 'us-west-2', 'NVIDIA_DRIVER_CAPABILITIES': 'compute,utility', 'NVIDIA_VISIBLE_DEVICES': 'void', 'TRAINING_JOB_NAME': 'randomcutforest-2020-04-22-04-44-48-664', 'PROTOCOL_BUFFERS_PYTHON_IMPLEMENTATION': 'cpp', 'ENVROOT': '/opt/amazon', 'SAGEMAKER_DATA_PATH': '/opt/ml', 'SAGEMAKER_METRICS_DIRECTORY': '/opt/ml/output/metrics/sagemaker', 'NVIDIA_REQUIRE_CUDA': 'cuda>=9.0', 'OMP_NUM_THREADS': '2', 'HOSTNAME': 'ip-10-0-231-18.us-west-2.compute.internal', 'AWS_CONTAINER_CREDENTIALS_RELATIVE_URI': '/v2/credentials/dfdc32af-218b-465d-a79f-42969f0d8f7b', 'PWD': '/', 'TRAINING_JOB_ARN': 'arn:aws:sagemaker:us-west-2:356566070122:training-job/randomcutforest-2020-04-22-04-44-48-664', 'AWS_EXECUTION_ENV': 'AWS_ECS_EC2'}\u001b[0m\n",
      "\u001b[34m[04/22/2020 04:49:00 INFO 139928461305664] envs={'ECS_CONTAINER_METADATA_URI': 'http://169.254.170.2/v3/8c0ee340-1be8-42c6-b03e-049664aa12b9', 'PROTOCOL_BUFFERS_PYTHON_IMPLEMENTATION_VERSION': '2', 'DMLC_NUM_WORKER': '1', 'DMLC_PS_ROOT_PORT': '9000', 'PATH': '/opt/amazon/bin:/usr/local/nvidia/bin:/usr/local/sbin:/usr/local/bin:/usr/sbin:/usr/bin:/sbin:/bin:/opt/amazon/bin:/opt/amazon/bin', 'SAGEMAKER_HTTP_PORT': '8080', 'HOME': '/root', 'PYTHONUNBUFFERED': 'TRUE', 'CANONICAL_ENVROOT': '/opt/amazon', 'LD_LIBRARY_PATH': '/opt/amazon/lib/python2.7/site-packages/cv2/../../../../lib:/usr/local/nvidia/lib64:/opt/amazon/lib', 'MXNET_KVSTORE_BIGARRAY_BOUND': '400000000', 'LANG': 'en_US.utf8', 'DMLC_INTERFACE': 'eth0', 'SHLVL': '1', 'DMLC_PS_ROOT_URI': '10.0.231.18', 'AWS_REGION': 'us-west-2', 'NVIDIA_DRIVER_CAPABILITIES': 'compute,utility', 'NVIDIA_VISIBLE_DEVICES': 'void', 'TRAINING_JOB_NAME': 'randomcutforest-2020-04-22-04-44-48-664', 'PROTOCOL_BUFFERS_PYTHON_IMPLEMENTATION': 'cpp', 'ENVROOT': '/opt/amazon', 'SAGEMAKER_DATA_PATH': '/opt/ml', 'SAGEMAKER_METRICS_DIRECTORY': '/opt/ml/output/metrics/sagemaker', 'NVIDIA_REQUIRE_CUDA': 'cuda>=9.0', 'OMP_NUM_THREADS': '2', 'HOSTNAME': 'ip-10-0-231-18.us-west-2.compute.internal', 'AWS_CONTAINER_CREDENTIALS_RELATIVE_URI': '/v2/credentials/dfdc32af-218b-465d-a79f-42969f0d8f7b', 'DMLC_ROLE': 'scheduler', 'PWD': '/', 'DMLC_NUM_SERVER': '1', 'TRAINING_JOB_ARN': 'arn:aws:sagemaker:us-west-2:356566070122:training-job/randomcutforest-2020-04-22-04-44-48-664', 'AWS_EXECUTION_ENV': 'AWS_ECS_EC2'}\u001b[0m\n",
      "\u001b[34m[04/22/2020 04:49:00 INFO 139928461305664] Launching parameter server for role server\u001b[0m\n",
      "\u001b[34m[04/22/2020 04:49:00 INFO 139928461305664] {'ECS_CONTAINER_METADATA_URI': 'http://169.254.170.2/v3/8c0ee340-1be8-42c6-b03e-049664aa12b9', 'PROTOCOL_BUFFERS_PYTHON_IMPLEMENTATION_VERSION': '2', 'PATH': '/opt/amazon/bin:/usr/local/nvidia/bin:/usr/local/sbin:/usr/local/bin:/usr/sbin:/usr/bin:/sbin:/bin:/opt/amazon/bin:/opt/amazon/bin', 'SAGEMAKER_HTTP_PORT': '8080', 'HOME': '/root', 'PYTHONUNBUFFERED': 'TRUE', 'CANONICAL_ENVROOT': '/opt/amazon', 'LD_LIBRARY_PATH': '/opt/amazon/lib/python2.7/site-packages/cv2/../../../../lib:/usr/local/nvidia/lib64:/opt/amazon/lib', 'MXNET_KVSTORE_BIGARRAY_BOUND': '400000000', 'LANG': 'en_US.utf8', 'DMLC_INTERFACE': 'eth0', 'SHLVL': '1', 'AWS_REGION': 'us-west-2', 'NVIDIA_DRIVER_CAPABILITIES': 'compute,utility', 'NVIDIA_VISIBLE_DEVICES': 'void', 'TRAINING_JOB_NAME': 'randomcutforest-2020-04-22-04-44-48-664', 'PROTOCOL_BUFFERS_PYTHON_IMPLEMENTATION': 'cpp', 'ENVROOT': '/opt/amazon', 'SAGEMAKER_DATA_PATH': '/opt/ml', 'SAGEMAKER_METRICS_DIRECTORY': '/opt/ml/output/metrics/sagemaker', 'NVIDIA_REQUIRE_CUDA': 'cuda>=9.0', 'OMP_NUM_THREADS': '2', 'HOSTNAME': 'ip-10-0-231-18.us-west-2.compute.internal', 'AWS_CONTAINER_CREDENTIALS_RELATIVE_URI': '/v2/credentials/dfdc32af-218b-465d-a79f-42969f0d8f7b', 'PWD': '/', 'TRAINING_JOB_ARN': 'arn:aws:sagemaker:us-west-2:356566070122:training-job/randomcutforest-2020-04-22-04-44-48-664', 'AWS_EXECUTION_ENV': 'AWS_ECS_EC2'}\u001b[0m\n",
      "\u001b[34m[04/22/2020 04:49:00 INFO 139928461305664] envs={'ECS_CONTAINER_METADATA_URI': 'http://169.254.170.2/v3/8c0ee340-1be8-42c6-b03e-049664aa12b9', 'PROTOCOL_BUFFERS_PYTHON_IMPLEMENTATION_VERSION': '2', 'DMLC_NUM_WORKER': '1', 'DMLC_PS_ROOT_PORT': '9000', 'PATH': '/opt/amazon/bin:/usr/local/nvidia/bin:/usr/local/sbin:/usr/local/bin:/usr/sbin:/usr/bin:/sbin:/bin:/opt/amazon/bin:/opt/amazon/bin', 'SAGEMAKER_HTTP_PORT': '8080', 'HOME': '/root', 'PYTHONUNBUFFERED': 'TRUE', 'CANONICAL_ENVROOT': '/opt/amazon', 'LD_LIBRARY_PATH': '/opt/amazon/lib/python2.7/site-packages/cv2/../../../../lib:/usr/local/nvidia/lib64:/opt/amazon/lib', 'MXNET_KVSTORE_BIGARRAY_BOUND': '400000000', 'LANG': 'en_US.utf8', 'DMLC_INTERFACE': 'eth0', 'SHLVL': '1', 'DMLC_PS_ROOT_URI': '10.0.231.18', 'AWS_REGION': 'us-west-2', 'NVIDIA_DRIVER_CAPABILITIES': 'compute,utility', 'NVIDIA_VISIBLE_DEVICES': 'void', 'TRAINING_JOB_NAME': 'randomcutforest-2020-04-22-04-44-48-664', 'PROTOCOL_BUFFERS_PYTHON_IMPLEMENTATION': 'cpp', 'ENVROOT': '/opt/amazon', 'SAGEMAKER_DATA_PATH': '/opt/ml', 'SAGEMAKER_METRICS_DIRECTORY': '/opt/ml/output/metrics/sagemaker', 'NVIDIA_REQUIRE_CUDA': 'cuda>=9.0', 'OMP_NUM_THREADS': '2', 'HOSTNAME': 'ip-10-0-231-18.us-west-2.compute.internal', 'AWS_CONTAINER_CREDENTIALS_RELATIVE_URI': '/v2/credentials/dfdc32af-218b-465d-a79f-42969f0d8f7b', 'DMLC_ROLE': 'server', 'PWD': '/', 'DMLC_NUM_SERVER': '1', 'TRAINING_JOB_ARN': 'arn:aws:sagemaker:us-west-2:356566070122:training-job/randomcutforest-2020-04-22-04-44-48-664', 'AWS_EXECUTION_ENV': 'AWS_ECS_EC2'}\u001b[0m\n",
      "\u001b[34m[04/22/2020 04:49:00 INFO 139928461305664] Environment: {'ECS_CONTAINER_METADATA_URI': 'http://169.254.170.2/v3/8c0ee340-1be8-42c6-b03e-049664aa12b9', 'PROTOCOL_BUFFERS_PYTHON_IMPLEMENTATION_VERSION': '2', 'DMLC_PS_ROOT_PORT': '9000', 'DMLC_NUM_WORKER': '1', 'SAGEMAKER_HTTP_PORT': '8080', 'PATH': '/opt/amazon/bin:/usr/local/nvidia/bin:/usr/local/sbin:/usr/local/bin:/usr/sbin:/usr/bin:/sbin:/bin:/opt/amazon/bin:/opt/amazon/bin', 'PYTHONUNBUFFERED': 'TRUE', 'CANONICAL_ENVROOT': '/opt/amazon', 'LD_LIBRARY_PATH': '/opt/amazon/lib/python2.7/site-packages/cv2/../../../../lib:/usr/local/nvidia/lib64:/opt/amazon/lib', 'MXNET_KVSTORE_BIGARRAY_BOUND': '400000000', 'LANG': 'en_US.utf8', 'DMLC_INTERFACE': 'eth0', 'SHLVL': '1', 'DMLC_PS_ROOT_URI': '10.0.231.18', 'AWS_REGION': 'us-west-2', 'SAGEMAKER_METRICS_DIRECTORY': '/opt/ml/output/metrics/sagemaker', 'NVIDIA_VISIBLE_DEVICES': 'void', 'TRAINING_JOB_NAME': 'randomcutforest-2020-04-22-04-44-48-664', 'HOME': '/root', 'PROTOCOL_BUFFERS_PYTHON_IMPLEMENTATION': 'cpp', 'ENVROOT': '/opt/amazon', 'SAGEMAKER_DATA_PATH': '/opt/ml', 'NVIDIA_DRIVER_CAPABILITIES': 'compute,utility', 'NVIDIA_REQUIRE_CUDA': 'cuda>=9.0', 'OMP_NUM_THREADS': '2', 'HOSTNAME': 'ip-10-0-231-18.us-west-2.compute.internal', 'AWS_CONTAINER_CREDENTIALS_RELATIVE_URI': '/v2/credentials/dfdc32af-218b-465d-a79f-42969f0d8f7b', 'DMLC_ROLE': 'worker', 'PWD': '/', 'DMLC_NUM_SERVER': '1', 'TRAINING_JOB_ARN': 'arn:aws:sagemaker:us-west-2:356566070122:training-job/randomcutforest-2020-04-22-04-44-48-664', 'AWS_EXECUTION_ENV': 'AWS_ECS_EC2'}\u001b[0m\n",
      "\u001b[34mProcess 32 is a shell:scheduler.\u001b[0m\n",
      "\u001b[34mProcess 33 is a shell:server.\u001b[0m\n",
      "\u001b[34mProcess 1 is a worker.\u001b[0m\n",
      "\u001b[34m[04/22/2020 04:49:00 INFO 139928461305664] Using default worker.\u001b[0m\n",
      "\u001b[34m[04/22/2020 04:49:00 INFO 139928461305664] Loaded iterator creator application/x-recordio-protobuf for content type ('application/x-recordio-protobuf', '1.0')\u001b[0m\n",
      "\u001b[34m[04/22/2020 04:49:00 INFO 139928461305664] Verifying hyperparamemters...\u001b[0m\n",
      "\u001b[34m[04/22/2020 04:49:00 INFO 139928461305664] Hyperparameters are correct.\u001b[0m\n",
      "\u001b[34m[04/22/2020 04:49:00 INFO 139928461305664] Validating that feature_dim agrees with dimensions in training data...\u001b[0m\n",
      "\u001b[34m[04/22/2020 04:49:00 INFO 139928461305664] feature_dim is correct.\u001b[0m\n",
      "\u001b[34m[04/22/2020 04:49:00 INFO 139928461305664] Validating memory limits...\u001b[0m\n",
      "\u001b[34m[04/22/2020 04:49:00 INFO 139928461305664] Available memory in bytes: 15277408256\u001b[0m\n",
      "\u001b[34m[04/22/2020 04:49:00 INFO 139928461305664] Estimated sample size in bytes: 2048000\u001b[0m\n",
      "\u001b[34m[04/22/2020 04:49:00 INFO 139928461305664] Estimated memory needed to build the forest in bytes: 5120000\u001b[0m\n",
      "\u001b[34m[04/22/2020 04:49:00 INFO 139928461305664] Memory limits validated.\u001b[0m\n",
      "\u001b[34m[04/22/2020 04:49:00 INFO 139928461305664] Starting cluster sharing facilities...\u001b[0m\n",
      "\u001b[34m[04/22/2020 04:49:00 INFO 139928461305664] Create Store: dist_async\u001b[0m\n",
      "\u001b[34m[I 20-04-22 04:49:00] >>> starting FTP server on 0.0.0.0:8999, pid=1 <<<\u001b[0m\n",
      "\u001b[34m[04/22/2020 04:49:00 INFO 139926989424384] >>> starting FTP server on 0.0.0.0:8999, pid=1 <<<\u001b[0m\n",
      "\u001b[34m[I 20-04-22 04:49:00] poller: <class 'pyftpdlib.ioloop.Epoll'>\u001b[0m\n",
      "\u001b[34m[I 20-04-22 04:49:00] masquerade (NAT) address: None\u001b[0m\n",
      "\u001b[34m[04/22/2020 04:49:00 INFO 139926989424384] poller: <class 'pyftpdlib.ioloop.Epoll'>\u001b[0m\n",
      "\u001b[34m[04/22/2020 04:49:00 INFO 139926989424384] masquerade (NAT) address: None\u001b[0m\n",
      "\u001b[34m[04/22/2020 04:49:00 INFO 139926989424384] passive ports: None\u001b[0m\n",
      "\u001b[34m[04/22/2020 04:49:00 INFO 139926989424384] use sendfile(2): False\u001b[0m\n",
      "\u001b[34m[I 20-04-22 04:49:00] passive ports: None\u001b[0m\n",
      "\u001b[34m[I 20-04-22 04:49:00] use sendfile(2): False\u001b[0m\n",
      "\u001b[34m[04/22/2020 04:49:01 INFO 139928461305664] Cluster sharing facilities started.\u001b[0m\n",
      "\u001b[34m[04/22/2020 04:49:01 INFO 139928461305664] Verifying all workers are accessible...\u001b[0m\n",
      "\u001b[34m[04/22/2020 04:49:01 INFO 139928461305664] All workers accessible.\u001b[0m\n",
      "\u001b[34m[04/22/2020 04:49:01 INFO 139928461305664] Initializing Sampler...\u001b[0m\n",
      "\u001b[34m[04/22/2020 04:49:01 INFO 139928461305664] Sampler correctly initialized.\u001b[0m\n",
      "\u001b[34m#metrics {\"Metrics\": {\"initialize.time\": {\"count\": 1, \"max\": 789.4580364227295, \"sum\": 789.4580364227295, \"min\": 789.4580364227295}}, \"EndTime\": 1587530941.168406, \"Dimensions\": {\"Host\": \"algo-1\", \"Operation\": \"training\", \"Algorithm\": \"RandomCutForest\"}, \"StartTime\": 1587530940.355911}\n",
      "\u001b[0m\n",
      "\u001b[34m#metrics {\"Metrics\": {\"Max Batches Seen Between Resets\": {\"count\": 1, \"max\": 0, \"sum\": 0.0, \"min\": 0}, \"Number of Batches Since Last Reset\": {\"count\": 1, \"max\": 0, \"sum\": 0.0, \"min\": 0}, \"Number of Records Since Last Reset\": {\"count\": 1, \"max\": 0, \"sum\": 0.0, \"min\": 0}, \"Total Batches Seen\": {\"count\": 1, \"max\": 0, \"sum\": 0.0, \"min\": 0}, \"Total Records Seen\": {\"count\": 1, \"max\": 0, \"sum\": 0.0, \"min\": 0}, \"Max Records Seen Between Resets\": {\"count\": 1, \"max\": 0, \"sum\": 0.0, \"min\": 0}, \"Reset Count\": {\"count\": 1, \"max\": 0, \"sum\": 0.0, \"min\": 0}}, \"EndTime\": 1587530941.168693, \"Dimensions\": {\"Host\": \"algo-1\", \"Meta\": \"init_train_data_iter\", \"Operation\": \"training\", \"Algorithm\": \"RandomCutForest\"}, \"StartTime\": 1587530941.168586}\n",
      "\u001b[0m\n",
      "\u001b[34m[2020-04-22 04:49:01.177] [tensorio] [info] epoch_stats={\"data_pipeline\": \"/opt/ml/input/data/train\", \"epoch\": 0, \"duration\": 820, \"num_examples\": 1, \"num_bytes\": 64000}\u001b[0m\n",
      "\u001b[34m[04/22/2020 04:49:01 INFO 139928461305664] Sampling training data...\u001b[0m\n",
      "\n",
      "2020-04-22 04:48:56 Training - Training image download completed. Training in progress.\n",
      "2020-04-22 04:50:49 Uploading - Uploading generated training model\u001b[34m[2020-04-22 04:50:48.607] [tensorio] [info] epoch_stats={\"data_pipeline\": \"/opt/ml/input/data/train\", \"epoch\": 1, \"duration\": 107430, \"num_examples\": 65327, \"num_bytes\": 4180896000}\u001b[0m\n",
      "\u001b[34m[04/22/2020 04:50:48 INFO 139928461305664] Sampling training data completed.\u001b[0m\n",
      "\u001b[34m#metrics {\"Metrics\": {\"epochs\": {\"count\": 1, \"max\": 1, \"sum\": 1.0, \"min\": 1}, \"update.time\": {\"count\": 1, \"max\": 107443.8591003418, \"sum\": 107443.8591003418, \"min\": 107443.8591003418}}, \"EndTime\": 1587531048.621054, \"Dimensions\": {\"Host\": \"algo-1\", \"Operation\": \"training\", \"Algorithm\": \"RandomCutForest\"}, \"StartTime\": 1587530941.168522}\n",
      "\u001b[0m\n",
      "\u001b[34m[04/22/2020 04:50:48 INFO 139928461305664] Early stop condition met. Stopping training.\u001b[0m\n",
      "\u001b[34m[04/22/2020 04:50:48 INFO 139928461305664] #progress_metric: host=algo-1, completed 100 % epochs\u001b[0m\n",
      "\u001b[34m#metrics {\"Metrics\": {\"Max Batches Seen Between Resets\": {\"count\": 1, \"max\": 65327, \"sum\": 65327.0, \"min\": 65327}, \"Number of Batches Since Last Reset\": {\"count\": 1, \"max\": 65327, \"sum\": 65327.0, \"min\": 65327}, \"Number of Records Since Last Reset\": {\"count\": 1, \"max\": 65326500, \"sum\": 65326500.0, \"min\": 65326500}, \"Total Batches Seen\": {\"count\": 1, \"max\": 65327, \"sum\": 65327.0, \"min\": 65327}, \"Total Records Seen\": {\"count\": 1, \"max\": 65326500, \"sum\": 65326500.0, \"min\": 65326500}, \"Max Records Seen Between Resets\": {\"count\": 1, \"max\": 65326500, \"sum\": 65326500.0, \"min\": 65326500}, \"Reset Count\": {\"count\": 1, \"max\": 1, \"sum\": 1.0, \"min\": 1}}, \"EndTime\": 1587531048.621461, \"Dimensions\": {\"Host\": \"algo-1\", \"Meta\": \"training_data_iter\", \"Operation\": \"training\", \"Algorithm\": \"RandomCutForest\", \"epoch\": 0}, \"StartTime\": 1587530941.177153}\n",
      "\u001b[0m\n",
      "\u001b[34m[04/22/2020 04:50:48 INFO 139928461305664] #throughput_metric: host=algo-1, train throughput=608002.316984 records/second\u001b[0m\n",
      "\u001b[34m[04/22/2020 04:50:48 INFO 139928461305664] Master node: building Random Cut Forest...\u001b[0m\n",
      "\u001b[34m[04/22/2020 04:50:48 INFO 139928461305664] Gathering samples...\u001b[0m\n",
      "\u001b[34m[04/22/2020 04:50:48 INFO 139928461305664] 25600 samples gathered\u001b[0m\n",
      "\u001b[34m[04/22/2020 04:50:48 INFO 139928461305664] Building Random Cut Forest...\u001b[0m\n",
      "\u001b[34m[04/22/2020 04:50:48 INFO 139928461305664] Random Cut Forest built: \n",
      "\u001b[0m\n",
      "\u001b[34mForestInfo{num_trees: 50, num_samples_in_forest: 25600, num_samples_per_tree: 512, sample_dim: 5, shingle_size: 1, trees_num_nodes: [1019, 1005, 1019, 1015, 1015, 1015, 1013, 1017, 1019, 1019, 1019, 1009, 1017, 1013, 1007, 1017, 1023, 1013, 1013, 1009, 1011, 1019, 1021, 1015, 1017, 1009, 1017, 1015, 1013, 1017, 1015, 1017, 1019, 1011, 1017, 1017, 1017, 1005, 1011, 1021, 1021, 1017, 1011, 1007, 1013, 1009, 1013, 1013, 1015, 1019, ], trees_depth: [18, 27, 20, 18, 23, 21, 26, 23, 21, 24, 22, 23, 23, 22, 20, 23, 20, 25, 23, 22, 21, 21, 22, 21, 22, 21, 20, 22, 19, 21, 22, 23, 22, 27, 26, 23, 24, 22, 22, 22, 20, 23, 22, 23, 22, 20, 22, 24, 22, 21, ], max_num_nodes: 1023, min_num_nodes: 1005, avg_num_nodes: 1014, max_tree_depth: 27, min_tree_depth: 18, avg_tree_depth: 22, mem_size: 8524432}\u001b[0m\n",
      "\u001b[34m#metrics {\"Metrics\": {\"finalize.time\": {\"count\": 1, \"max\": 53.192138671875, \"sum\": 53.192138671875, \"min\": 53.192138671875}, \"model.bytes\": {\"count\": 1, \"max\": 8524432, \"sum\": 8524432.0, \"min\": 8524432}, \"fit_model.time\": {\"count\": 1, \"max\": 25.33888816833496, \"sum\": 25.33888816833496, \"min\": 25.33888816833496}}, \"EndTime\": 1587531048.674985, \"Dimensions\": {\"Host\": \"algo-1\", \"Operation\": \"training\", \"Algorithm\": \"RandomCutForest\"}, \"StartTime\": 1587531048.621164}\n",
      "\u001b[0m\n",
      "\u001b[34m[04/22/2020 04:50:48 INFO 139928461305664] Master node: Serializing the RandomCutForest model\u001b[0m\n",
      "\u001b[34m#metrics {\"Metrics\": {\"serialize_model.time\": {\"count\": 1, \"max\": 97.0149040222168, \"sum\": 97.0149040222168, \"min\": 97.0149040222168}}, \"EndTime\": 1587531048.772133, \"Dimensions\": {\"Host\": \"algo-1\", \"Operation\": \"training\", \"Algorithm\": \"RandomCutForest\"}, \"StartTime\": 1587531048.675066}\n",
      "\u001b[0m\n",
      "\u001b[34m[04/22/2020 04:50:48 INFO 139928461305664] Test data is not provided.\u001b[0m\n",
      "\u001b[34m[I 20-04-22 04:50:48] >>> shutting down FTP server (0 active fds) <<<\u001b[0m\n",
      "\u001b[34m[04/22/2020 04:50:48 INFO 139926989424384] >>> shutting down FTP server (0 active fds) <<<\u001b[0m\n",
      "\u001b[34m#metrics {\"Metrics\": {\"totaltime\": {\"count\": 1, \"max\": 108752.5041103363, \"sum\": 108752.5041103363, \"min\": 108752.5041103363}, \"setuptime\": {\"count\": 1, \"max\": 201.57313346862793, \"sum\": 201.57313346862793, \"min\": 201.57313346862793}}, \"EndTime\": 1587531048.898565, \"Dimensions\": {\"Host\": \"algo-1\", \"Operation\": \"training\", \"Algorithm\": \"RandomCutForest\"}, \"StartTime\": 1587531048.772215}\n",
      "\u001b[0m\n",
      "\n",
      "2020-04-22 04:50:56 Completed - Training job completed\n",
      "Training seconds: 257\n",
      "Billable seconds: 257\n",
      "Training job: randomcutforest-2020-04-22-04-44-48-664\n"
     ]
    }
   ],
   "source": [
    "from sagemaker import RandomCutForest\n",
    "\n",
    "session = sagemaker.Session()\n",
    "\n",
    "# specify general training job information\n",
    "rcf = RandomCutForest(role=execution_role,\n",
    "                      train_instance_count=1,\n",
    "                      train_instance_type='ml.m4.xlarge',\n",
    "                      data_location='s3://{}/{}/'.format(bucket, prefix),\n",
    "                      output_path='s3://{}/{}/output'.format(bucket, prefix),\n",
    "                      num_samples_per_tree=512,\n",
    "                      num_trees=50)\n",
    "\n",
    "# automatically upload the training data to S3 and run the training job\n",
    "#rcf.fit(rcf.record_set(player_data.value.as_matrix().reshape(-1,1)))\n",
    "\n",
    "rcf.fit(rcf.record_set(player_data.values.reshape(-1,5)))\n",
    "job_name = rcf.latest_training_job.job_name\n",
    "print(\"Training job: %s\" % job_name)\n",
    "\n"
   ]
  },
  {
   "cell_type": "markdown",
   "metadata": {},
   "source": [
    "# Inference\n",
    "\n",
    "***\n",
    "\n",
    "A trained Random Cut Forest model does nothing on its own. We now want to use the model we computed to perform inference on data. In this case, it means computing anomaly scores from input time series data points.\n",
    "\n",
    "We create an inference endpoint using the SageMaker Python SDK `deploy()` function from the job we defined above. We specify the instance type where inference is computed as well as an initial number of instances to spin up. We recommend using the `ml.c5` instance type as it provides the fastest inference time at the lowest cost."
   ]
  },
  {
   "cell_type": "code",
   "execution_count": 8,
   "metadata": {},
   "outputs": [
    {
     "name": "stdout",
     "output_type": "stream",
     "text": [
      "---------------!"
     ]
    }
   ],
   "source": [
    "rcf_inference = rcf.deploy(\n",
    "    initial_instance_count=1,\n",
    "    instance_type='ml.m4.xlarge',\n",
    ")"
   ]
  },
  {
   "cell_type": "markdown",
   "metadata": {},
   "source": [
    "Congratulations! You now have a functioning SageMaker RCF inference endpoint. You can confirm the endpoint configuration and status by navigating to the \"Endpoints\" tab in the AWS SageMaker console and selecting the endpoint matching the endpoint name, below: "
   ]
  },
  {
   "cell_type": "code",
   "execution_count": 9,
   "metadata": {},
   "outputs": [
    {
     "name": "stdout",
     "output_type": "stream",
     "text": [
      "Endpoint name: randomcutforest-2020-04-22-04-44-48-664\n"
     ]
    }
   ],
   "source": [
    "print('Endpoint name: {}'.format(rcf_inference.endpoint))"
   ]
  },
  {
   "cell_type": "markdown",
   "metadata": {},
   "source": [
    "## Data Serialization/Deserialization\n",
    "\n",
    "We can pass data in a variety of formats to our inference endpoint. In this example we will demonstrate passing CSV-formatted data. Other available formats are JSON-formatted and RecordIO Protobuf. We make use of the SageMaker Python SDK utilities `csv_serializer` and `json_deserializer` when configuring the inference endpoint."
   ]
  },
  {
   "cell_type": "code",
   "execution_count": 27,
   "metadata": {},
   "outputs": [],
   "source": [
    "from sagemaker.predictor import csv_serializer, json_deserializer\n",
    "\n",
    "rcf_inference.content_type = 'text/csv'\n",
    "rcf_inference.serializer = csv_serializer\n",
    "rcf_inference.accept = 'application/json'\n",
    "rcf_inference.deserializer = json_deserializer"
   ]
  },
  {
   "cell_type": "markdown",
   "metadata": {},
   "source": [
    "Let's pass the training dataset, in CSV format, to the inference endpoint so we can automatically detect the anomalies we saw with our eyes in the plots, above. Note that the serializer and deserializer will automatically take care of the datatype conversion from Numpy NDArrays.\n",
    "\n",
    "For starters, let's only pass in the first six datapoints so we can see what the output looks like."
   ]
  },
  {
   "cell_type": "code",
   "execution_count": 34,
   "metadata": {},
   "outputs": [
    {
     "name": "stdout",
     "output_type": "stream",
     "text": [
      "    playerx   playerz  quadrant  sector1  sector2  eventname_encoded\n",
      "0  100.2216 -151.1082         1       -2        0                  7\n",
      "1  100.2742 -151.3711         1       -1        0                  7\n",
      "[[ 100.2216 -151.1082    1.       -2.        0.        7.    ]\n",
      " [ 100.2742 -151.3711    1.       -1.        0.        7.    ]]\n",
      "{'scores': [{'score': 0.6370093232}, {'score': 0.6410381801}]}\n"
     ]
    }
   ],
   "source": [
    "print(player_data[:2])\n",
    "player_data_numpy = player_data.values.reshape(-1,6)\n",
    "print(player_data_numpy[:2])\n",
    "results = rcf_inference.predict(player_data_numpy[:2])\n",
    "print(results)"
   ]
  },
  {
   "cell_type": "markdown",
   "metadata": {},
   "source": [
    "## Computing Anomaly Scores\n",
    "\n",
    "Now, let's compute and plot the anomaly scores from the entire taxi dataset."
   ]
  },
  {
   "cell_type": "code",
   "execution_count": null,
   "metadata": {},
   "outputs": [],
   "source": [
    "results = rcf_inference.predict(player_data_numpy[:100])\n",
    "scores = [datum['score'] for datum in results['scores']]\n",
    "print(scores)"
   ]
  },
  {
   "cell_type": "markdown",
   "metadata": {},
   "source": [
    "## Stop and Delete the Endpoint\n",
    "\n",
    "Finally, we should delete the endpoint before we close the notebook.\n",
    "\n",
    "To do so execute the cell below. Alternately, you can navigate to the \"Endpoints\" tab in the SageMaker console, select the endpoint with the name stored in the variable `endpoint_name`, and select \"Delete\" from the \"Actions\" dropdown menu. "
   ]
  },
  {
   "cell_type": "code",
   "execution_count": null,
   "metadata": {},
   "outputs": [],
   "source": [
    "sagemaker.Session().delete_endpoint(rcf_inference.endpoint)"
   ]
  }
 ],
 "metadata": {
  "celltoolbar": "Tags",
  "kernelspec": {
   "display_name": "conda_amazonei_mxnet_p36",
   "language": "python",
   "name": "conda_amazonei_mxnet_p36"
  },
  "language_info": {
   "codemirror_mode": {
    "name": "ipython",
    "version": 3
   },
   "file_extension": ".py",
   "mimetype": "text/x-python",
   "name": "python",
   "nbconvert_exporter": "python",
   "pygments_lexer": "ipython3",
   "version": "3.6.5"
  },
  "notice": "Copyright 2018 Amazon.com, Inc. or its affiliates. All Rights Reserved.  Licensed under the Apache License, Version 2.0 (the \"License\"). You may not use this file except in compliance with the License. A copy of the License is located at http://aws.amazon.com/apache2.0/ or in the \"license\" file accompanying this file. This file is distributed on an \"AS IS\" BASIS, WITHOUT WARRANTIES OR CONDITIONS OF ANY KIND, either express or implied. See the License for the specific language governing permissions and limitations under the License."
 },
 "nbformat": 4,
 "nbformat_minor": 4
}
