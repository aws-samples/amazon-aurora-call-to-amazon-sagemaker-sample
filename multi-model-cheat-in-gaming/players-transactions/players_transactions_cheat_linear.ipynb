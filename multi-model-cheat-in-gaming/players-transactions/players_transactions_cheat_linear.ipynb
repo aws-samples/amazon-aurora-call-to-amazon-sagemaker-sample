{
 "cells": [
  {
   "cell_type": "markdown",
   "metadata": {},
   "source": [
    "# Players micro-transactions fraud detector with SageMaker Linear Regression - Logistic Regression"
   ]
  },
  {
   "cell_type": "markdown",
   "metadata": {},
   "source": [
    "## Investigate and process the data"
   ]
  },
  {
   "cell_type": "code",
   "execution_count": 15,
   "metadata": {},
   "outputs": [
    {
     "name": "stdout",
     "output_type": "stream",
     "text": [
      "Training input/output will be stored in: s3://percona2020-player-events/\n"
     ]
    }
   ],
   "source": [
    "import boto3\n",
    "import botocore\n",
    "import sagemaker\n",
    "import sys\n",
    "\n",
    "\n",
    "bucket = 'percona2020-player-events'   # <--- specify a bucket you have access to\n",
    "execution_role = sagemaker.get_execution_role()\n",
    "\n",
    "\n",
    "\n",
    "# check if the bucket exists\n",
    "try:\n",
    "    boto3.Session().client('s3').head_bucket(Bucket=bucket)\n",
    "except botocore.exceptions.ParamValidationError as e:\n",
    "    print('Hey! You either forgot to specify your S3 bucket'\n",
    "          ' or you gave your bucket an invalid name!')\n",
    "except botocore.exceptions.ClientError as e:\n",
    "    if e.response['Error']['Code'] == '403':\n",
    "        print(\"Hey! You don't have permission to access the bucket, {}.\".format(bucket))\n",
    "    elif e.response['Error']['Code'] == '404':\n",
    "        print(\"Hey! Your bucket, {}, doesn't exist!\".format(bucket))\n",
    "    else:\n",
    "        raise\n",
    "else:\n",
    "    print('Training input/output will be stored in: s3://{}/'.format(bucket))"
   ]
  },
  {
   "cell_type": "code",
   "execution_count": 16,
   "metadata": {},
   "outputs": [
    {
     "name": "stdout",
     "output_type": "stream",
     "text": [
      "                           PRE AWSLogs/\n",
      "                           PRE curated-data/\n",
      "                           PRE encounters/\n",
      "                           PRE players_cheat_model/\n",
      "                           PRE sagemaker/\n",
      "                           PRE transactions_cheat_model/\n",
      "2020-03-24 16:26:21    5014975 curated-data\n",
      "2020-02-24 04:40:50    2496166 model.tar.gz\n",
      "2020-02-24 04:55:37    5247027 player-dynamic-encounters.csv\n",
      "2020-02-26 16:48:23 15192938184 player_encounters.csv\n",
      "2020-04-23 05:32:36   55749535 players-transactions.csv.part_00000\n",
      "2020-03-24 23:22:41    5307147 results.csv\n",
      "2020-04-20 22:43:26   15196650 training_player_trans.csv\n"
     ]
    }
   ],
   "source": [
    "%%bash\n",
    "aws s3 ls s3://percona2020-player-events/"
   ]
  },
  {
   "cell_type": "code",
   "execution_count": 17,
   "metadata": {},
   "outputs": [
    {
     "name": "stdout",
     "output_type": "stream",
     "text": [
      "Index(['month', 'day', 'hour', 'minute', 'unix_timestamp', 'name', 'uagent',\n",
      "       'class'],\n",
      "      dtype='object')\n",
      "CPU times: user 1.64 s, sys: 238 ms, total: 1.88 s\n",
      "Wall time: 1.52 s\n"
     ]
    }
   ],
   "source": [
    "%%time\n",
    "\n",
    "import pandas as pd\n",
    "import urllib.request\n",
    "import boto3\n",
    "\n",
    "data_filename = 'players-transactions.csv.part_00000'\n",
    "data_objectname = 'players-transactions.csv.part_00000'\n",
    "# execute in RDS to generate data_source\n",
    "# select month,day,hour,minute,unix_timestamp,name,uagent,class from  transactions INTO OUTFILE S3 's3-us-west-2://percona2020-player-events/players-transactions.csv' FORMAT CSV HEADER  OVERWRITE ON;\n",
    "data_source = 'percona2020-player-events'\n",
    "\n",
    "\n",
    "s3 = boto3.client('s3')\n",
    "s3.download_file(data_source, data_objectname, data_filename)\n",
    "\n",
    "player_data = pd.read_csv(data_filename, delimiter=',')\n",
    "print(player_data.columns)"
   ]
  },
  {
   "cell_type": "code",
   "execution_count": 18,
   "metadata": {},
   "outputs": [
    {
     "name": "stdout",
     "output_type": "stream",
     "text": [
      "Index(['month', 'day', 'hour', 'minute', 'unix_timestamp', 'name', 'uagent',\n",
      "       'class'],\n",
      "      dtype='object')\n"
     ]
    }
   ],
   "source": [
    "print(player_data.columns)\n",
    "#player_data[['timestamp','playerGuId','name', 'class']].describe()"
   ]
  },
  {
   "cell_type": "markdown",
   "metadata": {},
   "source": [
    "Let's take a peek at our data (we only show a subset of the columns in the table):"
   ]
  },
  {
   "cell_type": "code",
   "execution_count": 20,
   "metadata": {},
   "outputs": [
    {
     "data": {
      "text/html": [
       "<div>\n",
       "<style scoped>\n",
       "    .dataframe tbody tr th:only-of-type {\n",
       "        vertical-align: middle;\n",
       "    }\n",
       "\n",
       "    .dataframe tbody tr th {\n",
       "        vertical-align: top;\n",
       "    }\n",
       "\n",
       "    .dataframe thead th {\n",
       "        text-align: right;\n",
       "    }\n",
       "</style>\n",
       "<table border=\"1\" class=\"dataframe\">\n",
       "  <thead>\n",
       "    <tr style=\"text-align: right;\">\n",
       "      <th></th>\n",
       "      <th>month</th>\n",
       "      <th>day</th>\n",
       "      <th>hour</th>\n",
       "      <th>minute</th>\n",
       "      <th>unix_timestamp</th>\n",
       "      <th>name</th>\n",
       "      <th>uagent</th>\n",
       "      <th>class</th>\n",
       "    </tr>\n",
       "  </thead>\n",
       "  <tbody>\n",
       "    <tr>\n",
       "      <th>0</th>\n",
       "      <td>4</td>\n",
       "      <td>7</td>\n",
       "      <td>5</td>\n",
       "      <td>44</td>\n",
       "      <td>1587793483</td>\n",
       "      <td>LootBoxesType2</td>\n",
       "      <td>8</td>\n",
       "      <td>0</td>\n",
       "    </tr>\n",
       "    <tr>\n",
       "      <th>1</th>\n",
       "      <td>5</td>\n",
       "      <td>6</td>\n",
       "      <td>19</td>\n",
       "      <td>39</td>\n",
       "      <td>1590781178</td>\n",
       "      <td>LootBoxesType2</td>\n",
       "      <td>6</td>\n",
       "      <td>0</td>\n",
       "    </tr>\n",
       "    <tr>\n",
       "      <th>2</th>\n",
       "      <td>4</td>\n",
       "      <td>2</td>\n",
       "      <td>22</td>\n",
       "      <td>58</td>\n",
       "      <td>1587423493</td>\n",
       "      <td>Wormhole</td>\n",
       "      <td>7</td>\n",
       "      <td>0</td>\n",
       "    </tr>\n",
       "    <tr>\n",
       "      <th>3</th>\n",
       "      <td>4</td>\n",
       "      <td>1</td>\n",
       "      <td>16</td>\n",
       "      <td>12</td>\n",
       "      <td>1587312731</td>\n",
       "      <td>Wormhole</td>\n",
       "      <td>8</td>\n",
       "      <td>0</td>\n",
       "    </tr>\n",
       "    <tr>\n",
       "      <th>4</th>\n",
       "      <td>5</td>\n",
       "      <td>5</td>\n",
       "      <td>19</td>\n",
       "      <td>31</td>\n",
       "      <td>1589484694</td>\n",
       "      <td>Wormhole</td>\n",
       "      <td>9</td>\n",
       "      <td>0</td>\n",
       "    </tr>\n",
       "  </tbody>\n",
       "</table>\n",
       "</div>"
      ],
      "text/plain": [
       "   month  day  hour  minute  unix_timestamp            name  uagent  class\n",
       "0      4    7     5      44      1587793483  LootBoxesType2       8      0\n",
       "1      5    6    19      39      1590781178  LootBoxesType2       6      0\n",
       "2      4    2    22      58      1587423493        Wormhole       7      0\n",
       "3      4    1    16      12      1587312731        Wormhole       8      0\n",
       "4      5    5    19      31      1589484694        Wormhole       9      0"
      ]
     },
     "execution_count": 20,
     "metadata": {},
     "output_type": "execute_result"
    }
   ],
   "source": [
    "#player_data=player_data.drop('playerGuId',axis=1)\n",
    "#player_data=player_data.drop('timestamp',axis=1)\n",
    "player_data.head()"
   ]
  },
  {
   "cell_type": "markdown",
   "metadata": {},
   "source": [
    "encode transaction type (name)"
   ]
  },
  {
   "cell_type": "code",
   "execution_count": 21,
   "metadata": {},
   "outputs": [
    {
     "data": {
      "text/html": [
       "<div>\n",
       "<style scoped>\n",
       "    .dataframe tbody tr th:only-of-type {\n",
       "        vertical-align: middle;\n",
       "    }\n",
       "\n",
       "    .dataframe tbody tr th {\n",
       "        vertical-align: top;\n",
       "    }\n",
       "\n",
       "    .dataframe thead th {\n",
       "        text-align: right;\n",
       "    }\n",
       "</style>\n",
       "<table border=\"1\" class=\"dataframe\">\n",
       "  <thead>\n",
       "    <tr style=\"text-align: right;\">\n",
       "      <th></th>\n",
       "      <th>month</th>\n",
       "      <th>day</th>\n",
       "      <th>hour</th>\n",
       "      <th>minute</th>\n",
       "      <th>unix_timestamp</th>\n",
       "      <th>name</th>\n",
       "      <th>uagent</th>\n",
       "      <th>class</th>\n",
       "      <th>name_encoded</th>\n",
       "    </tr>\n",
       "  </thead>\n",
       "  <tbody>\n",
       "    <tr>\n",
       "      <th>0</th>\n",
       "      <td>4</td>\n",
       "      <td>7</td>\n",
       "      <td>5</td>\n",
       "      <td>44</td>\n",
       "      <td>1587793483</td>\n",
       "      <td>LootBoxesType2</td>\n",
       "      <td>8</td>\n",
       "      <td>0</td>\n",
       "      <td>4</td>\n",
       "    </tr>\n",
       "    <tr>\n",
       "      <th>1</th>\n",
       "      <td>5</td>\n",
       "      <td>6</td>\n",
       "      <td>19</td>\n",
       "      <td>39</td>\n",
       "      <td>1590781178</td>\n",
       "      <td>LootBoxesType2</td>\n",
       "      <td>6</td>\n",
       "      <td>0</td>\n",
       "      <td>4</td>\n",
       "    </tr>\n",
       "    <tr>\n",
       "      <th>2</th>\n",
       "      <td>4</td>\n",
       "      <td>2</td>\n",
       "      <td>22</td>\n",
       "      <td>58</td>\n",
       "      <td>1587423493</td>\n",
       "      <td>Wormhole</td>\n",
       "      <td>7</td>\n",
       "      <td>0</td>\n",
       "      <td>6</td>\n",
       "    </tr>\n",
       "    <tr>\n",
       "      <th>3</th>\n",
       "      <td>4</td>\n",
       "      <td>1</td>\n",
       "      <td>16</td>\n",
       "      <td>12</td>\n",
       "      <td>1587312731</td>\n",
       "      <td>Wormhole</td>\n",
       "      <td>8</td>\n",
       "      <td>0</td>\n",
       "      <td>6</td>\n",
       "    </tr>\n",
       "    <tr>\n",
       "      <th>4</th>\n",
       "      <td>5</td>\n",
       "      <td>5</td>\n",
       "      <td>19</td>\n",
       "      <td>31</td>\n",
       "      <td>1589484694</td>\n",
       "      <td>Wormhole</td>\n",
       "      <td>9</td>\n",
       "      <td>0</td>\n",
       "      <td>6</td>\n",
       "    </tr>\n",
       "  </tbody>\n",
       "</table>\n",
       "</div>"
      ],
      "text/plain": [
       "   month  day  hour  minute  unix_timestamp            name  uagent  class  \\\n",
       "0      4    7     5      44      1587793483  LootBoxesType2       8      0   \n",
       "1      5    6    19      39      1590781178  LootBoxesType2       6      0   \n",
       "2      4    2    22      58      1587423493        Wormhole       7      0   \n",
       "3      4    1    16      12      1587312731        Wormhole       8      0   \n",
       "4      5    5    19      31      1589484694        Wormhole       9      0   \n",
       "\n",
       "   name_encoded  \n",
       "0             4  \n",
       "1             4  \n",
       "2             6  \n",
       "3             6  \n",
       "4             6  "
      ]
     },
     "execution_count": 21,
     "metadata": {},
     "output_type": "execute_result"
    }
   ],
   "source": [
    "import csv\n",
    "import sys\n",
    "import pandas as pd\n",
    "pd.set_option(\"display.max_rows\", None, \"display.max_columns\", None)\n",
    "from sklearn.preprocessing import OneHotEncoder\n",
    "from sklearn.preprocessing import LabelEncoder\n",
    "\n",
    "label_encoder = LabelEncoder()\n",
    "integer_encoded = label_encoder.fit_transform(player_data.name)\n",
    "player_data[\"name_encoded\"]=integer_encoded\n",
    "player_data.head()\n",
    "\n"
   ]
  },
  {
   "cell_type": "code",
   "execution_count": 35,
   "metadata": {},
   "outputs": [
    {
     "name": "stdout",
     "output_type": "stream",
     "text": [
      "name_encoded\n",
      "0       453\n",
      "1    188837\n",
      "2     83169\n",
      "3     73600\n",
      "4    769446\n",
      "5     79070\n",
      "6    162674\n",
      "7      1731\n",
      "dtype: int64\n"
     ]
    }
   ],
   "source": [
    "trans_type=player_data.groupby('name_encoded').size()\n",
    "print(trans_type)"
   ]
  },
  {
   "cell_type": "code",
   "execution_count": 22,
   "metadata": {},
   "outputs": [
    {
     "name": "stdout",
     "output_type": "stream",
     "text": [
      "Index(['month', 'day', 'hour', 'minute', 'name_encoded', 'uagent', 'class'], dtype='object')\n"
     ]
    }
   ],
   "source": [
    "player_data=player_data.drop('name',axis=1)\n",
    "player_data=player_data.drop('unix_timestamp',axis=1)\n",
    "player_data=player_data[['month','day','hour','minute','name_encoded','uagent','class']]\n",
    "print(player_data.columns)"
   ]
  },
  {
   "cell_type": "code",
   "execution_count": 23,
   "metadata": {},
   "outputs": [
    {
     "name": "stdout",
     "output_type": "stream",
     "text": [
      "Number of frauds:  1731\n",
      "Number of non-frauds:  1357249\n",
      "Percentage of fradulent data: 0.12737494297193483\n"
     ]
    }
   ],
   "source": [
    "nonfrauds, frauds = player_data.groupby('class').size()\n",
    "print('Number of frauds: ', frauds)\n",
    "print('Number of non-frauds: ', nonfrauds)\n",
    "print('Percentage of fradulent data:', 100.*frauds/(frauds + nonfrauds))\n",
    "\n",
    "#player_data=player_data.drop('name',axis=1)\n",
    "\n"
   ]
  },
  {
   "cell_type": "markdown",
   "metadata": {},
   "source": [
    "The class column corresponds to whether or not a transaction is fradulent. We see that the majority of data is non-fraudulant with only $1731$ ($0.127\\%$) of the data corresponding to fraudulant examples."
   ]
  },
  {
   "cell_type": "code",
   "execution_count": 30,
   "metadata": {},
   "outputs": [
    {
     "name": "stdout",
     "output_type": "stream",
     "text": [
      "Index(['month', 'day', 'hour', 'minute', 'name_encoded', 'uagent', 'class'], dtype='object')\n"
     ]
    },
    {
     "data": {
      "text/html": [
       "<div>\n",
       "<style scoped>\n",
       "    .dataframe tbody tr th:only-of-type {\n",
       "        vertical-align: middle;\n",
       "    }\n",
       "\n",
       "    .dataframe tbody tr th {\n",
       "        vertical-align: top;\n",
       "    }\n",
       "\n",
       "    .dataframe thead th {\n",
       "        text-align: right;\n",
       "    }\n",
       "</style>\n",
       "<table border=\"1\" class=\"dataframe\">\n",
       "  <thead>\n",
       "    <tr style=\"text-align: right;\">\n",
       "      <th></th>\n",
       "      <th>month</th>\n",
       "      <th>day</th>\n",
       "      <th>hour</th>\n",
       "      <th>minute</th>\n",
       "      <th>name_encoded</th>\n",
       "      <th>uagent</th>\n",
       "      <th>class</th>\n",
       "    </tr>\n",
       "  </thead>\n",
       "  <tbody>\n",
       "    <tr>\n",
       "      <th>count</th>\n",
       "      <td>1.358980e+06</td>\n",
       "      <td>1.358980e+06</td>\n",
       "      <td>1.358980e+06</td>\n",
       "      <td>1.358980e+06</td>\n",
       "      <td>1.358980e+06</td>\n",
       "      <td>1.358980e+06</td>\n",
       "      <td>1.358980e+06</td>\n",
       "    </tr>\n",
       "    <tr>\n",
       "      <th>mean</th>\n",
       "      <td>4.728811e+00</td>\n",
       "      <td>4.009378e+00</td>\n",
       "      <td>1.136756e+01</td>\n",
       "      <td>2.992128e+01</td>\n",
       "      <td>3.706655e+00</td>\n",
       "      <td>5.523543e+00</td>\n",
       "      <td>1.273749e-03</td>\n",
       "    </tr>\n",
       "    <tr>\n",
       "      <th>std</th>\n",
       "      <td>9.411845e-01</td>\n",
       "      <td>1.985817e+00</td>\n",
       "      <td>6.890938e+00</td>\n",
       "      <td>1.743651e+01</td>\n",
       "      <td>1.420315e+00</td>\n",
       "      <td>2.860383e+00</td>\n",
       "      <td>3.566690e-02</td>\n",
       "    </tr>\n",
       "    <tr>\n",
       "      <th>min</th>\n",
       "      <td>1.000000e+00</td>\n",
       "      <td>1.000000e+00</td>\n",
       "      <td>0.000000e+00</td>\n",
       "      <td>0.000000e+00</td>\n",
       "      <td>0.000000e+00</td>\n",
       "      <td>1.000000e+00</td>\n",
       "      <td>0.000000e+00</td>\n",
       "    </tr>\n",
       "    <tr>\n",
       "      <th>25%</th>\n",
       "      <td>4.000000e+00</td>\n",
       "      <td>2.000000e+00</td>\n",
       "      <td>5.000000e+00</td>\n",
       "      <td>1.500000e+01</td>\n",
       "      <td>3.000000e+00</td>\n",
       "      <td>3.000000e+00</td>\n",
       "      <td>0.000000e+00</td>\n",
       "    </tr>\n",
       "    <tr>\n",
       "      <th>50%</th>\n",
       "      <td>5.000000e+00</td>\n",
       "      <td>4.000000e+00</td>\n",
       "      <td>1.100000e+01</td>\n",
       "      <td>3.000000e+01</td>\n",
       "      <td>4.000000e+00</td>\n",
       "      <td>6.000000e+00</td>\n",
       "      <td>0.000000e+00</td>\n",
       "    </tr>\n",
       "    <tr>\n",
       "      <th>75%</th>\n",
       "      <td>5.000000e+00</td>\n",
       "      <td>6.000000e+00</td>\n",
       "      <td>1.700000e+01</td>\n",
       "      <td>4.500000e+01</td>\n",
       "      <td>4.000000e+00</td>\n",
       "      <td>8.000000e+00</td>\n",
       "      <td>0.000000e+00</td>\n",
       "    </tr>\n",
       "    <tr>\n",
       "      <th>max</th>\n",
       "      <td>1.200000e+01</td>\n",
       "      <td>7.000000e+00</td>\n",
       "      <td>2.300000e+01</td>\n",
       "      <td>5.900000e+01</td>\n",
       "      <td>7.000000e+00</td>\n",
       "      <td>1.000000e+01</td>\n",
       "      <td>1.000000e+00</td>\n",
       "    </tr>\n",
       "  </tbody>\n",
       "</table>\n",
       "</div>"
      ],
      "text/plain": [
       "              month           day          hour        minute  name_encoded  \\\n",
       "count  1.358980e+06  1.358980e+06  1.358980e+06  1.358980e+06  1.358980e+06   \n",
       "mean   4.728811e+00  4.009378e+00  1.136756e+01  2.992128e+01  3.706655e+00   \n",
       "std    9.411845e-01  1.985817e+00  6.890938e+00  1.743651e+01  1.420315e+00   \n",
       "min    1.000000e+00  1.000000e+00  0.000000e+00  0.000000e+00  0.000000e+00   \n",
       "25%    4.000000e+00  2.000000e+00  5.000000e+00  1.500000e+01  3.000000e+00   \n",
       "50%    5.000000e+00  4.000000e+00  1.100000e+01  3.000000e+01  4.000000e+00   \n",
       "75%    5.000000e+00  6.000000e+00  1.700000e+01  4.500000e+01  4.000000e+00   \n",
       "max    1.200000e+01  7.000000e+00  2.300000e+01  5.900000e+01  7.000000e+00   \n",
       "\n",
       "             uagent         class  \n",
       "count  1.358980e+06  1.358980e+06  \n",
       "mean   5.523543e+00  1.273749e-03  \n",
       "std    2.860383e+00  3.566690e-02  \n",
       "min    1.000000e+00  0.000000e+00  \n",
       "25%    3.000000e+00  0.000000e+00  \n",
       "50%    6.000000e+00  0.000000e+00  \n",
       "75%    8.000000e+00  0.000000e+00  \n",
       "max    1.000000e+01  1.000000e+00  "
      ]
     },
     "execution_count": 30,
     "metadata": {},
     "output_type": "execute_result"
    }
   ],
   "source": [
    "print(player_data.columns)\n",
    "player_data[['month','day','hour','minute','name_encoded','uagent','class']].describe()\n",
    "\n"
   ]
  },
  {
   "cell_type": "code",
   "execution_count": 31,
   "metadata": {},
   "outputs": [
    {
     "name": "stdout",
     "output_type": "stream",
     "text": [
      "Index(['month', 'day', 'hour', 'minute', 'name_encoded', 'uagent', 'class'], dtype='object')\n",
      "feature_columns=Index(['month', 'day', 'hour', 'minute', 'name_encoded', 'uagent'], dtype='object')\n",
      "label_column=class\n"
     ]
    }
   ],
   "source": [
    "print(player_data.columns)\n",
    "feature_columns = player_data.columns[:-1]\n",
    "label_column = player_data.columns[-1]\n",
    "\n",
    "print('feature_columns={}'.format(feature_columns))\n",
    "print('label_column={}'.format(label_column))\n",
    "\n",
    "features = player_data[feature_columns].values.astype('float32')\n",
    "labels = (player_data[label_column].values).astype('float32')"
   ]
  },
  {
   "cell_type": "markdown",
   "metadata": {},
   "source": [
    "Let's do some analysis and discuss different ways we can preprocess our data. Let's discuss the way in which this data was preprocessed."
   ]
  },
  {
   "cell_type": "markdown",
   "metadata": {},
   "source": [
    "## SageMaker Linear Learner"
   ]
  },
  {
   "cell_type": "markdown",
   "metadata": {},
   "source": [
    "### Prepare Data and Upload to S3"
   ]
  },
  {
   "cell_type": "markdown",
   "metadata": {},
   "source": [
    "The Amazon common libraries provide utilities to convert NumPy n-dimensional arrays into a the Record-IO format which SageMaker uses for a concise representation of features and labels. The Record-IO format is implemented via protocol buffer so the serialization is very efficient."
   ]
  },
  {
   "cell_type": "code",
   "execution_count": 26,
   "metadata": {},
   "outputs": [],
   "source": [
    "import io\n",
    "import sagemaker.amazon.common as smac\n",
    "\n",
    "buf = io.BytesIO()\n",
    "smac.write_numpy_to_dense_tensor(buf, features, labels)\n",
    "buf.seek(0);"
   ]
  },
  {
   "cell_type": "markdown",
   "metadata": {},
   "source": [
    "Now we upload the data to S3 using boto3."
   ]
  },
  {
   "cell_type": "code",
   "execution_count": 27,
   "metadata": {},
   "outputs": [
    {
     "name": "stdout",
     "output_type": "stream",
     "text": [
      "Uploaded training data location: s3://percona2020-player-events/transactions_cheat_model/train/recordio-pb-data\n",
      "Training artifacts will be uploaded to: s3://percona2020-player-events/transactions_cheat_model/output\n"
     ]
    }
   ],
   "source": [
    "import boto3\n",
    "import os\n",
    "import sagemaker\n",
    "\n",
    "session = sagemaker.Session()\n",
    "bucket = 'percona2020-player-events'\n",
    "\n",
    "prefix = 'transactions_cheat_model'\n",
    "key = 'recordio-pb-data'\n",
    "\n",
    "boto3.resource('s3').Bucket(bucket).Object(os.path.join(prefix, 'train', key)).upload_fileobj(buf)\n",
    "\n",
    "s3_train_data = 's3://{}/{}/train/{}'.format(bucket, prefix, key)\n",
    "print('Uploaded training data location: {}'.format(s3_train_data))\n",
    "\n",
    "output_location = 's3://{}/{}/output'.format(bucket, prefix)\n",
    "print('Training artifacts will be uploaded to: {}'.format(output_location))"
   ]
  },
  {
   "cell_type": "markdown",
   "metadata": {},
   "source": [
    "Now we train a Linear Learner using SageMaker's built-in algorithm. To specify the Linear Learner algorithm, we use a utility function to obtain it's URI. A complete list of build-in algorithms is found here: https://docs.aws.amazon.com/sagemaker/latest/dg/algos.html"
   ]
  },
  {
   "cell_type": "code",
   "execution_count": 28,
   "metadata": {},
   "outputs": [],
   "source": [
    "from sagemaker.amazon.amazon_estimator import get_image_uri\n",
    "\n",
    "container = get_image_uri(boto3.Session().region_name, 'linear-learner')"
   ]
  },
  {
   "cell_type": "markdown",
   "metadata": {},
   "source": [
    "SageMaker abstracts training with Estimators. We can pass container, and all parameters to the estimator, as well as the hyperparameters for the linear learner and fit the estimator to the data in S3."
   ]
  },
  {
   "cell_type": "code",
   "execution_count": 29,
   "metadata": {},
   "outputs": [],
   "source": [
    "from sagemaker import get_execution_role\n",
    "\n",
    "linear = sagemaker.estimator.Estimator(container,\n",
    "                                       get_execution_role(), \n",
    "                                       train_instance_count=1, \n",
    "                                       train_instance_type='ml.c4.xlarge',\n",
    "                                       output_path=output_location,\n",
    "                                       sagemaker_session=session)\n",
    "linear.set_hyperparameters(feature_dim=features.shape[1],\n",
    "                           predictor_type='binary_classifier',\n",
    "                           mini_batch_size=200)\n",
    "\n",
    "linear.fit({'train': s3_train_data},wait=False)"
   ]
  },
  {
   "cell_type": "markdown",
   "metadata": {},
   "source": [
    "### Host Linear Classifier"
   ]
  },
  {
   "cell_type": "markdown",
   "metadata": {},
   "source": [
    "Now we deploy the estimator to and endpoint."
   ]
  },
  {
   "cell_type": "code",
   "execution_count": 32,
   "metadata": {},
   "outputs": [
    {
     "name": "stdout",
     "output_type": "stream",
     "text": [
      "-------------------------!"
     ]
    }
   ],
   "source": [
    "from sagemaker.predictor import csv_serializer, json_deserializer\n",
    "\n",
    "linear_predictor = linear.deploy(initial_instance_count=1,\n",
    "                                 endpoint_name=\"trans-cheat\",\n",
    "                                 instance_type='ml.m4.xlarge')\n",
    "# Specify input and output formats.\n",
    "linear_predictor.content_type = 'text/csv'\n",
    "linear_predictor.serializer = csv_serializer\n",
    "linear_predictor.deserializer = json_deserializer"
   ]
  },
  {
   "cell_type": "markdown",
   "metadata": {},
   "source": [
    "Call the model from aurora\n",
    "select *, trans_cheat_score(month,day,hour,minute,name_encoded,uagent) class from transactions where class>0;\n",
    "\n",
    "select playerGuid from (select playerGuid,trans_cheat_score(12,5,60,43,7,3) class from transactions) as t where t.class>0;"
   ]
  },
  {
   "cell_type": "markdown",
   "metadata": {},
   "source": [
    "## Clean up\n",
    "\n",
    "We will leave the prediction endpoint running at the end of this notebook so we can handle incoming event streams. However, don't forget to delete the prediction endpoint when you're done. You can do that at the Amazon SageMaker console in the Endpoints page. Or you can run `linear_predictor.delete_endpoint()`"
   ]
  }
 ],
 "metadata": {
  "kernelspec": {
   "display_name": "conda_amazonei_tensorflow_p36",
   "language": "python",
   "name": "conda_amazonei_tensorflow_p36"
  },
  "language_info": {
   "codemirror_mode": {
    "name": "ipython",
    "version": 3
   },
   "file_extension": ".py",
   "mimetype": "text/x-python",
   "name": "python",
   "nbconvert_exporter": "python",
   "pygments_lexer": "ipython3",
   "version": "3.6.6"
  }
 },
 "nbformat": 4,
 "nbformat_minor": 4
}
