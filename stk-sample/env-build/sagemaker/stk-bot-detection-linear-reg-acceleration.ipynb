{
 "cells": [
  {
   "cell_type": "markdown",
   "metadata": {},
   "source": [
    "# STK player bot detector with SageMaker Linear Regression - Logistic Regression¶\n"
   ]
  },
  {
   "cell_type": "markdown",
   "metadata": {},
   "source": [
    "#### Install packages"
   ]
  },
  {
   "cell_type": "code",
   "execution_count": 13,
   "metadata": {},
   "outputs": [
    {
     "name": "stdout",
     "output_type": "stream",
     "text": [
      "Requirement already satisfied: mysql-connector-python in /home/ec2-user/anaconda3/envs/pytorch_latest_p36/lib/python3.6/site-packages (8.0.21)\n",
      "Requirement already satisfied: protobuf>=3.0.0 in /home/ec2-user/anaconda3/envs/pytorch_latest_p36/lib/python3.6/site-packages (from mysql-connector-python) (3.13.0)\n",
      "Requirement already satisfied: setuptools in /home/ec2-user/anaconda3/envs/pytorch_latest_p36/lib/python3.6/site-packages (from protobuf>=3.0.0->mysql-connector-python) (45.2.0.post20200210)\n",
      "Requirement already satisfied: six>=1.9 in /home/ec2-user/anaconda3/envs/pytorch_latest_p36/lib/python3.6/site-packages (from protobuf>=3.0.0->mysql-connector-python) (1.14.0)\n"
     ]
    },
    {
     "name": "stderr",
     "output_type": "stream",
     "text": [
      "bash: line 2: /home/ec2-user/SageMaker/amazon-aurora-call-to-amazon-sagemaker-sample/stk-sample/env-build/sagemaker/env: No such file or directory\n",
      "WARNING: You are using pip version 20.0.2; however, version 20.2.4 is available.\n",
      "You should consider upgrading via the '/home/ec2-user/anaconda3/envs/pytorch_latest_p36/bin/python -m pip install --upgrade pip' command.\n"
     ]
    }
   ],
   "source": [
    "%%bash \n",
    "home=`pwd`\n",
    ". $home/env\n",
    "pip3 install mysql-connector-python"
   ]
  },
  {
   "cell_type": "code",
   "execution_count": 14,
   "metadata": {},
   "outputs": [
    {
     "name": "stdout",
     "output_type": "stream",
     "text": [
      "arn:aws:iam::163538056407:role/service-role/AmazonSageMaker-ExecutionRole-20200913T212219\n"
     ]
    }
   ],
   "source": [
    "import sagemaker\n",
    "execution_role = sagemaker.get_execution_role()\n",
    "print(execution_role)"
   ]
  },
  {
   "cell_type": "markdown",
   "metadata": {},
   "source": [
    "### Get training and test data from Aurora DB"
   ]
  },
  {
   "cell_type": "code",
   "execution_count": 73,
   "metadata": {},
   "outputs": [
    {
     "name": "stdout",
     "output_type": "stream",
     "text": [
      "CPU times: user 1.01 ms, sys: 5.8 ms, total: 6.81 ms\n",
      "Wall time: 6.15 ms\n"
     ]
    }
   ],
   "source": [
    "%%time\n",
    "\n",
    "import json\n",
    "import boto3\n",
    "import csv\n",
    "import mysql.connector\n",
    "import sys\n",
    "import os\n",
    "import configparser\n",
    "\n",
    "config = configparser.ConfigParser()\n",
    "\n",
    "config.read('rds.ini')\n",
    "\n",
    "ENDPOINT=config['default']['ENDPOINT']\n",
    "USR=config['default']['USR']\n",
    "PASWD=config['default']['PASWD']\n",
    "REGION=config['default']['REGION']\n",
    "DBNAME=config['default']['DBNAME']\n",
    "\n",
    "client = boto3.client('rds')"
   ]
  },
  {
   "cell_type": "markdown",
   "metadata": {},
   "source": [
    "Getting the right size of the grouping"
   ]
  },
  {
   "cell_type": "code",
   "execution_count": 106,
   "metadata": {},
   "outputs": [
    {
     "name": "stdout",
     "output_type": "stream",
     "text": [
      "CPU times: user 22.3 ms, sys: 11.8 ms, total: 34.1 ms\n",
      "Wall time: 198 ms\n"
     ]
    }
   ],
   "source": [
    "%%time\n",
    "import pandas as pd\n",
    "\n",
    "try:\n",
    "  conn =  mysql.connector.connect(host=ENDPOINT, user=USR, passwd=PASWD, port=3306, database=DBNAME)\n",
    "  cur = conn.cursor()\n",
    "    \n",
    "  cur.execute(\"\"\"select id,c_v,vel,vel_l,vel_r,class from v_actions_m_value_velocity where class=0 and party_size=2\"\"\")\n",
    "  human_vel_m_value_list=cur.fetchall()\n",
    "    \n",
    "  cur.execute(\"\"\"select id,c_v,vel,vel_l,vel_r,class from v_actions_m_value_velocity where class=1 and party_size=2\"\"\")\n",
    "  bot_vel_m_value_list=cur.fetchall()  \n",
    "\n",
    "  cur.execute(\"\"\"select id,accel,accel_l,accel_r,class from v_actions_m_value_accel where class=0 and party_size=2\"\"\")\n",
    "  human_accel_m_value_list=cur.fetchall()\n",
    "    \n",
    "  cur.execute(\"\"\"select id,accel,accel_l,accel_r,class from v_actions_m_value_accel where class=1 and party_size=2\"\"\")\n",
    "  bot_accel_m_value_list=cur.fetchall()\n",
    "    \n",
    "  cur.execute(\"\"\"select id,c_t,vel,class from v_actions_ticks_velocity where class=0\"\"\")\n",
    "  human_vel_ticks_list=cur.fetchall()\n",
    "    \n",
    "  cur.execute(\"\"\"select id,c_t,vel,class from v_actions_ticks_velocity where class=1\"\"\")\n",
    "  bot_vel_ticks_list=cur.fetchall()\n",
    "    \n",
    "  cur.execute(\"\"\"select id,accel,class from v_actions_ticks_accel where class=0\"\"\")\n",
    "  human_accel_ticks_list=cur.fetchall()\n",
    "    \n",
    "  cur.execute(\"\"\"select id,accel,class from v_actions_ticks_accel where class=1\"\"\")\n",
    "  bot_accel_ticks_list=cur.fetchall()\n",
    "    \n",
    "except Exception as e:\n",
    "  print(\"Database connection failed due to {}\".format(e))"
   ]
  },
  {
   "cell_type": "markdown",
   "metadata": {},
   "source": [
    "### Investigate and process the data"
   ]
  },
  {
   "cell_type": "code",
   "execution_count": 107,
   "metadata": {},
   "outputs": [],
   "source": [
    "import pandas as pd\n",
    "\n",
    "human_vel_m_value=pd.DataFrame(human_vel_m_value_list)\n",
    "bot_vel_m_value=pd.DataFrame(bot_vel_m_value_list)\n",
    "\n",
    "human_vel_m_value.rename(columns={0:'id',\n",
    "                            1:'c_v',\n",
    "                            2:'vel',\n",
    "                            3:'vel_l',\n",
    "                            4:'vel_r',\n",
    "                            5:'class'\n",
    "                           }, \n",
    "                 inplace=True)\n",
    "bot_vel_m_value.rename(columns={0:'id',\n",
    "                            1:'c_v',\n",
    "                            2:'vel',\n",
    "                            3:'vel_l',\n",
    "                            4:'vel_r',\n",
    "                            5:'class'\n",
    "                           }, \n",
    "                 inplace=True)\n",
    "\n",
    "\n",
    "human_accel_m_value=pd.DataFrame(human_accel_m_value_list)\n",
    "bot_accel_m_value=pd.DataFrame(bot_accel_m_value_list)\n",
    "\n",
    "human_accel_m_value.rename(columns={0:'id',\n",
    "                            1:'accel',\n",
    "                            2:'accel_l',\n",
    "                            3:'accel_r',\n",
    "                            4:'class'\n",
    "                           }, \n",
    "                 inplace=True)\n",
    "bot_accel_m_value.rename(columns={0:'id',\n",
    "                            1:'accel',\n",
    "                            2:'accel_l',\n",
    "                            3:'accel_r',\n",
    "                            4:'class'\n",
    "                           }, \n",
    "                 inplace=True)\n",
    "\n",
    "\n",
    "human_vel_ticks=pd.DataFrame(human_vel_ticks_list)\n",
    "bot_vel_ticks=pd.DataFrame(bot_vel_ticks_list)\n",
    "\n",
    "human_vel_ticks.rename(columns={0:'id',\n",
    "                            1:'c_t',\n",
    "                            2:'vel',\n",
    "                            3:'class'\n",
    "                           }, \n",
    "                 inplace=True)\n",
    "bot_vel_ticks.rename(columns={0:'id',\n",
    "                            1:'c_t',\n",
    "                            2:'vel',\n",
    "                            3:'class'\n",
    "                           }, \n",
    "                 inplace=True)\n",
    "\n",
    "\n",
    "human_accel_ticks=pd.DataFrame(human_accel_ticks_list)\n",
    "bot_accel_ticks=pd.DataFrame(bot_accel_ticks_list)\n",
    "\n",
    "human_accel_ticks.rename(columns={0:'id',\n",
    "                            1:'accel',\n",
    "                            2:'class'\n",
    "                           }, \n",
    "                 inplace=True)\n",
    "bot_accel_ticks.rename(columns={0:'id',\n",
    "                            1:'accel',\n",
    "                            2:'class'\n",
    "                           }, \n",
    "                 inplace=True)"
   ]
  },
  {
   "cell_type": "markdown",
   "metadata": {},
   "source": [
    "### Let's look for interesting data patterns\n",
    "#### first look at player ticks "
   ]
  },
  {
   "cell_type": "code",
   "execution_count": 108,
   "metadata": {},
   "outputs": [],
   "source": [
    "import matplotlib.pyplot as plt\n",
    "import pandas as pd"
   ]
  },
  {
   "cell_type": "code",
   "execution_count": 109,
   "metadata": {},
   "outputs": [
    {
     "name": "stdout",
     "output_type": "stream",
     "text": [
      "id       1372\n",
      "c_t      1372\n",
      "vel      1372\n",
      "class    1372\n",
      "dtype: int64\n"
     ]
    },
    {
     "data": {
      "image/png": "[encoded data removed]",
      "text/plain": [
       "<Figure size 432x288 with 1 Axes>"
      ]
     },
     "metadata": {
      "needs_background": "light"
     },
     "output_type": "display_data"
    }
   ],
   "source": [
    "print(bot_vel_ticks.count())\n",
    "bot_vel_ticks.plot(kind='scatter',x='id',y='c_t',color='red')\n",
    "plt.show()"
   ]
  },
  {
   "cell_type": "code",
   "execution_count": 110,
   "metadata": {},
   "outputs": [
    {
     "name": "stdout",
     "output_type": "stream",
     "text": [
      "id       3174\n",
      "c_t      3174\n",
      "vel      3174\n",
      "class    3174\n",
      "dtype: int64\n"
     ]
    },
    {
     "data": {
      "image/png": "[encoded data removed]",
      "text/plain": [
       "<Figure size 432x288 with 1 Axes>"
      ]
     },
     "metadata": {
      "needs_background": "light"
     },
     "output_type": "display_data"
    }
   ],
   "source": [
    "print(human_vel_ticks.count())\n",
    "human_vel_ticks.plot(kind='scatter',x='id',y='c_t',color='blue')\n",
    "plt.show()"
   ]
  },
  {
   "cell_type": "code",
   "execution_count": 111,
   "metadata": {},
   "outputs": [
    {
     "name": "stdout",
     "output_type": "stream",
     "text": [
      "id       1250\n",
      "accel    1250\n",
      "class    1250\n",
      "dtype: int64\n"
     ]
    },
    {
     "data": {
      "image/png": "[encoded data removed]",
      "text/plain": [
       "<Figure size 432x288 with 1 Axes>"
      ]
     },
     "metadata": {
      "needs_background": "light"
     },
     "output_type": "display_data"
    }
   ],
   "source": [
    "print(bot_accel_ticks.count())\n",
    "bot_accel_ticks.plot(kind='scatter',x='id',y='accel',color='red')\n",
    "plt.show()"
   ]
  },
  {
   "cell_type": "code",
   "execution_count": 112,
   "metadata": {},
   "outputs": [
    {
     "name": "stdout",
     "output_type": "stream",
     "text": [
      "id       1464\n",
      "accel    1464\n",
      "class    1464\n",
      "dtype: int64\n"
     ]
    },
    {
     "data": {
      "image/png": "[encoded data removed]",
      "text/plain": [
       "<Figure size 432x288 with 1 Axes>"
      ]
     },
     "metadata": {
      "needs_background": "light"
     },
     "output_type": "display_data"
    }
   ],
   "source": [
    "print(human_accel_ticks.count())\n",
    "human_accel_ticks.plot(kind='scatter',x='id',y='accel',color='blue')\n",
    "plt.show()"
   ]
  },
  {
   "cell_type": "markdown",
   "metadata": {},
   "source": [
    "We can see different patterns for `m_ticks` in bot and human. But `m_ticks` average velocity and acceleration seems to be similar so we need to look for more patterns. Lets look at `m_values` of those player ticks. Specifically for `actions=0 or 1`"
   ]
  },
  {
   "cell_type": "code",
   "execution_count": 113,
   "metadata": {},
   "outputs": [
    {
     "name": "stdout",
     "output_type": "stream",
     "text": [
      "id       2512\n",
      "c_v      2512\n",
      "vel      2512\n",
      "vel_l    2512\n",
      "vel_r    2512\n",
      "class    2512\n",
      "dtype: int64\n",
      "Index(['id', 'c_v', 'vel', 'vel_l', 'vel_r', 'class'], dtype='object')\n"
     ]
    },
    {
     "data": {
      "image/png": "[encoded data removed]",
      "text/plain": [
       "<Figure size 432x288 with 1 Axes>"
      ]
     },
     "metadata": {
      "needs_background": "light"
     },
     "output_type": "display_data"
    }
   ],
   "source": [
    "print(human_vel_m_value.count())\n",
    "print(human_vel_m_value.columns)\n",
    "human_vel_m_value.plot(kind='scatter',x='id',y='c_v',color='blue')\n",
    "plt.show()"
   ]
  },
  {
   "cell_type": "code",
   "execution_count": 114,
   "metadata": {},
   "outputs": [
    {
     "name": "stdout",
     "output_type": "stream",
     "text": [
      "id       198\n",
      "c_v      198\n",
      "vel      198\n",
      "vel_l    198\n",
      "vel_r    198\n",
      "class    198\n",
      "dtype: int64\n",
      "Index(['id', 'c_v', 'vel', 'vel_l', 'vel_r', 'class'], dtype='object')\n"
     ]
    },
    {
     "data": {
      "image/png": "[encoded data removed]",
      "text/plain": [
       "<Figure size 432x288 with 1 Axes>"
      ]
     },
     "metadata": {
      "needs_background": "light"
     },
     "output_type": "display_data"
    }
   ],
   "source": [
    "print(bot_vel_m_value.count())\n",
    "print(bot_vel_m_value.columns)\n",
    "bot_vel_m_value.plot(kind='scatter',x='id',y='c_v',color='red')\n",
    "plt.show()"
   ]
  },
  {
   "cell_type": "markdown",
   "metadata": {},
   "source": [
    "We can see the bot `m_value` distrubition is different than human. Lets see the average velocity changes. "
   ]
  },
  {
   "cell_type": "code",
   "execution_count": 115,
   "metadata": {},
   "outputs": [
    {
     "data": {
      "image/png": "[encoded data removed]",
      "text/plain": [
       "<Figure size 432x288 with 1 Axes>"
      ]
     },
     "metadata": {
      "needs_background": "light"
     },
     "output_type": "display_data"
    },
    {
     "data": {
      "text/plain": [
       "Index(['id', 'c_v', 'vel', 'vel_l', 'vel_r', 'class'], dtype='object')"
      ]
     },
     "execution_count": 115,
     "metadata": {},
     "output_type": "execute_result"
    }
   ],
   "source": [
    "human_vel_m_value.plot(kind='scatter',x='id',y='vel_r',color='blue')\n",
    "plt.show()\n",
    "human_vel_m_value.columns"
   ]
  },
  {
   "cell_type": "code",
   "execution_count": 116,
   "metadata": {},
   "outputs": [
    {
     "data": {
      "image/png": "[encoded data removed]",
      "text/plain": [
       "<Figure size 432x288 with 1 Axes>"
      ]
     },
     "metadata": {
      "needs_background": "light"
     },
     "output_type": "display_data"
    },
    {
     "data": {
      "text/plain": [
       "Index(['id', 'c_v', 'vel', 'vel_l', 'vel_r', 'class'], dtype='object')"
      ]
     },
     "execution_count": 116,
     "metadata": {},
     "output_type": "execute_result"
    }
   ],
   "source": [
    "bot_vel_m_value.plot(kind='scatter',x='id',y='vel_r',color='red')\n",
    "plt.show()\n",
    "bot_vel_m_value.columns"
   ]
  },
  {
   "cell_type": "code",
   "execution_count": 117,
   "metadata": {},
   "outputs": [
    {
     "data": {
      "image/png": "[encoded data removed]",
      "text/plain": [
       "<Figure size 432x288 with 1 Axes>"
      ]
     },
     "metadata": {
      "needs_background": "light"
     },
     "output_type": "display_data"
    },
    {
     "data": {
      "text/plain": [
       "Index(['id', 'accel', 'accel_l', 'accel_r', 'class'], dtype='object')"
      ]
     },
     "execution_count": 117,
     "metadata": {},
     "output_type": "execute_result"
    }
   ],
   "source": [
    "human_accel_m_value.plot(kind='scatter',x='id',y='accel_r',color='blue')\n",
    "plt.show()\n",
    "human_accel_m_value.columns"
   ]
  },
  {
   "cell_type": "code",
   "execution_count": 129,
   "metadata": {},
   "outputs": [
    {
     "data": {
      "image/png": "[encoded data removed]",
      "text/plain": [
       "<Figure size 432x288 with 1 Axes>"
      ]
     },
     "metadata": {
      "needs_background": "light"
     },
     "output_type": "display_data"
    },
    {
     "data": {
      "text/plain": [
       "Index(['id', 'accel', 'accel_l', 'accel_r', 'class'], dtype='object')"
      ]
     },
     "execution_count": 129,
     "metadata": {},
     "output_type": "execute_result"
    }
   ],
   "source": [
    "bot_accel_m_value.plot(kind='scatter',x='id',y='accel_r',color='red')\n",
    "plt.show()\n",
    "bot_accel_m_value.columns"
   ]
  },
  {
   "cell_type": "markdown",
   "metadata": {},
   "source": [
    "Alright, enough with the graphs, we noticed `m_value` and its `accel` as well as `m_value_l` and `m_value_r` and its `accel_l`, `accel_r` behave diffrently for `party_size=2`. lets build a data structure that includes these fields. "
   ]
  },
  {
   "cell_type": "code",
   "execution_count": 190,
   "metadata": {},
   "outputs": [
    {
     "name": "stdout",
     "output_type": "stream",
     "text": [
      "CPU times: user 26.6 ms, sys: 0 ns, total: 26.6 ms\n",
      "Wall time: 170 ms\n"
     ]
    },
    {
     "data": {
      "text/plain": [
       "m_action\n",
       "0.0    678\n",
       "1.0    499\n",
       "2.0     94\n",
       "3.0     20\n",
       "4.0      1\n",
       "7.0      4\n",
       "8.0      2\n",
       "dtype: int64"
      ]
     },
     "execution_count": 190,
     "metadata": {},
     "output_type": "execute_result"
    }
   ],
   "source": [
    "%%time\n",
    "import pandas as pd\n",
    "\n",
    "try:\n",
    "  conn =  mysql.connector.connect(host=ENDPOINT, user=USR, passwd=PASWD, port=3306, database=DBNAME)\n",
    "  cur = conn.cursor()\n",
    "    \n",
    "  cur.execute(\"\"\"select m_action,\n",
    "                  c_v value,c_vel velocity,accel,\n",
    "                  c_v_l value_l,c_vel_l velocity_l,accel_l,\n",
    "                  c_v_r value_r,c_vel_r velocity_r,accel_r,\n",
    "                  class\n",
    "                 from v_actions_m_value_accel where party_size=2\"\"\")\n",
    "  actions_m_value_accel_list=cur.fetchall()\n",
    "    \n",
    "except Exception as e:\n",
    "  print(\"Database connection failed due to {}\".format(e))\n",
    "\n",
    "\n",
    "actions_m_value_accel=pd.DataFrame(actions_m_value_accel_list)\n",
    "\n",
    "actions_m_value_accel.rename(columns={0:'m_action',\n",
    "                            1:'value',\n",
    "                            2:'velocity',\n",
    "                            3:'accel',\n",
    "                            4:'value_l',\n",
    "                            5:'velocity_l',\n",
    "                            6:'accel_l',\n",
    "                            7:'value_r',\n",
    "                            8:'velocity_r',\n",
    "                            9:'accel_r',\n",
    "                           10:'class'\n",
    "                           }, \n",
    "                 inplace=True)\n",
    "actions_m_value_accel.groupby('m_action').size()"
   ]
  },
  {
   "cell_type": "code",
   "execution_count": 237,
   "metadata": {},
   "outputs": [
    {
     "data": {
      "text/plain": [
       "3.0"
      ]
     },
     "execution_count": 237,
     "metadata": {},
     "output_type": "execute_result"
    }
   ],
   "source": [
    "actions_m_value_accel.m_action[46]"
   ]
  },
  {
   "cell_type": "markdown",
   "metadata": {},
   "source": [
    "### Encoding the categorical feature m_action "
   ]
  },
  {
   "cell_type": "code",
   "execution_count": 242,
   "metadata": {},
   "outputs": [
    {
     "name": "stdout",
     "output_type": "stream",
     "text": [
      "values\n",
      "[1. 1. 1. ... 0. 0. 0.]\n",
      "integer_encoded\n",
      "3\n",
      "0\n",
      "onehot_encoded\n",
      "[0. 0. 0. 1. 0. 0. 0.]\n",
      "[1. 0. 0. 0. 0. 0. 0.]\n"
     ]
    }
   ],
   "source": [
    "from numpy import argmax\n",
    "from numpy import array\n",
    "from sklearn.preprocessing import OneHotEncoder\n",
    "from sklearn.preprocessing import LabelEncoder\n",
    "label_encoder = LabelEncoder()\n",
    "values=array(actions_m_value_accel.m_action)\n",
    "print(\"values\")\n",
    "print(values)\n",
    "\n",
    "# integer encode\n",
    "label_encoder = LabelEncoder()\n",
    "integer_encoded = label_encoder.fit_transform(values)\n",
    "print(\"integer_encoded\")\n",
    "print(integer_encoded[46])\n",
    "print(integer_encoded[26])\n",
    "# binary encode\n",
    "onehot_encoder = OneHotEncoder(sparse=False)\n",
    "integer_encoded = integer_encoded.reshape(len(integer_encoded), 1)\n",
    "onehot_encoded = onehot_encoder.fit_transform(integer_encoded)\n",
    "print(\"onehot_encoded\")\n",
    "print(onehot_encoded[46])\n",
    "print(onehot_encoded[26])\n",
    "#actions_m_value_accel[\"m_action_onehot_encoded\"]=onehot_encoded"
   ]
  },
  {
   "cell_type": "markdown",
   "metadata": {},
   "source": [
    "## Build few models - full data, m_ticks, and m_value"
   ]
  },
  {
   "cell_type": "markdown",
   "metadata": {},
   "source": [
    "## ticks data - (ticks,action,value,value_l,value_r) - prepare the data "
   ]
  },
  {
   "cell_type": "code",
   "execution_count": 393,
   "metadata": {},
   "outputs": [
    {
     "name": "stdout",
     "output_type": "stream",
     "text": [
      "Index(['sessionid', 'id', 'm_ticks', 'm_kart_id', 'm_action', 'm_value',\n",
      "       'm_value_l', 'm_value_r', 'class'],\n",
      "      dtype='object')\n",
      "sessionid    171128\n",
      "id           171128\n",
      "m_ticks      171128\n",
      "m_kart_id    171128\n",
      "m_action     171128\n",
      "m_value      171128\n",
      "m_value_l    171128\n",
      "m_value_r    171128\n",
      "class        171128\n",
      "dtype: int64\n"
     ]
    }
   ],
   "source": [
    "ticks_actions = pd.DataFrame(action_list)\n",
    "ticks_actions.rename(columns={0:'sessionid',\n",
    "                        1:'id',\n",
    "                        2:'m_ticks',\n",
    "                        3:'m_kart_id',\n",
    "                        4:'m_action',\n",
    "                        5:'m_value',\n",
    "                        6:'m_value_l',\n",
    "                        7:'m_value_r',\n",
    "                        8:'class'\n",
    "                     }, \n",
    "                 inplace=True)\n",
    "print(ticks_actions.columns)\n",
    "print(ticks_actions.count())"
   ]
  },
  {
   "cell_type": "code",
   "execution_count": 394,
   "metadata": {},
   "outputs": [],
   "source": [
    "ticks_actions=ticks_actions.drop('id',axis=1)\n",
    "ticks_actions=ticks_actions.drop('m_action',axis=1)\n",
    "ticks_actions=ticks_actions.drop('m_value',axis=1)\n",
    "ticks_actions=ticks_actions.drop('m_value_l',axis=1)\n",
    "ticks_actions=ticks_actions.drop('m_value_r',axis=1)"
   ]
  },
  {
   "cell_type": "code",
   "execution_count": 395,
   "metadata": {},
   "outputs": [
    {
     "name": "stdout",
     "output_type": "stream",
     "text": [
      "class\n",
      "0    94740\n",
      "1    76388\n",
      "dtype: int64\n"
     ]
    }
   ],
   "source": [
    "ticks_actions.head()\n",
    "print(ticks_actions.groupby('class',axis=0).size())"
   ]
  },
  {
   "cell_type": "markdown",
   "metadata": {},
   "source": [
    "Populate a dictionary with series of `m_ticks` with the same `session_id`, `m_kart_id` and `class`. the output number should indicate the same size of the data in Aurora."
   ]
  },
  {
   "cell_type": "code",
   "execution_count": 396,
   "metadata": {},
   "outputs": [
    {
     "name": "stdout",
     "output_type": "stream",
     "text": [
      "171128\n"
     ]
    }
   ],
   "source": [
    "player_session_dict = {}\n",
    "i=0\n",
    "\n",
    "for index, row in ticks_actions.iterrows():\n",
    "  i=i+1\n",
    "  play_action_val=row['m_ticks']\n",
    "  play_action_key=row['sessionid'],row['m_kart_id'],row['class']\n",
    "  if(player_session_dict.get(play_action_key)):\n",
    "    session_list=player_session_dict[play_action_key]\n",
    "    session_list.append(play_action_val)\n",
    "    player_session_dict[play_action_key]=session_list \n",
    "  else:\n",
    "    session_list=[]\n",
    "    session_list.append(play_action_val)\n",
    "    player_session_dict[play_action_key]=session_list\n",
    "print(i)"
   ]
  },
  {
   "cell_type": "code",
   "execution_count": 400,
   "metadata": {},
   "outputs": [
    {
     "name": "stdout",
     "output_type": "stream",
     "text": [
      "number of 0 keys in full session 7707\n",
      "number of 1 keys in full session 5263\n",
      "the size of the sessions_array is 12970\n"
     ]
    }
   ],
   "source": [
    "import numpy as np\n",
    "session_len=10\n",
    "#a line in the array includes m_ticks plus the classification \n",
    "size_of_arr_line=session_len*1+1\n",
    "sessions_array = np.zeros((12971,size_of_arr_line), dtype=float, order='C')\n",
    "k=0\n",
    "j=0\n",
    "i=0\n",
    "sum_of_actions=0\n",
    "for key in player_session_dict:\n",
    "  raw_session=player_session_dict[key]\n",
    "  #break the session into equal parts session_len actions long\n",
    "  sessions_list=[raw_session[i:i + session_len] for i in range(0, len(raw_session), session_len)] \n",
    "  #every session has session_len action set\n",
    "  for session in sessions_list:\n",
    "    #including only the full sessions with excatly 25 actions\n",
    "    if(len(session)==session_len):\n",
    "      k=k+1\n",
    "      if(key[2]==0):\n",
    "        j=j+1\n",
    "      else:\n",
    "        i=i+1\n",
    "      new_row=[]\n",
    "      for action in session:\n",
    "        new_row.append(action)\n",
    "      #add class field to the last column \n",
    "      new_row.append(key[2])\n",
    "      sessions_array[k]=np.asarray(new_row)\n",
    "       \n",
    "print('number of 0 keys in full session {}'.format(j))\n",
    "print('number of 1 keys in full session {}'.format(i))\n",
    "print('the size of the sessions_array is {}'.format(k))"
   ]
  },
  {
   "cell_type": "code",
   "execution_count": 401,
   "metadata": {},
   "outputs": [
    {
     "data": {
      "text/html": [
       "<div>\n",
       "<style scoped>\n",
       "    .dataframe tbody tr th:only-of-type {\n",
       "        vertical-align: middle;\n",
       "    }\n",
       "\n",
       "    .dataframe tbody tr th {\n",
       "        vertical-align: top;\n",
       "    }\n",
       "\n",
       "    .dataframe thead th {\n",
       "        text-align: right;\n",
       "    }\n",
       "</style>\n",
       "<table border=\"1\" class=\"dataframe\">\n",
       "  <thead>\n",
       "    <tr style=\"text-align: right;\">\n",
       "      <th></th>\n",
       "      <th>0</th>\n",
       "      <th>1</th>\n",
       "      <th>2</th>\n",
       "      <th>3</th>\n",
       "      <th>4</th>\n",
       "      <th>5</th>\n",
       "      <th>6</th>\n",
       "      <th>7</th>\n",
       "      <th>8</th>\n",
       "      <th>9</th>\n",
       "      <th>10</th>\n",
       "    </tr>\n",
       "  </thead>\n",
       "  <tbody>\n",
       "    <tr>\n",
       "      <th>0</th>\n",
       "      <td>0.0</td>\n",
       "      <td>0.0</td>\n",
       "      <td>0.0</td>\n",
       "      <td>0.0</td>\n",
       "      <td>0.0</td>\n",
       "      <td>0.0</td>\n",
       "      <td>0.0</td>\n",
       "      <td>0.0</td>\n",
       "      <td>0.0</td>\n",
       "      <td>0.0</td>\n",
       "      <td>0.0</td>\n",
       "    </tr>\n",
       "    <tr>\n",
       "      <th>1</th>\n",
       "      <td>21768.0</td>\n",
       "      <td>21794.0</td>\n",
       "      <td>21830.0</td>\n",
       "      <td>21891.0</td>\n",
       "      <td>21936.0</td>\n",
       "      <td>21980.0</td>\n",
       "      <td>22101.0</td>\n",
       "      <td>22141.0</td>\n",
       "      <td>22295.0</td>\n",
       "      <td>22313.0</td>\n",
       "      <td>0.0</td>\n",
       "    </tr>\n",
       "    <tr>\n",
       "      <th>2</th>\n",
       "      <td>22357.0</td>\n",
       "      <td>22406.0</td>\n",
       "      <td>22449.0</td>\n",
       "      <td>22482.0</td>\n",
       "      <td>22574.0</td>\n",
       "      <td>22583.0</td>\n",
       "      <td>22662.0</td>\n",
       "      <td>22716.0</td>\n",
       "      <td>22781.0</td>\n",
       "      <td>22795.0</td>\n",
       "      <td>0.0</td>\n",
       "    </tr>\n",
       "    <tr>\n",
       "      <th>3</th>\n",
       "      <td>23053.0</td>\n",
       "      <td>23074.0</td>\n",
       "      <td>23446.0</td>\n",
       "      <td>23465.0</td>\n",
       "      <td>23650.0</td>\n",
       "      <td>23666.0</td>\n",
       "      <td>23723.0</td>\n",
       "      <td>23862.0</td>\n",
       "      <td>23864.0</td>\n",
       "      <td>23885.0</td>\n",
       "      <td>0.0</td>\n",
       "    </tr>\n",
       "    <tr>\n",
       "      <th>4</th>\n",
       "      <td>23896.0</td>\n",
       "      <td>23914.0</td>\n",
       "      <td>23922.0</td>\n",
       "      <td>23956.0</td>\n",
       "      <td>23999.0</td>\n",
       "      <td>24037.0</td>\n",
       "      <td>24105.0</td>\n",
       "      <td>24130.0</td>\n",
       "      <td>24156.0</td>\n",
       "      <td>24195.0</td>\n",
       "      <td>0.0</td>\n",
       "    </tr>\n",
       "    <tr>\n",
       "      <th>...</th>\n",
       "      <td>...</td>\n",
       "      <td>...</td>\n",
       "      <td>...</td>\n",
       "      <td>...</td>\n",
       "      <td>...</td>\n",
       "      <td>...</td>\n",
       "      <td>...</td>\n",
       "      <td>...</td>\n",
       "      <td>...</td>\n",
       "      <td>...</td>\n",
       "      <td>...</td>\n",
       "    </tr>\n",
       "    <tr>\n",
       "      <th>12966</th>\n",
       "      <td>13608.0</td>\n",
       "      <td>13697.0</td>\n",
       "      <td>13851.0</td>\n",
       "      <td>13916.0</td>\n",
       "      <td>13923.0</td>\n",
       "      <td>13934.0</td>\n",
       "      <td>13937.0</td>\n",
       "      <td>13969.0</td>\n",
       "      <td>14029.0</td>\n",
       "      <td>14102.0</td>\n",
       "      <td>0.0</td>\n",
       "    </tr>\n",
       "    <tr>\n",
       "      <th>12967</th>\n",
       "      <td>14155.0</td>\n",
       "      <td>14250.0</td>\n",
       "      <td>14287.0</td>\n",
       "      <td>14445.0</td>\n",
       "      <td>14475.0</td>\n",
       "      <td>14476.0</td>\n",
       "      <td>14498.0</td>\n",
       "      <td>14555.0</td>\n",
       "      <td>14586.0</td>\n",
       "      <td>14706.0</td>\n",
       "      <td>0.0</td>\n",
       "    </tr>\n",
       "    <tr>\n",
       "      <th>12968</th>\n",
       "      <td>14755.0</td>\n",
       "      <td>14767.0</td>\n",
       "      <td>14784.0</td>\n",
       "      <td>15022.0</td>\n",
       "      <td>15046.0</td>\n",
       "      <td>15102.0</td>\n",
       "      <td>15132.0</td>\n",
       "      <td>15178.0</td>\n",
       "      <td>15220.0</td>\n",
       "      <td>15248.0</td>\n",
       "      <td>0.0</td>\n",
       "    </tr>\n",
       "    <tr>\n",
       "      <th>12969</th>\n",
       "      <td>15295.0</td>\n",
       "      <td>15326.0</td>\n",
       "      <td>15497.0</td>\n",
       "      <td>15576.0</td>\n",
       "      <td>16436.0</td>\n",
       "      <td>16482.0</td>\n",
       "      <td>16527.0</td>\n",
       "      <td>16562.0</td>\n",
       "      <td>16615.0</td>\n",
       "      <td>16814.0</td>\n",
       "      <td>0.0</td>\n",
       "    </tr>\n",
       "    <tr>\n",
       "      <th>12970</th>\n",
       "      <td>16871.0</td>\n",
       "      <td>16940.0</td>\n",
       "      <td>16968.0</td>\n",
       "      <td>16973.0</td>\n",
       "      <td>16991.0</td>\n",
       "      <td>17005.0</td>\n",
       "      <td>17061.0</td>\n",
       "      <td>17127.0</td>\n",
       "      <td>17155.0</td>\n",
       "      <td>17283.0</td>\n",
       "      <td>0.0</td>\n",
       "    </tr>\n",
       "  </tbody>\n",
       "</table>\n",
       "<p>12971 rows × 11 columns</p>\n",
       "</div>"
      ],
      "text/plain": [
       "             0        1        2        3        4        5        6        7  \\\n",
       "0          0.0      0.0      0.0      0.0      0.0      0.0      0.0      0.0   \n",
       "1      21768.0  21794.0  21830.0  21891.0  21936.0  21980.0  22101.0  22141.0   \n",
       "2      22357.0  22406.0  22449.0  22482.0  22574.0  22583.0  22662.0  22716.0   \n",
       "3      23053.0  23074.0  23446.0  23465.0  23650.0  23666.0  23723.0  23862.0   \n",
       "4      23896.0  23914.0  23922.0  23956.0  23999.0  24037.0  24105.0  24130.0   \n",
       "...        ...      ...      ...      ...      ...      ...      ...      ...   \n",
       "12966  13608.0  13697.0  13851.0  13916.0  13923.0  13934.0  13937.0  13969.0   \n",
       "12967  14155.0  14250.0  14287.0  14445.0  14475.0  14476.0  14498.0  14555.0   \n",
       "12968  14755.0  14767.0  14784.0  15022.0  15046.0  15102.0  15132.0  15178.0   \n",
       "12969  15295.0  15326.0  15497.0  15576.0  16436.0  16482.0  16527.0  16562.0   \n",
       "12970  16871.0  16940.0  16968.0  16973.0  16991.0  17005.0  17061.0  17127.0   \n",
       "\n",
       "             8        9   10  \n",
       "0          0.0      0.0  0.0  \n",
       "1      22295.0  22313.0  0.0  \n",
       "2      22781.0  22795.0  0.0  \n",
       "3      23864.0  23885.0  0.0  \n",
       "4      24156.0  24195.0  0.0  \n",
       "...        ...      ...  ...  \n",
       "12966  14029.0  14102.0  0.0  \n",
       "12967  14586.0  14706.0  0.0  \n",
       "12968  15220.0  15248.0  0.0  \n",
       "12969  16615.0  16814.0  0.0  \n",
       "12970  17155.0  17283.0  0.0  \n",
       "\n",
       "[12971 rows x 11 columns]"
      ]
     },
     "execution_count": 401,
     "metadata": {},
     "output_type": "execute_result"
    }
   ],
   "source": [
    "df=pd.DataFrame(sessions_array) \n",
    "df"
   ]
  },
  {
   "cell_type": "code",
   "execution_count": 402,
   "metadata": {},
   "outputs": [
    {
     "name": "stdout",
     "output_type": "stream",
     "text": [
      "10\n",
      "0.0    7708\n",
      "1.0    5263\n",
      "dtype: int64\n"
     ]
    },
    {
     "data": {
      "text/html": [
       "<div>\n",
       "<style scoped>\n",
       "    .dataframe tbody tr th:only-of-type {\n",
       "        vertical-align: middle;\n",
       "    }\n",
       "\n",
       "    .dataframe tbody tr th {\n",
       "        vertical-align: top;\n",
       "    }\n",
       "\n",
       "    .dataframe thead th {\n",
       "        text-align: right;\n",
       "    }\n",
       "</style>\n",
       "<table border=\"1\" class=\"dataframe\">\n",
       "  <thead>\n",
       "    <tr style=\"text-align: right;\">\n",
       "      <th></th>\n",
       "      <th>0</th>\n",
       "      <th>1</th>\n",
       "      <th>2</th>\n",
       "      <th>3</th>\n",
       "      <th>4</th>\n",
       "      <th>5</th>\n",
       "      <th>6</th>\n",
       "      <th>7</th>\n",
       "      <th>8</th>\n",
       "      <th>9</th>\n",
       "      <th>10</th>\n",
       "    </tr>\n",
       "  </thead>\n",
       "  <tbody>\n",
       "    <tr>\n",
       "      <th>0</th>\n",
       "      <td>0.0</td>\n",
       "      <td>0.0</td>\n",
       "      <td>0.0</td>\n",
       "      <td>0.0</td>\n",
       "      <td>0.0</td>\n",
       "      <td>0.0</td>\n",
       "      <td>0.0</td>\n",
       "      <td>0.0</td>\n",
       "      <td>0.0</td>\n",
       "      <td>0.0</td>\n",
       "      <td>0.0</td>\n",
       "    </tr>\n",
       "    <tr>\n",
       "      <th>1</th>\n",
       "      <td>21768.0</td>\n",
       "      <td>21794.0</td>\n",
       "      <td>21830.0</td>\n",
       "      <td>21891.0</td>\n",
       "      <td>21936.0</td>\n",
       "      <td>21980.0</td>\n",
       "      <td>22101.0</td>\n",
       "      <td>22141.0</td>\n",
       "      <td>22295.0</td>\n",
       "      <td>22313.0</td>\n",
       "      <td>0.0</td>\n",
       "    </tr>\n",
       "    <tr>\n",
       "      <th>2</th>\n",
       "      <td>22357.0</td>\n",
       "      <td>22406.0</td>\n",
       "      <td>22449.0</td>\n",
       "      <td>22482.0</td>\n",
       "      <td>22574.0</td>\n",
       "      <td>22583.0</td>\n",
       "      <td>22662.0</td>\n",
       "      <td>22716.0</td>\n",
       "      <td>22781.0</td>\n",
       "      <td>22795.0</td>\n",
       "      <td>0.0</td>\n",
       "    </tr>\n",
       "    <tr>\n",
       "      <th>3</th>\n",
       "      <td>23053.0</td>\n",
       "      <td>23074.0</td>\n",
       "      <td>23446.0</td>\n",
       "      <td>23465.0</td>\n",
       "      <td>23650.0</td>\n",
       "      <td>23666.0</td>\n",
       "      <td>23723.0</td>\n",
       "      <td>23862.0</td>\n",
       "      <td>23864.0</td>\n",
       "      <td>23885.0</td>\n",
       "      <td>0.0</td>\n",
       "    </tr>\n",
       "    <tr>\n",
       "      <th>4</th>\n",
       "      <td>23896.0</td>\n",
       "      <td>23914.0</td>\n",
       "      <td>23922.0</td>\n",
       "      <td>23956.0</td>\n",
       "      <td>23999.0</td>\n",
       "      <td>24037.0</td>\n",
       "      <td>24105.0</td>\n",
       "      <td>24130.0</td>\n",
       "      <td>24156.0</td>\n",
       "      <td>24195.0</td>\n",
       "      <td>0.0</td>\n",
       "    </tr>\n",
       "    <tr>\n",
       "      <th>...</th>\n",
       "      <td>...</td>\n",
       "      <td>...</td>\n",
       "      <td>...</td>\n",
       "      <td>...</td>\n",
       "      <td>...</td>\n",
       "      <td>...</td>\n",
       "      <td>...</td>\n",
       "      <td>...</td>\n",
       "      <td>...</td>\n",
       "      <td>...</td>\n",
       "      <td>...</td>\n",
       "    </tr>\n",
       "    <tr>\n",
       "      <th>995</th>\n",
       "      <td>23297.0</td>\n",
       "      <td>23298.0</td>\n",
       "      <td>23299.0</td>\n",
       "      <td>23300.0</td>\n",
       "      <td>23326.0</td>\n",
       "      <td>23327.0</td>\n",
       "      <td>23329.0</td>\n",
       "      <td>23330.0</td>\n",
       "      <td>23331.0</td>\n",
       "      <td>23332.0</td>\n",
       "      <td>0.0</td>\n",
       "    </tr>\n",
       "    <tr>\n",
       "      <th>996</th>\n",
       "      <td>23249.0</td>\n",
       "      <td>23251.0</td>\n",
       "      <td>23252.0</td>\n",
       "      <td>23253.0</td>\n",
       "      <td>23255.0</td>\n",
       "      <td>23256.0</td>\n",
       "      <td>23256.0</td>\n",
       "      <td>23257.0</td>\n",
       "      <td>23258.0</td>\n",
       "      <td>23260.0</td>\n",
       "      <td>0.0</td>\n",
       "    </tr>\n",
       "    <tr>\n",
       "      <th>997</th>\n",
       "      <td>23261.0</td>\n",
       "      <td>23262.0</td>\n",
       "      <td>23263.0</td>\n",
       "      <td>23284.0</td>\n",
       "      <td>23285.0</td>\n",
       "      <td>23286.0</td>\n",
       "      <td>23287.0</td>\n",
       "      <td>23299.0</td>\n",
       "      <td>23300.0</td>\n",
       "      <td>23301.0</td>\n",
       "      <td>0.0</td>\n",
       "    </tr>\n",
       "    <tr>\n",
       "      <th>998</th>\n",
       "      <td>23302.0</td>\n",
       "      <td>23303.0</td>\n",
       "      <td>23304.0</td>\n",
       "      <td>23306.0</td>\n",
       "      <td>23316.0</td>\n",
       "      <td>23317.0</td>\n",
       "      <td>23318.0</td>\n",
       "      <td>23320.0</td>\n",
       "      <td>23321.0</td>\n",
       "      <td>23322.0</td>\n",
       "      <td>0.0</td>\n",
       "    </tr>\n",
       "    <tr>\n",
       "      <th>999</th>\n",
       "      <td>23329.0</td>\n",
       "      <td>23330.0</td>\n",
       "      <td>23331.0</td>\n",
       "      <td>23333.0</td>\n",
       "      <td>23334.0</td>\n",
       "      <td>23336.0</td>\n",
       "      <td>23337.0</td>\n",
       "      <td>23339.0</td>\n",
       "      <td>23340.0</td>\n",
       "      <td>23341.0</td>\n",
       "      <td>0.0</td>\n",
       "    </tr>\n",
       "  </tbody>\n",
       "</table>\n",
       "<p>1000 rows × 11 columns</p>\n",
       "</div>"
      ],
      "text/plain": [
       "           0        1        2        3        4        5        6        7  \\\n",
       "0        0.0      0.0      0.0      0.0      0.0      0.0      0.0      0.0   \n",
       "1    21768.0  21794.0  21830.0  21891.0  21936.0  21980.0  22101.0  22141.0   \n",
       "2    22357.0  22406.0  22449.0  22482.0  22574.0  22583.0  22662.0  22716.0   \n",
       "3    23053.0  23074.0  23446.0  23465.0  23650.0  23666.0  23723.0  23862.0   \n",
       "4    23896.0  23914.0  23922.0  23956.0  23999.0  24037.0  24105.0  24130.0   \n",
       "..       ...      ...      ...      ...      ...      ...      ...      ...   \n",
       "995  23297.0  23298.0  23299.0  23300.0  23326.0  23327.0  23329.0  23330.0   \n",
       "996  23249.0  23251.0  23252.0  23253.0  23255.0  23256.0  23256.0  23257.0   \n",
       "997  23261.0  23262.0  23263.0  23284.0  23285.0  23286.0  23287.0  23299.0   \n",
       "998  23302.0  23303.0  23304.0  23306.0  23316.0  23317.0  23318.0  23320.0   \n",
       "999  23329.0  23330.0  23331.0  23333.0  23334.0  23336.0  23337.0  23339.0   \n",
       "\n",
       "           8        9   10  \n",
       "0        0.0      0.0  0.0  \n",
       "1    22295.0  22313.0  0.0  \n",
       "2    22781.0  22795.0  0.0  \n",
       "3    23864.0  23885.0  0.0  \n",
       "4    24156.0  24195.0  0.0  \n",
       "..       ...      ...  ...  \n",
       "995  23331.0  23332.0  0.0  \n",
       "996  23258.0  23260.0  0.0  \n",
       "997  23300.0  23301.0  0.0  \n",
       "998  23321.0  23322.0  0.0  \n",
       "999  23340.0  23341.0  0.0  \n",
       "\n",
       "[1000 rows x 11 columns]"
      ]
     },
     "execution_count": 402,
     "metadata": {},
     "output_type": "execute_result"
    }
   ],
   "source": [
    "print(df.groupby(session_len,axis=0).size())\n",
    "df.head(1000)"
   ]
  },
  {
   "cell_type": "code",
   "execution_count": 403,
   "metadata": {},
   "outputs": [
    {
     "name": "stdout",
     "output_type": "stream",
     "text": [
      "feature_columns=RangeIndex(start=0, stop=10, step=1)\n",
      "label_column=10\n",
      "[23053. 23074. 23446. 23465. 23650. 23666. 23723. 23862. 23864. 23885.]\n"
     ]
    },
    {
     "data": {
      "text/plain": [
       "0.0"
      ]
     },
     "execution_count": 403,
     "metadata": {},
     "output_type": "execute_result"
    }
   ],
   "source": [
    "feature_columns = df.columns[:-1]\n",
    "label_column = df.columns[-1]\n",
    "\n",
    "print('feature_columns={}'.format(feature_columns))\n",
    "print('label_column={}'.format(label_column))\n",
    "\n",
    "features = df[feature_columns].values.astype('float32')\n",
    "labels = (df[label_column].values).astype('float32')\n",
    "print(features[3])\n",
    "labels[3]"
   ]
  },
  {
   "cell_type": "code",
   "execution_count": 404,
   "metadata": {},
   "outputs": [],
   "source": [
    "import io\n",
    "import sagemaker.amazon.common as smac\n",
    "\n",
    "buf = io.BytesIO()\n",
    "smac.write_numpy_to_dense_tensor(buf, features, labels)\n",
    "buf.seek(0);"
   ]
  },
  {
   "cell_type": "code",
   "execution_count": 405,
   "metadata": {},
   "outputs": [
    {
     "name": "stdout",
     "output_type": "stream",
     "text": [
      "Uploaded training data location: s3://stk-events/bot-detect-ticks-model/train/recordio-pb-data\n",
      "Training artifacts will be uploaded to: s3://stk-events/bot-detect-ticks-model/output\n"
     ]
    }
   ],
   "source": [
    "import boto3\n",
    "import os\n",
    "import sagemaker\n",
    "\n",
    "session = sagemaker.Session()\n",
    "bucket = 'stk-events'\n",
    "\n",
    "prefix = 'bot-detect-ticks-model'\n",
    "key = 'recordio-pb-data'\n",
    "\n",
    "boto3.resource('s3').Bucket(bucket).Object(os.path.join(prefix, 'train', key)).upload_fileobj(buf)\n",
    "\n",
    "s3_train_data = 's3://{}/{}/train/{}'.format(bucket, prefix, key)\n",
    "print('Uploaded training data location: {}'.format(s3_train_data))\n",
    "\n",
    "output_location = 's3://{}/{}/output'.format(bucket, prefix)\n",
    "print('Training artifacts will be uploaded to: {}'.format(output_location))"
   ]
  },
  {
   "cell_type": "code",
   "execution_count": 406,
   "metadata": {},
   "outputs": [
    {
     "name": "stderr",
     "output_type": "stream",
     "text": [
      "'get_image_uri' method will be deprecated in favor of 'ImageURIProvider' class in SageMaker Python SDK v2.\n",
      "Parameter image_name will be renamed to image_uri in SageMaker Python SDK v2.\n",
      "'s3_input' class will be renamed to 'TrainingInput' in SageMaker Python SDK v2.\n"
     ]
    },
    {
     "name": "stdout",
     "output_type": "stream",
     "text": [
      "2020-11-03 16:39:15 Starting - Starting the training job...\n",
      "2020-11-03 16:39:20 Starting - Launching requested ML instances......\n",
      "2020-11-03 16:40:29 Starting - Preparing the instances for training......\n",
      "2020-11-03 16:41:43 Downloading - Downloading input data...\n",
      "2020-11-03 16:42:04 Training - Downloading the training image..\u001b[34mDocker entrypoint called with argument(s): train\u001b[0m\n",
      "\u001b[34mRunning default environment configuration script\u001b[0m\n",
      "\u001b[34m[11/03/2020 16:42:28 INFO 140649179998016] Reading default configuration from /opt/amazon/lib/python2.7/site-packages/algorithm/resources/default-input.json: {u'loss_insensitivity': u'0.01', u'epochs': u'15', u'feature_dim': u'auto', u'init_bias': u'0.0', u'lr_scheduler_factor': u'auto', u'num_calibration_samples': u'10000000', u'accuracy_top_k': u'3', u'_num_kv_servers': u'auto', u'use_bias': u'true', u'num_point_for_scaler': u'10000', u'_log_level': u'info', u'quantile': u'0.5', u'bias_lr_mult': u'auto', u'lr_scheduler_step': u'auto', u'init_method': u'uniform', u'init_sigma': u'0.01', u'lr_scheduler_minimum_lr': u'auto', u'target_recall': u'0.8', u'num_models': u'auto', u'early_stopping_patience': u'3', u'momentum': u'auto', u'unbias_label': u'auto', u'wd': u'auto', u'optimizer': u'auto', u'_tuning_objective_metric': u'', u'early_stopping_tolerance': u'0.001', u'learning_rate': u'auto', u'_kvstore': u'auto', u'normalize_data': u'true', u'binary_classifier_model_selection_criteria': u'accuracy', u'use_lr_scheduler': u'true', u'target_precision': u'0.8', u'unbias_data': u'auto', u'init_scale': u'0.07', u'bias_wd_mult': u'auto', u'f_beta': u'1.0', u'mini_batch_size': u'1000', u'huber_delta': u'1.0', u'num_classes': u'1', u'beta_1': u'auto', u'loss': u'auto', u'beta_2': u'auto', u'_enable_profiler': u'false', u'normalize_label': u'auto', u'_num_gpus': u'auto', u'balance_multiclass_weights': u'false', u'positive_example_weight_mult': u'1.0', u'l1': u'auto', u'margin': u'1.0'}\u001b[0m\n",
      "\u001b[34m[11/03/2020 16:42:28 INFO 140649179998016] Merging with provided configuration from /opt/ml/input/config/hyperparameters.json: {u'feature_dim': u'10', u'mini_batch_size': u'200', u'predictor_type': u'binary_classifier'}\u001b[0m\n",
      "\u001b[34m[11/03/2020 16:42:28 INFO 140649179998016] Final configuration: {u'loss_insensitivity': u'0.01', u'epochs': u'15', u'feature_dim': u'10', u'init_bias': u'0.0', u'lr_scheduler_factor': u'auto', u'num_calibration_samples': u'10000000', u'accuracy_top_k': u'3', u'_num_kv_servers': u'auto', u'use_bias': u'true', u'num_point_for_scaler': u'10000', u'_log_level': u'info', u'quantile': u'0.5', u'bias_lr_mult': u'auto', u'lr_scheduler_step': u'auto', u'init_method': u'uniform', u'init_sigma': u'0.01', u'lr_scheduler_minimum_lr': u'auto', u'target_recall': u'0.8', u'num_models': u'auto', u'early_stopping_patience': u'3', u'momentum': u'auto', u'unbias_label': u'auto', u'wd': u'auto', u'optimizer': u'auto', u'_tuning_objective_metric': u'', u'early_stopping_tolerance': u'0.001', u'learning_rate': u'auto', u'_kvstore': u'auto', u'normalize_data': u'true', u'binary_classifier_model_selection_criteria': u'accuracy', u'use_lr_scheduler': u'true', u'target_precision': u'0.8', u'unbias_data': u'auto', u'init_scale': u'0.07', u'bias_wd_mult': u'auto', u'f_beta': u'1.0', u'mini_batch_size': u'200', u'huber_delta': u'1.0', u'num_classes': u'1', u'predictor_type': u'binary_classifier', u'beta_1': u'auto', u'loss': u'auto', u'beta_2': u'auto', u'_enable_profiler': u'false', u'normalize_label': u'auto', u'_num_gpus': u'auto', u'balance_multiclass_weights': u'false', u'positive_example_weight_mult': u'1.0', u'l1': u'auto', u'margin': u'1.0'}\u001b[0m\n",
      "\u001b[34m[11/03/2020 16:42:28 WARNING 140649179998016] Loggers have already been setup.\u001b[0m\n",
      "\u001b[34mProcess 1 is a worker.\u001b[0m\n",
      "\u001b[34m[11/03/2020 16:42:28 INFO 140649179998016] Using default worker.\u001b[0m\n",
      "\u001b[34m[11/03/2020 16:42:28 INFO 140649179998016] Checkpoint loading and saving are disabled.\u001b[0m\n",
      "\u001b[34m[2020-11-03 16:42:28.703] [tensorio] [info] epoch_stats={\"data_pipeline\": \"/opt/ml/input/data/train\", \"epoch\": 0, \"duration\": 16, \"num_examples\": 1, \"num_bytes\": 16800}\u001b[0m\n",
      "\u001b[34m[11/03/2020 16:42:28 INFO 140649179998016] Create Store: local\u001b[0m\n",
      "\u001b[34m[2020-11-03 16:42:28.909] [tensorio] [info] epoch_stats={\"data_pipeline\": \"/opt/ml/input/data/train\", \"epoch\": 1, \"duration\": 205, \"num_examples\": 51, \"num_bytes\": 856800}\u001b[0m\n",
      "\u001b[34m[11/03/2020 16:42:28 INFO 140649179998016] Scaler algorithm parameters\n",
      " <algorithm.scaler.ScalerAlgorithmStable object at 0x7feb10e9ce10>\u001b[0m\n",
      "\u001b[34m[11/03/2020 16:42:28 INFO 140649179998016] Scaling model computed with parameters:\n",
      " {'stdev_weight': \u001b[0m\n",
      "\u001b[34m[19031.334 19042.598 19048.635 19049.61  19060.352 19069.861 19071.834\n",
      " 19080.979 19092.473 19110.445]\u001b[0m\n",
      "\u001b[34m<NDArray 10 @cpu(0)>, 'stdev_label': None, 'mean_label': None, 'mean_weight': \u001b[0m\n",
      "\u001b[34m[24510.977 24524.74  24534.133 24558.703 24585.455 24601.979 24610.934\n",
      " 24639.21  24625.383 24644.197]\u001b[0m\n",
      "\u001b[34m<NDArray 10 @cpu(0)>}\u001b[0m\n",
      "\u001b[34m[11/03/2020 16:42:28 INFO 140649179998016] nvidia-smi took: 0.0251879692078 secs to identify 0 gpus\u001b[0m\n",
      "\u001b[34m[11/03/2020 16:42:28 INFO 140649179998016] Number of GPUs being used: 0\u001b[0m\n",
      "\u001b[34m#metrics {\"Metrics\": {\"Max Batches Seen Between Resets\": {\"count\": 1, \"max\": 51, \"sum\": 51.0, \"min\": 51}, \"Number of Batches Since Last Reset\": {\"count\": 1, \"max\": 0, \"sum\": 0.0, \"min\": 0}, \"Number of Records Since Last Reset\": {\"count\": 1, \"max\": 0, \"sum\": 0.0, \"min\": 0}, \"Total Batches Seen\": {\"count\": 1, \"max\": 52, \"sum\": 52.0, \"min\": 52}, \"Total Records Seen\": {\"count\": 1, \"max\": 10400, \"sum\": 10400.0, \"min\": 10400}, \"Max Records Seen Between Resets\": {\"count\": 1, \"max\": 10200, \"sum\": 10200.0, \"min\": 10200}, \"Reset Count\": {\"count\": 1, \"max\": 2, \"sum\": 2.0, \"min\": 2}}, \"EndTime\": 1604421749.043074, \"Dimensions\": {\"Host\": \"algo-1\", \"Meta\": \"init_train_data_iter\", \"Operation\": \"training\", \"Algorithm\": \"Linear Learner\"}, \"StartTime\": 1604421749.043001}\n",
      "\u001b[0m\n",
      "\u001b[34m[2020-11-03 16:42:30.941] [tensorio] [info] epoch_stats={\"data_pipeline\": \"/opt/ml/input/data/train\", \"epoch\": 3, \"duration\": 1897, \"num_examples\": 65, \"num_bytes\": 1089564}\u001b[0m\n",
      "\u001b[34m#metrics {\"Metrics\": {\"train_binary_classification_cross_entropy_objective\": {\"count\": 1, \"max\": 0.6177247381955385, \"sum\": 0.6177247381955385, \"min\": 0.6177247381955385}}, \"EndTime\": 1604421750.941409, \"Dimensions\": {\"model\": 0, \"Host\": \"algo-1\", \"Operation\": \"training\", \"Algorithm\": \"Linear Learner\", \"epoch\": 0}, \"StartTime\": 1604421750.941315}\n",
      "\u001b[0m\n",
      "\u001b[34m#metrics {\"Metrics\": {\"train_binary_classification_cross_entropy_objective\": {\"count\": 1, \"max\": 0.6290056827664375, \"sum\": 0.6290056827664375, \"min\": 0.6290056827664375}}, \"EndTime\": 1604421750.941525, \"Dimensions\": {\"model\": 1, \"Host\": \"algo-1\", \"Operation\": \"training\", \"Algorithm\": \"Linear Learner\", \"epoch\": 0}, \"StartTime\": 1604421750.941503}\n",
      "\u001b[0m\n",
      "\u001b[34m#metrics {\"Metrics\": {\"train_binary_classification_cross_entropy_objective\": {\"count\": 1, \"max\": 0.6222045237571001, \"sum\": 0.6222045237571001, \"min\": 0.6222045237571001}}, \"EndTime\": 1604421750.941608, \"Dimensions\": {\"model\": 2, \"Host\": \"algo-1\", \"Operation\": \"training\", \"Algorithm\": \"Linear Learner\", \"epoch\": 0}, \"StartTime\": 1604421750.941595}\n",
      "\u001b[0m\n",
      "\u001b[34m#metrics {\"Metrics\": {\"train_binary_classification_cross_entropy_objective\": {\"count\": 1, \"max\": 0.6345772635564209, \"sum\": 0.6345772635564209, \"min\": 0.6345772635564209}}, \"EndTime\": 1604421750.941667, \"Dimensions\": {\"model\": 3, \"Host\": \"algo-1\", \"Operation\": \"training\", \"Algorithm\": \"Linear Learner\", \"epoch\": 0}, \"StartTime\": 1604421750.941654}\n",
      "\u001b[0m\n",
      "\u001b[34m#metrics {\"Metrics\": {\"train_binary_classification_cross_entropy_objective\": {\"count\": 1, \"max\": 1.2590063830149512, \"sum\": 1.2590063830149512, \"min\": 1.2590063830149512}}, \"EndTime\": 1604421750.941723, \"Dimensions\": {\"model\": 4, \"Host\": \"algo-1\", \"Operation\": \"training\", \"Algorithm\": \"Linear Learner\", \"epoch\": 0}, \"StartTime\": 1604421750.941708}\n",
      "\u001b[0m\n",
      "\u001b[34m#metrics {\"Metrics\": {\"train_binary_classification_cross_entropy_objective\": {\"count\": 1, \"max\": 1.2341411762483079, \"sum\": 1.2341411762483079, \"min\": 1.2341411762483079}}, \"EndTime\": 1604421750.941784, \"Dimensions\": {\"model\": 5, \"Host\": \"algo-1\", \"Operation\": \"training\", \"Algorithm\": \"Linear Learner\", \"epoch\": 0}, \"StartTime\": 1604421750.941767}\n",
      "\u001b[0m\n",
      "\u001b[34m#metrics {\"Metrics\": {\"train_binary_classification_cross_entropy_objective\": {\"count\": 1, \"max\": 1.1854763819022742, \"sum\": 1.1854763819022742, \"min\": 1.1854763819022742}}, \"EndTime\": 1604421750.941835, \"Dimensions\": {\"model\": 6, \"Host\": \"algo-1\", \"Operation\": \"training\", \"Algorithm\": \"Linear Learner\", \"epoch\": 0}, \"StartTime\": 1604421750.941824}\n",
      "\u001b[0m\n",
      "\u001b[34m#metrics {\"Metrics\": {\"train_binary_classification_cross_entropy_objective\": {\"count\": 1, \"max\": 1.1871720628660858, \"sum\": 1.1871720628660858, \"min\": 1.1871720628660858}}, \"EndTime\": 1604421750.941888, \"Dimensions\": {\"model\": 7, \"Host\": \"algo-1\", \"Operation\": \"training\", \"Algorithm\": \"Linear Learner\", \"epoch\": 0}, \"StartTime\": 1604421750.941871}\n",
      "\u001b[0m\n",
      "\u001b[34m#metrics {\"Metrics\": {\"train_binary_classification_cross_entropy_objective\": {\"count\": 1, \"max\": 0.6341140772029757, \"sum\": 0.6341140772029757, \"min\": 0.6341140772029757}}, \"EndTime\": 1604421750.94195, \"Dimensions\": {\"model\": 8, \"Host\": \"algo-1\", \"Operation\": \"training\", \"Algorithm\": \"Linear Learner\", \"epoch\": 0}, \"StartTime\": 1604421750.941933}\n",
      "\u001b[0m\n",
      "\u001b[34m#metrics {\"Metrics\": {\"train_binary_classification_cross_entropy_objective\": {\"count\": 1, \"max\": 0.6272322968393564, \"sum\": 0.6272322968393564, \"min\": 0.6272322968393564}}, \"EndTime\": 1604421750.942012, \"Dimensions\": {\"model\": 9, \"Host\": \"algo-1\", \"Operation\": \"training\", \"Algorithm\": \"Linear Learner\", \"epoch\": 0}, \"StartTime\": 1604421750.941995}\n",
      "\u001b[0m\n",
      "\u001b[34m#metrics {\"Metrics\": {\"train_binary_classification_cross_entropy_objective\": {\"count\": 1, \"max\": 0.6297611009329558, \"sum\": 0.6297611009329558, \"min\": 0.6297611009329558}}, \"EndTime\": 1604421750.942064, \"Dimensions\": {\"model\": 10, \"Host\": \"algo-1\", \"Operation\": \"training\", \"Algorithm\": \"Linear Learner\", \"epoch\": 0}, \"StartTime\": 1604421750.942048}\n",
      "\u001b[0m\n",
      "\u001b[34m#metrics {\"Metrics\": {\"train_binary_classification_cross_entropy_objective\": {\"count\": 1, \"max\": 0.6231306752562523, \"sum\": 0.6231306752562523, \"min\": 0.6231306752562523}}, \"EndTime\": 1604421750.94212, \"Dimensions\": {\"model\": 11, \"Host\": \"algo-1\", \"Operation\": \"training\", \"Algorithm\": \"Linear Learner\", \"epoch\": 0}, \"StartTime\": 1604421750.942105}\n",
      "\u001b[0m\n",
      "\u001b[34m#metrics {\"Metrics\": {\"train_binary_classification_cross_entropy_objective\": {\"count\": 1, \"max\": 1.1288914011767384, \"sum\": 1.1288914011767384, \"min\": 1.1288914011767384}}, \"EndTime\": 1604421750.942177, \"Dimensions\": {\"model\": 12, \"Host\": \"algo-1\", \"Operation\": \"training\", \"Algorithm\": \"Linear Learner\", \"epoch\": 0}, \"StartTime\": 1604421750.94216}\n",
      "\u001b[0m\n",
      "\u001b[34m#metrics {\"Metrics\": {\"train_binary_classification_cross_entropy_objective\": {\"count\": 1, \"max\": 1.080399172869331, \"sum\": 1.080399172869331, \"min\": 1.080399172869331}}, \"EndTime\": 1604421750.942236, \"Dimensions\": {\"model\": 13, \"Host\": \"algo-1\", \"Operation\": \"training\", \"Algorithm\": \"Linear Learner\", \"epoch\": 0}, \"StartTime\": 1604421750.94222}\n",
      "\u001b[0m\n",
      "\u001b[34m#metrics {\"Metrics\": {\"train_binary_classification_cross_entropy_objective\": {\"count\": 1, \"max\": 1.1609154966779243, \"sum\": 1.1609154966779243, \"min\": 1.1609154966779243}}, \"EndTime\": 1604421750.942296, \"Dimensions\": {\"model\": 14, \"Host\": \"algo-1\", \"Operation\": \"training\", \"Algorithm\": \"Linear Learner\", \"epoch\": 0}, \"StartTime\": 1604421750.942279}\n",
      "\u001b[0m\n",
      "\u001b[34m#metrics {\"Metrics\": {\"train_binary_classification_cross_entropy_objective\": {\"count\": 1, \"max\": 1.2588830007580765, \"sum\": 1.2588830007580765, \"min\": 1.2588830007580765}}, \"EndTime\": 1604421750.942358, \"Dimensions\": {\"model\": 15, \"Host\": \"algo-1\", \"Operation\": \"training\", \"Algorithm\": \"Linear Learner\", \"epoch\": 0}, \"StartTime\": 1604421750.942341}\n",
      "\u001b[0m\n",
      "\u001b[34m#metrics {\"Metrics\": {\"train_binary_classification_cross_entropy_objective\": {\"count\": 1, \"max\": 0.6510353060811758, \"sum\": 0.6510353060811758, \"min\": 0.6510353060811758}}, \"EndTime\": 1604421750.942415, \"Dimensions\": {\"model\": 16, \"Host\": \"algo-1\", \"Operation\": \"training\", \"Algorithm\": \"Linear Learner\", \"epoch\": 0}, \"StartTime\": 1604421750.942398}\n",
      "\u001b[0m\n",
      "\u001b[34m#metrics {\"Metrics\": {\"train_binary_classification_cross_entropy_objective\": {\"count\": 1, \"max\": 0.6517632324993611, \"sum\": 0.6517632324993611, \"min\": 0.6517632324993611}}, \"EndTime\": 1604421750.942472, \"Dimensions\": {\"model\": 17, \"Host\": \"algo-1\", \"Operation\": \"training\", \"Algorithm\": \"Linear Learner\", \"epoch\": 0}, \"StartTime\": 1604421750.942456}\n",
      "\u001b[0m\n",
      "\u001b[34m#metrics {\"Metrics\": {\"train_binary_classification_cross_entropy_objective\": {\"count\": 1, \"max\": 0.6562259313464165, \"sum\": 0.6562259313464165, \"min\": 0.6562259313464165}}, \"EndTime\": 1604421750.942529, \"Dimensions\": {\"model\": 18, \"Host\": \"algo-1\", \"Operation\": \"training\", \"Algorithm\": \"Linear Learner\", \"epoch\": 0}, \"StartTime\": 1604421750.942512}\n",
      "\u001b[0m\n",
      "\u001b[34m#metrics {\"Metrics\": {\"train_binary_classification_cross_entropy_objective\": {\"count\": 1, \"max\": 0.6523727779835462, \"sum\": 0.6523727779835462, \"min\": 0.6523727779835462}}, \"EndTime\": 1604421750.942588, \"Dimensions\": {\"model\": 19, \"Host\": \"algo-1\", \"Operation\": \"training\", \"Algorithm\": \"Linear Learner\", \"epoch\": 0}, \"StartTime\": 1604421750.942571}\n",
      "\u001b[0m\n",
      "\u001b[34m#metrics {\"Metrics\": {\"train_binary_classification_cross_entropy_objective\": {\"count\": 1, \"max\": 0.7621478141171525, \"sum\": 0.7621478141171525, \"min\": 0.7621478141171525}}, \"EndTime\": 1604421750.942643, \"Dimensions\": {\"model\": 20, \"Host\": \"algo-1\", \"Operation\": \"training\", \"Algorithm\": \"Linear Learner\", \"epoch\": 0}, \"StartTime\": 1604421750.942627}\n",
      "\u001b[0m\n",
      "\u001b[34m#metrics {\"Metrics\": {\"train_binary_classification_cross_entropy_objective\": {\"count\": 1, \"max\": 0.7560793270941124, \"sum\": 0.7560793270941124, \"min\": 0.7560793270941124}}, \"EndTime\": 1604421750.942701, \"Dimensions\": {\"model\": 21, \"Host\": \"algo-1\", \"Operation\": \"training\", \"Algorithm\": \"Linear Learner\", \"epoch\": 0}, \"StartTime\": 1604421750.942684}\n",
      "\u001b[0m\n",
      "\u001b[34m#metrics {\"Metrics\": {\"train_binary_classification_cross_entropy_objective\": {\"count\": 1, \"max\": 0.7553595840146867, \"sum\": 0.7553595840146867, \"min\": 0.7553595840146867}}, \"EndTime\": 1604421750.942769, \"Dimensions\": {\"model\": 22, \"Host\": \"algo-1\", \"Operation\": \"training\", \"Algorithm\": \"Linear Learner\", \"epoch\": 0}, \"StartTime\": 1604421750.942751}\n",
      "\u001b[0m\n",
      "\u001b[34m#metrics {\"Metrics\": {\"train_binary_classification_cross_entropy_objective\": {\"count\": 1, \"max\": 0.7654857531409245, \"sum\": 0.7654857531409245, \"min\": 0.7654857531409245}}, \"EndTime\": 1604421750.94283, \"Dimensions\": {\"model\": 23, \"Host\": \"algo-1\", \"Operation\": \"training\", \"Algorithm\": \"Linear Learner\", \"epoch\": 0}, \"StartTime\": 1604421750.942813}\n",
      "\u001b[0m\n",
      "\u001b[34m#metrics {\"Metrics\": {\"train_binary_classification_cross_entropy_objective\": {\"count\": 1, \"max\": 0.709136455655098, \"sum\": 0.709136455655098, \"min\": 0.709136455655098}}, \"EndTime\": 1604421750.942892, \"Dimensions\": {\"model\": 24, \"Host\": \"algo-1\", \"Operation\": \"training\", \"Algorithm\": \"Linear Learner\", \"epoch\": 0}, \"StartTime\": 1604421750.942875}\n",
      "\u001b[0m\n",
      "\u001b[34m#metrics {\"Metrics\": {\"train_binary_classification_cross_entropy_objective\": {\"count\": 1, \"max\": 0.7078385427594185, \"sum\": 0.7078385427594185, \"min\": 0.7078385427594185}}, \"EndTime\": 1604421750.942946, \"Dimensions\": {\"model\": 25, \"Host\": \"algo-1\", \"Operation\": \"training\", \"Algorithm\": \"Linear Learner\", \"epoch\": 0}, \"StartTime\": 1604421750.94293}\n",
      "\u001b[0m\n",
      "\u001b[34m#metrics {\"Metrics\": {\"train_binary_classification_cross_entropy_objective\": {\"count\": 1, \"max\": 0.7181704443693161, \"sum\": 0.7181704443693161, \"min\": 0.7181704443693161}}, \"EndTime\": 1604421750.943004, \"Dimensions\": {\"model\": 26, \"Host\": \"algo-1\", \"Operation\": \"training\", \"Algorithm\": \"Linear Learner\", \"epoch\": 0}, \"StartTime\": 1604421750.942987}\n",
      "\u001b[0m\n",
      "\u001b[34m#metrics {\"Metrics\": {\"train_binary_classification_cross_entropy_objective\": {\"count\": 1, \"max\": 0.7103072169423104, \"sum\": 0.7103072169423104, \"min\": 0.7103072169423104}}, \"EndTime\": 1604421750.943057, \"Dimensions\": {\"model\": 27, \"Host\": \"algo-1\", \"Operation\": \"training\", \"Algorithm\": \"Linear Learner\", \"epoch\": 0}, \"StartTime\": 1604421750.943041}\n",
      "\u001b[0m\n",
      "\u001b[34m#metrics {\"Metrics\": {\"train_binary_classification_cross_entropy_objective\": {\"count\": 1, \"max\": 0.6264921077762847, \"sum\": 0.6264921077762847, \"min\": 0.6264921077762847}}, \"EndTime\": 1604421750.943108, \"Dimensions\": {\"model\": 28, \"Host\": \"algo-1\", \"Operation\": \"training\", \"Algorithm\": \"Linear Learner\", \"epoch\": 0}, \"StartTime\": 1604421750.943092}\n",
      "\u001b[0m\n",
      "\u001b[34m#metrics {\"Metrics\": {\"train_binary_classification_cross_entropy_objective\": {\"count\": 1, \"max\": 0.6293357826620922, \"sum\": 0.6293357826620922, \"min\": 0.6293357826620922}}, \"EndTime\": 1604421750.943157, \"Dimensions\": {\"model\": 29, \"Host\": \"algo-1\", \"Operation\": \"training\", \"Algorithm\": \"Linear Learner\", \"epoch\": 0}, \"StartTime\": 1604421750.943142}\n",
      "\u001b[0m\n",
      "\u001b[34m#metrics {\"Metrics\": {\"train_binary_classification_cross_entropy_objective\": {\"count\": 1, \"max\": 0.6266238722178968, \"sum\": 0.6266238722178968, \"min\": 0.6266238722178968}}, \"EndTime\": 1604421750.943218, \"Dimensions\": {\"model\": 30, \"Host\": \"algo-1\", \"Operation\": \"training\", \"Algorithm\": \"Linear Learner\", \"epoch\": 0}, \"StartTime\": 1604421750.943202}\n",
      "\u001b[0m\n",
      "\u001b[34m#metrics {\"Metrics\": {\"train_binary_classification_cross_entropy_objective\": {\"count\": 1, \"max\": 0.6300526238259044, \"sum\": 0.6300526238259044, \"min\": 0.6300526238259044}}, \"EndTime\": 1604421750.943281, \"Dimensions\": {\"model\": 31, \"Host\": \"algo-1\", \"Operation\": \"training\", \"Algorithm\": \"Linear Learner\", \"epoch\": 0}, \"StartTime\": 1604421750.943264}\n",
      "\u001b[0m\n",
      "\u001b[34m[11/03/2020 16:42:30 INFO 140649179998016] #quality_metric: host=algo-1, epoch=0, train binary_classification_cross_entropy_objective <loss>=0.617724738196\u001b[0m\n",
      "\u001b[34m[11/03/2020 16:42:30 INFO 140649179998016] #early_stopping_criteria_metric: host=algo-1, epoch=0, criteria=binary_classification_cross_entropy_objective, value=0.617724738196\u001b[0m\n",
      "\u001b[34m[11/03/2020 16:42:30 INFO 140649179998016] Epoch 0: Loss improved. Updating best model\u001b[0m\n",
      "\u001b[34m[11/03/2020 16:42:30 INFO 140649179998016] Saving model for epoch: 0\u001b[0m\n",
      "\u001b[34m[11/03/2020 16:42:30 INFO 140649179998016] Saved checkpoint to \"/tmp/tmp62UaN_/mx-mod-0000.params\"\u001b[0m\n",
      "\u001b[34m[11/03/2020 16:42:30 INFO 140649179998016] #progress_metric: host=algo-1, completed 6 % of epochs\u001b[0m\n",
      "\u001b[34m#metrics {\"Metrics\": {\"Max Batches Seen Between Resets\": {\"count\": 1, \"max\": 65, \"sum\": 65.0, \"min\": 65}, \"Number of Batches Since Last Reset\": {\"count\": 1, \"max\": 65, \"sum\": 65.0, \"min\": 65}, \"Number of Records Since Last Reset\": {\"count\": 1, \"max\": 12971, \"sum\": 12971.0, \"min\": 12971}, \"Total Batches Seen\": {\"count\": 1, \"max\": 117, \"sum\": 117.0, \"min\": 117}, \"Total Records Seen\": {\"count\": 1, \"max\": 23371, \"sum\": 23371.0, \"min\": 23371}, \"Max Records Seen Between Resets\": {\"count\": 1, \"max\": 12971, \"sum\": 12971.0, \"min\": 12971}, \"Reset Count\": {\"count\": 1, \"max\": 3, \"sum\": 3.0, \"min\": 3}}, \"EndTime\": 1604421750.954454, \"Dimensions\": {\"Host\": \"algo-1\", \"Meta\": \"training_data_iter\", \"Operation\": \"training\", \"Algorithm\": \"Linear Learner\", \"epoch\": 0}, \"StartTime\": 1604421749.043357}\n",
      "\u001b[0m\n",
      "\u001b[34m[11/03/2020 16:42:30 INFO 140649179998016] #throughput_metric: host=algo-1, train throughput=6786.76421334 records/second\u001b[0m\n",
      "\u001b[34m[2020-11-03 16:42:33.166] [tensorio] [info] epoch_stats={\"data_pipeline\": \"/opt/ml/input/data/train\", \"epoch\": 5, \"duration\": 2211, \"num_examples\": 65, \"num_bytes\": 1089564}\u001b[0m\n",
      "\u001b[34m#metrics {\"Metrics\": {\"train_binary_classification_cross_entropy_objective\": {\"count\": 1, \"max\": 0.5608220916241408, \"sum\": 0.5608220916241408, \"min\": 0.5608220916241408}}, \"EndTime\": 1604421753.166219, \"Dimensions\": {\"model\": 0, \"Host\": \"algo-1\", \"Operation\": \"training\", \"Algorithm\": \"Linear Learner\", \"epoch\": 1}, \"StartTime\": 1604421753.166114}\n",
      "\u001b[0m\n",
      "\u001b[34m#metrics {\"Metrics\": {\"train_binary_classification_cross_entropy_objective\": {\"count\": 1, \"max\": 0.5655877729319037, \"sum\": 0.5655877729319037, \"min\": 0.5655877729319037}}, \"EndTime\": 1604421753.166323, \"Dimensions\": {\"model\": 1, \"Host\": \"algo-1\", \"Operation\": \"training\", \"Algorithm\": \"Linear Learner\", \"epoch\": 1}, \"StartTime\": 1604421753.166301}\n",
      "\u001b[0m\n",
      "\u001b[34m#metrics {\"Metrics\": {\"train_binary_classification_cross_entropy_objective\": {\"count\": 1, \"max\": 0.5609137196931988, \"sum\": 0.5609137196931988, \"min\": 0.5609137196931988}}, \"EndTime\": 1604421753.166386, \"Dimensions\": {\"model\": 2, \"Host\": \"algo-1\", \"Operation\": \"training\", \"Algorithm\": \"Linear Learner\", \"epoch\": 1}, \"StartTime\": 1604421753.166369}\n",
      "\u001b[0m\n",
      "\u001b[34m#metrics {\"Metrics\": {\"train_binary_classification_cross_entropy_objective\": {\"count\": 1, \"max\": 0.5656903162179515, \"sum\": 0.5656903162179515, \"min\": 0.5656903162179515}}, \"EndTime\": 1604421753.166443, \"Dimensions\": {\"model\": 3, \"Host\": \"algo-1\", \"Operation\": \"training\", \"Algorithm\": \"Linear Learner\", \"epoch\": 1}, \"StartTime\": 1604421753.166428}\n",
      "\u001b[0m\n",
      "\u001b[34m#metrics {\"Metrics\": {\"train_binary_classification_cross_entropy_objective\": {\"count\": 1, \"max\": 3.8247356340602505, \"sum\": 3.8247356340602505, \"min\": 3.8247356340602505}}, \"EndTime\": 1604421753.166505, \"Dimensions\": {\"model\": 4, \"Host\": \"algo-1\", \"Operation\": \"training\", \"Algorithm\": \"Linear Learner\", \"epoch\": 1}, \"StartTime\": 1604421753.166488}\n",
      "\u001b[0m\n",
      "\u001b[34m#metrics {\"Metrics\": {\"train_binary_classification_cross_entropy_objective\": {\"count\": 1, \"max\": 3.9291109052186637, \"sum\": 3.9291109052186637, \"min\": 3.9291109052186637}}, \"EndTime\": 1604421753.16657, \"Dimensions\": {\"model\": 5, \"Host\": \"algo-1\", \"Operation\": \"training\", \"Algorithm\": \"Linear Learner\", \"epoch\": 1}, \"StartTime\": 1604421753.166553}\n",
      "\u001b[0m\n",
      "\u001b[34m#metrics {\"Metrics\": {\"train_binary_classification_cross_entropy_objective\": {\"count\": 1, \"max\": 3.760284824619122, \"sum\": 3.760284824619122, \"min\": 3.760284824619122}}, \"EndTime\": 1604421753.166632, \"Dimensions\": {\"model\": 6, \"Host\": \"algo-1\", \"Operation\": \"training\", \"Algorithm\": \"Linear Learner\", \"epoch\": 1}, \"StartTime\": 1604421753.166614}\n",
      "\u001b[0m\n",
      "\u001b[34m#metrics {\"Metrics\": {\"train_binary_classification_cross_entropy_objective\": {\"count\": 1, \"max\": 3.8427253617572075, \"sum\": 3.8427253617572075, \"min\": 3.8427253617572075}}, \"EndTime\": 1604421753.166705, \"Dimensions\": {\"model\": 7, \"Host\": \"algo-1\", \"Operation\": \"training\", \"Algorithm\": \"Linear Learner\", \"epoch\": 1}, \"StartTime\": 1604421753.166687}\n",
      "\u001b[0m\n",
      "\u001b[34m#metrics {\"Metrics\": {\"train_binary_classification_cross_entropy_objective\": {\"count\": 1, \"max\": 0.5609480335609988, \"sum\": 0.5609480335609988, \"min\": 0.5609480335609988}}, \"EndTime\": 1604421753.166779, \"Dimensions\": {\"model\": 8, \"Host\": \"algo-1\", \"Operation\": \"training\", \"Algorithm\": \"Linear Learner\", \"epoch\": 1}, \"StartTime\": 1604421753.166761}\n",
      "\u001b[0m\n",
      "\u001b[34m#metrics {\"Metrics\": {\"train_binary_classification_cross_entropy_objective\": {\"count\": 1, \"max\": 0.5654700134252199, \"sum\": 0.5654700134252199, \"min\": 0.5654700134252199}}, \"EndTime\": 1604421753.166859, \"Dimensions\": {\"model\": 9, \"Host\": \"algo-1\", \"Operation\": \"training\", \"Algorithm\": \"Linear Learner\", \"epoch\": 1}, \"StartTime\": 1604421753.166843}\n",
      "\u001b[0m\n",
      "\u001b[34m#metrics {\"Metrics\": {\"train_binary_classification_cross_entropy_objective\": {\"count\": 1, \"max\": 0.5609096158272586, \"sum\": 0.5609096158272586, \"min\": 0.5609096158272586}}, \"EndTime\": 1604421753.16693, \"Dimensions\": {\"model\": 10, \"Host\": \"algo-1\", \"Operation\": \"training\", \"Algorithm\": \"Linear Learner\", \"epoch\": 1}, \"StartTime\": 1604421753.166913}\n",
      "\u001b[0m\n",
      "\u001b[34m#metrics {\"Metrics\": {\"train_binary_classification_cross_entropy_objective\": {\"count\": 1, \"max\": 0.5653561606165022, \"sum\": 0.5653561606165022, \"min\": 0.5653561606165022}}, \"EndTime\": 1604421753.167001, \"Dimensions\": {\"model\": 11, \"Host\": \"algo-1\", \"Operation\": \"training\", \"Algorithm\": \"Linear Learner\", \"epoch\": 1}, \"StartTime\": 1604421753.166983}\n",
      "\u001b[0m\n",
      "\u001b[34m#metrics {\"Metrics\": {\"train_binary_classification_cross_entropy_objective\": {\"count\": 1, \"max\": 3.588542600973461, \"sum\": 3.588542600973461, \"min\": 3.588542600973461}}, \"EndTime\": 1604421753.167056, \"Dimensions\": {\"model\": 12, \"Host\": \"algo-1\", \"Operation\": \"training\", \"Algorithm\": \"Linear Learner\", \"epoch\": 1}, \"StartTime\": 1604421753.167042}\n",
      "\u001b[0m\n",
      "\u001b[34m#metrics {\"Metrics\": {\"train_binary_classification_cross_entropy_objective\": {\"count\": 1, \"max\": 3.58402217931521, \"sum\": 3.58402217931521, \"min\": 3.58402217931521}}, \"EndTime\": 1604421753.167108, \"Dimensions\": {\"model\": 13, \"Host\": \"algo-1\", \"Operation\": \"training\", \"Algorithm\": \"Linear Learner\", \"epoch\": 1}, \"StartTime\": 1604421753.167093}\n",
      "\u001b[0m\n",
      "\u001b[34m#metrics {\"Metrics\": {\"train_binary_classification_cross_entropy_objective\": {\"count\": 1, \"max\": 3.6564044545587615, \"sum\": 3.6564044545587615, \"min\": 3.6564044545587615}}, \"EndTime\": 1604421753.167161, \"Dimensions\": {\"model\": 14, \"Host\": \"algo-1\", \"Operation\": \"training\", \"Algorithm\": \"Linear Learner\", \"epoch\": 1}, \"StartTime\": 1604421753.167146}\n",
      "\u001b[0m\n",
      "\u001b[34m#metrics {\"Metrics\": {\"train_binary_classification_cross_entropy_objective\": {\"count\": 1, \"max\": 3.89266834777211, \"sum\": 3.89266834777211, \"min\": 3.89266834777211}}, \"EndTime\": 1604421753.167217, \"Dimensions\": {\"model\": 15, \"Host\": \"algo-1\", \"Operation\": \"training\", \"Algorithm\": \"Linear Learner\", \"epoch\": 1}, \"StartTime\": 1604421753.167201}\n",
      "\u001b[0m\n",
      "\u001b[34m#metrics {\"Metrics\": {\"train_binary_classification_cross_entropy_objective\": {\"count\": 1, \"max\": 0.5608556135930121, \"sum\": 0.5608556135930121, \"min\": 0.5608556135930121}}, \"EndTime\": 1604421753.167273, \"Dimensions\": {\"model\": 16, \"Host\": \"algo-1\", \"Operation\": \"training\", \"Algorithm\": \"Linear Learner\", \"epoch\": 1}, \"StartTime\": 1604421753.167257}\n",
      "\u001b[0m\n",
      "\u001b[34m#metrics {\"Metrics\": {\"train_binary_classification_cross_entropy_objective\": {\"count\": 1, \"max\": 0.5650554835423827, \"sum\": 0.5650554835423827, \"min\": 0.5650554835423827}}, \"EndTime\": 1604421753.167327, \"Dimensions\": {\"model\": 17, \"Host\": \"algo-1\", \"Operation\": \"training\", \"Algorithm\": \"Linear Learner\", \"epoch\": 1}, \"StartTime\": 1604421753.167312}\n",
      "\u001b[0m\n",
      "\u001b[34m#metrics {\"Metrics\": {\"train_binary_classification_cross_entropy_objective\": {\"count\": 1, \"max\": 0.5601446841470897, \"sum\": 0.5601446841470897, \"min\": 0.5601446841470897}}, \"EndTime\": 1604421753.167389, \"Dimensions\": {\"model\": 18, \"Host\": \"algo-1\", \"Operation\": \"training\", \"Algorithm\": \"Linear Learner\", \"epoch\": 1}, \"StartTime\": 1604421753.167372}\n",
      "\u001b[0m\n",
      "\u001b[34m#metrics {\"Metrics\": {\"train_binary_classification_cross_entropy_objective\": {\"count\": 1, \"max\": 0.5649504564329981, \"sum\": 0.5649504564329981, \"min\": 0.5649504564329981}}, \"EndTime\": 1604421753.167446, \"Dimensions\": {\"model\": 19, \"Host\": \"algo-1\", \"Operation\": \"training\", \"Algorithm\": \"Linear Learner\", \"epoch\": 1}, \"StartTime\": 1604421753.16743}\n",
      "\u001b[0m\n",
      "\u001b[34m#metrics {\"Metrics\": {\"train_binary_classification_cross_entropy_objective\": {\"count\": 1, \"max\": 2.5976191203967653, \"sum\": 2.5976191203967653, \"min\": 2.5976191203967653}}, \"EndTime\": 1604421753.167506, \"Dimensions\": {\"model\": 20, \"Host\": \"algo-1\", \"Operation\": \"training\", \"Algorithm\": \"Linear Learner\", \"epoch\": 1}, \"StartTime\": 1604421753.167489}\n",
      "\u001b[0m\n",
      "\u001b[34m#metrics {\"Metrics\": {\"train_binary_classification_cross_entropy_objective\": {\"count\": 1, \"max\": 2.6905416956655674, \"sum\": 2.6905416956655674, \"min\": 2.6905416956655674}}, \"EndTime\": 1604421753.167567, \"Dimensions\": {\"model\": 21, \"Host\": \"algo-1\", \"Operation\": \"training\", \"Algorithm\": \"Linear Learner\", \"epoch\": 1}, \"StartTime\": 1604421753.167549}\n",
      "\u001b[0m\n",
      "\u001b[34m#metrics {\"Metrics\": {\"train_binary_classification_cross_entropy_objective\": {\"count\": 1, \"max\": 2.591754220164351, \"sum\": 2.591754220164351, \"min\": 2.591754220164351}}, \"EndTime\": 1604421753.167623, \"Dimensions\": {\"model\": 22, \"Host\": \"algo-1\", \"Operation\": \"training\", \"Algorithm\": \"Linear Learner\", \"epoch\": 1}, \"StartTime\": 1604421753.167607}\n",
      "\u001b[0m\n",
      "\u001b[34m#metrics {\"Metrics\": {\"train_binary_classification_cross_entropy_objective\": {\"count\": 1, \"max\": 2.6967031158264674, \"sum\": 2.6967031158264674, \"min\": 2.6967031158264674}}, \"EndTime\": 1604421753.167682, \"Dimensions\": {\"model\": 23, \"Host\": \"algo-1\", \"Operation\": \"training\", \"Algorithm\": \"Linear Learner\", \"epoch\": 1}, \"StartTime\": 1604421753.167665}\n",
      "\u001b[0m\n",
      "\u001b[34m#metrics {\"Metrics\": {\"train_binary_classification_cross_entropy_objective\": {\"count\": 1, \"max\": 0.6764034390449524, \"sum\": 0.6764034390449524, \"min\": 0.6764034390449524}}, \"EndTime\": 1604421753.16774, \"Dimensions\": {\"model\": 24, \"Host\": \"algo-1\", \"Operation\": \"training\", \"Algorithm\": \"Linear Learner\", \"epoch\": 1}, \"StartTime\": 1604421753.167724}\n",
      "\u001b[0m\n",
      "\u001b[34m#metrics {\"Metrics\": {\"train_binary_classification_cross_entropy_objective\": {\"count\": 1, \"max\": 0.6779676192998886, \"sum\": 0.6779676192998886, \"min\": 0.6779676192998886}}, \"EndTime\": 1604421753.167804, \"Dimensions\": {\"model\": 25, \"Host\": \"algo-1\", \"Operation\": \"training\", \"Algorithm\": \"Linear Learner\", \"epoch\": 1}, \"StartTime\": 1604421753.167786}\n",
      "\u001b[0m\n",
      "\u001b[34m#metrics {\"Metrics\": {\"train_binary_classification_cross_entropy_objective\": {\"count\": 1, \"max\": 0.6796962630748749, \"sum\": 0.6796962630748749, \"min\": 0.6796962630748749}}, \"EndTime\": 1604421753.167865, \"Dimensions\": {\"model\": 26, \"Host\": \"algo-1\", \"Operation\": \"training\", \"Algorithm\": \"Linear Learner\", \"epoch\": 1}, \"StartTime\": 1604421753.167848}\n",
      "\u001b[0m\n",
      "\u001b[34m#metrics {\"Metrics\": {\"train_binary_classification_cross_entropy_objective\": {\"count\": 1, \"max\": 0.678203717470169, \"sum\": 0.678203717470169, \"min\": 0.678203717470169}}, \"EndTime\": 1604421753.167935, \"Dimensions\": {\"model\": 27, \"Host\": \"algo-1\", \"Operation\": \"training\", \"Algorithm\": \"Linear Learner\", \"epoch\": 1}, \"StartTime\": 1604421753.167917}\n",
      "\u001b[0m\n",
      "\u001b[34m#metrics {\"Metrics\": {\"train_binary_classification_cross_entropy_objective\": {\"count\": 1, \"max\": 1.8553880804547225, \"sum\": 1.8553880804547225, \"min\": 1.8553880804547225}}, \"EndTime\": 1604421753.168002, \"Dimensions\": {\"model\": 28, \"Host\": \"algo-1\", \"Operation\": \"training\", \"Algorithm\": \"Linear Learner\", \"epoch\": 1}, \"StartTime\": 1604421753.167984}\n",
      "\u001b[0m\n",
      "\u001b[34m#metrics {\"Metrics\": {\"train_binary_classification_cross_entropy_objective\": {\"count\": 1, \"max\": 1.8927820842093206, \"sum\": 1.8927820842093206, \"min\": 1.8927820842093206}}, \"EndTime\": 1604421753.168063, \"Dimensions\": {\"model\": 29, \"Host\": \"algo-1\", \"Operation\": \"training\", \"Algorithm\": \"Linear Learner\", \"epoch\": 1}, \"StartTime\": 1604421753.168046}\n",
      "\u001b[0m\n",
      "\u001b[34m#metrics {\"Metrics\": {\"train_binary_classification_cross_entropy_objective\": {\"count\": 1, \"max\": 1.8541850718435307, \"sum\": 1.8541850718435307, \"min\": 1.8541850718435307}}, \"EndTime\": 1604421753.168133, \"Dimensions\": {\"model\": 30, \"Host\": \"algo-1\", \"Operation\": \"training\", \"Algorithm\": \"Linear Learner\", \"epoch\": 1}, \"StartTime\": 1604421753.168114}\n",
      "\u001b[0m\n",
      "\u001b[34m#metrics {\"Metrics\": {\"train_binary_classification_cross_entropy_objective\": {\"count\": 1, \"max\": 1.893975014838652, \"sum\": 1.893975014838652, \"min\": 1.893975014838652}}, \"EndTime\": 1604421753.168205, \"Dimensions\": {\"model\": 31, \"Host\": \"algo-1\", \"Operation\": \"training\", \"Algorithm\": \"Linear Learner\", \"epoch\": 1}, \"StartTime\": 1604421753.168186}\n",
      "\u001b[0m\n",
      "\u001b[34m[11/03/2020 16:42:33 INFO 140649179998016] #quality_metric: host=algo-1, epoch=1, train binary_classification_cross_entropy_objective <loss>=0.560822091624\u001b[0m\n",
      "\u001b[34m[11/03/2020 16:42:33 INFO 140649179998016] #early_stopping_criteria_metric: host=algo-1, epoch=1, criteria=binary_classification_cross_entropy_objective, value=0.560144684147\u001b[0m\n",
      "\u001b[34m[11/03/2020 16:42:33 INFO 140649179998016] Epoch 1: Loss improved. Updating best model\u001b[0m\n",
      "\u001b[34m[11/03/2020 16:42:33 INFO 140649179998016] Saving model for epoch: 1\u001b[0m\n",
      "\u001b[34m[11/03/2020 16:42:33 INFO 140649179998016] Saved checkpoint to \"/tmp/tmp2lCK0x/mx-mod-0000.params\"\u001b[0m\n",
      "\u001b[34m[11/03/2020 16:42:33 INFO 140649179998016] #progress_metric: host=algo-1, completed 13 % of epochs\u001b[0m\n",
      "\u001b[34m#metrics {\"Metrics\": {\"Max Batches Seen Between Resets\": {\"count\": 1, \"max\": 65, \"sum\": 65.0, \"min\": 65}, \"Number of Batches Since Last Reset\": {\"count\": 1, \"max\": 65, \"sum\": 65.0, \"min\": 65}, \"Number of Records Since Last Reset\": {\"count\": 1, \"max\": 12971, \"sum\": 12971.0, \"min\": 12971}, \"Total Batches Seen\": {\"count\": 1, \"max\": 182, \"sum\": 182.0, \"min\": 182}, \"Total Records Seen\": {\"count\": 1, \"max\": 36342, \"sum\": 36342.0, \"min\": 36342}, \"Max Records Seen Between Resets\": {\"count\": 1, \"max\": 12971, \"sum\": 12971.0, \"min\": 12971}, \"Reset Count\": {\"count\": 1, \"max\": 4, \"sum\": 4.0, \"min\": 4}}, \"EndTime\": 1604421753.176772, \"Dimensions\": {\"Host\": \"algo-1\", \"Meta\": \"training_data_iter\", \"Operation\": \"training\", \"Algorithm\": \"Linear Learner\", \"epoch\": 1}, \"StartTime\": 1604421750.954722}\n",
      "\u001b[0m\n",
      "\u001b[34m[11/03/2020 16:42:33 INFO 140649179998016] #throughput_metric: host=algo-1, train throughput=5837.06870908 records/second\u001b[0m\n",
      "\u001b[34m[2020-11-03 16:42:35.060] [tensorio] [info] epoch_stats={\"data_pipeline\": \"/opt/ml/input/data/train\", \"epoch\": 7, \"duration\": 1883, \"num_examples\": 65, \"num_bytes\": 1089564}\u001b[0m\n",
      "\u001b[34m#metrics {\"Metrics\": {\"train_binary_classification_cross_entropy_objective\": {\"count\": 1, \"max\": 0.556975443023257, \"sum\": 0.556975443023257, \"min\": 0.556975443023257}}, \"EndTime\": 1604421755.060423, \"Dimensions\": {\"model\": 0, \"Host\": \"algo-1\", \"Operation\": \"training\", \"Algorithm\": \"Linear Learner\", \"epoch\": 2}, \"StartTime\": 1604421755.060326}\n",
      "\u001b[0m\n",
      "\u001b[34m#metrics {\"Metrics\": {\"train_binary_classification_cross_entropy_objective\": {\"count\": 1, \"max\": 0.5613744385819882, \"sum\": 0.5613744385819882, \"min\": 0.5613744385819882}}, \"EndTime\": 1604421755.060535, \"Dimensions\": {\"model\": 1, \"Host\": \"algo-1\", \"Operation\": \"training\", \"Algorithm\": \"Linear Learner\", \"epoch\": 2}, \"StartTime\": 1604421755.060513}\n",
      "\u001b[0m\n",
      "\u001b[34m#metrics {\"Metrics\": {\"train_binary_classification_cross_entropy_objective\": {\"count\": 1, \"max\": 0.5568293917924165, \"sum\": 0.5568293917924165, \"min\": 0.5568293917924165}}, \"EndTime\": 1604421755.060613, \"Dimensions\": {\"model\": 2, \"Host\": \"algo-1\", \"Operation\": \"training\", \"Algorithm\": \"Linear Learner\", \"epoch\": 2}, \"StartTime\": 1604421755.060595}\n",
      "\u001b[0m\n",
      "\u001b[34m#metrics {\"Metrics\": {\"train_binary_classification_cross_entropy_objective\": {\"count\": 1, \"max\": 0.5611458527576179, \"sum\": 0.5611458527576179, \"min\": 0.5611458527576179}}, \"EndTime\": 1604421755.060673, \"Dimensions\": {\"model\": 3, \"Host\": \"algo-1\", \"Operation\": \"training\", \"Algorithm\": \"Linear Learner\", \"epoch\": 2}, \"StartTime\": 1604421755.060658}\n",
      "\u001b[0m\n",
      "\u001b[34m#metrics {\"Metrics\": {\"train_binary_classification_cross_entropy_objective\": {\"count\": 1, \"max\": 0.6589041988850266, \"sum\": 0.6589041988850266, \"min\": 0.6589041988850266}}, \"EndTime\": 1604421755.060732, \"Dimensions\": {\"model\": 4, \"Host\": \"algo-1\", \"Operation\": \"training\", \"Algorithm\": \"Linear Learner\", \"epoch\": 2}, \"StartTime\": 1604421755.060715}\n",
      "\u001b[0m\n",
      "\u001b[34m#metrics {\"Metrics\": {\"train_binary_classification_cross_entropy_objective\": {\"count\": 1, \"max\": 0.7043751725740193, \"sum\": 0.7043751725740193, \"min\": 0.7043751725740193}}, \"EndTime\": 1604421755.060798, \"Dimensions\": {\"model\": 5, \"Host\": \"algo-1\", \"Operation\": \"training\", \"Algorithm\": \"Linear Learner\", \"epoch\": 2}, \"StartTime\": 1604421755.060782}\n",
      "\u001b[0m\n",
      "\u001b[34m#metrics {\"Metrics\": {\"train_binary_classification_cross_entropy_objective\": {\"count\": 1, \"max\": 0.6805282938780383, \"sum\": 0.6805282938780383, \"min\": 0.6805282938780383}}, \"EndTime\": 1604421755.060869, \"Dimensions\": {\"model\": 6, \"Host\": \"algo-1\", \"Operation\": \"training\", \"Algorithm\": \"Linear Learner\", \"epoch\": 2}, \"StartTime\": 1604421755.060851}\n",
      "\u001b[0m\n",
      "\u001b[34m#metrics {\"Metrics\": {\"train_binary_classification_cross_entropy_objective\": {\"count\": 1, \"max\": 0.7390272401123732, \"sum\": 0.7390272401123732, \"min\": 0.7390272401123732}}, \"EndTime\": 1604421755.060939, \"Dimensions\": {\"model\": 7, \"Host\": \"algo-1\", \"Operation\": \"training\", \"Algorithm\": \"Linear Learner\", \"epoch\": 2}, \"StartTime\": 1604421755.06092}\n",
      "\u001b[0m\n",
      "\u001b[34m#metrics {\"Metrics\": {\"train_binary_classification_cross_entropy_objective\": {\"count\": 1, \"max\": 0.5564670607168227, \"sum\": 0.5564670607168227, \"min\": 0.5564670607168227}}, \"EndTime\": 1604421755.061012, \"Dimensions\": {\"model\": 8, \"Host\": \"algo-1\", \"Operation\": \"training\", \"Algorithm\": \"Linear Learner\", \"epoch\": 2}, \"StartTime\": 1604421755.060994}\n",
      "\u001b[0m\n",
      "\u001b[34m#metrics {\"Metrics\": {\"train_binary_classification_cross_entropy_objective\": {\"count\": 1, \"max\": 0.5614387002494187, \"sum\": 0.5614387002494187, \"min\": 0.5614387002494187}}, \"EndTime\": 1604421755.061082, \"Dimensions\": {\"model\": 9, \"Host\": \"algo-1\", \"Operation\": \"training\", \"Algorithm\": \"Linear Learner\", \"epoch\": 2}, \"StartTime\": 1604421755.061064}\n",
      "\u001b[0m\n",
      "\u001b[34m#metrics {\"Metrics\": {\"train_binary_classification_cross_entropy_objective\": {\"count\": 1, \"max\": 0.5565550527069718, \"sum\": 0.5565550527069718, \"min\": 0.5565550527069718}}, \"EndTime\": 1604421755.061152, \"Dimensions\": {\"model\": 10, \"Host\": \"algo-1\", \"Operation\": \"training\", \"Algorithm\": \"Linear Learner\", \"epoch\": 2}, \"StartTime\": 1604421755.061135}\n",
      "\u001b[0m\n",
      "\u001b[34m#metrics {\"Metrics\": {\"train_binary_classification_cross_entropy_objective\": {\"count\": 1, \"max\": 0.5616166169941426, \"sum\": 0.5616166169941426, \"min\": 0.5616166169941426}}, \"EndTime\": 1604421755.061219, \"Dimensions\": {\"model\": 11, \"Host\": \"algo-1\", \"Operation\": \"training\", \"Algorithm\": \"Linear Learner\", \"epoch\": 2}, \"StartTime\": 1604421755.061203}\n",
      "\u001b[0m\n",
      "\u001b[34m#metrics {\"Metrics\": {\"train_binary_classification_cross_entropy_objective\": {\"count\": 1, \"max\": 0.7501391007951458, \"sum\": 0.7501391007951458, \"min\": 0.7501391007951458}}, \"EndTime\": 1604421755.061287, \"Dimensions\": {\"model\": 12, \"Host\": \"algo-1\", \"Operation\": \"training\", \"Algorithm\": \"Linear Learner\", \"epoch\": 2}, \"StartTime\": 1604421755.06127}\n",
      "\u001b[0m\n",
      "\u001b[34m#metrics {\"Metrics\": {\"train_binary_classification_cross_entropy_objective\": {\"count\": 1, \"max\": 0.8681572172915665, \"sum\": 0.8681572172915665, \"min\": 0.8681572172915665}}, \"EndTime\": 1604421755.061356, \"Dimensions\": {\"model\": 13, \"Host\": \"algo-1\", \"Operation\": \"training\", \"Algorithm\": \"Linear Learner\", \"epoch\": 2}, \"StartTime\": 1604421755.061339}\n",
      "\u001b[0m\n",
      "\u001b[34m#metrics {\"Metrics\": {\"train_binary_classification_cross_entropy_objective\": {\"count\": 1, \"max\": 0.7227450827760071, \"sum\": 0.7227450827760071, \"min\": 0.7227450827760071}}, \"EndTime\": 1604421755.061418, \"Dimensions\": {\"model\": 14, \"Host\": \"algo-1\", \"Operation\": \"training\", \"Algorithm\": \"Linear Learner\", \"epoch\": 2}, \"StartTime\": 1604421755.061402}\n",
      "\u001b[0m\n",
      "\u001b[34m#metrics {\"Metrics\": {\"train_binary_classification_cross_entropy_objective\": {\"count\": 1, \"max\": 0.7180676136122819, \"sum\": 0.7180676136122819, \"min\": 0.7180676136122819}}, \"EndTime\": 1604421755.061488, \"Dimensions\": {\"model\": 15, \"Host\": \"algo-1\", \"Operation\": \"training\", \"Algorithm\": \"Linear Learner\", \"epoch\": 2}, \"StartTime\": 1604421755.06147}\n",
      "\u001b[0m\n",
      "\u001b[34m#metrics {\"Metrics\": {\"train_binary_classification_cross_entropy_objective\": {\"count\": 1, \"max\": 0.5640014472231268, \"sum\": 0.5640014472231268, \"min\": 0.5640014472231268}}, \"EndTime\": 1604421755.06158, \"Dimensions\": {\"model\": 16, \"Host\": \"algo-1\", \"Operation\": \"training\", \"Algorithm\": \"Linear Learner\", \"epoch\": 2}, \"StartTime\": 1604421755.06154}\n",
      "\u001b[0m\n",
      "\u001b[34m#metrics {\"Metrics\": {\"train_binary_classification_cross_entropy_objective\": {\"count\": 1, \"max\": 0.5694211825355887, \"sum\": 0.5694211825355887, \"min\": 0.5694211825355887}}, \"EndTime\": 1604421755.061643, \"Dimensions\": {\"model\": 17, \"Host\": \"algo-1\", \"Operation\": \"training\", \"Algorithm\": \"Linear Learner\", \"epoch\": 2}, \"StartTime\": 1604421755.061626}\n",
      "\u001b[0m\n",
      "\u001b[34m#metrics {\"Metrics\": {\"train_binary_classification_cross_entropy_objective\": {\"count\": 1, \"max\": 0.5637614091858267, \"sum\": 0.5637614091858267, \"min\": 0.5637614091858267}}, \"EndTime\": 1604421755.061705, \"Dimensions\": {\"model\": 18, \"Host\": \"algo-1\", \"Operation\": \"training\", \"Algorithm\": \"Linear Learner\", \"epoch\": 2}, \"StartTime\": 1604421755.061689}\n",
      "\u001b[0m\n",
      "\u001b[34m#metrics {\"Metrics\": {\"train_binary_classification_cross_entropy_objective\": {\"count\": 1, \"max\": 0.5693897575885057, \"sum\": 0.5693897575885057, \"min\": 0.5693897575885057}}, \"EndTime\": 1604421755.061767, \"Dimensions\": {\"model\": 19, \"Host\": \"algo-1\", \"Operation\": \"training\", \"Algorithm\": \"Linear Learner\", \"epoch\": 2}, \"StartTime\": 1604421755.061749}\n",
      "\u001b[0m\n",
      "\u001b[34m#metrics {\"Metrics\": {\"train_binary_classification_cross_entropy_objective\": {\"count\": 1, \"max\": 1.9406557287097577, \"sum\": 1.9406557287097577, \"min\": 1.9406557287097577}}, \"EndTime\": 1604421755.06182, \"Dimensions\": {\"model\": 20, \"Host\": \"algo-1\", \"Operation\": \"training\", \"Algorithm\": \"Linear Learner\", \"epoch\": 2}, \"StartTime\": 1604421755.061809}\n",
      "\u001b[0m\n",
      "\u001b[34m#metrics {\"Metrics\": {\"train_binary_classification_cross_entropy_objective\": {\"count\": 1, \"max\": 2.2305687186083794, \"sum\": 2.2305687186083794, \"min\": 2.2305687186083794}}, \"EndTime\": 1604421755.061851, \"Dimensions\": {\"model\": 21, \"Host\": \"algo-1\", \"Operation\": \"training\", \"Algorithm\": \"Linear Learner\", \"epoch\": 2}, \"StartTime\": 1604421755.061844}\n",
      "\u001b[0m\n",
      "\u001b[34m#metrics {\"Metrics\": {\"train_binary_classification_cross_entropy_objective\": {\"count\": 1, \"max\": 1.9513852007886043, \"sum\": 1.9513852007886043, \"min\": 1.9513852007886043}}, \"EndTime\": 1604421755.061879, \"Dimensions\": {\"model\": 22, \"Host\": \"algo-1\", \"Operation\": \"training\", \"Algorithm\": \"Linear Learner\", \"epoch\": 2}, \"StartTime\": 1604421755.061872}\n",
      "\u001b[0m\n",
      "\u001b[34m#metrics {\"Metrics\": {\"train_binary_classification_cross_entropy_objective\": {\"count\": 1, \"max\": 2.214092210225036, \"sum\": 2.214092210225036, \"min\": 2.214092210225036}}, \"EndTime\": 1604421755.061906, \"Dimensions\": {\"model\": 23, \"Host\": \"algo-1\", \"Operation\": \"training\", \"Algorithm\": \"Linear Learner\", \"epoch\": 2}, \"StartTime\": 1604421755.061899}\n",
      "\u001b[0m\n",
      "\u001b[34m#metrics {\"Metrics\": {\"train_binary_classification_cross_entropy_objective\": {\"count\": 1, \"max\": 0.6943660020828247, \"sum\": 0.6943660020828247, \"min\": 0.6943660020828247}}, \"EndTime\": 1604421755.061961, \"Dimensions\": {\"model\": 24, \"Host\": \"algo-1\", \"Operation\": \"training\", \"Algorithm\": \"Linear Learner\", \"epoch\": 2}, \"StartTime\": 1604421755.061945}\n",
      "\u001b[0m\n",
      "\u001b[34m#metrics {\"Metrics\": {\"train_binary_classification_cross_entropy_objective\": {\"count\": 1, \"max\": 0.696959200501442, \"sum\": 0.696959200501442, \"min\": 0.696959200501442}}, \"EndTime\": 1604421755.062027, \"Dimensions\": {\"model\": 25, \"Host\": \"algo-1\", \"Operation\": \"training\", \"Algorithm\": \"Linear Learner\", \"epoch\": 2}, \"StartTime\": 1604421755.062011}\n",
      "\u001b[0m\n",
      "\u001b[34m#metrics {\"Metrics\": {\"train_binary_classification_cross_entropy_objective\": {\"count\": 1, \"max\": 0.6958561593294144, \"sum\": 0.6958561593294144, \"min\": 0.6958561593294144}}, \"EndTime\": 1604421755.062085, \"Dimensions\": {\"model\": 26, \"Host\": \"algo-1\", \"Operation\": \"training\", \"Algorithm\": \"Linear Learner\", \"epoch\": 2}, \"StartTime\": 1604421755.062069}\n",
      "\u001b[0m\n",
      "\u001b[34m#metrics {\"Metrics\": {\"train_binary_classification_cross_entropy_objective\": {\"count\": 1, \"max\": 0.6971556913852691, \"sum\": 0.6971556913852691, \"min\": 0.6971556913852691}}, \"EndTime\": 1604421755.062142, \"Dimensions\": {\"model\": 27, \"Host\": \"algo-1\", \"Operation\": \"training\", \"Algorithm\": \"Linear Learner\", \"epoch\": 2}, \"StartTime\": 1604421755.062125}\n",
      "\u001b[0m\n",
      "\u001b[34m#metrics {\"Metrics\": {\"train_binary_classification_cross_entropy_objective\": {\"count\": 1, \"max\": 2.110159819550463, \"sum\": 2.110159819550463, \"min\": 2.110159819550463}}, \"EndTime\": 1604421755.062198, \"Dimensions\": {\"model\": 28, \"Host\": \"algo-1\", \"Operation\": \"training\", \"Algorithm\": \"Linear Learner\", \"epoch\": 2}, \"StartTime\": 1604421755.062182}\n",
      "\u001b[0m\n",
      "\u001b[34m#metrics {\"Metrics\": {\"train_binary_classification_cross_entropy_objective\": {\"count\": 1, \"max\": 2.299789111819118, \"sum\": 2.299789111819118, \"min\": 2.299789111819118}}, \"EndTime\": 1604421755.062265, \"Dimensions\": {\"model\": 29, \"Host\": \"algo-1\", \"Operation\": \"training\", \"Algorithm\": \"Linear Learner\", \"epoch\": 2}, \"StartTime\": 1604421755.062247}\n",
      "\u001b[0m\n",
      "\u001b[34m#metrics {\"Metrics\": {\"train_binary_classification_cross_entropy_objective\": {\"count\": 1, \"max\": 2.1091437391377985, \"sum\": 2.1091437391377985, \"min\": 2.1091437391377985}}, \"EndTime\": 1604421755.062331, \"Dimensions\": {\"model\": 30, \"Host\": \"algo-1\", \"Operation\": \"training\", \"Algorithm\": \"Linear Learner\", \"epoch\": 2}, \"StartTime\": 1604421755.062313}\n",
      "\u001b[0m\n",
      "\u001b[34m#metrics {\"Metrics\": {\"train_binary_classification_cross_entropy_objective\": {\"count\": 1, \"max\": 2.296709681003122, \"sum\": 2.296709681003122, \"min\": 2.296709681003122}}, \"EndTime\": 1604421755.062393, \"Dimensions\": {\"model\": 31, \"Host\": \"algo-1\", \"Operation\": \"training\", \"Algorithm\": \"Linear Learner\", \"epoch\": 2}, \"StartTime\": 1604421755.062375}\n",
      "\u001b[0m\n",
      "\u001b[34m[11/03/2020 16:42:35 INFO 140649179998016] #quality_metric: host=algo-1, epoch=2, train binary_classification_cross_entropy_objective <loss>=0.556975443023\u001b[0m\n",
      "\u001b[34m[11/03/2020 16:42:35 INFO 140649179998016] #early_stopping_criteria_metric: host=algo-1, epoch=2, criteria=binary_classification_cross_entropy_objective, value=0.556467060717\u001b[0m\n",
      "\u001b[34m[11/03/2020 16:42:35 INFO 140649179998016] Epoch 2: Loss improved. Updating best model\u001b[0m\n",
      "\u001b[34m[11/03/2020 16:42:35 INFO 140649179998016] Saving model for epoch: 2\u001b[0m\n",
      "\u001b[34m[11/03/2020 16:42:35 INFO 140649179998016] Saved checkpoint to \"/tmp/tmpmxoB6c/mx-mod-0000.params\"\u001b[0m\n",
      "\u001b[34m[11/03/2020 16:42:35 INFO 140649179998016] #progress_metric: host=algo-1, completed 20 % of epochs\u001b[0m\n",
      "\u001b[34m#metrics {\"Metrics\": {\"Max Batches Seen Between Resets\": {\"count\": 1, \"max\": 65, \"sum\": 65.0, \"min\": 65}, \"Number of Batches Since Last Reset\": {\"count\": 1, \"max\": 65, \"sum\": 65.0, \"min\": 65}, \"Number of Records Since Last Reset\": {\"count\": 1, \"max\": 12971, \"sum\": 12971.0, \"min\": 12971}, \"Total Batches Seen\": {\"count\": 1, \"max\": 247, \"sum\": 247.0, \"min\": 247}, \"Total Records Seen\": {\"count\": 1, \"max\": 49313, \"sum\": 49313.0, \"min\": 49313}, \"Max Records Seen Between Resets\": {\"count\": 1, \"max\": 12971, \"sum\": 12971.0, \"min\": 12971}, \"Reset Count\": {\"count\": 1, \"max\": 5, \"sum\": 5.0, \"min\": 5}}, \"EndTime\": 1604421755.069091, \"Dimensions\": {\"Host\": \"algo-1\", \"Meta\": \"training_data_iter\", \"Operation\": \"training\", \"Algorithm\": \"Linear Learner\", \"epoch\": 2}, \"StartTime\": 1604421753.177051}\n",
      "\u001b[0m\n",
      "\u001b[34m[11/03/2020 16:42:35 INFO 140649179998016] #throughput_metric: host=algo-1, train throughput=6855.10974916 records/second\u001b[0m\n",
      "\n",
      "2020-11-03 16:42:24 Training - Training image download completed. Training in progress.\u001b[34m[2020-11-03 16:42:36.878] [tensorio] [info] epoch_stats={\"data_pipeline\": \"/opt/ml/input/data/train\", \"epoch\": 9, \"duration\": 1809, \"num_examples\": 65, \"num_bytes\": 1089564}\u001b[0m\n",
      "\u001b[34m#metrics {\"Metrics\": {\"train_binary_classification_cross_entropy_objective\": {\"count\": 1, \"max\": 0.5551570676406845, \"sum\": 0.5551570676406845, \"min\": 0.5551570676406845}}, \"EndTime\": 1604421756.878768, \"Dimensions\": {\"model\": 0, \"Host\": \"algo-1\", \"Operation\": \"training\", \"Algorithm\": \"Linear Learner\", \"epoch\": 3}, \"StartTime\": 1604421756.878669}\n",
      "\u001b[0m\n",
      "\u001b[34m#metrics {\"Metrics\": {\"train_binary_classification_cross_entropy_objective\": {\"count\": 1, \"max\": 0.562415537154302, \"sum\": 0.562415537154302, \"min\": 0.562415537154302}}, \"EndTime\": 1604421756.878855, \"Dimensions\": {\"model\": 1, \"Host\": \"algo-1\", \"Operation\": \"training\", \"Algorithm\": \"Linear Learner\", \"epoch\": 3}, \"StartTime\": 1604421756.878835}\n",
      "\u001b[0m\n",
      "\u001b[34m#metrics {\"Metrics\": {\"train_binary_classification_cross_entropy_objective\": {\"count\": 1, \"max\": 0.5548836570279673, \"sum\": 0.5548836570279673, \"min\": 0.5548836570279673}}, \"EndTime\": 1604421756.87892, \"Dimensions\": {\"model\": 2, \"Host\": \"algo-1\", \"Operation\": \"training\", \"Algorithm\": \"Linear Learner\", \"epoch\": 3}, \"StartTime\": 1604421756.878902}\n",
      "\u001b[0m\n",
      "\u001b[34m#metrics {\"Metrics\": {\"train_binary_classification_cross_entropy_objective\": {\"count\": 1, \"max\": 0.5619662309112027, \"sum\": 0.5619662309112027, \"min\": 0.5619662309112027}}, \"EndTime\": 1604421756.878984, \"Dimensions\": {\"model\": 3, \"Host\": \"algo-1\", \"Operation\": \"training\", \"Algorithm\": \"Linear Learner\", \"epoch\": 3}, \"StartTime\": 1604421756.878966}\n",
      "\u001b[0m\n",
      "\u001b[34m#metrics {\"Metrics\": {\"train_binary_classification_cross_entropy_objective\": {\"count\": 1, \"max\": 2.0039061376280056, \"sum\": 2.0039061376280056, \"min\": 2.0039061376280056}}, \"EndTime\": 1604421756.879046, \"Dimensions\": {\"model\": 4, \"Host\": \"algo-1\", \"Operation\": \"training\", \"Algorithm\": \"Linear Learner\", \"epoch\": 3}, \"StartTime\": 1604421756.879029}\n",
      "\u001b[0m\n",
      "\u001b[34m#metrics {\"Metrics\": {\"train_binary_classification_cross_entropy_objective\": {\"count\": 1, \"max\": 2.2918429077548126, \"sum\": 2.2918429077548126, \"min\": 2.2918429077548126}}, \"EndTime\": 1604421756.87911, \"Dimensions\": {\"model\": 5, \"Host\": \"algo-1\", \"Operation\": \"training\", \"Algorithm\": \"Linear Learner\", \"epoch\": 3}, \"StartTime\": 1604421756.879092}\n",
      "\u001b[0m\n",
      "\u001b[34m#metrics {\"Metrics\": {\"train_binary_classification_cross_entropy_objective\": {\"count\": 1, \"max\": 2.0450146659002324, \"sum\": 2.0450146659002324, \"min\": 2.0450146659002324}}, \"EndTime\": 1604421756.879173, \"Dimensions\": {\"model\": 6, \"Host\": \"algo-1\", \"Operation\": \"training\", \"Algorithm\": \"Linear Learner\", \"epoch\": 3}, \"StartTime\": 1604421756.879155}\n",
      "\u001b[0m\n",
      "\u001b[34m#metrics {\"Metrics\": {\"train_binary_classification_cross_entropy_objective\": {\"count\": 1, \"max\": 2.346669840084162, \"sum\": 2.346669840084162, \"min\": 2.346669840084162}}, \"EndTime\": 1604421756.879235, \"Dimensions\": {\"model\": 7, \"Host\": \"algo-1\", \"Operation\": \"training\", \"Algorithm\": \"Linear Learner\", \"epoch\": 3}, \"StartTime\": 1604421756.879218}\n",
      "\u001b[0m\n",
      "\u001b[34m#metrics {\"Metrics\": {\"train_binary_classification_cross_entropy_objective\": {\"count\": 1, \"max\": 0.5542216901574284, \"sum\": 0.5542216901574284, \"min\": 0.5542216901574284}}, \"EndTime\": 1604421756.879295, \"Dimensions\": {\"model\": 8, \"Host\": \"algo-1\", \"Operation\": \"training\", \"Algorithm\": \"Linear Learner\", \"epoch\": 3}, \"StartTime\": 1604421756.879279}\n",
      "\u001b[0m\n",
      "\u001b[34m#metrics {\"Metrics\": {\"train_binary_classification_cross_entropy_objective\": {\"count\": 1, \"max\": 0.562616130434908, \"sum\": 0.562616130434908, \"min\": 0.562616130434908}}, \"EndTime\": 1604421756.879357, \"Dimensions\": {\"model\": 9, \"Host\": \"algo-1\", \"Operation\": \"training\", \"Algorithm\": \"Linear Learner\", \"epoch\": 3}, \"StartTime\": 1604421756.879339}\n",
      "\u001b[0m\n",
      "\u001b[34m#metrics {\"Metrics\": {\"train_binary_classification_cross_entropy_objective\": {\"count\": 1, \"max\": 0.5544379221089184, \"sum\": 0.5544379221089184, \"min\": 0.5544379221089184}}, \"EndTime\": 1604421756.879428, \"Dimensions\": {\"model\": 10, \"Host\": \"algo-1\", \"Operation\": \"training\", \"Algorithm\": \"Linear Learner\", \"epoch\": 3}, \"StartTime\": 1604421756.879409}\n",
      "\u001b[0m\n",
      "\u001b[34m#metrics {\"Metrics\": {\"train_binary_classification_cross_entropy_objective\": {\"count\": 1, \"max\": 0.5629435046995058, \"sum\": 0.5629435046995058, \"min\": 0.5629435046995058}}, \"EndTime\": 1604421756.879503, \"Dimensions\": {\"model\": 11, \"Host\": \"algo-1\", \"Operation\": \"training\", \"Algorithm\": \"Linear Learner\", \"epoch\": 3}, \"StartTime\": 1604421756.879476}\n",
      "\u001b[0m\n",
      "\u001b[34m#metrics {\"Metrics\": {\"train_binary_classification_cross_entropy_objective\": {\"count\": 1, \"max\": 2.066630147506223, \"sum\": 2.066630147506223, \"min\": 2.066630147506223}}, \"EndTime\": 1604421756.879575, \"Dimensions\": {\"model\": 12, \"Host\": \"algo-1\", \"Operation\": \"training\", \"Algorithm\": \"Linear Learner\", \"epoch\": 3}, \"StartTime\": 1604421756.879556}\n",
      "\u001b[0m\n",
      "\u001b[34m#metrics {\"Metrics\": {\"train_binary_classification_cross_entropy_objective\": {\"count\": 1, \"max\": 2.3907365288401095, \"sum\": 2.3907365288401095, \"min\": 2.3907365288401095}}, \"EndTime\": 1604421756.879646, \"Dimensions\": {\"model\": 13, \"Host\": \"algo-1\", \"Operation\": \"training\", \"Algorithm\": \"Linear Learner\", \"epoch\": 3}, \"StartTime\": 1604421756.879626}\n",
      "\u001b[0m\n",
      "\u001b[34m#metrics {\"Metrics\": {\"train_binary_classification_cross_entropy_objective\": {\"count\": 1, \"max\": 2.0435107132664836, \"sum\": 2.0435107132664836, \"min\": 2.0435107132664836}}, \"EndTime\": 1604421756.879716, \"Dimensions\": {\"model\": 14, \"Host\": \"algo-1\", \"Operation\": \"training\", \"Algorithm\": \"Linear Learner\", \"epoch\": 3}, \"StartTime\": 1604421756.879698}\n",
      "\u001b[0m\n",
      "\u001b[34m#metrics {\"Metrics\": {\"train_binary_classification_cross_entropy_objective\": {\"count\": 1, \"max\": 2.2433154094216703, \"sum\": 2.2433154094216703, \"min\": 2.2433154094216703}}, \"EndTime\": 1604421756.879787, \"Dimensions\": {\"model\": 15, \"Host\": \"algo-1\", \"Operation\": \"training\", \"Algorithm\": \"Linear Learner\", \"epoch\": 3}, \"StartTime\": 1604421756.879769}\n",
      "\u001b[0m\n",
      "\u001b[34m#metrics {\"Metrics\": {\"train_binary_classification_cross_entropy_objective\": {\"count\": 1, \"max\": 0.5622907733917236, \"sum\": 0.5622907733917236, \"min\": 0.5622907733917236}}, \"EndTime\": 1604421756.879853, \"Dimensions\": {\"model\": 16, \"Host\": \"algo-1\", \"Operation\": \"training\", \"Algorithm\": \"Linear Learner\", \"epoch\": 3}, \"StartTime\": 1604421756.879835}\n",
      "\u001b[0m\n",
      "\u001b[34m#metrics {\"Metrics\": {\"train_binary_classification_cross_entropy_objective\": {\"count\": 1, \"max\": 0.5710449735634029, \"sum\": 0.5710449735634029, \"min\": 0.5710449735634029}}, \"EndTime\": 1604421756.879904, \"Dimensions\": {\"model\": 17, \"Host\": \"algo-1\", \"Operation\": \"training\", \"Algorithm\": \"Linear Learner\", \"epoch\": 3}, \"StartTime\": 1604421756.879893}\n",
      "\u001b[0m\n",
      "\u001b[34m#metrics {\"Metrics\": {\"train_binary_classification_cross_entropy_objective\": {\"count\": 1, \"max\": 0.5621908871456981, \"sum\": 0.5621908871456981, \"min\": 0.5621908871456981}}, \"EndTime\": 1604421756.879934, \"Dimensions\": {\"model\": 18, \"Host\": \"algo-1\", \"Operation\": \"training\", \"Algorithm\": \"Linear Learner\", \"epoch\": 3}, \"StartTime\": 1604421756.879926}\n",
      "\u001b[0m\n",
      "\u001b[34m#metrics {\"Metrics\": {\"train_binary_classification_cross_entropy_objective\": {\"count\": 1, \"max\": 0.571032478697598, \"sum\": 0.571032478697598, \"min\": 0.571032478697598}}, \"EndTime\": 1604421756.879961, \"Dimensions\": {\"model\": 19, \"Host\": \"algo-1\", \"Operation\": \"training\", \"Algorithm\": \"Linear Learner\", \"epoch\": 3}, \"StartTime\": 1604421756.879953}\n",
      "\u001b[0m\n",
      "\u001b[34m#metrics {\"Metrics\": {\"train_binary_classification_cross_entropy_objective\": {\"count\": 1, \"max\": 1.7580652721050822, \"sum\": 1.7580652721050822, \"min\": 1.7580652721050822}}, \"EndTime\": 1604421756.880015, \"Dimensions\": {\"model\": 20, \"Host\": \"algo-1\", \"Operation\": \"training\", \"Algorithm\": \"Linear Learner\", \"epoch\": 3}, \"StartTime\": 1604421756.879999}\n",
      "\u001b[0m\n",
      "\u001b[34m#metrics {\"Metrics\": {\"train_binary_classification_cross_entropy_objective\": {\"count\": 1, \"max\": 2.125639820552902, \"sum\": 2.125639820552902, \"min\": 2.125639820552902}}, \"EndTime\": 1604421756.88008, \"Dimensions\": {\"model\": 21, \"Host\": \"algo-1\", \"Operation\": \"training\", \"Algorithm\": \"Linear Learner\", \"epoch\": 3}, \"StartTime\": 1604421756.880062}\n",
      "\u001b[0m\n",
      "\u001b[34m#metrics {\"Metrics\": {\"train_binary_classification_cross_entropy_objective\": {\"count\": 1, \"max\": 1.7614939537787908, \"sum\": 1.7614939537787908, \"min\": 1.7614939537787908}}, \"EndTime\": 1604421756.880148, \"Dimensions\": {\"model\": 22, \"Host\": \"algo-1\", \"Operation\": \"training\", \"Algorithm\": \"Linear Learner\", \"epoch\": 3}, \"StartTime\": 1604421756.88013}\n",
      "\u001b[0m\n",
      "\u001b[34m#metrics {\"Metrics\": {\"train_binary_classification_cross_entropy_objective\": {\"count\": 1, \"max\": 2.1204468078536647, \"sum\": 2.1204468078536647, \"min\": 2.1204468078536647}}, \"EndTime\": 1604421756.88021, \"Dimensions\": {\"model\": 23, \"Host\": \"algo-1\", \"Operation\": \"training\", \"Algorithm\": \"Linear Learner\", \"epoch\": 3}, \"StartTime\": 1604421756.880193}\n",
      "\u001b[0m\n",
      "\u001b[34m#metrics {\"Metrics\": {\"train_binary_classification_cross_entropy_objective\": {\"count\": 1, \"max\": 0.6966398501396179, \"sum\": 0.6966398501396179, \"min\": 0.6966398501396179}}, \"EndTime\": 1604421756.88027, \"Dimensions\": {\"model\": 24, \"Host\": \"algo-1\", \"Operation\": \"training\", \"Algorithm\": \"Linear Learner\", \"epoch\": 3}, \"StartTime\": 1604421756.880253}\n",
      "\u001b[0m\n",
      "\u001b[34m#metrics {\"Metrics\": {\"train_binary_classification_cross_entropy_objective\": {\"count\": 1, \"max\": 0.7000609678030014, \"sum\": 0.7000609678030014, \"min\": 0.7000609678030014}}, \"EndTime\": 1604421756.880334, \"Dimensions\": {\"model\": 25, \"Host\": \"algo-1\", \"Operation\": \"training\", \"Algorithm\": \"Linear Learner\", \"epoch\": 3}, \"StartTime\": 1604421756.880317}\n",
      "\u001b[0m\n",
      "\u001b[34m#metrics {\"Metrics\": {\"train_binary_classification_cross_entropy_objective\": {\"count\": 1, \"max\": 0.6972168260812759, \"sum\": 0.6972168260812759, \"min\": 0.6972168260812759}}, \"EndTime\": 1604421756.880397, \"Dimensions\": {\"model\": 26, \"Host\": \"algo-1\", \"Operation\": \"training\", \"Algorithm\": \"Linear Learner\", \"epoch\": 3}, \"StartTime\": 1604421756.880381}\n",
      "\u001b[0m\n",
      "\u001b[34m#metrics {\"Metrics\": {\"train_binary_classification_cross_entropy_objective\": {\"count\": 1, \"max\": 0.7003562808036804, \"sum\": 0.7003562808036804, \"min\": 0.7003562808036804}}, \"EndTime\": 1604421756.880457, \"Dimensions\": {\"model\": 27, \"Host\": \"algo-1\", \"Operation\": \"training\", \"Algorithm\": \"Linear Learner\", \"epoch\": 3}, \"StartTime\": 1604421756.88044}\n",
      "\u001b[0m\n",
      "\u001b[34m#metrics {\"Metrics\": {\"train_binary_classification_cross_entropy_objective\": {\"count\": 1, \"max\": 1.8610090538545045, \"sum\": 1.8610090538545045, \"min\": 1.8610090538545045}}, \"EndTime\": 1604421756.880514, \"Dimensions\": {\"model\": 28, \"Host\": \"algo-1\", \"Operation\": \"training\", \"Algorithm\": \"Linear Learner\", \"epoch\": 3}, \"StartTime\": 1604421756.880498}\n",
      "\u001b[0m\n",
      "\u001b[34m#metrics {\"Metrics\": {\"train_binary_classification_cross_entropy_objective\": {\"count\": 1, \"max\": 2.152301074367715, \"sum\": 2.152301074367715, \"min\": 2.152301074367715}}, \"EndTime\": 1604421756.880574, \"Dimensions\": {\"model\": 29, \"Host\": \"algo-1\", \"Operation\": \"training\", \"Algorithm\": \"Linear Learner\", \"epoch\": 3}, \"StartTime\": 1604421756.880557}\n",
      "\u001b[0m\n",
      "\u001b[34m#metrics {\"Metrics\": {\"train_binary_classification_cross_entropy_objective\": {\"count\": 1, \"max\": 1.860808834923664, \"sum\": 1.860808834923664, \"min\": 1.860808834923664}}, \"EndTime\": 1604421756.880632, \"Dimensions\": {\"model\": 30, \"Host\": \"algo-1\", \"Operation\": \"training\", \"Algorithm\": \"Linear Learner\", \"epoch\": 3}, \"StartTime\": 1604421756.880615}\n",
      "\u001b[0m\n",
      "\u001b[34m#metrics {\"Metrics\": {\"train_binary_classification_cross_entropy_objective\": {\"count\": 1, \"max\": 2.147365769649914, \"sum\": 2.147365769649914, \"min\": 2.147365769649914}}, \"EndTime\": 1604421756.880683, \"Dimensions\": {\"model\": 31, \"Host\": \"algo-1\", \"Operation\": \"training\", \"Algorithm\": \"Linear Learner\", \"epoch\": 3}, \"StartTime\": 1604421756.880667}\n",
      "\u001b[0m\n",
      "\u001b[34m[11/03/2020 16:42:36 INFO 140649179998016] #quality_metric: host=algo-1, epoch=3, train binary_classification_cross_entropy_objective <loss>=0.555157067641\u001b[0m\n",
      "\u001b[34m[11/03/2020 16:42:36 INFO 140649179998016] #early_stopping_criteria_metric: host=algo-1, epoch=3, criteria=binary_classification_cross_entropy_objective, value=0.554221690157\u001b[0m\n",
      "\u001b[34m[11/03/2020 16:42:36 INFO 140649179998016] Epoch 3: Loss improved. Updating best model\u001b[0m\n",
      "\u001b[34m[11/03/2020 16:42:36 INFO 140649179998016] Saving model for epoch: 3\u001b[0m\n",
      "\u001b[34m[11/03/2020 16:42:36 INFO 140649179998016] Saved checkpoint to \"/tmp/tmpCpMs9f/mx-mod-0000.params\"\u001b[0m\n",
      "\u001b[34m[11/03/2020 16:42:36 INFO 140649179998016] #progress_metric: host=algo-1, completed 26 % of epochs\u001b[0m\n",
      "\u001b[34m#metrics {\"Metrics\": {\"Max Batches Seen Between Resets\": {\"count\": 1, \"max\": 65, \"sum\": 65.0, \"min\": 65}, \"Number of Batches Since Last Reset\": {\"count\": 1, \"max\": 65, \"sum\": 65.0, \"min\": 65}, \"Number of Records Since Last Reset\": {\"count\": 1, \"max\": 12971, \"sum\": 12971.0, \"min\": 12971}, \"Total Batches Seen\": {\"count\": 1, \"max\": 312, \"sum\": 312.0, \"min\": 312}, \"Total Records Seen\": {\"count\": 1, \"max\": 62284, \"sum\": 62284.0, \"min\": 62284}, \"Max Records Seen Between Resets\": {\"count\": 1, \"max\": 12971, \"sum\": 12971.0, \"min\": 12971}, \"Reset Count\": {\"count\": 1, \"max\": 6, \"sum\": 6.0, \"min\": 6}}, \"EndTime\": 1604421756.887902, \"Dimensions\": {\"Host\": \"algo-1\", \"Meta\": \"training_data_iter\", \"Operation\": \"training\", \"Algorithm\": \"Linear Learner\", \"epoch\": 3}, \"StartTime\": 1604421755.069361}\n",
      "\u001b[0m\n",
      "\u001b[34m[11/03/2020 16:42:36 INFO 140649179998016] #throughput_metric: host=algo-1, train throughput=7132.20968658 records/second\u001b[0m\n",
      "\u001b[34m[2020-11-03 16:42:38.732] [tensorio] [info] epoch_stats={\"data_pipeline\": \"/opt/ml/input/data/train\", \"epoch\": 11, \"duration\": 1844, \"num_examples\": 65, \"num_bytes\": 1089564}\u001b[0m\n",
      "\u001b[34m#metrics {\"Metrics\": {\"train_binary_classification_cross_entropy_objective\": {\"count\": 1, \"max\": 0.5535536041483283, \"sum\": 0.5535536041483283, \"min\": 0.5535536041483283}}, \"EndTime\": 1604421758.732579, \"Dimensions\": {\"model\": 0, \"Host\": \"algo-1\", \"Operation\": \"training\", \"Algorithm\": \"Linear Learner\", \"epoch\": 4}, \"StartTime\": 1604421758.732485}\n",
      "\u001b[0m\n",
      "\u001b[34m#metrics {\"Metrics\": {\"train_binary_classification_cross_entropy_objective\": {\"count\": 1, \"max\": 0.5634676096681506, \"sum\": 0.5634676096681506, \"min\": 0.5634676096681506}}, \"EndTime\": 1604421758.732685, \"Dimensions\": {\"model\": 1, \"Host\": \"algo-1\", \"Operation\": \"training\", \"Algorithm\": \"Linear Learner\", \"epoch\": 4}, \"StartTime\": 1604421758.732664}\n",
      "\u001b[0m\n",
      "\u001b[34m#metrics {\"Metrics\": {\"train_binary_classification_cross_entropy_objective\": {\"count\": 1, \"max\": 0.553348369654268, \"sum\": 0.553348369654268, \"min\": 0.553348369654268}}, \"EndTime\": 1604421758.732754, \"Dimensions\": {\"model\": 2, \"Host\": \"algo-1\", \"Operation\": \"training\", \"Algorithm\": \"Linear Learner\", \"epoch\": 4}, \"StartTime\": 1604421758.732735}\n",
      "\u001b[0m\n",
      "\u001b[34m#metrics {\"Metrics\": {\"train_binary_classification_cross_entropy_objective\": {\"count\": 1, \"max\": 0.5631235019722953, \"sum\": 0.5631235019722953, \"min\": 0.5631235019722953}}, \"EndTime\": 1604421758.732818, \"Dimensions\": {\"model\": 3, \"Host\": \"algo-1\", \"Operation\": \"training\", \"Algorithm\": \"Linear Learner\", \"epoch\": 4}, \"StartTime\": 1604421758.7328}\n",
      "\u001b[0m\n",
      "\u001b[34m#metrics {\"Metrics\": {\"train_binary_classification_cross_entropy_objective\": {\"count\": 1, \"max\": 1.288487643061981, \"sum\": 1.288487643061981, \"min\": 1.288487643061981}}, \"EndTime\": 1604421758.732888, \"Dimensions\": {\"model\": 4, \"Host\": \"algo-1\", \"Operation\": \"training\", \"Algorithm\": \"Linear Learner\", \"epoch\": 4}, \"StartTime\": 1604421758.73287}\n",
      "\u001b[0m\n",
      "\u001b[34m#metrics {\"Metrics\": {\"train_binary_classification_cross_entropy_objective\": {\"count\": 1, \"max\": 1.7968222103447489, \"sum\": 1.7968222103447489, \"min\": 1.7968222103447489}}, \"EndTime\": 1604421758.732952, \"Dimensions\": {\"model\": 5, \"Host\": \"algo-1\", \"Operation\": \"training\", \"Algorithm\": \"Linear Learner\", \"epoch\": 4}, \"StartTime\": 1604421758.732935}\n",
      "\u001b[0m\n",
      "\u001b[34m#metrics {\"Metrics\": {\"train_binary_classification_cross_entropy_objective\": {\"count\": 1, \"max\": 1.3603026053868599, \"sum\": 1.3603026053868599, \"min\": 1.3603026053868599}}, \"EndTime\": 1604421758.733015, \"Dimensions\": {\"model\": 6, \"Host\": \"algo-1\", \"Operation\": \"training\", \"Algorithm\": \"Linear Learner\", \"epoch\": 4}, \"StartTime\": 1604421758.732997}\n",
      "\u001b[0m\n",
      "\u001b[34m#metrics {\"Metrics\": {\"train_binary_classification_cross_entropy_objective\": {\"count\": 1, \"max\": 1.8544244344813001, \"sum\": 1.8544244344813001, \"min\": 1.8544244344813001}}, \"EndTime\": 1604421758.733082, \"Dimensions\": {\"model\": 7, \"Host\": \"algo-1\", \"Operation\": \"training\", \"Algorithm\": \"Linear Learner\", \"epoch\": 4}, \"StartTime\": 1604421758.733065}\n",
      "\u001b[0m\n",
      "\u001b[34m#metrics {\"Metrics\": {\"train_binary_classification_cross_entropy_objective\": {\"count\": 1, \"max\": 0.55282748343423, \"sum\": 0.55282748343423, \"min\": 0.55282748343423}}, \"EndTime\": 1604421758.733149, \"Dimensions\": {\"model\": 8, \"Host\": \"algo-1\", \"Operation\": \"training\", \"Algorithm\": \"Linear Learner\", \"epoch\": 4}, \"StartTime\": 1604421758.733132}\n",
      "\u001b[0m\n",
      "\u001b[34m#metrics {\"Metrics\": {\"train_binary_classification_cross_entropy_objective\": {\"count\": 1, \"max\": 0.5636193085461855, \"sum\": 0.5636193085461855, \"min\": 0.5636193085461855}}, \"EndTime\": 1604421758.733215, \"Dimensions\": {\"model\": 9, \"Host\": \"algo-1\", \"Operation\": \"training\", \"Algorithm\": \"Linear Learner\", \"epoch\": 4}, \"StartTime\": 1604421758.733197}\n",
      "\u001b[0m\n",
      "\u001b[34m#metrics {\"Metrics\": {\"train_binary_classification_cross_entropy_objective\": {\"count\": 1, \"max\": 0.5529994243290275, \"sum\": 0.5529994243290275, \"min\": 0.5529994243290275}}, \"EndTime\": 1604421758.73328, \"Dimensions\": {\"model\": 10, \"Host\": \"algo-1\", \"Operation\": \"training\", \"Algorithm\": \"Linear Learner\", \"epoch\": 4}, \"StartTime\": 1604421758.733263}\n",
      "\u001b[0m\n",
      "\u001b[34m#metrics {\"Metrics\": {\"train_binary_classification_cross_entropy_objective\": {\"count\": 1, \"max\": 0.5638562673144043, \"sum\": 0.5638562673144043, \"min\": 0.5638562673144043}}, \"EndTime\": 1604421758.73335, \"Dimensions\": {\"model\": 11, \"Host\": \"algo-1\", \"Operation\": \"training\", \"Algorithm\": \"Linear Learner\", \"epoch\": 4}, \"StartTime\": 1604421758.733333}\n",
      "\u001b[0m\n",
      "\u001b[34m#metrics {\"Metrics\": {\"train_binary_classification_cross_entropy_objective\": {\"count\": 1, \"max\": 1.4728276689889277, \"sum\": 1.4728276689889277, \"min\": 1.4728276689889277}}, \"EndTime\": 1604421758.733408, \"Dimensions\": {\"model\": 12, \"Host\": \"algo-1\", \"Operation\": \"training\", \"Algorithm\": \"Linear Learner\", \"epoch\": 4}, \"StartTime\": 1604421758.733392}\n",
      "\u001b[0m\n",
      "\u001b[34m#metrics {\"Metrics\": {\"train_binary_classification_cross_entropy_objective\": {\"count\": 1, \"max\": 2.0208118447336187, \"sum\": 2.0208118447336187, \"min\": 2.0208118447336187}}, \"EndTime\": 1604421758.733469, \"Dimensions\": {\"model\": 13, \"Host\": \"algo-1\", \"Operation\": \"training\", \"Algorithm\": \"Linear Learner\", \"epoch\": 4}, \"StartTime\": 1604421758.733451}\n",
      "\u001b[0m\n",
      "\u001b[34m#metrics {\"Metrics\": {\"train_binary_classification_cross_entropy_objective\": {\"count\": 1, \"max\": 1.4491878098472422, \"sum\": 1.4491878098472422, \"min\": 1.4491878098472422}}, \"EndTime\": 1604421758.733532, \"Dimensions\": {\"model\": 14, \"Host\": \"algo-1\", \"Operation\": \"training\", \"Algorithm\": \"Linear Learner\", \"epoch\": 4}, \"StartTime\": 1604421758.733515}\n",
      "\u001b[0m\n",
      "\u001b[34m#metrics {\"Metrics\": {\"train_binary_classification_cross_entropy_objective\": {\"count\": 1, \"max\": 1.8570273156568828, \"sum\": 1.8570273156568828, \"min\": 1.8570273156568828}}, \"EndTime\": 1604421758.733618, \"Dimensions\": {\"model\": 15, \"Host\": \"algo-1\", \"Operation\": \"training\", \"Algorithm\": \"Linear Learner\", \"epoch\": 4}, \"StartTime\": 1604421758.7336}\n",
      "\u001b[0m\n",
      "\u001b[34m#metrics {\"Metrics\": {\"train_binary_classification_cross_entropy_objective\": {\"count\": 1, \"max\": 0.5609860669076443, \"sum\": 0.5609860669076443, \"min\": 0.5609860669076443}}, \"EndTime\": 1604421758.733689, \"Dimensions\": {\"model\": 16, \"Host\": \"algo-1\", \"Operation\": \"training\", \"Algorithm\": \"Linear Learner\", \"epoch\": 4}, \"StartTime\": 1604421758.733672}\n",
      "\u001b[0m\n",
      "\u001b[34m#metrics {\"Metrics\": {\"train_binary_classification_cross_entropy_objective\": {\"count\": 1, \"max\": 0.572119520381093, \"sum\": 0.572119520381093, \"min\": 0.572119520381093}}, \"EndTime\": 1604421758.733758, \"Dimensions\": {\"model\": 17, \"Host\": \"algo-1\", \"Operation\": \"training\", \"Algorithm\": \"Linear Learner\", \"epoch\": 4}, \"StartTime\": 1604421758.733741}\n",
      "\u001b[0m\n",
      "\u001b[34m#metrics {\"Metrics\": {\"train_binary_classification_cross_entropy_objective\": {\"count\": 1, \"max\": 0.5609334065765142, \"sum\": 0.5609334065765142, \"min\": 0.5609334065765142}}, \"EndTime\": 1604421758.733819, \"Dimensions\": {\"model\": 18, \"Host\": \"algo-1\", \"Operation\": \"training\", \"Algorithm\": \"Linear Learner\", \"epoch\": 4}, \"StartTime\": 1604421758.733801}\n",
      "\u001b[0m\n",
      "\u001b[34m#metrics {\"Metrics\": {\"train_binary_classification_cross_entropy_objective\": {\"count\": 1, \"max\": 0.572112453468144, \"sum\": 0.572112453468144, \"min\": 0.572112453468144}}, \"EndTime\": 1604421758.733888, \"Dimensions\": {\"model\": 19, \"Host\": \"algo-1\", \"Operation\": \"training\", \"Algorithm\": \"Linear Learner\", \"epoch\": 4}, \"StartTime\": 1604421758.733871}\n",
      "\u001b[0m\n",
      "\u001b[34m#metrics {\"Metrics\": {\"train_binary_classification_cross_entropy_objective\": {\"count\": 1, \"max\": 1.6293253815244322, \"sum\": 1.6293253815244322, \"min\": 1.6293253815244322}}, \"EndTime\": 1604421758.733959, \"Dimensions\": {\"model\": 20, \"Host\": \"algo-1\", \"Operation\": \"training\", \"Algorithm\": \"Linear Learner\", \"epoch\": 4}, \"StartTime\": 1604421758.73394}\n",
      "\u001b[0m\n",
      "\u001b[34m#metrics {\"Metrics\": {\"train_binary_classification_cross_entropy_objective\": {\"count\": 1, \"max\": 2.0715523937789624, \"sum\": 2.0715523937789624, \"min\": 2.0715523937789624}}, \"EndTime\": 1604421758.734027, \"Dimensions\": {\"model\": 21, \"Host\": \"algo-1\", \"Operation\": \"training\", \"Algorithm\": \"Linear Learner\", \"epoch\": 4}, \"StartTime\": 1604421758.73401}\n",
      "\u001b[0m\n",
      "\u001b[34m#metrics {\"Metrics\": {\"train_binary_classification_cross_entropy_objective\": {\"count\": 1, \"max\": 1.6311433761423637, \"sum\": 1.6311433761423637, \"min\": 1.6311433761423637}}, \"EndTime\": 1604421758.734087, \"Dimensions\": {\"model\": 22, \"Host\": \"algo-1\", \"Operation\": \"training\", \"Algorithm\": \"Linear Learner\", \"epoch\": 4}, \"StartTime\": 1604421758.73407}\n",
      "\u001b[0m\n",
      "\u001b[34m#metrics {\"Metrics\": {\"train_binary_classification_cross_entropy_objective\": {\"count\": 1, \"max\": 2.0688627899647476, \"sum\": 2.0688627899647476, \"min\": 2.0688627899647476}}, \"EndTime\": 1604421758.734157, \"Dimensions\": {\"model\": 23, \"Host\": \"algo-1\", \"Operation\": \"training\", \"Algorithm\": \"Linear Learner\", \"epoch\": 4}, \"StartTime\": 1604421758.734139}\n",
      "\u001b[0m\n",
      "\u001b[34m#metrics {\"Metrics\": {\"train_binary_classification_cross_entropy_objective\": {\"count\": 1, \"max\": 0.6953198456764221, \"sum\": 0.6953198456764221, \"min\": 0.6953198456764221}}, \"EndTime\": 1604421758.734218, \"Dimensions\": {\"model\": 24, \"Host\": \"algo-1\", \"Operation\": \"training\", \"Algorithm\": \"Linear Learner\", \"epoch\": 4}, \"StartTime\": 1604421758.734202}\n",
      "\u001b[0m\n",
      "\u001b[34m#metrics {\"Metrics\": {\"train_binary_classification_cross_entropy_objective\": {\"count\": 1, \"max\": 0.700442830324173, \"sum\": 0.700442830324173, \"min\": 0.700442830324173}}, \"EndTime\": 1604421758.734287, \"Dimensions\": {\"model\": 25, \"Host\": \"algo-1\", \"Operation\": \"training\", \"Algorithm\": \"Linear Learner\", \"epoch\": 4}, \"StartTime\": 1604421758.734269}\n",
      "\u001b[0m\n",
      "\u001b[34m#metrics {\"Metrics\": {\"train_binary_classification_cross_entropy_objective\": {\"count\": 1, \"max\": 0.6954878169298172, \"sum\": 0.6954878169298172, \"min\": 0.6954878169298172}}, \"EndTime\": 1604421758.734357, \"Dimensions\": {\"model\": 26, \"Host\": \"algo-1\", \"Operation\": \"training\", \"Algorithm\": \"Linear Learner\", \"epoch\": 4}, \"StartTime\": 1604421758.73434}\n",
      "\u001b[0m\n",
      "\u001b[34m#metrics {\"Metrics\": {\"train_binary_classification_cross_entropy_objective\": {\"count\": 1, \"max\": 0.700784089565277, \"sum\": 0.700784089565277, \"min\": 0.700784089565277}}, \"EndTime\": 1604421758.734427, \"Dimensions\": {\"model\": 27, \"Host\": \"algo-1\", \"Operation\": \"training\", \"Algorithm\": \"Linear Learner\", \"epoch\": 4}, \"StartTime\": 1604421758.734408}\n",
      "\u001b[0m\n",
      "\u001b[34m#metrics {\"Metrics\": {\"train_binary_classification_cross_entropy_objective\": {\"count\": 1, \"max\": 1.705051702875644, \"sum\": 1.705051702875644, \"min\": 1.705051702875644}}, \"EndTime\": 1604421758.734493, \"Dimensions\": {\"model\": 28, \"Host\": \"algo-1\", \"Operation\": \"training\", \"Algorithm\": \"Linear Learner\", \"epoch\": 4}, \"StartTime\": 1604421758.734474}\n",
      "\u001b[0m\n",
      "\u001b[34m#metrics {\"Metrics\": {\"train_binary_classification_cross_entropy_objective\": {\"count\": 1, \"max\": 2.064709464778425, \"sum\": 2.064709464778425, \"min\": 2.064709464778425}}, \"EndTime\": 1604421758.734562, \"Dimensions\": {\"model\": 29, \"Host\": \"algo-1\", \"Operation\": \"training\", \"Algorithm\": \"Linear Learner\", \"epoch\": 4}, \"StartTime\": 1604421758.734543}\n",
      "\u001b[0m\n",
      "\u001b[34m#metrics {\"Metrics\": {\"train_binary_classification_cross_entropy_objective\": {\"count\": 1, \"max\": 1.7049513795808888, \"sum\": 1.7049513795808888, \"min\": 1.7049513795808888}}, \"EndTime\": 1604421758.734623, \"Dimensions\": {\"model\": 30, \"Host\": \"algo-1\", \"Operation\": \"training\", \"Algorithm\": \"Linear Learner\", \"epoch\": 4}, \"StartTime\": 1604421758.734606}\n",
      "\u001b[0m\n",
      "\u001b[34m#metrics {\"Metrics\": {\"train_binary_classification_cross_entropy_objective\": {\"count\": 1, \"max\": 2.061804169139941, \"sum\": 2.061804169139941, \"min\": 2.061804169139941}}, \"EndTime\": 1604421758.734685, \"Dimensions\": {\"model\": 31, \"Host\": \"algo-1\", \"Operation\": \"training\", \"Algorithm\": \"Linear Learner\", \"epoch\": 4}, \"StartTime\": 1604421758.734669}\n",
      "\u001b[0m\n",
      "\u001b[34m[11/03/2020 16:42:38 INFO 140649179998016] #quality_metric: host=algo-1, epoch=4, train binary_classification_cross_entropy_objective <loss>=0.553553604148\u001b[0m\n",
      "\u001b[34m[11/03/2020 16:42:38 INFO 140649179998016] #early_stopping_criteria_metric: host=algo-1, epoch=4, criteria=binary_classification_cross_entropy_objective, value=0.552827483434\u001b[0m\n",
      "\u001b[34m[11/03/2020 16:42:38 INFO 140649179998016] Epoch 4: Loss improved. Updating best model\u001b[0m\n",
      "\u001b[34m[11/03/2020 16:42:38 INFO 140649179998016] Saving model for epoch: 4\u001b[0m\n",
      "\u001b[34m[11/03/2020 16:42:38 INFO 140649179998016] Saved checkpoint to \"/tmp/tmpu9xYSZ/mx-mod-0000.params\"\u001b[0m\n",
      "\u001b[34m[11/03/2020 16:42:38 INFO 140649179998016] #progress_metric: host=algo-1, completed 33 % of epochs\u001b[0m\n",
      "\u001b[34m#metrics {\"Metrics\": {\"Max Batches Seen Between Resets\": {\"count\": 1, \"max\": 65, \"sum\": 65.0, \"min\": 65}, \"Number of Batches Since Last Reset\": {\"count\": 1, \"max\": 65, \"sum\": 65.0, \"min\": 65}, \"Number of Records Since Last Reset\": {\"count\": 1, \"max\": 12971, \"sum\": 12971.0, \"min\": 12971}, \"Total Batches Seen\": {\"count\": 1, \"max\": 377, \"sum\": 377.0, \"min\": 377}, \"Total Records Seen\": {\"count\": 1, \"max\": 75255, \"sum\": 75255.0, \"min\": 75255}, \"Max Records Seen Between Resets\": {\"count\": 1, \"max\": 12971, \"sum\": 12971.0, \"min\": 12971}, \"Reset Count\": {\"count\": 1, \"max\": 7, \"sum\": 7.0, \"min\": 7}}, \"EndTime\": 1604421758.741651, \"Dimensions\": {\"Host\": \"algo-1\", \"Meta\": \"training_data_iter\", \"Operation\": \"training\", \"Algorithm\": \"Linear Learner\", \"epoch\": 4}, \"StartTime\": 1604421756.888166}\n",
      "\u001b[0m\n",
      "\u001b[34m[11/03/2020 16:42:38 INFO 140649179998016] #throughput_metric: host=algo-1, train throughput=6997.83215411 records/second\u001b[0m\n",
      "\u001b[34m[2020-11-03 16:42:40.593] [tensorio] [info] epoch_stats={\"data_pipeline\": \"/opt/ml/input/data/train\", \"epoch\": 13, \"duration\": 1851, \"num_examples\": 65, \"num_bytes\": 1089564}\u001b[0m\n",
      "\u001b[34m#metrics {\"Metrics\": {\"train_binary_classification_cross_entropy_objective\": {\"count\": 1, \"max\": 0.551608457993716, \"sum\": 0.551608457993716, \"min\": 0.551608457993716}}, \"EndTime\": 1604421760.593666, \"Dimensions\": {\"model\": 0, \"Host\": \"algo-1\", \"Operation\": \"training\", \"Algorithm\": \"Linear Learner\", \"epoch\": 5}, \"StartTime\": 1604421760.593576}\n",
      "\u001b[0m\n",
      "\u001b[34m#metrics {\"Metrics\": {\"train_binary_classification_cross_entropy_objective\": {\"count\": 1, \"max\": 0.5632976087648421, \"sum\": 0.5632976087648421, \"min\": 0.5632976087648421}}, \"EndTime\": 1604421760.593736, \"Dimensions\": {\"model\": 1, \"Host\": \"algo-1\", \"Operation\": \"training\", \"Algorithm\": \"Linear Learner\", \"epoch\": 5}, \"StartTime\": 1604421760.593724}\n",
      "\u001b[0m\n",
      "\u001b[34m#metrics {\"Metrics\": {\"train_binary_classification_cross_entropy_objective\": {\"count\": 1, \"max\": 0.5514555070456117, \"sum\": 0.5514555070456117, \"min\": 0.5514555070456117}}, \"EndTime\": 1604421760.59377, \"Dimensions\": {\"model\": 2, \"Host\": \"algo-1\", \"Operation\": \"training\", \"Algorithm\": \"Linear Learner\", \"epoch\": 5}, \"StartTime\": 1604421760.593762}\n",
      "\u001b[0m\n",
      "\u001b[34m#metrics {\"Metrics\": {\"train_binary_classification_cross_entropy_objective\": {\"count\": 1, \"max\": 0.5630100989947096, \"sum\": 0.5630100989947096, \"min\": 0.5630100989947096}}, \"EndTime\": 1604421760.593816, \"Dimensions\": {\"model\": 3, \"Host\": \"algo-1\", \"Operation\": \"training\", \"Algorithm\": \"Linear Learner\", \"epoch\": 5}, \"StartTime\": 1604421760.593801}\n",
      "\u001b[0m\n",
      "\u001b[34m#metrics {\"Metrics\": {\"train_binary_classification_cross_entropy_objective\": {\"count\": 1, \"max\": 1.68724048018531, \"sum\": 1.68724048018531, \"min\": 1.68724048018531}}, \"EndTime\": 1604421760.593869, \"Dimensions\": {\"model\": 4, \"Host\": \"algo-1\", \"Operation\": \"training\", \"Algorithm\": \"Linear Learner\", \"epoch\": 5}, \"StartTime\": 1604421760.593855}\n",
      "\u001b[0m\n",
      "\u001b[34m#metrics {\"Metrics\": {\"train_binary_classification_cross_entropy_objective\": {\"count\": 1, \"max\": 2.1178645651121117, \"sum\": 2.1178645651121117, \"min\": 2.1178645651121117}}, \"EndTime\": 1604421760.593918, \"Dimensions\": {\"model\": 5, \"Host\": \"algo-1\", \"Operation\": \"training\", \"Algorithm\": \"Linear Learner\", \"epoch\": 5}, \"StartTime\": 1604421760.593905}\n",
      "\u001b[0m\n",
      "\u001b[34m#metrics {\"Metrics\": {\"train_binary_classification_cross_entropy_objective\": {\"count\": 1, \"max\": 1.7058808502490728, \"sum\": 1.7058808502490728, \"min\": 1.7058808502490728}}, \"EndTime\": 1604421760.593965, \"Dimensions\": {\"model\": 6, \"Host\": \"algo-1\", \"Operation\": \"training\", \"Algorithm\": \"Linear Learner\", \"epoch\": 5}, \"StartTime\": 1604421760.593953}\n",
      "\u001b[0m\n",
      "\u001b[34m#metrics {\"Metrics\": {\"train_binary_classification_cross_entropy_objective\": {\"count\": 1, \"max\": 2.139569380614817, \"sum\": 2.139569380614817, \"min\": 2.139569380614817}}, \"EndTime\": 1604421760.594015, \"Dimensions\": {\"model\": 7, \"Host\": \"algo-1\", \"Operation\": \"training\", \"Algorithm\": \"Linear Learner\", \"epoch\": 5}, \"StartTime\": 1604421760.594001}\n",
      "\u001b[0m\n",
      "\u001b[34m#metrics {\"Metrics\": {\"train_binary_classification_cross_entropy_objective\": {\"count\": 1, \"max\": 0.5510558436997235, \"sum\": 0.5510558436997235, \"min\": 0.5510558436997235}}, \"EndTime\": 1604421760.594076, \"Dimensions\": {\"model\": 8, \"Host\": \"algo-1\", \"Operation\": \"training\", \"Algorithm\": \"Linear Learner\", \"epoch\": 5}, \"StartTime\": 1604421760.594062}\n",
      "\u001b[0m\n",
      "\u001b[34m#metrics {\"Metrics\": {\"train_binary_classification_cross_entropy_objective\": {\"count\": 1, \"max\": 0.5634259862080216, \"sum\": 0.5634259862080216, \"min\": 0.5634259862080216}}, \"EndTime\": 1604421760.594112, \"Dimensions\": {\"model\": 9, \"Host\": \"algo-1\", \"Operation\": \"training\", \"Algorithm\": \"Linear Learner\", \"epoch\": 5}, \"StartTime\": 1604421760.594104}\n",
      "\u001b[0m\n",
      "\u001b[34m#metrics {\"Metrics\": {\"train_binary_classification_cross_entropy_objective\": {\"count\": 1, \"max\": 0.5511847084201872, \"sum\": 0.5511847084201872, \"min\": 0.5511847084201872}}, \"EndTime\": 1604421760.59414, \"Dimensions\": {\"model\": 10, \"Host\": \"algo-1\", \"Operation\": \"training\", \"Algorithm\": \"Linear Learner\", \"epoch\": 5}, \"StartTime\": 1604421760.594133}\n",
      "\u001b[0m\n",
      "\u001b[34m#metrics {\"Metrics\": {\"train_binary_classification_cross_entropy_objective\": {\"count\": 1, \"max\": 0.5636203768383712, \"sum\": 0.5636203768383712, \"min\": 0.5636203768383712}}, \"EndTime\": 1604421760.594169, \"Dimensions\": {\"model\": 11, \"Host\": \"algo-1\", \"Operation\": \"training\", \"Algorithm\": \"Linear Learner\", \"epoch\": 5}, \"StartTime\": 1604421760.594162}\n",
      "\u001b[0m\n",
      "\u001b[34m#metrics {\"Metrics\": {\"train_binary_classification_cross_entropy_objective\": {\"count\": 1, \"max\": 1.676661429223551, \"sum\": 1.676661429223551, \"min\": 1.676661429223551}}, \"EndTime\": 1604421760.594205, \"Dimensions\": {\"model\": 12, \"Host\": \"algo-1\", \"Operation\": \"training\", \"Algorithm\": \"Linear Learner\", \"epoch\": 5}, \"StartTime\": 1604421760.594192}\n",
      "\u001b[0m\n",
      "\u001b[34m#metrics {\"Metrics\": {\"train_binary_classification_cross_entropy_objective\": {\"count\": 1, \"max\": 2.107550847447899, \"sum\": 2.107550847447899, \"min\": 2.107550847447899}}, \"EndTime\": 1604421760.594253, \"Dimensions\": {\"model\": 13, \"Host\": \"algo-1\", \"Operation\": \"training\", \"Algorithm\": \"Linear Learner\", \"epoch\": 5}, \"StartTime\": 1604421760.594243}\n",
      "\u001b[0m\n",
      "\u001b[34m#metrics {\"Metrics\": {\"train_binary_classification_cross_entropy_objective\": {\"count\": 1, \"max\": 1.6712440318435302, \"sum\": 1.6712440318435302, \"min\": 1.6712440318435302}}, \"EndTime\": 1604421760.59429, \"Dimensions\": {\"model\": 14, \"Host\": \"algo-1\", \"Operation\": \"training\", \"Algorithm\": \"Linear Learner\", \"epoch\": 5}, \"StartTime\": 1604421760.594277}\n",
      "\u001b[0m\n",
      "\u001b[34m#metrics {\"Metrics\": {\"train_binary_classification_cross_entropy_objective\": {\"count\": 1, \"max\": 2.0599336401847634, \"sum\": 2.0599336401847634, \"min\": 2.0599336401847634}}, \"EndTime\": 1604421760.594337, \"Dimensions\": {\"model\": 15, \"Host\": \"algo-1\", \"Operation\": \"training\", \"Algorithm\": \"Linear Learner\", \"epoch\": 5}, \"StartTime\": 1604421760.594328}\n",
      "\u001b[0m\n",
      "\u001b[34m#metrics {\"Metrics\": {\"train_binary_classification_cross_entropy_objective\": {\"count\": 1, \"max\": 0.5589384128898383, \"sum\": 0.5589384128898383, \"min\": 0.5589384128898383}}, \"EndTime\": 1604421760.594365, \"Dimensions\": {\"model\": 16, \"Host\": \"algo-1\", \"Operation\": \"training\", \"Algorithm\": \"Linear Learner\", \"epoch\": 5}, \"StartTime\": 1604421760.594358}\n",
      "\u001b[0m\n",
      "\u001b[34m#metrics {\"Metrics\": {\"train_binary_classification_cross_entropy_objective\": {\"count\": 1, \"max\": 0.5718014172837138, \"sum\": 0.5718014172837138, \"min\": 0.5718014172837138}}, \"EndTime\": 1604421760.594417, \"Dimensions\": {\"model\": 17, \"Host\": \"algo-1\", \"Operation\": \"training\", \"Algorithm\": \"Linear Learner\", \"epoch\": 5}, \"StartTime\": 1604421760.594404}\n",
      "\u001b[0m\n",
      "\u001b[34m#metrics {\"Metrics\": {\"train_binary_classification_cross_entropy_objective\": {\"count\": 1, \"max\": 0.5589044865220785, \"sum\": 0.5589044865220785, \"min\": 0.5589044865220785}}, \"EndTime\": 1604421760.594465, \"Dimensions\": {\"model\": 18, \"Host\": \"algo-1\", \"Operation\": \"training\", \"Algorithm\": \"Linear Learner\", \"epoch\": 5}, \"StartTime\": 1604421760.594453}\n",
      "\u001b[0m\n",
      "\u001b[34m#metrics {\"Metrics\": {\"train_binary_classification_cross_entropy_objective\": {\"count\": 1, \"max\": 0.5717962572723627, \"sum\": 0.5717962572723627, \"min\": 0.5717962572723627}}, \"EndTime\": 1604421760.594509, \"Dimensions\": {\"model\": 19, \"Host\": \"algo-1\", \"Operation\": \"training\", \"Algorithm\": \"Linear Learner\", \"epoch\": 5}, \"StartTime\": 1604421760.594497}\n",
      "\u001b[0m\n",
      "\u001b[34m#metrics {\"Metrics\": {\"train_binary_classification_cross_entropy_objective\": {\"count\": 1, \"max\": 1.5209710850375204, \"sum\": 1.5209710850375204, \"min\": 1.5209710850375204}}, \"EndTime\": 1604421760.594552, \"Dimensions\": {\"model\": 20, \"Host\": \"algo-1\", \"Operation\": \"training\", \"Algorithm\": \"Linear Learner\", \"epoch\": 5}, \"StartTime\": 1604421760.594541}\n",
      "\u001b[0m\n",
      "\u001b[34m#metrics {\"Metrics\": {\"train_binary_classification_cross_entropy_objective\": {\"count\": 1, \"max\": 2.0233299648992453, \"sum\": 2.0233299648992453, \"min\": 2.0233299648992453}}, \"EndTime\": 1604421760.594598, \"Dimensions\": {\"model\": 21, \"Host\": \"algo-1\", \"Operation\": \"training\", \"Algorithm\": \"Linear Learner\", \"epoch\": 5}, \"StartTime\": 1604421760.594585}\n",
      "\u001b[0m\n",
      "\u001b[34m#metrics {\"Metrics\": {\"train_binary_classification_cross_entropy_objective\": {\"count\": 1, \"max\": 1.5221545059185546, \"sum\": 1.5221545059185546, \"min\": 1.5221545059185546}}, \"EndTime\": 1604421760.594648, \"Dimensions\": {\"model\": 22, \"Host\": \"algo-1\", \"Operation\": \"training\", \"Algorithm\": \"Linear Learner\", \"epoch\": 5}, \"StartTime\": 1604421760.594634}\n",
      "\u001b[0m\n",
      "\u001b[34m#metrics {\"Metrics\": {\"train_binary_classification_cross_entropy_objective\": {\"count\": 1, \"max\": 2.02141792981202, \"sum\": 2.02141792981202, \"min\": 2.02141792981202}}, \"EndTime\": 1604421760.594701, \"Dimensions\": {\"model\": 23, \"Host\": \"algo-1\", \"Operation\": \"training\", \"Algorithm\": \"Linear Learner\", \"epoch\": 5}, \"StartTime\": 1604421760.594686}\n",
      "\u001b[0m\n",
      "\u001b[34m#metrics {\"Metrics\": {\"train_binary_classification_cross_entropy_objective\": {\"count\": 1, \"max\": 0.6929073023796082, \"sum\": 0.6929073023796082, \"min\": 0.6929073023796082}}, \"EndTime\": 1604421760.59475, \"Dimensions\": {\"model\": 24, \"Host\": \"algo-1\", \"Operation\": \"training\", \"Algorithm\": \"Linear Learner\", \"epoch\": 5}, \"StartTime\": 1604421760.594739}\n",
      "\u001b[0m\n",
      "\u001b[34m#metrics {\"Metrics\": {\"train_binary_classification_cross_entropy_objective\": {\"count\": 1, \"max\": 0.6989679580926895, \"sum\": 0.6989679580926895, \"min\": 0.6989679580926895}}, \"EndTime\": 1604421760.594779, \"Dimensions\": {\"model\": 25, \"Host\": \"algo-1\", \"Operation\": \"training\", \"Algorithm\": \"Linear Learner\", \"epoch\": 5}, \"StartTime\": 1604421760.594772}\n",
      "\u001b[0m\n",
      "\u001b[34m#metrics {\"Metrics\": {\"train_binary_classification_cross_entropy_objective\": {\"count\": 1, \"max\": 0.6928986370563507, \"sum\": 0.6928986370563507, \"min\": 0.6928986370563507}}, \"EndTime\": 1604421760.594806, \"Dimensions\": {\"model\": 26, \"Host\": \"algo-1\", \"Operation\": \"training\", \"Algorithm\": \"Linear Learner\", \"epoch\": 5}, \"StartTime\": 1604421760.594799}\n",
      "\u001b[0m\n",
      "\u001b[34m#metrics {\"Metrics\": {\"train_binary_classification_cross_entropy_objective\": {\"count\": 1, \"max\": 0.699305711388588, \"sum\": 0.699305711388588, \"min\": 0.699305711388588}}, \"EndTime\": 1604421760.594833, \"Dimensions\": {\"model\": 27, \"Host\": \"algo-1\", \"Operation\": \"training\", \"Algorithm\": \"Linear Learner\", \"epoch\": 5}, \"StartTime\": 1604421760.594826}\n",
      "\u001b[0m\n",
      "\u001b[34m#metrics {\"Metrics\": {\"train_binary_classification_cross_entropy_objective\": {\"count\": 1, \"max\": 1.593804346746765, \"sum\": 1.593804346746765, \"min\": 1.593804346746765}}, \"EndTime\": 1604421760.59486, \"Dimensions\": {\"model\": 28, \"Host\": \"algo-1\", \"Operation\": \"training\", \"Algorithm\": \"Linear Learner\", \"epoch\": 5}, \"StartTime\": 1604421760.594853}\n",
      "\u001b[0m\n",
      "\u001b[34m#metrics {\"Metrics\": {\"train_binary_classification_cross_entropy_objective\": {\"count\": 1, \"max\": 2.011086562363198, \"sum\": 2.011086562363198, \"min\": 2.011086562363198}}, \"EndTime\": 1604421760.594887, \"Dimensions\": {\"model\": 29, \"Host\": \"algo-1\", \"Operation\": \"training\", \"Algorithm\": \"Linear Learner\", \"epoch\": 5}, \"StartTime\": 1604421760.59488}\n",
      "\u001b[0m\n",
      "\u001b[34m#metrics {\"Metrics\": {\"train_binary_classification_cross_entropy_objective\": {\"count\": 1, \"max\": 1.5935374273499474, \"sum\": 1.5935374273499474, \"min\": 1.5935374273499474}}, \"EndTime\": 1604421760.594914, \"Dimensions\": {\"model\": 30, \"Host\": \"algo-1\", \"Operation\": \"training\", \"Algorithm\": \"Linear Learner\", \"epoch\": 5}, \"StartTime\": 1604421760.594907}\n",
      "\u001b[0m\n",
      "\u001b[34m#metrics {\"Metrics\": {\"train_binary_classification_cross_entropy_objective\": {\"count\": 1, \"max\": 2.0088132440211486, \"sum\": 2.0088132440211486, \"min\": 2.0088132440211486}}, \"EndTime\": 1604421760.59494, \"Dimensions\": {\"model\": 31, \"Host\": \"algo-1\", \"Operation\": \"training\", \"Algorithm\": \"Linear Learner\", \"epoch\": 5}, \"StartTime\": 1604421760.594933}\n",
      "\u001b[0m\n",
      "\u001b[34m[11/03/2020 16:42:40 INFO 140649179998016] #quality_metric: host=algo-1, epoch=5, train binary_classification_cross_entropy_objective <loss>=0.551608457994\u001b[0m\n",
      "\u001b[34m[11/03/2020 16:42:40 INFO 140649179998016] #early_stopping_criteria_metric: host=algo-1, epoch=5, criteria=binary_classification_cross_entropy_objective, value=0.5510558437\u001b[0m\n",
      "\u001b[34m[11/03/2020 16:42:40 INFO 140649179998016] Epoch 5: Loss improved. Updating best model\u001b[0m\n",
      "\u001b[34m[11/03/2020 16:42:40 INFO 140649179998016] Saving model for epoch: 5\u001b[0m\n",
      "\u001b[34m[11/03/2020 16:42:40 INFO 140649179998016] Saved checkpoint to \"/tmp/tmpdFTK_k/mx-mod-0000.params\"\u001b[0m\n",
      "\u001b[34m[11/03/2020 16:42:40 INFO 140649179998016] #progress_metric: host=algo-1, completed 40 % of epochs\u001b[0m\n",
      "\u001b[34m#metrics {\"Metrics\": {\"Max Batches Seen Between Resets\": {\"count\": 1, \"max\": 65, \"sum\": 65.0, \"min\": 65}, \"Number of Batches Since Last Reset\": {\"count\": 1, \"max\": 65, \"sum\": 65.0, \"min\": 65}, \"Number of Records Since Last Reset\": {\"count\": 1, \"max\": 12971, \"sum\": 12971.0, \"min\": 12971}, \"Total Batches Seen\": {\"count\": 1, \"max\": 442, \"sum\": 442.0, \"min\": 442}, \"Total Records Seen\": {\"count\": 1, \"max\": 88226, \"sum\": 88226.0, \"min\": 88226}, \"Max Records Seen Between Resets\": {\"count\": 1, \"max\": 12971, \"sum\": 12971.0, \"min\": 12971}, \"Reset Count\": {\"count\": 1, \"max\": 8, \"sum\": 8.0, \"min\": 8}}, \"EndTime\": 1604421760.602447, \"Dimensions\": {\"Host\": \"algo-1\", \"Meta\": \"training_data_iter\", \"Operation\": \"training\", \"Algorithm\": \"Linear Learner\", \"epoch\": 5}, \"StartTime\": 1604421758.741888}\n",
      "\u001b[0m\n",
      "\u001b[34m[11/03/2020 16:42:40 INFO 140649179998016] #throughput_metric: host=algo-1, train throughput=6971.11856227 records/second\u001b[0m\n",
      "\u001b[34m[2020-11-03 16:42:42.417] [tensorio] [info] epoch_stats={\"data_pipeline\": \"/opt/ml/input/data/train\", \"epoch\": 15, \"duration\": 1814, \"num_examples\": 65, \"num_bytes\": 1089564}\u001b[0m\n",
      "\u001b[34m#metrics {\"Metrics\": {\"train_binary_classification_cross_entropy_objective\": {\"count\": 1, \"max\": 0.5497049186658114, \"sum\": 0.5497049186658114, \"min\": 0.5497049186658114}}, \"EndTime\": 1604421762.417496, \"Dimensions\": {\"model\": 0, \"Host\": \"algo-1\", \"Operation\": \"training\", \"Algorithm\": \"Linear Learner\", \"epoch\": 6}, \"StartTime\": 1604421762.417408}\n",
      "\u001b[0m\n",
      "\u001b[34m#metrics {\"Metrics\": {\"train_binary_classification_cross_entropy_objective\": {\"count\": 1, \"max\": 0.5635372703382745, \"sum\": 0.5635372703382745, \"min\": 0.5635372703382745}}, \"EndTime\": 1604421762.417597, \"Dimensions\": {\"model\": 1, \"Host\": \"algo-1\", \"Operation\": \"training\", \"Algorithm\": \"Linear Learner\", \"epoch\": 6}, \"StartTime\": 1604421762.417575}\n",
      "\u001b[0m\n",
      "\u001b[34m#metrics {\"Metrics\": {\"train_binary_classification_cross_entropy_objective\": {\"count\": 1, \"max\": 0.5495876564644278, \"sum\": 0.5495876564644278, \"min\": 0.5495876564644278}}, \"EndTime\": 1604421762.417672, \"Dimensions\": {\"model\": 2, \"Host\": \"algo-1\", \"Operation\": \"training\", \"Algorithm\": \"Linear Learner\", \"epoch\": 6}, \"StartTime\": 1604421762.417652}\n",
      "\u001b[0m\n",
      "\u001b[34m#metrics {\"Metrics\": {\"train_binary_classification_cross_entropy_objective\": {\"count\": 1, \"max\": 0.5632925492245704, \"sum\": 0.5632925492245704, \"min\": 0.5632925492245704}}, \"EndTime\": 1604421762.417736, \"Dimensions\": {\"model\": 3, \"Host\": \"algo-1\", \"Operation\": \"training\", \"Algorithm\": \"Linear Learner\", \"epoch\": 6}, \"StartTime\": 1604421762.417718}\n",
      "\u001b[0m\n",
      "\u001b[34m#metrics {\"Metrics\": {\"train_binary_classification_cross_entropy_objective\": {\"count\": 1, \"max\": 1.305769503632904, \"sum\": 1.305769503632904, \"min\": 1.305769503632904}}, \"EndTime\": 1604421762.41779, \"Dimensions\": {\"model\": 4, \"Host\": \"algo-1\", \"Operation\": \"training\", \"Algorithm\": \"Linear Learner\", \"epoch\": 6}, \"StartTime\": 1604421762.417774}\n",
      "\u001b[0m\n",
      "\u001b[34m#metrics {\"Metrics\": {\"train_binary_classification_cross_entropy_objective\": {\"count\": 1, \"max\": 1.8865841197323652, \"sum\": 1.8865841197323652, \"min\": 1.8865841197323652}}, \"EndTime\": 1604421762.417848, \"Dimensions\": {\"model\": 5, \"Host\": \"algo-1\", \"Operation\": \"training\", \"Algorithm\": \"Linear Learner\", \"epoch\": 6}, \"StartTime\": 1604421762.417832}\n",
      "\u001b[0m\n",
      "\u001b[34m#metrics {\"Metrics\": {\"train_binary_classification_cross_entropy_objective\": {\"count\": 1, \"max\": 1.3364106014605033, \"sum\": 1.3364106014605033, \"min\": 1.3364106014605033}}, \"EndTime\": 1604421762.417915, \"Dimensions\": {\"model\": 6, \"Host\": \"algo-1\", \"Operation\": \"training\", \"Algorithm\": \"Linear Learner\", \"epoch\": 6}, \"StartTime\": 1604421762.417897}\n",
      "\u001b[0m\n",
      "\u001b[34m#metrics {\"Metrics\": {\"train_binary_classification_cross_entropy_objective\": {\"count\": 1, \"max\": 1.9154229586712972, \"sum\": 1.9154229586712972, \"min\": 1.9154229586712972}}, \"EndTime\": 1604421762.417967, \"Dimensions\": {\"model\": 7, \"Host\": \"algo-1\", \"Operation\": \"training\", \"Algorithm\": \"Linear Learner\", \"epoch\": 6}, \"StartTime\": 1604421762.417951}\n",
      "\u001b[0m\n",
      "\u001b[34m#metrics {\"Metrics\": {\"train_binary_classification_cross_entropy_objective\": {\"count\": 1, \"max\": 0.5492727377545088, \"sum\": 0.5492727377545088, \"min\": 0.5492727377545088}}, \"EndTime\": 1604421762.41802, \"Dimensions\": {\"model\": 8, \"Host\": \"algo-1\", \"Operation\": \"training\", \"Algorithm\": \"Linear Learner\", \"epoch\": 6}, \"StartTime\": 1604421762.418004}\n",
      "\u001b[0m\n",
      "\u001b[34m#metrics {\"Metrics\": {\"train_binary_classification_cross_entropy_objective\": {\"count\": 1, \"max\": 0.5636475757416338, \"sum\": 0.5636475757416338, \"min\": 0.5636475757416338}}, \"EndTime\": 1604421762.418092, \"Dimensions\": {\"model\": 9, \"Host\": \"algo-1\", \"Operation\": \"training\", \"Algorithm\": \"Linear Learner\", \"epoch\": 6}, \"StartTime\": 1604421762.418066}\n",
      "\u001b[0m\n",
      "\u001b[34m#metrics {\"Metrics\": {\"train_binary_classification_cross_entropy_objective\": {\"count\": 1, \"max\": 0.5493711644969881, \"sum\": 0.5493711644969881, \"min\": 0.5493711644969881}}, \"EndTime\": 1604421762.418152, \"Dimensions\": {\"model\": 10, \"Host\": \"algo-1\", \"Operation\": \"training\", \"Algorithm\": \"Linear Learner\", \"epoch\": 6}, \"StartTime\": 1604421762.418135}\n",
      "\u001b[0m\n",
      "\u001b[34m#metrics {\"Metrics\": {\"train_binary_classification_cross_entropy_objective\": {\"count\": 1, \"max\": 0.5638088350743056, \"sum\": 0.5638088350743056, \"min\": 0.5638088350743056}}, \"EndTime\": 1604421762.418203, \"Dimensions\": {\"model\": 11, \"Host\": \"algo-1\", \"Operation\": \"training\", \"Algorithm\": \"Linear Learner\", \"epoch\": 6}, \"StartTime\": 1604421762.418187}\n",
      "\u001b[0m\n",
      "\u001b[34m#metrics {\"Metrics\": {\"train_binary_classification_cross_entropy_objective\": {\"count\": 1, \"max\": 1.3967438480447958, \"sum\": 1.3967438480447958, \"min\": 1.3967438480447958}}, \"EndTime\": 1604421762.418253, \"Dimensions\": {\"model\": 12, \"Host\": \"algo-1\", \"Operation\": \"training\", \"Algorithm\": \"Linear Learner\", \"epoch\": 6}, \"StartTime\": 1604421762.418238}\n",
      "\u001b[0m\n",
      "\u001b[34m#metrics {\"Metrics\": {\"train_binary_classification_cross_entropy_objective\": {\"count\": 1, \"max\": 2.0059432233723693, \"sum\": 2.0059432233723693, \"min\": 2.0059432233723693}}, \"EndTime\": 1604421762.418315, \"Dimensions\": {\"model\": 13, \"Host\": \"algo-1\", \"Operation\": \"training\", \"Algorithm\": \"Linear Learner\", \"epoch\": 6}, \"StartTime\": 1604421762.418299}\n",
      "\u001b[0m\n",
      "\u001b[34m#metrics {\"Metrics\": {\"train_binary_classification_cross_entropy_objective\": {\"count\": 1, \"max\": 1.3896772257212455, \"sum\": 1.3896772257212455, \"min\": 1.3896772257212455}}, \"EndTime\": 1604421762.418373, \"Dimensions\": {\"model\": 14, \"Host\": \"algo-1\", \"Operation\": \"training\", \"Algorithm\": \"Linear Learner\", \"epoch\": 6}, \"StartTime\": 1604421762.418357}\n",
      "\u001b[0m\n",
      "\u001b[34m#metrics {\"Metrics\": {\"train_binary_classification_cross_entropy_objective\": {\"count\": 1, \"max\": 1.9408762124503642, \"sum\": 1.9408762124503642, \"min\": 1.9408762124503642}}, \"EndTime\": 1604421762.418424, \"Dimensions\": {\"model\": 15, \"Host\": \"algo-1\", \"Operation\": \"training\", \"Algorithm\": \"Linear Learner\", \"epoch\": 6}, \"StartTime\": 1604421762.418408}\n",
      "\u001b[0m\n",
      "\u001b[34m#metrics {\"Metrics\": {\"train_binary_classification_cross_entropy_objective\": {\"count\": 1, \"max\": 0.5570147440582514, \"sum\": 0.5570147440582514, \"min\": 0.5570147440582514}}, \"EndTime\": 1604421762.418475, \"Dimensions\": {\"model\": 16, \"Host\": \"algo-1\", \"Operation\": \"training\", \"Algorithm\": \"Linear Learner\", \"epoch\": 6}, \"StartTime\": 1604421762.418459}\n",
      "\u001b[0m\n",
      "\u001b[34m#metrics {\"Metrics\": {\"train_binary_classification_cross_entropy_objective\": {\"count\": 1, \"max\": 0.5720161882787943, \"sum\": 0.5720161882787943, \"min\": 0.5720161882787943}}, \"EndTime\": 1604421762.418536, \"Dimensions\": {\"model\": 17, \"Host\": \"algo-1\", \"Operation\": \"training\", \"Algorithm\": \"Linear Learner\", \"epoch\": 6}, \"StartTime\": 1604421762.41852}\n",
      "\u001b[0m\n",
      "\u001b[34m#metrics {\"Metrics\": {\"train_binary_classification_cross_entropy_objective\": {\"count\": 1, \"max\": 0.5569900307431817, \"sum\": 0.5569900307431817, \"min\": 0.5569900307431817}}, \"EndTime\": 1604421762.418599, \"Dimensions\": {\"model\": 18, \"Host\": \"algo-1\", \"Operation\": \"training\", \"Algorithm\": \"Linear Learner\", \"epoch\": 6}, \"StartTime\": 1604421762.418582}\n",
      "\u001b[0m\n",
      "\u001b[34m#metrics {\"Metrics\": {\"train_binary_classification_cross_entropy_objective\": {\"count\": 1, \"max\": 0.5720119908452034, \"sum\": 0.5720119908452034, \"min\": 0.5720119908452034}}, \"EndTime\": 1604421762.418662, \"Dimensions\": {\"model\": 19, \"Host\": \"algo-1\", \"Operation\": \"training\", \"Algorithm\": \"Linear Learner\", \"epoch\": 6}, \"StartTime\": 1604421762.418645}\n",
      "\u001b[0m\n",
      "\u001b[34m#metrics {\"Metrics\": {\"train_binary_classification_cross_entropy_objective\": {\"count\": 1, \"max\": 1.4309485456251685, \"sum\": 1.4309485456251685, \"min\": 1.4309485456251685}}, \"EndTime\": 1604421762.418724, \"Dimensions\": {\"model\": 20, \"Host\": \"algo-1\", \"Operation\": \"training\", \"Algorithm\": \"Linear Learner\", \"epoch\": 6}, \"StartTime\": 1604421762.418708}\n",
      "\u001b[0m\n",
      "\u001b[34m#metrics {\"Metrics\": {\"train_binary_classification_cross_entropy_objective\": {\"count\": 1, \"max\": 2.0114251411168937, \"sum\": 2.0114251411168937, \"min\": 2.0114251411168937}}, \"EndTime\": 1604421762.418783, \"Dimensions\": {\"model\": 21, \"Host\": \"algo-1\", \"Operation\": \"training\", \"Algorithm\": \"Linear Learner\", \"epoch\": 6}, \"StartTime\": 1604421762.418766}\n",
      "\u001b[0m\n",
      "\u001b[34m#metrics {\"Metrics\": {\"train_binary_classification_cross_entropy_objective\": {\"count\": 1, \"max\": 1.43173219736237, \"sum\": 1.43173219736237, \"min\": 1.43173219736237}}, \"EndTime\": 1604421762.418841, \"Dimensions\": {\"model\": 22, \"Host\": \"algo-1\", \"Operation\": \"training\", \"Algorithm\": \"Linear Learner\", \"epoch\": 6}, \"StartTime\": 1604421762.418825}\n",
      "\u001b[0m\n",
      "\u001b[34m#metrics {\"Metrics\": {\"train_binary_classification_cross_entropy_objective\": {\"count\": 1, \"max\": 2.0100382448873018, \"sum\": 2.0100382448873018, \"min\": 2.0100382448873018}}, \"EndTime\": 1604421762.418903, \"Dimensions\": {\"model\": 23, \"Host\": \"algo-1\", \"Operation\": \"training\", \"Algorithm\": \"Linear Learner\", \"epoch\": 6}, \"StartTime\": 1604421762.418886}\n",
      "\u001b[0m\n",
      "\u001b[34m#metrics {\"Metrics\": {\"train_binary_classification_cross_entropy_objective\": {\"count\": 1, \"max\": 0.6901331013441085, \"sum\": 0.6901331013441085, \"min\": 0.6901331013441085}}, \"EndTime\": 1604421762.418962, \"Dimensions\": {\"model\": 24, \"Host\": \"algo-1\", \"Operation\": \"training\", \"Algorithm\": \"Linear Learner\", \"epoch\": 6}, \"StartTime\": 1604421762.418944}\n",
      "\u001b[0m\n",
      "\u001b[34m#metrics {\"Metrics\": {\"train_binary_classification_cross_entropy_objective\": {\"count\": 1, \"max\": 0.6990913540124893, \"sum\": 0.6990913540124893, \"min\": 0.6990913540124893}}, \"EndTime\": 1604421762.419026, \"Dimensions\": {\"model\": 25, \"Host\": \"algo-1\", \"Operation\": \"training\", \"Algorithm\": \"Linear Learner\", \"epoch\": 6}, \"StartTime\": 1604421762.419009}\n",
      "\u001b[0m\n",
      "\u001b[34m#metrics {\"Metrics\": {\"train_binary_classification_cross_entropy_objective\": {\"count\": 1, \"max\": 0.6900614207983017, \"sum\": 0.6900614207983017, \"min\": 0.6900614207983017}}, \"EndTime\": 1604421762.419088, \"Dimensions\": {\"model\": 26, \"Host\": \"algo-1\", \"Operation\": \"training\", \"Algorithm\": \"Linear Learner\", \"epoch\": 6}, \"StartTime\": 1604421762.419071}\n",
      "\u001b[0m\n",
      "\u001b[34m#metrics {\"Metrics\": {\"train_binary_classification_cross_entropy_objective\": {\"count\": 1, \"max\": 0.6994116824865341, \"sum\": 0.6994116824865341, \"min\": 0.6994116824865341}}, \"EndTime\": 1604421762.419151, \"Dimensions\": {\"model\": 27, \"Host\": \"algo-1\", \"Operation\": \"training\", \"Algorithm\": \"Linear Learner\", \"epoch\": 6}, \"StartTime\": 1604421762.419135}\n",
      "\u001b[0m\n",
      "\u001b[34m#metrics {\"Metrics\": {\"train_binary_classification_cross_entropy_objective\": {\"count\": 1, \"max\": 1.5025043665384874, \"sum\": 1.5025043665384874, \"min\": 1.5025043665384874}}, \"EndTime\": 1604421762.41921, \"Dimensions\": {\"model\": 28, \"Host\": \"algo-1\", \"Operation\": \"training\", \"Algorithm\": \"Linear Learner\", \"epoch\": 6}, \"StartTime\": 1604421762.419193}\n",
      "\u001b[0m\n",
      "\u001b[34m#metrics {\"Metrics\": {\"train_binary_classification_cross_entropy_objective\": {\"count\": 1, \"max\": 1.9849560864298836, \"sum\": 1.9849560864298836, \"min\": 1.9849560864298836}}, \"EndTime\": 1604421762.419268, \"Dimensions\": {\"model\": 29, \"Host\": \"algo-1\", \"Operation\": \"training\", \"Algorithm\": \"Linear Learner\", \"epoch\": 6}, \"StartTime\": 1604421762.419251}\n",
      "\u001b[0m\n",
      "\u001b[34m#metrics {\"Metrics\": {\"train_binary_classification_cross_entropy_objective\": {\"count\": 1, \"max\": 1.5023463400732726, \"sum\": 1.5023463400732726, \"min\": 1.5023463400732726}}, \"EndTime\": 1604421762.419329, \"Dimensions\": {\"model\": 30, \"Host\": \"algo-1\", \"Operation\": \"training\", \"Algorithm\": \"Linear Learner\", \"epoch\": 6}, \"StartTime\": 1604421762.419313}\n",
      "\u001b[0m\n",
      "\u001b[34m#metrics {\"Metrics\": {\"train_binary_classification_cross_entropy_objective\": {\"count\": 1, \"max\": 1.98436976871395, \"sum\": 1.98436976871395, \"min\": 1.98436976871395}}, \"EndTime\": 1604421762.419394, \"Dimensions\": {\"model\": 31, \"Host\": \"algo-1\", \"Operation\": \"training\", \"Algorithm\": \"Linear Learner\", \"epoch\": 6}, \"StartTime\": 1604421762.419378}\n",
      "\u001b[0m\n",
      "\u001b[34m[11/03/2020 16:42:42 INFO 140649179998016] #quality_metric: host=algo-1, epoch=6, train binary_classification_cross_entropy_objective <loss>=0.549704918666\u001b[0m\n",
      "\u001b[34m[11/03/2020 16:42:42 INFO 140649179998016] #early_stopping_criteria_metric: host=algo-1, epoch=6, criteria=binary_classification_cross_entropy_objective, value=0.549272737755\u001b[0m\n",
      "\u001b[34m[11/03/2020 16:42:42 INFO 140649179998016] Epoch 6: Loss improved. Updating best model\u001b[0m\n",
      "\u001b[34m[11/03/2020 16:42:42 INFO 140649179998016] Saving model for epoch: 6\u001b[0m\n",
      "\u001b[34m[11/03/2020 16:42:42 INFO 140649179998016] Saved checkpoint to \"/tmp/tmpf0HECy/mx-mod-0000.params\"\u001b[0m\n",
      "\u001b[34m[11/03/2020 16:42:42 INFO 140649179998016] #progress_metric: host=algo-1, completed 46 % of epochs\u001b[0m\n",
      "\u001b[34m#metrics {\"Metrics\": {\"Max Batches Seen Between Resets\": {\"count\": 1, \"max\": 65, \"sum\": 65.0, \"min\": 65}, \"Number of Batches Since Last Reset\": {\"count\": 1, \"max\": 65, \"sum\": 65.0, \"min\": 65}, \"Number of Records Since Last Reset\": {\"count\": 1, \"max\": 12971, \"sum\": 12971.0, \"min\": 12971}, \"Total Batches Seen\": {\"count\": 1, \"max\": 507, \"sum\": 507.0, \"min\": 507}, \"Total Records Seen\": {\"count\": 1, \"max\": 101197, \"sum\": 101197.0, \"min\": 101197}, \"Max Records Seen Between Resets\": {\"count\": 1, \"max\": 12971, \"sum\": 12971.0, \"min\": 12971}, \"Reset Count\": {\"count\": 1, \"max\": 9, \"sum\": 9.0, \"min\": 9}}, \"EndTime\": 1604421762.427597, \"Dimensions\": {\"Host\": \"algo-1\", \"Meta\": \"training_data_iter\", \"Operation\": \"training\", \"Algorithm\": \"Linear Learner\", \"epoch\": 6}, \"StartTime\": 1604421760.602717}\n",
      "\u001b[0m\n",
      "\u001b[34m[11/03/2020 16:42:42 INFO 140649179998016] #throughput_metric: host=algo-1, train throughput=7107.35436325 records/second\u001b[0m\n",
      "\u001b[34m[2020-11-03 16:42:44.183] [tensorio] [info] epoch_stats={\"data_pipeline\": \"/opt/ml/input/data/train\", \"epoch\": 17, \"duration\": 1755, \"num_examples\": 65, \"num_bytes\": 1089564}\u001b[0m\n",
      "\u001b[34m#metrics {\"Metrics\": {\"train_binary_classification_cross_entropy_objective\": {\"count\": 1, \"max\": 0.5478413969743997, \"sum\": 0.5478413969743997, \"min\": 0.5478413969743997}}, \"EndTime\": 1604421764.183584, \"Dimensions\": {\"model\": 0, \"Host\": \"algo-1\", \"Operation\": \"training\", \"Algorithm\": \"Linear Learner\", \"epoch\": 7}, \"StartTime\": 1604421764.183487}\n",
      "\u001b[0m\n",
      "\u001b[34m#metrics {\"Metrics\": {\"train_binary_classification_cross_entropy_objective\": {\"count\": 1, \"max\": 0.5636482206080109, \"sum\": 0.5636482206080109, \"min\": 0.5636482206080109}}, \"EndTime\": 1604421764.183673, \"Dimensions\": {\"model\": 1, \"Host\": \"algo-1\", \"Operation\": \"training\", \"Algorithm\": \"Linear Learner\", \"epoch\": 7}, \"StartTime\": 1604421764.183655}\n",
      "\u001b[0m\n",
      "\u001b[34m#metrics {\"Metrics\": {\"train_binary_classification_cross_entropy_objective\": {\"count\": 1, \"max\": 0.5477502321498469, \"sum\": 0.5477502321498469, \"min\": 0.5477502321498469}}, \"EndTime\": 1604421764.183745, \"Dimensions\": {\"model\": 2, \"Host\": \"algo-1\", \"Operation\": \"training\", \"Algorithm\": \"Linear Learner\", \"epoch\": 7}, \"StartTime\": 1604421764.183727}\n",
      "\u001b[0m\n",
      "\u001b[34m#metrics {\"Metrics\": {\"train_binary_classification_cross_entropy_objective\": {\"count\": 1, \"max\": 0.5634367052186281, \"sum\": 0.5634367052186281, \"min\": 0.5634367052186281}}, \"EndTime\": 1604421764.18381, \"Dimensions\": {\"model\": 3, \"Host\": \"algo-1\", \"Operation\": \"training\", \"Algorithm\": \"Linear Learner\", \"epoch\": 7}, \"StartTime\": 1604421764.183794}\n",
      "\u001b[0m\n",
      "\u001b[34m#metrics {\"Metrics\": {\"train_binary_classification_cross_entropy_objective\": {\"count\": 1, \"max\": 1.4601712050218254, \"sum\": 1.4601712050218254, \"min\": 1.4601712050218254}}, \"EndTime\": 1604421764.18386, \"Dimensions\": {\"model\": 4, \"Host\": \"algo-1\", \"Operation\": \"training\", \"Algorithm\": \"Linear Learner\", \"epoch\": 7}, \"StartTime\": 1604421764.18385}\n",
      "\u001b[0m\n",
      "\u001b[34m#metrics {\"Metrics\": {\"train_binary_classification_cross_entropy_objective\": {\"count\": 1, \"max\": 2.04976306424554, \"sum\": 2.04976306424554, \"min\": 2.04976306424554}}, \"EndTime\": 1604421764.183915, \"Dimensions\": {\"model\": 5, \"Host\": \"algo-1\", \"Operation\": \"training\", \"Algorithm\": \"Linear Learner\", \"epoch\": 7}, \"StartTime\": 1604421764.183901}\n",
      "\u001b[0m\n",
      "\u001b[34m#metrics {\"Metrics\": {\"train_binary_classification_cross_entropy_objective\": {\"count\": 1, \"max\": 1.4679296002484628, \"sum\": 1.4679296002484628, \"min\": 1.4679296002484628}}, \"EndTime\": 1604421764.183966, \"Dimensions\": {\"model\": 6, \"Host\": \"algo-1\", \"Operation\": \"training\", \"Algorithm\": \"Linear Learner\", \"epoch\": 7}, \"StartTime\": 1604421764.183955}\n",
      "\u001b[0m\n",
      "\u001b[34m#metrics {\"Metrics\": {\"train_binary_classification_cross_entropy_objective\": {\"count\": 1, \"max\": 2.053876720330236, \"sum\": 2.053876720330236, \"min\": 2.053876720330236}}, \"EndTime\": 1604421764.183997, \"Dimensions\": {\"model\": 7, \"Host\": \"algo-1\", \"Operation\": \"training\", \"Algorithm\": \"Linear Learner\", \"epoch\": 7}, \"StartTime\": 1604421764.183989}\n",
      "\u001b[0m\n",
      "\u001b[34m#metrics {\"Metrics\": {\"train_binary_classification_cross_entropy_objective\": {\"count\": 1, \"max\": 0.5474976755026728, \"sum\": 0.5474976755026728, \"min\": 0.5474976755026728}}, \"EndTime\": 1604421764.184032, \"Dimensions\": {\"model\": 8, \"Host\": \"algo-1\", \"Operation\": \"training\", \"Algorithm\": \"Linear Learner\", \"epoch\": 7}, \"StartTime\": 1604421764.184024}\n",
      "\u001b[0m\n",
      "\u001b[34m#metrics {\"Metrics\": {\"train_binary_classification_cross_entropy_objective\": {\"count\": 1, \"max\": 0.5637450779881328, \"sum\": 0.5637450779881328, \"min\": 0.5637450779881328}}, \"EndTime\": 1604421764.184061, \"Dimensions\": {\"model\": 9, \"Host\": \"algo-1\", \"Operation\": \"training\", \"Algorithm\": \"Linear Learner\", \"epoch\": 7}, \"StartTime\": 1604421764.184054}\n",
      "\u001b[0m\n",
      "\u001b[34m#metrics {\"Metrics\": {\"train_binary_classification_cross_entropy_objective\": {\"count\": 1, \"max\": 0.5475734121352435, \"sum\": 0.5475734121352435, \"min\": 0.5475734121352435}}, \"EndTime\": 1604421764.184098, \"Dimensions\": {\"model\": 10, \"Host\": \"algo-1\", \"Operation\": \"training\", \"Algorithm\": \"Linear Learner\", \"epoch\": 7}, \"StartTime\": 1604421764.184084}\n",
      "\u001b[0m\n",
      "\u001b[34m#metrics {\"Metrics\": {\"train_binary_classification_cross_entropy_objective\": {\"count\": 1, \"max\": 0.5638813229650259, \"sum\": 0.5638813229650259, \"min\": 0.5638813229650259}}, \"EndTime\": 1604421764.184142, \"Dimensions\": {\"model\": 11, \"Host\": \"algo-1\", \"Operation\": \"training\", \"Algorithm\": \"Linear Learner\", \"epoch\": 7}, \"StartTime\": 1604421764.184132}\n",
      "\u001b[0m\n",
      "\u001b[34m#metrics {\"Metrics\": {\"train_binary_classification_cross_entropy_objective\": {\"count\": 1, \"max\": 1.441831184128271, \"sum\": 1.441831184128271, \"min\": 1.441831184128271}}, \"EndTime\": 1604421764.184183, \"Dimensions\": {\"model\": 12, \"Host\": \"algo-1\", \"Operation\": \"training\", \"Algorithm\": \"Linear Learner\", \"epoch\": 7}, \"StartTime\": 1604421764.184165}\n",
      "\u001b[0m\n",
      "\u001b[34m#metrics {\"Metrics\": {\"train_binary_classification_cross_entropy_objective\": {\"count\": 1, \"max\": 2.010055080647312, \"sum\": 2.010055080647312, \"min\": 2.010055080647312}}, \"EndTime\": 1604421764.184209, \"Dimensions\": {\"model\": 13, \"Host\": \"algo-1\", \"Operation\": \"training\", \"Algorithm\": \"Linear Learner\", \"epoch\": 7}, \"StartTime\": 1604421764.184202}\n",
      "\u001b[0m\n",
      "\u001b[34m#metrics {\"Metrics\": {\"train_binary_classification_cross_entropy_objective\": {\"count\": 1, \"max\": 1.4416547603255985, \"sum\": 1.4416547603255985, \"min\": 1.4416547603255985}}, \"EndTime\": 1604421764.184235, \"Dimensions\": {\"model\": 14, \"Host\": \"algo-1\", \"Operation\": \"training\", \"Algorithm\": \"Linear Learner\", \"epoch\": 7}, \"StartTime\": 1604421764.184229}\n",
      "\u001b[0m\n",
      "\u001b[34m#metrics {\"Metrics\": {\"train_binary_classification_cross_entropy_objective\": {\"count\": 1, \"max\": 2.0090974408357214, \"sum\": 2.0090974408357214, \"min\": 2.0090974408357214}}, \"EndTime\": 1604421764.18427, \"Dimensions\": {\"model\": 15, \"Host\": \"algo-1\", \"Operation\": \"training\", \"Algorithm\": \"Linear Learner\", \"epoch\": 7}, \"StartTime\": 1604421764.184257}\n",
      "\u001b[0m\n",
      "\u001b[34m#metrics {\"Metrics\": {\"train_binary_classification_cross_entropy_objective\": {\"count\": 1, \"max\": 0.5550748901069165, \"sum\": 0.5550748901069165, \"min\": 0.5550748901069165}}, \"EndTime\": 1604421764.184317, \"Dimensions\": {\"model\": 16, \"Host\": \"algo-1\", \"Operation\": \"training\", \"Algorithm\": \"Linear Learner\", \"epoch\": 7}, \"StartTime\": 1604421764.184307}\n",
      "\u001b[0m\n",
      "\u001b[34m#metrics {\"Metrics\": {\"train_binary_classification_cross_entropy_objective\": {\"count\": 1, \"max\": 0.5721962512284517, \"sum\": 0.5721962512284517, \"min\": 0.5721962512284517}}, \"EndTime\": 1604421764.18435, \"Dimensions\": {\"model\": 17, \"Host\": \"algo-1\", \"Operation\": \"training\", \"Algorithm\": \"Linear Learner\", \"epoch\": 7}, \"StartTime\": 1604421764.184338}\n",
      "\u001b[0m\n",
      "\u001b[34m#metrics {\"Metrics\": {\"train_binary_classification_cross_entropy_objective\": {\"count\": 1, \"max\": 0.5550559805333615, \"sum\": 0.5550559805333615, \"min\": 0.5550559805333615}}, \"EndTime\": 1604421764.184389, \"Dimensions\": {\"model\": 18, \"Host\": \"algo-1\", \"Operation\": \"training\", \"Algorithm\": \"Linear Learner\", \"epoch\": 7}, \"StartTime\": 1604421764.18438}\n",
      "\u001b[0m\n",
      "\u001b[34m#metrics {\"Metrics\": {\"train_binary_classification_cross_entropy_objective\": {\"count\": 1, \"max\": 0.5721927532181144, \"sum\": 0.5721927532181144, \"min\": 0.5721927532181144}}, \"EndTime\": 1604421764.184418, \"Dimensions\": {\"model\": 19, \"Host\": \"algo-1\", \"Operation\": \"training\", \"Algorithm\": \"Linear Learner\", \"epoch\": 7}, \"StartTime\": 1604421764.18441}\n",
      "\u001b[0m\n",
      "\u001b[34m#metrics {\"Metrics\": {\"train_binary_classification_cross_entropy_objective\": {\"count\": 1, \"max\": 1.356255521100536, \"sum\": 1.356255521100536, \"min\": 1.356255521100536}}, \"EndTime\": 1604421764.184458, \"Dimensions\": {\"model\": 20, \"Host\": \"algo-1\", \"Operation\": \"training\", \"Algorithm\": \"Linear Learner\", \"epoch\": 7}, \"StartTime\": 1604421764.184444}\n",
      "\u001b[0m\n",
      "\u001b[34m#metrics {\"Metrics\": {\"train_binary_classification_cross_entropy_objective\": {\"count\": 1, \"max\": 1.9823017512861645, \"sum\": 1.9823017512861645, \"min\": 1.9823017512861645}}, \"EndTime\": 1604421764.184505, \"Dimensions\": {\"model\": 21, \"Host\": \"algo-1\", \"Operation\": \"training\", \"Algorithm\": \"Linear Learner\", \"epoch\": 7}, \"StartTime\": 1604421764.184496}\n",
      "\u001b[0m\n",
      "\u001b[34m#metrics {\"Metrics\": {\"train_binary_classification_cross_entropy_objective\": {\"count\": 1, \"max\": 1.3567747871629923, \"sum\": 1.3567747871629923, \"min\": 1.3567747871629923}}, \"EndTime\": 1604421764.184535, \"Dimensions\": {\"model\": 22, \"Host\": \"algo-1\", \"Operation\": \"training\", \"Algorithm\": \"Linear Learner\", \"epoch\": 7}, \"StartTime\": 1604421764.184528}\n",
      "\u001b[0m\n",
      "\u001b[34m#metrics {\"Metrics\": {\"train_binary_classification_cross_entropy_objective\": {\"count\": 1, \"max\": 1.9812693552817893, \"sum\": 1.9812693552817893, \"min\": 1.9812693552817893}}, \"EndTime\": 1604421764.184563, \"Dimensions\": {\"model\": 23, \"Host\": \"algo-1\", \"Operation\": \"training\", \"Algorithm\": \"Linear Learner\", \"epoch\": 7}, \"StartTime\": 1604421764.184556}\n",
      "\u001b[0m\n",
      "\u001b[34m#metrics {\"Metrics\": {\"train_binary_classification_cross_entropy_objective\": {\"count\": 1, \"max\": 0.6873162174224854, \"sum\": 0.6873162174224854, \"min\": 0.6873162174224854}}, \"EndTime\": 1604421764.184589, \"Dimensions\": {\"model\": 24, \"Host\": \"algo-1\", \"Operation\": \"training\", \"Algorithm\": \"Linear Learner\", \"epoch\": 7}, \"StartTime\": 1604421764.184582}\n",
      "\u001b[0m\n",
      "\u001b[34m#metrics {\"Metrics\": {\"train_binary_classification_cross_entropy_objective\": {\"count\": 1, \"max\": 0.698983200788498, \"sum\": 0.698983200788498, \"min\": 0.698983200788498}}, \"EndTime\": 1604421764.184624, \"Dimensions\": {\"model\": 25, \"Host\": \"algo-1\", \"Operation\": \"training\", \"Algorithm\": \"Linear Learner\", \"epoch\": 7}, \"StartTime\": 1604421764.184611}\n",
      "\u001b[0m\n",
      "\u001b[34m#metrics {\"Metrics\": {\"train_binary_classification_cross_entropy_objective\": {\"count\": 1, \"max\": 0.6872351664304733, \"sum\": 0.6872351664304733, \"min\": 0.6872351664304733}}, \"EndTime\": 1604421764.184669, \"Dimensions\": {\"model\": 26, \"Host\": \"algo-1\", \"Operation\": \"training\", \"Algorithm\": \"Linear Learner\", \"epoch\": 7}, \"StartTime\": 1604421764.184659}\n",
      "\u001b[0m\n",
      "\u001b[34m#metrics {\"Metrics\": {\"train_binary_classification_cross_entropy_objective\": {\"count\": 1, \"max\": 0.699279922246933, \"sum\": 0.699279922246933, \"min\": 0.699279922246933}}, \"EndTime\": 1604421764.184709, \"Dimensions\": {\"model\": 27, \"Host\": \"algo-1\", \"Operation\": \"training\", \"Algorithm\": \"Linear Learner\", \"epoch\": 7}, \"StartTime\": 1604421764.184699}\n",
      "\u001b[0m\n",
      "\u001b[34m#metrics {\"Metrics\": {\"train_binary_classification_cross_entropy_objective\": {\"count\": 1, \"max\": 1.4245138290245085, \"sum\": 1.4245138290245085, \"min\": 1.4245138290245085}}, \"EndTime\": 1604421764.184741, \"Dimensions\": {\"model\": 28, \"Host\": \"algo-1\", \"Operation\": \"training\", \"Algorithm\": \"Linear Learner\", \"epoch\": 7}, \"StartTime\": 1604421764.184733}\n",
      "\u001b[0m\n",
      "\u001b[34m#metrics {\"Metrics\": {\"train_binary_classification_cross_entropy_objective\": {\"count\": 1, \"max\": 1.954772779713967, \"sum\": 1.954772779713967, \"min\": 1.954772779713967}}, \"EndTime\": 1604421764.184775, \"Dimensions\": {\"model\": 29, \"Host\": \"algo-1\", \"Operation\": \"training\", \"Algorithm\": \"Linear Learner\", \"epoch\": 7}, \"StartTime\": 1604421764.184762}\n",
      "\u001b[0m\n",
      "\u001b[34m#metrics {\"Metrics\": {\"train_binary_classification_cross_entropy_objective\": {\"count\": 1, \"max\": 1.4244921742845327, \"sum\": 1.4244921742845327, \"min\": 1.4244921742845327}}, \"EndTime\": 1604421764.184828, \"Dimensions\": {\"model\": 30, \"Host\": \"algo-1\", \"Operation\": \"training\", \"Algorithm\": \"Linear Learner\", \"epoch\": 7}, \"StartTime\": 1604421764.184814}\n",
      "\u001b[0m\n",
      "\u001b[34m#metrics {\"Metrics\": {\"train_binary_classification_cross_entropy_objective\": {\"count\": 1, \"max\": 1.9556560713192448, \"sum\": 1.9556560713192448, \"min\": 1.9556560713192448}}, \"EndTime\": 1604421764.184862, \"Dimensions\": {\"model\": 31, \"Host\": \"algo-1\", \"Operation\": \"training\", \"Algorithm\": \"Linear Learner\", \"epoch\": 7}, \"StartTime\": 1604421764.184854}\n",
      "\u001b[0m\n",
      "\u001b[34m[11/03/2020 16:42:44 INFO 140649179998016] #quality_metric: host=algo-1, epoch=7, train binary_classification_cross_entropy_objective <loss>=0.547841396974\u001b[0m\n",
      "\u001b[34m[11/03/2020 16:42:44 INFO 140649179998016] #early_stopping_criteria_metric: host=algo-1, epoch=7, criteria=binary_classification_cross_entropy_objective, value=0.547497675503\u001b[0m\n",
      "\u001b[34m[11/03/2020 16:42:44 INFO 140649179998016] Epoch 7: Loss improved. Updating best model\u001b[0m\n",
      "\u001b[34m[11/03/2020 16:42:44 INFO 140649179998016] Saving model for epoch: 7\u001b[0m\n",
      "\u001b[34m[11/03/2020 16:42:44 INFO 140649179998016] Saved checkpoint to \"/tmp/tmpfh713C/mx-mod-0000.params\"\u001b[0m\n",
      "\u001b[34m[11/03/2020 16:42:44 INFO 140649179998016] #progress_metric: host=algo-1, completed 53 % of epochs\u001b[0m\n",
      "\u001b[34m#metrics {\"Metrics\": {\"Max Batches Seen Between Resets\": {\"count\": 1, \"max\": 65, \"sum\": 65.0, \"min\": 65}, \"Number of Batches Since Last Reset\": {\"count\": 1, \"max\": 65, \"sum\": 65.0, \"min\": 65}, \"Number of Records Since Last Reset\": {\"count\": 1, \"max\": 12971, \"sum\": 12971.0, \"min\": 12971}, \"Total Batches Seen\": {\"count\": 1, \"max\": 572, \"sum\": 572.0, \"min\": 572}, \"Total Records Seen\": {\"count\": 1, \"max\": 114168, \"sum\": 114168.0, \"min\": 114168}, \"Max Records Seen Between Resets\": {\"count\": 1, \"max\": 12971, \"sum\": 12971.0, \"min\": 12971}, \"Reset Count\": {\"count\": 1, \"max\": 10, \"sum\": 10.0, \"min\": 10}}, \"EndTime\": 1604421764.191982, \"Dimensions\": {\"Host\": \"algo-1\", \"Meta\": \"training_data_iter\", \"Operation\": \"training\", \"Algorithm\": \"Linear Learner\", \"epoch\": 7}, \"StartTime\": 1604421762.427878}\n",
      "\u001b[0m\n",
      "\u001b[34m[11/03/2020 16:42:44 INFO 140649179998016] #throughput_metric: host=algo-1, train throughput=7352.21195286 records/second\u001b[0m\n",
      "\u001b[34m[2020-11-03 16:42:45.996] [tensorio] [info] epoch_stats={\"data_pipeline\": \"/opt/ml/input/data/train\", \"epoch\": 19, \"duration\": 1804, \"num_examples\": 65, \"num_bytes\": 1089564}\u001b[0m\n",
      "\u001b[34m#metrics {\"Metrics\": {\"train_binary_classification_cross_entropy_objective\": {\"count\": 1, \"max\": 0.5460278659127653, \"sum\": 0.5460278659127653, \"min\": 0.5460278659127653}}, \"EndTime\": 1604421765.996699, \"Dimensions\": {\"model\": 0, \"Host\": \"algo-1\", \"Operation\": \"training\", \"Algorithm\": \"Linear Learner\", \"epoch\": 8}, \"StartTime\": 1604421765.996611}\n",
      "\u001b[0m\n",
      "\u001b[34m#metrics {\"Metrics\": {\"train_binary_classification_cross_entropy_objective\": {\"count\": 1, \"max\": 0.5632828166987747, \"sum\": 0.5632828166987747, \"min\": 0.5632828166987747}}, \"EndTime\": 1604421765.99681, \"Dimensions\": {\"model\": 1, \"Host\": \"algo-1\", \"Operation\": \"training\", \"Algorithm\": \"Linear Learner\", \"epoch\": 8}, \"StartTime\": 1604421765.996787}\n",
      "\u001b[0m\n",
      "\u001b[34m#metrics {\"Metrics\": {\"train_binary_classification_cross_entropy_objective\": {\"count\": 1, \"max\": 0.5459562577307224, \"sum\": 0.5459562577307224, \"min\": 0.5459562577307224}}, \"EndTime\": 1604421765.996878, \"Dimensions\": {\"model\": 2, \"Host\": \"algo-1\", \"Operation\": \"training\", \"Algorithm\": \"Linear Learner\", \"epoch\": 8}, \"StartTime\": 1604421765.996861}\n",
      "\u001b[0m\n",
      "\u001b[34m#metrics {\"Metrics\": {\"train_binary_classification_cross_entropy_objective\": {\"count\": 1, \"max\": 0.5630971333477646, \"sum\": 0.5630971333477646, \"min\": 0.5630971333477646}}, \"EndTime\": 1604421765.996939, \"Dimensions\": {\"model\": 3, \"Host\": \"algo-1\", \"Operation\": \"training\", \"Algorithm\": \"Linear Learner\", \"epoch\": 8}, \"StartTime\": 1604421765.996923}\n",
      "\u001b[0m\n",
      "\u001b[34m#metrics {\"Metrics\": {\"train_binary_classification_cross_entropy_objective\": {\"count\": 1, \"max\": 1.2485164018201163, \"sum\": 1.2485164018201163, \"min\": 1.2485164018201163}}, \"EndTime\": 1604421765.997002, \"Dimensions\": {\"model\": 4, \"Host\": \"algo-1\", \"Operation\": \"training\", \"Algorithm\": \"Linear Learner\", \"epoch\": 8}, \"StartTime\": 1604421765.996987}\n",
      "\u001b[0m\n",
      "\u001b[34m#metrics {\"Metrics\": {\"train_binary_classification_cross_entropy_objective\": {\"count\": 1, \"max\": 1.9186493241970402, \"sum\": 1.9186493241970402, \"min\": 1.9186493241970402}}, \"EndTime\": 1604421765.997061, \"Dimensions\": {\"model\": 5, \"Host\": \"algo-1\", \"Operation\": \"training\", \"Algorithm\": \"Linear Learner\", \"epoch\": 8}, \"StartTime\": 1604421765.997047}\n",
      "\u001b[0m\n",
      "\u001b[34m#metrics {\"Metrics\": {\"train_binary_classification_cross_entropy_objective\": {\"count\": 1, \"max\": 1.2597741404951837, \"sum\": 1.2597741404951837, \"min\": 1.2597741404951837}}, \"EndTime\": 1604421765.99712, \"Dimensions\": {\"model\": 6, \"Host\": \"algo-1\", \"Operation\": \"training\", \"Algorithm\": \"Linear Learner\", \"epoch\": 8}, \"StartTime\": 1604421765.997103}\n",
      "\u001b[0m\n",
      "\u001b[34m#metrics {\"Metrics\": {\"train_binary_classification_cross_entropy_objective\": {\"count\": 1, \"max\": 1.928443082455492, \"sum\": 1.928443082455492, \"min\": 1.928443082455492}}, \"EndTime\": 1604421765.997189, \"Dimensions\": {\"model\": 7, \"Host\": \"algo-1\", \"Operation\": \"training\", \"Algorithm\": \"Linear Learner\", \"epoch\": 8}, \"StartTime\": 1604421765.997171}\n",
      "\u001b[0m\n",
      "\u001b[34m#metrics {\"Metrics\": {\"train_binary_classification_cross_entropy_objective\": {\"count\": 1, \"max\": 0.5457510136347264, \"sum\": 0.5457510136347264, \"min\": 0.5457510136347264}}, \"EndTime\": 1604421765.997253, \"Dimensions\": {\"model\": 8, \"Host\": \"algo-1\", \"Operation\": \"training\", \"Algorithm\": \"Linear Learner\", \"epoch\": 8}, \"StartTime\": 1604421765.997235}\n",
      "\u001b[0m\n",
      "\u001b[34m#metrics {\"Metrics\": {\"train_binary_classification_cross_entropy_objective\": {\"count\": 1, \"max\": 0.5633685911213979, \"sum\": 0.5633685911213979, \"min\": 0.5633685911213979}}, \"EndTime\": 1604421765.997317, \"Dimensions\": {\"model\": 9, \"Host\": \"algo-1\", \"Operation\": \"training\", \"Algorithm\": \"Linear Learner\", \"epoch\": 8}, \"StartTime\": 1604421765.9973}\n",
      "\u001b[0m\n",
      "\u001b[34m#metrics {\"Metrics\": {\"train_binary_classification_cross_entropy_objective\": {\"count\": 1, \"max\": 0.545809555053711, \"sum\": 0.545809555053711, \"min\": 0.545809555053711}}, \"EndTime\": 1604421765.997377, \"Dimensions\": {\"model\": 10, \"Host\": \"algo-1\", \"Operation\": \"training\", \"Algorithm\": \"Linear Learner\", \"epoch\": 8}, \"StartTime\": 1604421765.99736}\n",
      "\u001b[0m\n",
      "\u001b[34m#metrics {\"Metrics\": {\"train_binary_classification_cross_entropy_objective\": {\"count\": 1, \"max\": 0.5634855070337653, \"sum\": 0.5634855070337653, \"min\": 0.5634855070337653}}, \"EndTime\": 1604421765.997458, \"Dimensions\": {\"model\": 11, \"Host\": \"algo-1\", \"Operation\": \"training\", \"Algorithm\": \"Linear Learner\", \"epoch\": 8}, \"StartTime\": 1604421765.997431}\n",
      "\u001b[0m\n",
      "\u001b[34m#metrics {\"Metrics\": {\"train_binary_classification_cross_entropy_objective\": {\"count\": 1, \"max\": 1.2866827777461192, \"sum\": 1.2866827777461192, \"min\": 1.2866827777461192}}, \"EndTime\": 1604421765.997527, \"Dimensions\": {\"model\": 12, \"Host\": \"algo-1\", \"Operation\": \"training\", \"Algorithm\": \"Linear Learner\", \"epoch\": 8}, \"StartTime\": 1604421765.99751}\n",
      "\u001b[0m\n",
      "\u001b[34m#metrics {\"Metrics\": {\"train_binary_classification_cross_entropy_objective\": {\"count\": 1, \"max\": 1.9714945872486487, \"sum\": 1.9714945872486487, \"min\": 1.9714945872486487}}, \"EndTime\": 1604421765.997621, \"Dimensions\": {\"model\": 13, \"Host\": \"algo-1\", \"Operation\": \"training\", \"Algorithm\": \"Linear Learner\", \"epoch\": 8}, \"StartTime\": 1604421765.997603}\n",
      "\u001b[0m\n",
      "\u001b[34m#metrics {\"Metrics\": {\"train_binary_classification_cross_entropy_objective\": {\"count\": 1, \"max\": 1.2851877619649537, \"sum\": 1.2851877619649537, \"min\": 1.2851877619649537}}, \"EndTime\": 1604421765.997691, \"Dimensions\": {\"model\": 14, \"Host\": \"algo-1\", \"Operation\": \"training\", \"Algorithm\": \"Linear Learner\", \"epoch\": 8}, \"StartTime\": 1604421765.997674}\n",
      "\u001b[0m\n",
      "\u001b[34m#metrics {\"Metrics\": {\"train_binary_classification_cross_entropy_objective\": {\"count\": 1, \"max\": 1.957298062303189, \"sum\": 1.957298062303189, \"min\": 1.957298062303189}}, \"EndTime\": 1604421765.99776, \"Dimensions\": {\"model\": 15, \"Host\": \"algo-1\", \"Operation\": \"training\", \"Algorithm\": \"Linear Learner\", \"epoch\": 8}, \"StartTime\": 1604421765.997743}\n",
      "\u001b[0m\n",
      "\u001b[34m#metrics {\"Metrics\": {\"train_binary_classification_cross_entropy_objective\": {\"count\": 1, \"max\": 0.5532130706310272, \"sum\": 0.5532130706310272, \"min\": 0.5532130706310272}}, \"EndTime\": 1604421765.997822, \"Dimensions\": {\"model\": 16, \"Host\": \"algo-1\", \"Operation\": \"training\", \"Algorithm\": \"Linear Learner\", \"epoch\": 8}, \"StartTime\": 1604421765.997806}\n",
      "\u001b[0m\n",
      "\u001b[34m#metrics {\"Metrics\": {\"train_binary_classification_cross_entropy_objective\": {\"count\": 1, \"max\": 0.5717144920118153, \"sum\": 0.5717144920118153, \"min\": 0.5717144920118153}}, \"EndTime\": 1604421765.997888, \"Dimensions\": {\"model\": 17, \"Host\": \"algo-1\", \"Operation\": \"training\", \"Algorithm\": \"Linear Learner\", \"epoch\": 8}, \"StartTime\": 1604421765.997871}\n",
      "\u001b[0m\n",
      "\u001b[34m#metrics {\"Metrics\": {\"train_binary_classification_cross_entropy_objective\": {\"count\": 1, \"max\": 0.553198117017746, \"sum\": 0.553198117017746, \"min\": 0.553198117017746}}, \"EndTime\": 1604421765.997945, \"Dimensions\": {\"model\": 18, \"Host\": \"algo-1\", \"Operation\": \"training\", \"Algorithm\": \"Linear Learner\", \"epoch\": 8}, \"StartTime\": 1604421765.997934}\n",
      "\u001b[0m\n",
      "\u001b[34m#metrics {\"Metrics\": {\"train_binary_classification_cross_entropy_objective\": {\"count\": 1, \"max\": 0.5717115825042128, \"sum\": 0.5717115825042128, \"min\": 0.5717115825042128}}, \"EndTime\": 1604421765.997994, \"Dimensions\": {\"model\": 19, \"Host\": \"algo-1\", \"Operation\": \"training\", \"Algorithm\": \"Linear Learner\", \"epoch\": 8}, \"StartTime\": 1604421765.997979}\n",
      "\u001b[0m\n",
      "\u001b[34m#metrics {\"Metrics\": {\"train_binary_classification_cross_entropy_objective\": {\"count\": 1, \"max\": 1.2885931384153673, \"sum\": 1.2885931384153673, \"min\": 1.2885931384153673}}, \"EndTime\": 1604421765.998057, \"Dimensions\": {\"model\": 20, \"Host\": \"algo-1\", \"Operation\": \"training\", \"Algorithm\": \"Linear Learner\", \"epoch\": 8}, \"StartTime\": 1604421765.99804}\n",
      "\u001b[0m\n",
      "\u001b[34m#metrics {\"Metrics\": {\"train_binary_classification_cross_entropy_objective\": {\"count\": 1, \"max\": 1.9618328140320649, \"sum\": 1.9618328140320649, \"min\": 1.9618328140320649}}, \"EndTime\": 1604421765.99812, \"Dimensions\": {\"model\": 21, \"Host\": \"algo-1\", \"Operation\": \"training\", \"Algorithm\": \"Linear Learner\", \"epoch\": 8}, \"StartTime\": 1604421765.998103}\n",
      "\u001b[0m\n",
      "\u001b[34m#metrics {\"Metrics\": {\"train_binary_classification_cross_entropy_objective\": {\"count\": 1, \"max\": 1.2889541225734729, \"sum\": 1.2889541225734729, \"min\": 1.2889541225734729}}, \"EndTime\": 1604421765.998181, \"Dimensions\": {\"model\": 22, \"Host\": \"algo-1\", \"Operation\": \"training\", \"Algorithm\": \"Linear Learner\", \"epoch\": 8}, \"StartTime\": 1604421765.998164}\n",
      "\u001b[0m\n",
      "\u001b[34m#metrics {\"Metrics\": {\"train_binary_classification_cross_entropy_objective\": {\"count\": 1, \"max\": 1.9610666327275672, \"sum\": 1.9610666327275672, \"min\": 1.9610666327275672}}, \"EndTime\": 1604421765.998239, \"Dimensions\": {\"model\": 23, \"Host\": \"algo-1\", \"Operation\": \"training\", \"Algorithm\": \"Linear Learner\", \"epoch\": 8}, \"StartTime\": 1604421765.998223}\n",
      "\u001b[0m\n",
      "\u001b[34m#metrics {\"Metrics\": {\"train_binary_classification_cross_entropy_objective\": {\"count\": 1, \"max\": 0.684516218304634, \"sum\": 0.684516218304634, \"min\": 0.684516218304634}}, \"EndTime\": 1604421765.998302, \"Dimensions\": {\"model\": 24, \"Host\": \"algo-1\", \"Operation\": \"training\", \"Algorithm\": \"Linear Learner\", \"epoch\": 8}, \"StartTime\": 1604421765.998286}\n",
      "\u001b[0m\n",
      "\u001b[34m#metrics {\"Metrics\": {\"train_binary_classification_cross_entropy_objective\": {\"count\": 1, \"max\": 0.6981586188077926, \"sum\": 0.6981586188077926, \"min\": 0.6981586188077926}}, \"EndTime\": 1604421765.998364, \"Dimensions\": {\"model\": 25, \"Host\": \"algo-1\", \"Operation\": \"training\", \"Algorithm\": \"Linear Learner\", \"epoch\": 8}, \"StartTime\": 1604421765.998346}\n",
      "\u001b[0m\n",
      "\u001b[34m#metrics {\"Metrics\": {\"train_binary_classification_cross_entropy_objective\": {\"count\": 1, \"max\": 0.6844479775428772, \"sum\": 0.6844479775428772, \"min\": 0.6844479775428772}}, \"EndTime\": 1604421765.998418, \"Dimensions\": {\"model\": 26, \"Host\": \"algo-1\", \"Operation\": \"training\", \"Algorithm\": \"Linear Learner\", \"epoch\": 8}, \"StartTime\": 1604421765.998404}\n",
      "\u001b[0m\n",
      "\u001b[34m#metrics {\"Metrics\": {\"train_binary_classification_cross_entropy_objective\": {\"count\": 1, \"max\": 0.6984273988008499, \"sum\": 0.6984273988008499, \"min\": 0.6984273988008499}}, \"EndTime\": 1604421765.998462, \"Dimensions\": {\"model\": 27, \"Host\": \"algo-1\", \"Operation\": \"training\", \"Algorithm\": \"Linear Learner\", \"epoch\": 8}, \"StartTime\": 1604421765.998447}\n",
      "\u001b[0m\n",
      "\u001b[34m#metrics {\"Metrics\": {\"train_binary_classification_cross_entropy_objective\": {\"count\": 1, \"max\": 1.3540417418070136, \"sum\": 1.3540417418070136, \"min\": 1.3540417418070136}}, \"EndTime\": 1604421765.998524, \"Dimensions\": {\"model\": 28, \"Host\": \"algo-1\", \"Operation\": \"training\", \"Algorithm\": \"Linear Learner\", \"epoch\": 8}, \"StartTime\": 1604421765.998507}\n",
      "\u001b[0m\n",
      "\u001b[34m#metrics {\"Metrics\": {\"train_binary_classification_cross_entropy_objective\": {\"count\": 1, \"max\": 1.9291871673066634, \"sum\": 1.9291871673066634, \"min\": 1.9291871673066634}}, \"EndTime\": 1604421765.998579, \"Dimensions\": {\"model\": 29, \"Host\": \"algo-1\", \"Operation\": \"training\", \"Algorithm\": \"Linear Learner\", \"epoch\": 8}, \"StartTime\": 1604421765.998563}\n",
      "\u001b[0m\n",
      "\u001b[34m#metrics {\"Metrics\": {\"train_binary_classification_cross_entropy_objective\": {\"count\": 1, \"max\": 1.3540566029027103, \"sum\": 1.3540566029027103, \"min\": 1.3540566029027103}}, \"EndTime\": 1604421765.998625, \"Dimensions\": {\"model\": 30, \"Host\": \"algo-1\", \"Operation\": \"training\", \"Algorithm\": \"Linear Learner\", \"epoch\": 8}, \"StartTime\": 1604421765.998613}\n",
      "\u001b[0m\n",
      "\u001b[34m#metrics {\"Metrics\": {\"train_binary_classification_cross_entropy_objective\": {\"count\": 1, \"max\": 1.93050582030206, \"sum\": 1.93050582030206, \"min\": 1.93050582030206}}, \"EndTime\": 1604421765.998676, \"Dimensions\": {\"model\": 31, \"Host\": \"algo-1\", \"Operation\": \"training\", \"Algorithm\": \"Linear Learner\", \"epoch\": 8}, \"StartTime\": 1604421765.998661}\n",
      "\u001b[0m\n",
      "\u001b[34m[11/03/2020 16:42:45 INFO 140649179998016] #quality_metric: host=algo-1, epoch=8, train binary_classification_cross_entropy_objective <loss>=0.546027865913\u001b[0m\n",
      "\u001b[34m[11/03/2020 16:42:46 INFO 140649179998016] #early_stopping_criteria_metric: host=algo-1, epoch=8, criteria=binary_classification_cross_entropy_objective, value=0.545751013635\u001b[0m\n",
      "\u001b[34m[11/03/2020 16:42:46 INFO 140649179998016] Epoch 8: Loss improved. Updating best model\u001b[0m\n",
      "\u001b[34m[11/03/2020 16:42:46 INFO 140649179998016] Saving model for epoch: 8\u001b[0m\n",
      "\u001b[34m[11/03/2020 16:42:46 INFO 140649179998016] Saved checkpoint to \"/tmp/tmpUOdGkz/mx-mod-0000.params\"\u001b[0m\n",
      "\u001b[34m[11/03/2020 16:42:46 INFO 140649179998016] #progress_metric: host=algo-1, completed 60 % of epochs\u001b[0m\n",
      "\u001b[34m#metrics {\"Metrics\": {\"Max Batches Seen Between Resets\": {\"count\": 1, \"max\": 65, \"sum\": 65.0, \"min\": 65}, \"Number of Batches Since Last Reset\": {\"count\": 1, \"max\": 65, \"sum\": 65.0, \"min\": 65}, \"Number of Records Since Last Reset\": {\"count\": 1, \"max\": 12971, \"sum\": 12971.0, \"min\": 12971}, \"Total Batches Seen\": {\"count\": 1, \"max\": 637, \"sum\": 637.0, \"min\": 637}, \"Total Records Seen\": {\"count\": 1, \"max\": 127139, \"sum\": 127139.0, \"min\": 127139}, \"Max Records Seen Between Resets\": {\"count\": 1, \"max\": 12971, \"sum\": 12971.0, \"min\": 12971}, \"Reset Count\": {\"count\": 1, \"max\": 11, \"sum\": 11.0, \"min\": 11}}, \"EndTime\": 1604421766.005403, \"Dimensions\": {\"Host\": \"algo-1\", \"Meta\": \"training_data_iter\", \"Operation\": \"training\", \"Algorithm\": \"Linear Learner\", \"epoch\": 8}, \"StartTime\": 1604421764.192257}\n",
      "\u001b[0m\n",
      "\u001b[34m[11/03/2020 16:42:46 INFO 140649179998016] #throughput_metric: host=algo-1, train throughput=7153.37918198 records/second\u001b[0m\n",
      "\u001b[34m[2020-11-03 16:42:47.825] [tensorio] [info] epoch_stats={\"data_pipeline\": \"/opt/ml/input/data/train\", \"epoch\": 21, \"duration\": 1820, \"num_examples\": 65, \"num_bytes\": 1089564}\u001b[0m\n",
      "\u001b[34m#metrics {\"Metrics\": {\"train_binary_classification_cross_entropy_objective\": {\"count\": 1, \"max\": 0.5443668782059103, \"sum\": 0.5443668782059103, \"min\": 0.5443668782059103}}, \"EndTime\": 1604421767.826001, \"Dimensions\": {\"model\": 0, \"Host\": \"algo-1\", \"Operation\": \"training\", \"Algorithm\": \"Linear Learner\", \"epoch\": 9}, \"StartTime\": 1604421767.82591}\n",
      "\u001b[0m\n",
      "\u001b[34m#metrics {\"Metrics\": {\"train_binary_classification_cross_entropy_objective\": {\"count\": 1, \"max\": 0.5633325978461653, \"sum\": 0.5633325978461653, \"min\": 0.5633325978461653}}, \"EndTime\": 1604421767.826105, \"Dimensions\": {\"model\": 1, \"Host\": \"algo-1\", \"Operation\": \"training\", \"Algorithm\": \"Linear Learner\", \"epoch\": 9}, \"StartTime\": 1604421767.826083}\n",
      "\u001b[0m\n",
      "\u001b[34m#metrics {\"Metrics\": {\"train_binary_classification_cross_entropy_objective\": {\"count\": 1, \"max\": 0.5443103238753975, \"sum\": 0.5443103238753975, \"min\": 0.5443103238753975}}, \"EndTime\": 1604421767.826177, \"Dimensions\": {\"model\": 2, \"Host\": \"algo-1\", \"Operation\": \"training\", \"Algorithm\": \"Linear Learner\", \"epoch\": 9}, \"StartTime\": 1604421767.826159}\n",
      "\u001b[0m\n",
      "\u001b[34m#metrics {\"Metrics\": {\"train_binary_classification_cross_entropy_objective\": {\"count\": 1, \"max\": 0.5631682655122131, \"sum\": 0.5631682655122131, \"min\": 0.5631682655122131}}, \"EndTime\": 1604421767.826234, \"Dimensions\": {\"model\": 3, \"Host\": \"algo-1\", \"Operation\": \"training\", \"Algorithm\": \"Linear Learner\", \"epoch\": 9}, \"StartTime\": 1604421767.826217}\n",
      "\u001b[0m\n",
      "\u001b[34m#metrics {\"Metrics\": {\"train_binary_classification_cross_entropy_objective\": {\"count\": 1, \"max\": 1.2819696052214977, \"sum\": 1.2819696052214977, \"min\": 1.2819696052214977}}, \"EndTime\": 1604421767.826288, \"Dimensions\": {\"model\": 4, \"Host\": \"algo-1\", \"Operation\": \"training\", \"Algorithm\": \"Linear Learner\", \"epoch\": 9}, \"StartTime\": 1604421767.826272}\n",
      "\u001b[0m\n",
      "\u001b[34m#metrics {\"Metrics\": {\"train_binary_classification_cross_entropy_objective\": {\"count\": 1, \"max\": 2.003996672565595, \"sum\": 2.003996672565595, \"min\": 2.003996672565595}}, \"EndTime\": 1604421767.826351, \"Dimensions\": {\"model\": 5, \"Host\": \"algo-1\", \"Operation\": \"training\", \"Algorithm\": \"Linear Learner\", \"epoch\": 9}, \"StartTime\": 1604421767.826334}\n",
      "\u001b[0m\n",
      "\u001b[34m#metrics {\"Metrics\": {\"train_binary_classification_cross_entropy_objective\": {\"count\": 1, \"max\": 1.2843416468066835, \"sum\": 1.2843416468066835, \"min\": 1.2843416468066835}}, \"EndTime\": 1604421767.82641, \"Dimensions\": {\"model\": 6, \"Host\": \"algo-1\", \"Operation\": \"training\", \"Algorithm\": \"Linear Learner\", \"epoch\": 9}, \"StartTime\": 1604421767.826394}\n",
      "\u001b[0m\n",
      "\u001b[34m#metrics {\"Metrics\": {\"train_binary_classification_cross_entropy_objective\": {\"count\": 1, \"max\": 2.0011310556046307, \"sum\": 2.0011310556046307, \"min\": 2.0011310556046307}}, \"EndTime\": 1604421767.826471, \"Dimensions\": {\"model\": 7, \"Host\": \"algo-1\", \"Operation\": \"training\", \"Algorithm\": \"Linear Learner\", \"epoch\": 9}, \"StartTime\": 1604421767.826457}\n",
      "\u001b[0m\n",
      "\u001b[34m#metrics {\"Metrics\": {\"train_binary_classification_cross_entropy_objective\": {\"count\": 1, \"max\": 0.5441416799649597, \"sum\": 0.5441416799649597, \"min\": 0.5441416799649597}}, \"EndTime\": 1604421767.826534, \"Dimensions\": {\"model\": 8, \"Host\": \"algo-1\", \"Operation\": \"training\", \"Algorithm\": \"Linear Learner\", \"epoch\": 9}, \"StartTime\": 1604421767.826518}\n",
      "\u001b[0m\n",
      "\u001b[34m#metrics {\"Metrics\": {\"train_binary_classification_cross_entropy_objective\": {\"count\": 1, \"max\": 0.5634084622422233, \"sum\": 0.5634084622422233, \"min\": 0.5634084622422233}}, \"EndTime\": 1604421767.826577, \"Dimensions\": {\"model\": 9, \"Host\": \"algo-1\", \"Operation\": \"training\", \"Algorithm\": \"Linear Learner\", \"epoch\": 9}, \"StartTime\": 1604421767.826563}\n",
      "\u001b[0m\n",
      "\u001b[34m#metrics {\"Metrics\": {\"train_binary_classification_cross_entropy_objective\": {\"count\": 1, \"max\": 0.5441868014540523, \"sum\": 0.5441868014540523, \"min\": 0.5441868014540523}}, \"EndTime\": 1604421767.826651, \"Dimensions\": {\"model\": 10, \"Host\": \"algo-1\", \"Operation\": \"training\", \"Algorithm\": \"Linear Learner\", \"epoch\": 9}, \"StartTime\": 1604421767.826634}\n",
      "\u001b[0m\n",
      "\u001b[34m#metrics {\"Metrics\": {\"train_binary_classification_cross_entropy_objective\": {\"count\": 1, \"max\": 0.5635096282605082, \"sum\": 0.5635096282605082, \"min\": 0.5635096282605082}}, \"EndTime\": 1604421767.826718, \"Dimensions\": {\"model\": 11, \"Host\": \"algo-1\", \"Operation\": \"training\", \"Algorithm\": \"Linear Learner\", \"epoch\": 9}, \"StartTime\": 1604421767.826701}\n",
      "\u001b[0m\n",
      "\u001b[34m#metrics {\"Metrics\": {\"train_binary_classification_cross_entropy_objective\": {\"count\": 1, \"max\": 1.2696437488840115, \"sum\": 1.2696437488840115, \"min\": 1.2696437488840115}}, \"EndTime\": 1604421767.826775, \"Dimensions\": {\"model\": 12, \"Host\": \"algo-1\", \"Operation\": \"training\", \"Algorithm\": \"Linear Learner\", \"epoch\": 9}, \"StartTime\": 1604421767.826759}\n",
      "\u001b[0m\n",
      "\u001b[34m#metrics {\"Metrics\": {\"train_binary_classification_cross_entropy_objective\": {\"count\": 1, \"max\": 1.9668588263576752, \"sum\": 1.9668588263576752, \"min\": 1.9668588263576752}}, \"EndTime\": 1604421767.826828, \"Dimensions\": {\"model\": 13, \"Host\": \"algo-1\", \"Operation\": \"training\", \"Algorithm\": \"Linear Learner\", \"epoch\": 9}, \"StartTime\": 1604421767.826812}\n",
      "\u001b[0m\n",
      "\u001b[34m#metrics {\"Metrics\": {\"train_binary_classification_cross_entropy_objective\": {\"count\": 1, \"max\": 1.270169701714716, \"sum\": 1.270169701714716, \"min\": 1.270169701714716}}, \"EndTime\": 1604421767.826875, \"Dimensions\": {\"model\": 14, \"Host\": \"algo-1\", \"Operation\": \"training\", \"Algorithm\": \"Linear Learner\", \"epoch\": 9}, \"StartTime\": 1604421767.82686}\n",
      "\u001b[0m\n",
      "\u001b[34m#metrics {\"Metrics\": {\"train_binary_classification_cross_entropy_objective\": {\"count\": 1, \"max\": 1.9774975899694622, \"sum\": 1.9774975899694622, \"min\": 1.9774975899694622}}, \"EndTime\": 1604421767.826933, \"Dimensions\": {\"model\": 15, \"Host\": \"algo-1\", \"Operation\": \"training\", \"Algorithm\": \"Linear Learner\", \"epoch\": 9}, \"StartTime\": 1604421767.826917}\n",
      "\u001b[0m\n",
      "\u001b[34m#metrics {\"Metrics\": {\"train_binary_classification_cross_entropy_objective\": {\"count\": 1, \"max\": 0.5514828501269221, \"sum\": 0.5514828501269221, \"min\": 0.5514828501269221}}, \"EndTime\": 1604421767.826996, \"Dimensions\": {\"model\": 16, \"Host\": \"algo-1\", \"Operation\": \"training\", \"Algorithm\": \"Linear Learner\", \"epoch\": 9}, \"StartTime\": 1604421767.826979}\n",
      "\u001b[0m\n",
      "\u001b[34m#metrics {\"Metrics\": {\"train_binary_classification_cross_entropy_objective\": {\"count\": 1, \"max\": 0.571707619484514, \"sum\": 0.571707619484514, \"min\": 0.571707619484514}}, \"EndTime\": 1604421767.827056, \"Dimensions\": {\"model\": 17, \"Host\": \"algo-1\", \"Operation\": \"training\", \"Algorithm\": \"Linear Learner\", \"epoch\": 9}, \"StartTime\": 1604421767.82704}\n",
      "\u001b[0m\n",
      "\u001b[34m#metrics {\"Metrics\": {\"train_binary_classification_cross_entropy_objective\": {\"count\": 1, \"max\": 0.5514707947149873, \"sum\": 0.5514707947149873, \"min\": 0.5514707947149873}}, \"EndTime\": 1604421767.827116, \"Dimensions\": {\"model\": 18, \"Host\": \"algo-1\", \"Operation\": \"training\", \"Algorithm\": \"Linear Learner\", \"epoch\": 9}, \"StartTime\": 1604421767.827098}\n",
      "\u001b[0m\n",
      "\u001b[34m#metrics {\"Metrics\": {\"train_binary_classification_cross_entropy_objective\": {\"count\": 1, \"max\": 0.5717051427997649, \"sum\": 0.5717051427997649, \"min\": 0.5717051427997649}}, \"EndTime\": 1604421767.827182, \"Dimensions\": {\"model\": 19, \"Host\": \"algo-1\", \"Operation\": \"training\", \"Algorithm\": \"Linear Learner\", \"epoch\": 9}, \"StartTime\": 1604421767.827164}\n",
      "\u001b[0m\n",
      "\u001b[34m#metrics {\"Metrics\": {\"train_binary_classification_cross_entropy_objective\": {\"count\": 1, \"max\": 1.2317596628083267, \"sum\": 1.2317596628083267, \"min\": 1.2317596628083267}}, \"EndTime\": 1604421767.827245, \"Dimensions\": {\"model\": 20, \"Host\": \"algo-1\", \"Operation\": \"training\", \"Algorithm\": \"Linear Learner\", \"epoch\": 9}, \"StartTime\": 1604421767.827229}\n",
      "\u001b[0m\n",
      "\u001b[34m#metrics {\"Metrics\": {\"train_binary_classification_cross_entropy_objective\": {\"count\": 1, \"max\": 1.957629907405228, \"sum\": 1.957629907405228, \"min\": 1.957629907405228}}, \"EndTime\": 1604421767.827304, \"Dimensions\": {\"model\": 21, \"Host\": \"algo-1\", \"Operation\": \"training\", \"Algorithm\": \"Linear Learner\", \"epoch\": 9}, \"StartTime\": 1604421767.827288}\n",
      "\u001b[0m\n",
      "\u001b[34m#metrics {\"Metrics\": {\"train_binary_classification_cross_entropy_objective\": {\"count\": 1, \"max\": 1.2320105353424153, \"sum\": 1.2320105353424153, \"min\": 1.2320105353424153}}, \"EndTime\": 1604421767.827369, \"Dimensions\": {\"model\": 22, \"Host\": \"algo-1\", \"Operation\": \"training\", \"Algorithm\": \"Linear Learner\", \"epoch\": 9}, \"StartTime\": 1604421767.827353}\n",
      "\u001b[0m\n",
      "\u001b[34m#metrics {\"Metrics\": {\"train_binary_classification_cross_entropy_objective\": {\"count\": 1, \"max\": 1.9570071330740324, \"sum\": 1.9570071330740324, \"min\": 1.9570071330740324}}, \"EndTime\": 1604421767.827425, \"Dimensions\": {\"model\": 23, \"Host\": \"algo-1\", \"Operation\": \"training\", \"Algorithm\": \"Linear Learner\", \"epoch\": 9}, \"StartTime\": 1604421767.82741}\n",
      "\u001b[0m\n",
      "\u001b[34m#metrics {\"Metrics\": {\"train_binary_classification_cross_entropy_objective\": {\"count\": 1, \"max\": 0.6819769978523255, \"sum\": 0.6819769978523255, \"min\": 0.6819769978523255}}, \"EndTime\": 1604421767.827481, \"Dimensions\": {\"model\": 24, \"Host\": \"algo-1\", \"Operation\": \"training\", \"Algorithm\": \"Linear Learner\", \"epoch\": 9}, \"StartTime\": 1604421767.827465}\n",
      "\u001b[0m\n",
      "\u001b[34m#metrics {\"Metrics\": {\"train_binary_classification_cross_entropy_objective\": {\"count\": 1, \"max\": 0.698475934267044, \"sum\": 0.698475934267044, \"min\": 0.698475934267044}}, \"EndTime\": 1604421767.82754, \"Dimensions\": {\"model\": 25, \"Host\": \"algo-1\", \"Operation\": \"training\", \"Algorithm\": \"Linear Learner\", \"epoch\": 9}, \"StartTime\": 1604421767.827524}\n",
      "\u001b[0m\n",
      "\u001b[34m#metrics {\"Metrics\": {\"train_binary_classification_cross_entropy_objective\": {\"count\": 1, \"max\": 0.6819305282831192, \"sum\": 0.6819305282831192, \"min\": 0.6819305282831192}}, \"EndTime\": 1604421767.827599, \"Dimensions\": {\"model\": 26, \"Host\": \"algo-1\", \"Operation\": \"training\", \"Algorithm\": \"Linear Learner\", \"epoch\": 9}, \"StartTime\": 1604421767.827583}\n",
      "\u001b[0m\n",
      "\u001b[34m#metrics {\"Metrics\": {\"train_binary_classification_cross_entropy_objective\": {\"count\": 1, \"max\": 0.6987220472097397, \"sum\": 0.6987220472097397, \"min\": 0.6987220472097397}}, \"EndTime\": 1604421767.827658, \"Dimensions\": {\"model\": 27, \"Host\": \"algo-1\", \"Operation\": \"training\", \"Algorithm\": \"Linear Learner\", \"epoch\": 9}, \"StartTime\": 1604421767.827642}\n",
      "\u001b[0m\n",
      "\u001b[34m#metrics {\"Metrics\": {\"train_binary_classification_cross_entropy_objective\": {\"count\": 1, \"max\": 1.2923229102417826, \"sum\": 1.2923229102417826, \"min\": 1.2923229102417826}}, \"EndTime\": 1604421767.827717, \"Dimensions\": {\"model\": 28, \"Host\": \"algo-1\", \"Operation\": \"training\", \"Algorithm\": \"Linear Learner\", \"epoch\": 9}, \"StartTime\": 1604421767.8277}\n",
      "\u001b[0m\n",
      "\u001b[34m#metrics {\"Metrics\": {\"train_binary_classification_cross_entropy_objective\": {\"count\": 1, \"max\": 1.9215993878326845, \"sum\": 1.9215993878326845, \"min\": 1.9215993878326845}}, \"EndTime\": 1604421767.827773, \"Dimensions\": {\"model\": 29, \"Host\": \"algo-1\", \"Operation\": \"training\", \"Algorithm\": \"Linear Learner\", \"epoch\": 9}, \"StartTime\": 1604421767.827758}\n",
      "\u001b[0m\n",
      "\u001b[34m#metrics {\"Metrics\": {\"train_binary_classification_cross_entropy_objective\": {\"count\": 1, \"max\": 1.2923351838625967, \"sum\": 1.2923351838625967, \"min\": 1.2923351838625967}}, \"EndTime\": 1604421767.82784, \"Dimensions\": {\"model\": 30, \"Host\": \"algo-1\", \"Operation\": \"training\", \"Algorithm\": \"Linear Learner\", \"epoch\": 9}, \"StartTime\": 1604421767.827822}\n",
      "\u001b[0m\n",
      "\u001b[34m#metrics {\"Metrics\": {\"train_binary_classification_cross_entropy_objective\": {\"count\": 1, \"max\": 1.922798702045111, \"sum\": 1.922798702045111, \"min\": 1.922798702045111}}, \"EndTime\": 1604421767.827901, \"Dimensions\": {\"model\": 31, \"Host\": \"algo-1\", \"Operation\": \"training\", \"Algorithm\": \"Linear Learner\", \"epoch\": 9}, \"StartTime\": 1604421767.827883}\n",
      "\u001b[0m\n",
      "\u001b[34m[11/03/2020 16:42:47 INFO 140649179998016] #quality_metric: host=algo-1, epoch=9, train binary_classification_cross_entropy_objective <loss>=0.544366878206\u001b[0m\n",
      "\u001b[34m[11/03/2020 16:42:47 INFO 140649179998016] #early_stopping_criteria_metric: host=algo-1, epoch=9, criteria=binary_classification_cross_entropy_objective, value=0.544141679965\u001b[0m\n",
      "\u001b[34m[11/03/2020 16:42:47 INFO 140649179998016] Epoch 9: Loss improved. Updating best model\u001b[0m\n",
      "\u001b[34m[11/03/2020 16:42:47 INFO 140649179998016] Saving model for epoch: 9\u001b[0m\n",
      "\u001b[34m[11/03/2020 16:42:47 INFO 140649179998016] Saved checkpoint to \"/tmp/tmpt5vyef/mx-mod-0000.params\"\u001b[0m\n",
      "\u001b[34m[11/03/2020 16:42:47 INFO 140649179998016] #progress_metric: host=algo-1, completed 66 % of epochs\u001b[0m\n",
      "\u001b[34m#metrics {\"Metrics\": {\"Max Batches Seen Between Resets\": {\"count\": 1, \"max\": 65, \"sum\": 65.0, \"min\": 65}, \"Number of Batches Since Last Reset\": {\"count\": 1, \"max\": 65, \"sum\": 65.0, \"min\": 65}, \"Number of Records Since Last Reset\": {\"count\": 1, \"max\": 12971, \"sum\": 12971.0, \"min\": 12971}, \"Total Batches Seen\": {\"count\": 1, \"max\": 702, \"sum\": 702.0, \"min\": 702}, \"Total Records Seen\": {\"count\": 1, \"max\": 140110, \"sum\": 140110.0, \"min\": 140110}, \"Max Records Seen Between Resets\": {\"count\": 1, \"max\": 12971, \"sum\": 12971.0, \"min\": 12971}, \"Reset Count\": {\"count\": 1, \"max\": 12, \"sum\": 12.0, \"min\": 12}}, \"EndTime\": 1604421767.835015, \"Dimensions\": {\"Host\": \"algo-1\", \"Meta\": \"training_data_iter\", \"Operation\": \"training\", \"Algorithm\": \"Linear Learner\", \"epoch\": 9}, \"StartTime\": 1604421766.005684}\n",
      "\u001b[0m\n",
      "\u001b[34m[11/03/2020 16:42:47 INFO 140649179998016] #throughput_metric: host=algo-1, train throughput=7090.14827582 records/second\u001b[0m\n",
      "\u001b[34m[2020-11-03 16:42:49.665] [tensorio] [info] epoch_stats={\"data_pipeline\": \"/opt/ml/input/data/train\", \"epoch\": 23, \"duration\": 1830, \"num_examples\": 65, \"num_bytes\": 1089564}\u001b[0m\n",
      "\u001b[34m#metrics {\"Metrics\": {\"train_binary_classification_cross_entropy_objective\": {\"count\": 1, \"max\": 0.5427398094395176, \"sum\": 0.5427398094395176, \"min\": 0.5427398094395176}}, \"EndTime\": 1604421769.666073, \"Dimensions\": {\"model\": 0, \"Host\": \"algo-1\", \"Operation\": \"training\", \"Algorithm\": \"Linear Learner\", \"epoch\": 10}, \"StartTime\": 1604421769.665979}\n",
      "\u001b[0m\n",
      "\u001b[34m#metrics {\"Metrics\": {\"train_binary_classification_cross_entropy_objective\": {\"count\": 1, \"max\": 0.5630410943413153, \"sum\": 0.5630410943413153, \"min\": 0.5630410943413153}}, \"EndTime\": 1604421769.666177, \"Dimensions\": {\"model\": 1, \"Host\": \"algo-1\", \"Operation\": \"training\", \"Algorithm\": \"Linear Learner\", \"epoch\": 10}, \"StartTime\": 1604421769.666156}\n",
      "\u001b[0m\n",
      "\u001b[34m#metrics {\"Metrics\": {\"train_binary_classification_cross_entropy_objective\": {\"count\": 1, \"max\": 0.5426949575915933, \"sum\": 0.5426949575915933, \"min\": 0.5426949575915933}}, \"EndTime\": 1604421769.666251, \"Dimensions\": {\"model\": 2, \"Host\": \"algo-1\", \"Operation\": \"training\", \"Algorithm\": \"Linear Learner\", \"epoch\": 10}, \"StartTime\": 1604421769.666231}\n",
      "\u001b[0m\n",
      "\u001b[34m#metrics {\"Metrics\": {\"train_binary_classification_cross_entropy_objective\": {\"count\": 1, \"max\": 0.5628946873731911, \"sum\": 0.5628946873731911, \"min\": 0.5628946873731911}}, \"EndTime\": 1604421769.666309, \"Dimensions\": {\"model\": 3, \"Host\": \"algo-1\", \"Operation\": \"training\", \"Algorithm\": \"Linear Learner\", \"epoch\": 10}, \"StartTime\": 1604421769.666296}\n",
      "\u001b[0m\n",
      "\u001b[34m#metrics {\"Metrics\": {\"train_binary_classification_cross_entropy_objective\": {\"count\": 1, \"max\": 1.1612079298295612, \"sum\": 1.1612079298295612, \"min\": 1.1612079298295612}}, \"EndTime\": 1604421769.666349, \"Dimensions\": {\"model\": 4, \"Host\": \"algo-1\", \"Operation\": \"training\", \"Algorithm\": \"Linear Learner\", \"epoch\": 10}, \"StartTime\": 1604421769.666335}\n",
      "\u001b[0m\n",
      "\u001b[34m#metrics {\"Metrics\": {\"train_binary_classification_cross_entropy_objective\": {\"count\": 1, \"max\": 1.8914396646686782, \"sum\": 1.8914396646686782, \"min\": 1.8914396646686782}}, \"EndTime\": 1604421769.666412, \"Dimensions\": {\"model\": 5, \"Host\": \"algo-1\", \"Operation\": \"training\", \"Algorithm\": \"Linear Learner\", \"epoch\": 10}, \"StartTime\": 1604421769.666395}\n",
      "\u001b[0m\n",
      "\u001b[34m#metrics {\"Metrics\": {\"train_binary_classification_cross_entropy_objective\": {\"count\": 1, \"max\": 1.1651868894950712, \"sum\": 1.1651868894950712, \"min\": 1.1651868894950712}}, \"EndTime\": 1604421769.666478, \"Dimensions\": {\"model\": 6, \"Host\": \"algo-1\", \"Operation\": \"training\", \"Algorithm\": \"Linear Learner\", \"epoch\": 10}, \"StartTime\": 1604421769.666461}\n",
      "\u001b[0m\n",
      "\u001b[34m#metrics {\"Metrics\": {\"train_binary_classification_cross_entropy_objective\": {\"count\": 1, \"max\": 1.8939079614840466, \"sum\": 1.8939079614840466, \"min\": 1.8939079614840466}}, \"EndTime\": 1604421769.666539, \"Dimensions\": {\"model\": 7, \"Host\": \"algo-1\", \"Operation\": \"training\", \"Algorithm\": \"Linear Learner\", \"epoch\": 10}, \"StartTime\": 1604421769.666522}\n",
      "\u001b[0m\n",
      "\u001b[34m#metrics {\"Metrics\": {\"train_binary_classification_cross_entropy_objective\": {\"count\": 1, \"max\": 0.5425550795439631, \"sum\": 0.5425550795439631, \"min\": 0.5425550795439631}}, \"EndTime\": 1604421769.666611, \"Dimensions\": {\"model\": 8, \"Host\": \"algo-1\", \"Operation\": \"training\", \"Algorithm\": \"Linear Learner\", \"epoch\": 10}, \"StartTime\": 1604421769.666593}\n",
      "\u001b[0m\n",
      "\u001b[34m#metrics {\"Metrics\": {\"train_binary_classification_cross_entropy_objective\": {\"count\": 1, \"max\": 0.5631091857887804, \"sum\": 0.5631091857887804, \"min\": 0.5631091857887804}}, \"EndTime\": 1604421769.666671, \"Dimensions\": {\"model\": 9, \"Host\": \"algo-1\", \"Operation\": \"training\", \"Algorithm\": \"Linear Learner\", \"epoch\": 10}, \"StartTime\": 1604421769.66666}\n",
      "\u001b[0m\n",
      "\u001b[34m#metrics {\"Metrics\": {\"train_binary_classification_cross_entropy_objective\": {\"count\": 1, \"max\": 0.5425895973574371, \"sum\": 0.5425895973574371, \"min\": 0.5425895973574371}}, \"EndTime\": 1604421769.666744, \"Dimensions\": {\"model\": 10, \"Host\": \"algo-1\", \"Operation\": \"training\", \"Algorithm\": \"Linear Learner\", \"epoch\": 10}, \"StartTime\": 1604421769.666726}\n",
      "\u001b[0m\n",
      "\u001b[34m#metrics {\"Metrics\": {\"train_binary_classification_cross_entropy_objective\": {\"count\": 1, \"max\": 0.5631972927041352, \"sum\": 0.5631972927041352, \"min\": 0.5631972927041352}}, \"EndTime\": 1604421769.666812, \"Dimensions\": {\"model\": 11, \"Host\": \"algo-1\", \"Operation\": \"training\", \"Algorithm\": \"Linear Learner\", \"epoch\": 10}, \"StartTime\": 1604421769.666794}\n",
      "\u001b[0m\n",
      "\u001b[34m#metrics {\"Metrics\": {\"train_binary_classification_cross_entropy_objective\": {\"count\": 1, \"max\": 1.175372417582257, \"sum\": 1.175372417582257, \"min\": 1.175372417582257}}, \"EndTime\": 1604421769.666873, \"Dimensions\": {\"model\": 12, \"Host\": \"algo-1\", \"Operation\": \"training\", \"Algorithm\": \"Linear Learner\", \"epoch\": 10}, \"StartTime\": 1604421769.666855}\n",
      "\u001b[0m\n",
      "\u001b[34m#metrics {\"Metrics\": {\"train_binary_classification_cross_entropy_objective\": {\"count\": 1, \"max\": 1.9185846439072338, \"sum\": 1.9185846439072338, \"min\": 1.9185846439072338}}, \"EndTime\": 1604421769.666935, \"Dimensions\": {\"model\": 13, \"Host\": \"algo-1\", \"Operation\": \"training\", \"Algorithm\": \"Linear Learner\", \"epoch\": 10}, \"StartTime\": 1604421769.666919}\n",
      "\u001b[0m\n",
      "\u001b[34m#metrics {\"Metrics\": {\"train_binary_classification_cross_entropy_objective\": {\"count\": 1, \"max\": 1.175283919005342, \"sum\": 1.175283919005342, \"min\": 1.175283919005342}}, \"EndTime\": 1604421769.666995, \"Dimensions\": {\"model\": 14, \"Host\": \"algo-1\", \"Operation\": \"training\", \"Algorithm\": \"Linear Learner\", \"epoch\": 10}, \"StartTime\": 1604421769.666978}\n",
      "\u001b[0m\n",
      "\u001b[34m#metrics {\"Metrics\": {\"train_binary_classification_cross_entropy_objective\": {\"count\": 1, \"max\": 1.9179613846369739, \"sum\": 1.9179613846369739, \"min\": 1.9179613846369739}}, \"EndTime\": 1604421769.667064, \"Dimensions\": {\"model\": 15, \"Host\": \"algo-1\", \"Operation\": \"training\", \"Algorithm\": \"Linear Learner\", \"epoch\": 10}, \"StartTime\": 1604421769.667047}\n",
      "\u001b[0m\n",
      "\u001b[34m#metrics {\"Metrics\": {\"train_binary_classification_cross_entropy_objective\": {\"count\": 1, \"max\": 0.5498032957315445, \"sum\": 0.5498032957315445, \"min\": 0.5498032957315445}}, \"EndTime\": 1604421769.667124, \"Dimensions\": {\"model\": 16, \"Host\": \"algo-1\", \"Operation\": \"training\", \"Algorithm\": \"Linear Learner\", \"epoch\": 10}, \"StartTime\": 1604421769.667108}\n",
      "\u001b[0m\n",
      "\u001b[34m#metrics {\"Metrics\": {\"train_binary_classification_cross_entropy_objective\": {\"count\": 1, \"max\": 0.5714264622330666, \"sum\": 0.5714264622330666, \"min\": 0.5714264622330666}}, \"EndTime\": 1604421769.667183, \"Dimensions\": {\"model\": 17, \"Host\": \"algo-1\", \"Operation\": \"training\", \"Algorithm\": \"Linear Learner\", \"epoch\": 10}, \"StartTime\": 1604421769.667165}\n",
      "\u001b[0m\n",
      "\u001b[34m#metrics {\"Metrics\": {\"train_binary_classification_cross_entropy_objective\": {\"count\": 1, \"max\": 0.5497934946790337, \"sum\": 0.5497934946790337, \"min\": 0.5497934946790337}}, \"EndTime\": 1604421769.667253, \"Dimensions\": {\"model\": 18, \"Host\": \"algo-1\", \"Operation\": \"training\", \"Algorithm\": \"Linear Learner\", \"epoch\": 10}, \"StartTime\": 1604421769.667235}\n",
      "\u001b[0m\n",
      "\u001b[34m#metrics {\"Metrics\": {\"train_binary_classification_cross_entropy_objective\": {\"count\": 1, \"max\": 0.5714243490435184, \"sum\": 0.5714243490435184, \"min\": 0.5714243490435184}}, \"EndTime\": 1604421769.667314, \"Dimensions\": {\"model\": 19, \"Host\": \"algo-1\", \"Operation\": \"training\", \"Algorithm\": \"Linear Learner\", \"epoch\": 10}, \"StartTime\": 1604421769.667297}\n",
      "\u001b[0m\n",
      "\u001b[34m#metrics {\"Metrics\": {\"train_binary_classification_cross_entropy_objective\": {\"count\": 1, \"max\": 1.1795821475565937, \"sum\": 1.1795821475565937, \"min\": 1.1795821475565937}}, \"EndTime\": 1604421769.667381, \"Dimensions\": {\"model\": 20, \"Host\": \"algo-1\", \"Operation\": \"training\", \"Algorithm\": \"Linear Learner\", \"epoch\": 10}, \"StartTime\": 1604421769.667363}\n",
      "\u001b[0m\n",
      "\u001b[34m#metrics {\"Metrics\": {\"train_binary_classification_cross_entropy_objective\": {\"count\": 1, \"max\": 1.9248863119610746, \"sum\": 1.9248863119610746, \"min\": 1.9248863119610746}}, \"EndTime\": 1604421769.667436, \"Dimensions\": {\"model\": 21, \"Host\": \"algo-1\", \"Operation\": \"training\", \"Algorithm\": \"Linear Learner\", \"epoch\": 10}, \"StartTime\": 1604421769.667421}\n",
      "\u001b[0m\n",
      "\u001b[34m#metrics {\"Metrics\": {\"train_binary_classification_cross_entropy_objective\": {\"count\": 1, \"max\": 1.1797617899382025, \"sum\": 1.1797617899382025, \"min\": 1.1797617899382025}}, \"EndTime\": 1604421769.667491, \"Dimensions\": {\"model\": 22, \"Host\": \"algo-1\", \"Operation\": \"training\", \"Algorithm\": \"Linear Learner\", \"epoch\": 10}, \"StartTime\": 1604421769.667475}\n",
      "\u001b[0m\n",
      "\u001b[34m#metrics {\"Metrics\": {\"train_binary_classification_cross_entropy_objective\": {\"count\": 1, \"max\": 1.92439374009233, \"sum\": 1.92439374009233, \"min\": 1.92439374009233}}, \"EndTime\": 1604421769.667545, \"Dimensions\": {\"model\": 23, \"Host\": \"algo-1\", \"Operation\": \"training\", \"Algorithm\": \"Linear Learner\", \"epoch\": 10}, \"StartTime\": 1604421769.667532}\n",
      "\u001b[0m\n",
      "\u001b[34m#metrics {\"Metrics\": {\"train_binary_classification_cross_entropy_objective\": {\"count\": 1, \"max\": 0.679670342206955, \"sum\": 0.679670342206955, \"min\": 0.679670342206955}}, \"EndTime\": 1604421769.667584, \"Dimensions\": {\"model\": 24, \"Host\": \"algo-1\", \"Operation\": \"training\", \"Algorithm\": \"Linear Learner\", \"epoch\": 10}, \"StartTime\": 1604421769.667575}\n",
      "\u001b[0m\n",
      "\u001b[34m#metrics {\"Metrics\": {\"train_binary_classification_cross_entropy_objective\": {\"count\": 1, \"max\": 0.6979540610313415, \"sum\": 0.6979540610313415, \"min\": 0.6979540610313415}}, \"EndTime\": 1604421769.667616, \"Dimensions\": {\"model\": 25, \"Host\": \"algo-1\", \"Operation\": \"training\", \"Algorithm\": \"Linear Learner\", \"epoch\": 10}, \"StartTime\": 1604421769.667606}\n",
      "\u001b[0m\n",
      "\u001b[34m#metrics {\"Metrics\": {\"train_binary_classification_cross_entropy_objective\": {\"count\": 1, \"max\": 0.6796474850177765, \"sum\": 0.6796474850177765, \"min\": 0.6796474850177765}}, \"EndTime\": 1604421769.667678, \"Dimensions\": {\"model\": 26, \"Host\": \"algo-1\", \"Operation\": \"training\", \"Algorithm\": \"Linear Learner\", \"epoch\": 10}, \"StartTime\": 1604421769.667661}\n",
      "\u001b[0m\n",
      "\u001b[34m#metrics {\"Metrics\": {\"train_binary_classification_cross_entropy_objective\": {\"count\": 1, \"max\": 0.6981779509782791, \"sum\": 0.6981779509782791, \"min\": 0.6981779509782791}}, \"EndTime\": 1604421769.667744, \"Dimensions\": {\"model\": 27, \"Host\": \"algo-1\", \"Operation\": \"training\", \"Algorithm\": \"Linear Learner\", \"epoch\": 10}, \"StartTime\": 1604421769.667728}\n",
      "\u001b[0m\n",
      "\u001b[34m#metrics {\"Metrics\": {\"train_binary_classification_cross_entropy_objective\": {\"count\": 1, \"max\": 1.2370357984304428, \"sum\": 1.2370357984304428, \"min\": 1.2370357984304428}}, \"EndTime\": 1604421769.667805, \"Dimensions\": {\"model\": 28, \"Host\": \"algo-1\", \"Operation\": \"training\", \"Algorithm\": \"Linear Learner\", \"epoch\": 10}, \"StartTime\": 1604421769.667788}\n",
      "\u001b[0m\n",
      "\u001b[34m#metrics {\"Metrics\": {\"train_binary_classification_cross_entropy_objective\": {\"count\": 1, \"max\": 1.8962443120160606, \"sum\": 1.8962443120160606, \"min\": 1.8962443120160606}}, \"EndTime\": 1604421769.667863, \"Dimensions\": {\"model\": 29, \"Host\": \"algo-1\", \"Operation\": \"training\", \"Algorithm\": \"Linear Learner\", \"epoch\": 10}, \"StartTime\": 1604421769.667846}\n",
      "\u001b[0m\n",
      "\u001b[34m#metrics {\"Metrics\": {\"train_binary_classification_cross_entropy_objective\": {\"count\": 1, \"max\": 1.23704195022583, \"sum\": 1.23704195022583, \"min\": 1.23704195022583}}, \"EndTime\": 1604421769.667929, \"Dimensions\": {\"model\": 30, \"Host\": \"algo-1\", \"Operation\": \"training\", \"Algorithm\": \"Linear Learner\", \"epoch\": 10}, \"StartTime\": 1604421769.667911}\n",
      "\u001b[0m\n",
      "\u001b[34m#metrics {\"Metrics\": {\"train_binary_classification_cross_entropy_objective\": {\"count\": 1, \"max\": 1.8971591550728772, \"sum\": 1.8971591550728772, \"min\": 1.8971591550728772}}, \"EndTime\": 1604421769.667991, \"Dimensions\": {\"model\": 31, \"Host\": \"algo-1\", \"Operation\": \"training\", \"Algorithm\": \"Linear Learner\", \"epoch\": 10}, \"StartTime\": 1604421769.667974}\n",
      "\u001b[0m\n",
      "\u001b[34m[11/03/2020 16:42:49 INFO 140649179998016] #quality_metric: host=algo-1, epoch=10, train binary_classification_cross_entropy_objective <loss>=0.54273980944\u001b[0m\n",
      "\u001b[34m[11/03/2020 16:42:49 INFO 140649179998016] #early_stopping_criteria_metric: host=algo-1, epoch=10, criteria=binary_classification_cross_entropy_objective, value=0.542555079544\u001b[0m\n",
      "\u001b[34m[11/03/2020 16:42:49 INFO 140649179998016] Epoch 10: Loss improved. Updating best model\u001b[0m\n",
      "\u001b[34m[11/03/2020 16:42:49 INFO 140649179998016] Saving model for epoch: 10\u001b[0m\n",
      "\u001b[34m[11/03/2020 16:42:49 INFO 140649179998016] Saved checkpoint to \"/tmp/tmphX1OxN/mx-mod-0000.params\"\u001b[0m\n",
      "\u001b[34m[11/03/2020 16:42:49 INFO 140649179998016] #progress_metric: host=algo-1, completed 73 % of epochs\u001b[0m\n",
      "\u001b[34m#metrics {\"Metrics\": {\"Max Batches Seen Between Resets\": {\"count\": 1, \"max\": 65, \"sum\": 65.0, \"min\": 65}, \"Number of Batches Since Last Reset\": {\"count\": 1, \"max\": 65, \"sum\": 65.0, \"min\": 65}, \"Number of Records Since Last Reset\": {\"count\": 1, \"max\": 12971, \"sum\": 12971.0, \"min\": 12971}, \"Total Batches Seen\": {\"count\": 1, \"max\": 767, \"sum\": 767.0, \"min\": 767}, \"Total Records Seen\": {\"count\": 1, \"max\": 153081, \"sum\": 153081.0, \"min\": 153081}, \"Max Records Seen Between Resets\": {\"count\": 1, \"max\": 12971, \"sum\": 12971.0, \"min\": 12971}, \"Reset Count\": {\"count\": 1, \"max\": 13, \"sum\": 13.0, \"min\": 13}}, \"EndTime\": 1604421769.675188, \"Dimensions\": {\"Host\": \"algo-1\", \"Meta\": \"training_data_iter\", \"Operation\": \"training\", \"Algorithm\": \"Linear Learner\", \"epoch\": 10}, \"StartTime\": 1604421767.835276}\n",
      "\u001b[0m\n",
      "\u001b[34m[11/03/2020 16:42:49 INFO 140649179998016] #throughput_metric: host=algo-1, train throughput=7049.3262317 records/second\u001b[0m\n",
      "\u001b[34m[2020-11-03 16:42:51.533] [tensorio] [info] epoch_stats={\"data_pipeline\": \"/opt/ml/input/data/train\", \"epoch\": 25, \"duration\": 1857, \"num_examples\": 65, \"num_bytes\": 1089564}\u001b[0m\n",
      "\u001b[34m#metrics {\"Metrics\": {\"train_binary_classification_cross_entropy_objective\": {\"count\": 1, \"max\": 0.5412525421194733, \"sum\": 0.5412525421194733, \"min\": 0.5412525421194733}}, \"EndTime\": 1604421771.533519, \"Dimensions\": {\"model\": 0, \"Host\": \"algo-1\", \"Operation\": \"training\", \"Algorithm\": \"Linear Learner\", \"epoch\": 11}, \"StartTime\": 1604421771.533426}\n",
      "\u001b[0m\n",
      "\u001b[34m#metrics {\"Metrics\": {\"train_binary_classification_cross_entropy_objective\": {\"count\": 1, \"max\": 0.5628110561287031, \"sum\": 0.5628110561287031, \"min\": 0.5628110561287031}}, \"EndTime\": 1604421771.533634, \"Dimensions\": {\"model\": 1, \"Host\": \"algo-1\", \"Operation\": \"training\", \"Algorithm\": \"Linear Learner\", \"epoch\": 11}, \"StartTime\": 1604421771.533618}\n",
      "\u001b[0m\n",
      "\u001b[34m#metrics {\"Metrics\": {\"train_binary_classification_cross_entropy_objective\": {\"count\": 1, \"max\": 0.5412170124426484, \"sum\": 0.5412170124426484, \"min\": 0.5412170124426484}}, \"EndTime\": 1604421771.533694, \"Dimensions\": {\"model\": 2, \"Host\": \"algo-1\", \"Operation\": \"training\", \"Algorithm\": \"Linear Learner\", \"epoch\": 11}, \"StartTime\": 1604421771.533682}\n",
      "\u001b[0m\n",
      "\u001b[34m#metrics {\"Metrics\": {\"train_binary_classification_cross_entropy_objective\": {\"count\": 1, \"max\": 0.5626786112971603, \"sum\": 0.5626786112971603, \"min\": 0.5626786112971603}}, \"EndTime\": 1604421771.53375, \"Dimensions\": {\"model\": 3, \"Host\": \"algo-1\", \"Operation\": \"training\", \"Algorithm\": \"Linear Learner\", \"epoch\": 11}, \"StartTime\": 1604421771.533732}\n",
      "\u001b[0m\n",
      "\u001b[34m#metrics {\"Metrics\": {\"train_binary_classification_cross_entropy_objective\": {\"count\": 1, \"max\": 1.1408607537657829, \"sum\": 1.1408607537657829, \"min\": 1.1408607537657829}}, \"EndTime\": 1604421771.533823, \"Dimensions\": {\"model\": 4, \"Host\": \"algo-1\", \"Operation\": \"training\", \"Algorithm\": \"Linear Learner\", \"epoch\": 11}, \"StartTime\": 1604421771.533804}\n",
      "\u001b[0m\n",
      "\u001b[34m#metrics {\"Metrics\": {\"train_binary_classification_cross_entropy_objective\": {\"count\": 1, \"max\": 1.9771832942274798, \"sum\": 1.9771832942274798, \"min\": 1.9771832942274798}}, \"EndTime\": 1604421771.533894, \"Dimensions\": {\"model\": 5, \"Host\": \"algo-1\", \"Operation\": \"training\", \"Algorithm\": \"Linear Learner\", \"epoch\": 11}, \"StartTime\": 1604421771.533876}\n",
      "\u001b[0m\n",
      "\u001b[34m#metrics {\"Metrics\": {\"train_binary_classification_cross_entropy_objective\": {\"count\": 1, \"max\": 1.141684666396291, \"sum\": 1.141684666396291, \"min\": 1.141684666396291}}, \"EndTime\": 1604421771.533955, \"Dimensions\": {\"model\": 6, \"Host\": \"algo-1\", \"Operation\": \"training\", \"Algorithm\": \"Linear Learner\", \"epoch\": 11}, \"StartTime\": 1604421771.533939}\n",
      "\u001b[0m\n",
      "\u001b[34m#metrics {\"Metrics\": {\"train_binary_classification_cross_entropy_objective\": {\"count\": 1, \"max\": 1.9733557150622532, \"sum\": 1.9733557150622532, \"min\": 1.9733557150622532}}, \"EndTime\": 1604421771.534009, \"Dimensions\": {\"model\": 7, \"Host\": \"algo-1\", \"Operation\": \"training\", \"Algorithm\": \"Linear Learner\", \"epoch\": 11}, \"StartTime\": 1604421771.533998}\n",
      "\u001b[0m\n",
      "\u001b[34m#metrics {\"Metrics\": {\"train_binary_classification_cross_entropy_objective\": {\"count\": 1, \"max\": 0.5411001526098699, \"sum\": 0.5411001526098699, \"min\": 0.5411001526098699}}, \"EndTime\": 1604421771.534061, \"Dimensions\": {\"model\": 8, \"Host\": \"algo-1\", \"Operation\": \"training\", \"Algorithm\": \"Linear Learner\", \"epoch\": 11}, \"StartTime\": 1604421771.53405}\n",
      "\u001b[0m\n",
      "\u001b[34m#metrics {\"Metrics\": {\"train_binary_classification_cross_entropy_objective\": {\"count\": 1, \"max\": 0.5628740052971989, \"sum\": 0.5628740052971989, \"min\": 0.5628740052971989}}, \"EndTime\": 1604421771.534108, \"Dimensions\": {\"model\": 9, \"Host\": \"algo-1\", \"Operation\": \"training\", \"Algorithm\": \"Linear Learner\", \"epoch\": 11}, \"StartTime\": 1604421771.534092}\n",
      "\u001b[0m\n",
      "\u001b[34m#metrics {\"Metrics\": {\"train_binary_classification_cross_entropy_objective\": {\"count\": 1, \"max\": 0.541126206824556, \"sum\": 0.541126206824556, \"min\": 0.541126206824556}}, \"EndTime\": 1604421771.534145, \"Dimensions\": {\"model\": 10, \"Host\": \"algo-1\", \"Operation\": \"training\", \"Algorithm\": \"Linear Learner\", \"epoch\": 11}, \"StartTime\": 1604421771.534136}\n",
      "\u001b[0m\n",
      "\u001b[34m#metrics {\"Metrics\": {\"train_binary_classification_cross_entropy_objective\": {\"count\": 1, \"max\": 0.5629520729649812, \"sum\": 0.5629520729649812, \"min\": 0.5629520729649812}}, \"EndTime\": 1604421771.534187, \"Dimensions\": {\"model\": 11, \"Host\": \"algo-1\", \"Operation\": \"training\", \"Algorithm\": \"Linear Learner\", \"epoch\": 11}, \"StartTime\": 1604421771.534172}\n",
      "\u001b[0m\n",
      "\u001b[34m#metrics {\"Metrics\": {\"train_binary_classification_cross_entropy_objective\": {\"count\": 1, \"max\": 1.1350600997662017, \"sum\": 1.1350600997662017, \"min\": 1.1350600997662017}}, \"EndTime\": 1604421771.534255, \"Dimensions\": {\"model\": 12, \"Host\": \"algo-1\", \"Operation\": \"training\", \"Algorithm\": \"Linear Learner\", \"epoch\": 11}, \"StartTime\": 1604421771.534239}\n",
      "\u001b[0m\n",
      "\u001b[34m#metrics {\"Metrics\": {\"train_binary_classification_cross_entropy_objective\": {\"count\": 1, \"max\": 1.9485864405504438, \"sum\": 1.9485864405504438, \"min\": 1.9485864405504438}}, \"EndTime\": 1604421771.534309, \"Dimensions\": {\"model\": 13, \"Host\": \"algo-1\", \"Operation\": \"training\", \"Algorithm\": \"Linear Learner\", \"epoch\": 11}, \"StartTime\": 1604421771.534293}\n",
      "\u001b[0m\n",
      "\u001b[34m#metrics {\"Metrics\": {\"train_binary_classification_cross_entropy_objective\": {\"count\": 1, \"max\": 1.1355054014619284, \"sum\": 1.1355054014619284, \"min\": 1.1355054014619284}}, \"EndTime\": 1604421771.534361, \"Dimensions\": {\"model\": 14, \"Host\": \"algo-1\", \"Operation\": \"training\", \"Algorithm\": \"Linear Learner\", \"epoch\": 11}, \"StartTime\": 1604421771.534345}\n",
      "\u001b[0m\n",
      "\u001b[34m#metrics {\"Metrics\": {\"train_binary_classification_cross_entropy_objective\": {\"count\": 1, \"max\": 1.9579824125168492, \"sum\": 1.9579824125168492, \"min\": 1.9579824125168492}}, \"EndTime\": 1604421771.534427, \"Dimensions\": {\"model\": 15, \"Host\": \"algo-1\", \"Operation\": \"training\", \"Algorithm\": \"Linear Learner\", \"epoch\": 11}, \"StartTime\": 1604421771.53441}\n",
      "\u001b[0m\n",
      "\u001b[34m#metrics {\"Metrics\": {\"train_binary_classification_cross_entropy_objective\": {\"count\": 1, \"max\": 0.5482664019986987, \"sum\": 0.5482664019986987, \"min\": 0.5482664019986987}}, \"EndTime\": 1604421771.534494, \"Dimensions\": {\"model\": 16, \"Host\": \"algo-1\", \"Operation\": \"training\", \"Algorithm\": \"Linear Learner\", \"epoch\": 11}, \"StartTime\": 1604421771.534477}\n",
      "\u001b[0m\n",
      "\u001b[34m#metrics {\"Metrics\": {\"train_binary_classification_cross_entropy_objective\": {\"count\": 1, \"max\": 0.5711661610752344, \"sum\": 0.5711661610752344, \"min\": 0.5711661610752344}}, \"EndTime\": 1604421771.534552, \"Dimensions\": {\"model\": 17, \"Host\": \"algo-1\", \"Operation\": \"training\", \"Algorithm\": \"Linear Learner\", \"epoch\": 11}, \"StartTime\": 1604421771.534536}\n",
      "\u001b[0m\n",
      "\u001b[34m#metrics {\"Metrics\": {\"train_binary_classification_cross_entropy_objective\": {\"count\": 1, \"max\": 0.5482583265006542, \"sum\": 0.5482583265006542, \"min\": 0.5482583265006542}}, \"EndTime\": 1604421771.534617, \"Dimensions\": {\"model\": 18, \"Host\": \"algo-1\", \"Operation\": \"training\", \"Algorithm\": \"Linear Learner\", \"epoch\": 11}, \"StartTime\": 1604421771.534601}\n",
      "\u001b[0m\n",
      "\u001b[34m#metrics {\"Metrics\": {\"train_binary_classification_cross_entropy_objective\": {\"count\": 1, \"max\": 0.571164275854826, \"sum\": 0.571164275854826, \"min\": 0.571164275854826}}, \"EndTime\": 1604421771.534667, \"Dimensions\": {\"model\": 19, \"Host\": \"algo-1\", \"Operation\": \"training\", \"Algorithm\": \"Linear Learner\", \"epoch\": 11}, \"StartTime\": 1604421771.534657}\n",
      "\u001b[0m\n",
      "\u001b[34m#metrics {\"Metrics\": {\"train_binary_classification_cross_entropy_objective\": {\"count\": 1, \"max\": 1.1337471331348217, \"sum\": 1.1337471331348217, \"min\": 1.1337471331348217}}, \"EndTime\": 1604421771.534721, \"Dimensions\": {\"model\": 20, \"Host\": \"algo-1\", \"Operation\": \"training\", \"Algorithm\": \"Linear Learner\", \"epoch\": 11}, \"StartTime\": 1604421771.534705}\n",
      "\u001b[0m\n",
      "\u001b[34m#metrics {\"Metrics\": {\"train_binary_classification_cross_entropy_objective\": {\"count\": 1, \"max\": 1.9201958001032131, \"sum\": 1.9201958001032131, \"min\": 1.9201958001032131}}, \"EndTime\": 1604421771.534759, \"Dimensions\": {\"model\": 21, \"Host\": \"algo-1\", \"Operation\": \"training\", \"Algorithm\": \"Linear Learner\", \"epoch\": 11}, \"StartTime\": 1604421771.53475}\n",
      "\u001b[0m\n",
      "\u001b[34m#metrics {\"Metrics\": {\"train_binary_classification_cross_entropy_objective\": {\"count\": 1, \"max\": 1.133876104279517, \"sum\": 1.133876104279517, \"min\": 1.133876104279517}}, \"EndTime\": 1604421771.534807, \"Dimensions\": {\"model\": 22, \"Host\": \"algo-1\", \"Operation\": \"training\", \"Algorithm\": \"Linear Learner\", \"epoch\": 11}, \"StartTime\": 1604421771.534792}\n",
      "\u001b[0m\n",
      "\u001b[34m#metrics {\"Metrics\": {\"train_binary_classification_cross_entropy_objective\": {\"count\": 1, \"max\": 1.9197947332106946, \"sum\": 1.9197947332106946, \"min\": 1.9197947332106946}}, \"EndTime\": 1604421771.534865, \"Dimensions\": {\"model\": 23, \"Host\": \"algo-1\", \"Operation\": \"training\", \"Algorithm\": \"Linear Learner\", \"epoch\": 11}, \"StartTime\": 1604421771.534849}\n",
      "\u001b[0m\n",
      "\u001b[34m#metrics {\"Metrics\": {\"train_binary_classification_cross_entropy_objective\": {\"count\": 1, \"max\": 0.6776764822006226, \"sum\": 0.6776764822006226, \"min\": 0.6776764822006226}}, \"EndTime\": 1604421771.534935, \"Dimensions\": {\"model\": 24, \"Host\": \"algo-1\", \"Operation\": \"training\", \"Algorithm\": \"Linear Learner\", \"epoch\": 11}, \"StartTime\": 1604421771.534917}\n",
      "\u001b[0m\n",
      "\u001b[34m#metrics {\"Metrics\": {\"train_binary_classification_cross_entropy_objective\": {\"count\": 1, \"max\": 0.6979026353359222, \"sum\": 0.6979026353359222, \"min\": 0.6979026353359222}}, \"EndTime\": 1604421771.535006, \"Dimensions\": {\"model\": 25, \"Host\": \"algo-1\", \"Operation\": \"training\", \"Algorithm\": \"Linear Learner\", \"epoch\": 11}, \"StartTime\": 1604421771.534988}\n",
      "\u001b[0m\n",
      "\u001b[34m#metrics {\"Metrics\": {\"train_binary_classification_cross_entropy_objective\": {\"count\": 1, \"max\": 0.6776764929294586, \"sum\": 0.6776764929294586, \"min\": 0.6776764929294586}}, \"EndTime\": 1604421771.535075, \"Dimensions\": {\"model\": 26, \"Host\": \"algo-1\", \"Operation\": \"training\", \"Algorithm\": \"Linear Learner\", \"epoch\": 11}, \"StartTime\": 1604421771.535058}\n",
      "\u001b[0m\n",
      "\u001b[34m#metrics {\"Metrics\": {\"train_binary_classification_cross_entropy_objective\": {\"count\": 1, \"max\": 0.6981058585643768, \"sum\": 0.6981058585643768, \"min\": 0.6981058585643768}}, \"EndTime\": 1604421771.535141, \"Dimensions\": {\"model\": 27, \"Host\": \"algo-1\", \"Operation\": \"training\", \"Algorithm\": \"Linear Learner\", \"epoch\": 11}, \"StartTime\": 1604421771.535124}\n",
      "\u001b[0m\n",
      "\u001b[34m#metrics {\"Metrics\": {\"train_binary_classification_cross_entropy_objective\": {\"count\": 1, \"max\": 1.1871767978742718, \"sum\": 1.1871767978742718, \"min\": 1.1871767978742718}}, \"EndTime\": 1604421771.535208, \"Dimensions\": {\"model\": 28, \"Host\": \"algo-1\", \"Operation\": \"training\", \"Algorithm\": \"Linear Learner\", \"epoch\": 11}, \"StartTime\": 1604421771.53519}\n",
      "\u001b[0m\n",
      "\u001b[34m#metrics {\"Metrics\": {\"train_binary_classification_cross_entropy_objective\": {\"count\": 1, \"max\": 1.8856177314871456, \"sum\": 1.8856177314871456, \"min\": 1.8856177314871456}}, \"EndTime\": 1604421771.535276, \"Dimensions\": {\"model\": 29, \"Host\": \"algo-1\", \"Operation\": \"training\", \"Algorithm\": \"Linear Learner\", \"epoch\": 11}, \"StartTime\": 1604421771.535258}\n",
      "\u001b[0m\n",
      "\u001b[34m#metrics {\"Metrics\": {\"train_binary_classification_cross_entropy_objective\": {\"count\": 1, \"max\": 1.187179268822074, \"sum\": 1.187179268822074, \"min\": 1.187179268822074}}, \"EndTime\": 1604421771.535346, \"Dimensions\": {\"model\": 30, \"Host\": \"algo-1\", \"Operation\": \"training\", \"Algorithm\": \"Linear Learner\", \"epoch\": 11}, \"StartTime\": 1604421771.535328}\n",
      "\u001b[0m\n",
      "\u001b[34m#metrics {\"Metrics\": {\"train_binary_classification_cross_entropy_objective\": {\"count\": 1, \"max\": 1.8864038115204311, \"sum\": 1.8864038115204311, \"min\": 1.8864038115204311}}, \"EndTime\": 1604421771.535404, \"Dimensions\": {\"model\": 31, \"Host\": \"algo-1\", \"Operation\": \"training\", \"Algorithm\": \"Linear Learner\", \"epoch\": 11}, \"StartTime\": 1604421771.535388}\n",
      "\u001b[0m\n",
      "\u001b[34m[11/03/2020 16:42:51 INFO 140649179998016] #quality_metric: host=algo-1, epoch=11, train binary_classification_cross_entropy_objective <loss>=0.541252542119\u001b[0m\n",
      "\u001b[34m[11/03/2020 16:42:51 INFO 140649179998016] #early_stopping_criteria_metric: host=algo-1, epoch=11, criteria=binary_classification_cross_entropy_objective, value=0.54110015261\u001b[0m\n",
      "\u001b[34m[11/03/2020 16:42:51 INFO 140649179998016] Epoch 11: Loss improved. Updating best model\u001b[0m\n",
      "\u001b[34m[11/03/2020 16:42:51 INFO 140649179998016] Saving model for epoch: 11\u001b[0m\n",
      "\u001b[34m[11/03/2020 16:42:51 INFO 140649179998016] Saved checkpoint to \"/tmp/tmp06KtQf/mx-mod-0000.params\"\u001b[0m\n",
      "\u001b[34m[11/03/2020 16:42:51 INFO 140649179998016] #progress_metric: host=algo-1, completed 80 % of epochs\u001b[0m\n",
      "\u001b[34m#metrics {\"Metrics\": {\"Max Batches Seen Between Resets\": {\"count\": 1, \"max\": 65, \"sum\": 65.0, \"min\": 65}, \"Number of Batches Since Last Reset\": {\"count\": 1, \"max\": 65, \"sum\": 65.0, \"min\": 65}, \"Number of Records Since Last Reset\": {\"count\": 1, \"max\": 12971, \"sum\": 12971.0, \"min\": 12971}, \"Total Batches Seen\": {\"count\": 1, \"max\": 832, \"sum\": 832.0, \"min\": 832}, \"Total Records Seen\": {\"count\": 1, \"max\": 166052, \"sum\": 166052.0, \"min\": 166052}, \"Max Records Seen Between Resets\": {\"count\": 1, \"max\": 12971, \"sum\": 12971.0, \"min\": 12971}, \"Reset Count\": {\"count\": 1, \"max\": 14, \"sum\": 14.0, \"min\": 14}}, \"EndTime\": 1604421771.542764, \"Dimensions\": {\"Host\": \"algo-1\", \"Meta\": \"training_data_iter\", \"Operation\": \"training\", \"Algorithm\": \"Linear Learner\", \"epoch\": 11}, \"StartTime\": 1604421769.67546}\n",
      "\u001b[0m\n",
      "\u001b[34m[11/03/2020 16:42:51 INFO 140649179998016] #throughput_metric: host=algo-1, train throughput=6945.92036598 records/second\u001b[0m\n",
      "\u001b[34m[2020-11-03 16:42:53.342] [tensorio] [info] epoch_stats={\"data_pipeline\": \"/opt/ml/input/data/train\", \"epoch\": 27, \"duration\": 1799, \"num_examples\": 65, \"num_bytes\": 1089564}\u001b[0m\n",
      "\u001b[34m#metrics {\"Metrics\": {\"train_binary_classification_cross_entropy_objective\": {\"count\": 1, \"max\": 0.5398424529097974, \"sum\": 0.5398424529097974, \"min\": 0.5398424529097974}}, \"EndTime\": 1604421773.342959, \"Dimensions\": {\"model\": 0, \"Host\": \"algo-1\", \"Operation\": \"training\", \"Algorithm\": \"Linear Learner\", \"epoch\": 12}, \"StartTime\": 1604421773.342859}\n",
      "\u001b[0m\n",
      "\u001b[34m#metrics {\"Metrics\": {\"train_binary_classification_cross_entropy_objective\": {\"count\": 1, \"max\": 0.5627160533703863, \"sum\": 0.5627160533703863, \"min\": 0.5627160533703863}}, \"EndTime\": 1604421773.343068, \"Dimensions\": {\"model\": 1, \"Host\": \"algo-1\", \"Operation\": \"training\", \"Algorithm\": \"Linear Learner\", \"epoch\": 12}, \"StartTime\": 1604421773.343047}\n",
      "\u001b[0m\n",
      "\u001b[34m#metrics {\"Metrics\": {\"train_binary_classification_cross_entropy_objective\": {\"count\": 1, \"max\": 0.5398144061025232, \"sum\": 0.5398144061025232, \"min\": 0.5398144061025232}}, \"EndTime\": 1604421773.343114, \"Dimensions\": {\"model\": 2, \"Host\": \"algo-1\", \"Operation\": \"training\", \"Algorithm\": \"Linear Learner\", \"epoch\": 12}, \"StartTime\": 1604421773.343101}\n",
      "\u001b[0m\n",
      "\u001b[34m#metrics {\"Metrics\": {\"train_binary_classification_cross_entropy_objective\": {\"count\": 1, \"max\": 0.5625962463580072, \"sum\": 0.5625962463580072, \"min\": 0.5625962463580072}}, \"EndTime\": 1604421773.343171, \"Dimensions\": {\"model\": 3, \"Host\": \"algo-1\", \"Operation\": \"training\", \"Algorithm\": \"Linear Learner\", \"epoch\": 12}, \"StartTime\": 1604421773.343154}\n",
      "\u001b[0m\n",
      "\u001b[34m#metrics {\"Metrics\": {\"train_binary_classification_cross_entropy_objective\": {\"count\": 1, \"max\": 1.0712409114610915, \"sum\": 1.0712409114610915, \"min\": 1.0712409114610915}}, \"EndTime\": 1604421773.34323, \"Dimensions\": {\"model\": 4, \"Host\": \"algo-1\", \"Operation\": \"training\", \"Algorithm\": \"Linear Learner\", \"epoch\": 12}, \"StartTime\": 1604421773.343212}\n",
      "\u001b[0m\n",
      "\u001b[34m#metrics {\"Metrics\": {\"train_binary_classification_cross_entropy_objective\": {\"count\": 1, \"max\": 1.8846102990067541, \"sum\": 1.8846102990067541, \"min\": 1.8846102990067541}}, \"EndTime\": 1604421773.343288, \"Dimensions\": {\"model\": 5, \"Host\": \"algo-1\", \"Operation\": \"training\", \"Algorithm\": \"Linear Learner\", \"epoch\": 12}, \"StartTime\": 1604421773.343271}\n",
      "\u001b[0m\n",
      "\u001b[34m#metrics {\"Metrics\": {\"train_binary_classification_cross_entropy_objective\": {\"count\": 1, \"max\": 1.0725265807781585, \"sum\": 1.0725265807781585, \"min\": 1.0725265807781585}}, \"EndTime\": 1604421773.343348, \"Dimensions\": {\"model\": 6, \"Host\": \"algo-1\", \"Operation\": \"training\", \"Algorithm\": \"Linear Learner\", \"epoch\": 12}, \"StartTime\": 1604421773.343331}\n",
      "\u001b[0m\n",
      "\u001b[34m#metrics {\"Metrics\": {\"train_binary_classification_cross_entropy_objective\": {\"count\": 1, \"max\": 1.8848455668238333, \"sum\": 1.8848455668238333, \"min\": 1.8848455668238333}}, \"EndTime\": 1604421773.343407, \"Dimensions\": {\"model\": 7, \"Host\": \"algo-1\", \"Operation\": \"training\", \"Algorithm\": \"Linear Learner\", \"epoch\": 12}, \"StartTime\": 1604421773.34339}\n",
      "\u001b[0m\n",
      "\u001b[34m#metrics {\"Metrics\": {\"train_binary_classification_cross_entropy_objective\": {\"count\": 1, \"max\": 0.5397159858979285, \"sum\": 0.5397159858979285, \"min\": 0.5397159858979285}}, \"EndTime\": 1604421773.343469, \"Dimensions\": {\"model\": 8, \"Host\": \"algo-1\", \"Operation\": \"training\", \"Algorithm\": \"Linear Learner\", \"epoch\": 12}, \"StartTime\": 1604421773.343452}\n",
      "\u001b[0m\n",
      "\u001b[34m#metrics {\"Metrics\": {\"train_binary_classification_cross_entropy_objective\": {\"count\": 1, \"max\": 0.5627724053058774, \"sum\": 0.5627724053058774, \"min\": 0.5627724053058774}}, \"EndTime\": 1604421773.34353, \"Dimensions\": {\"model\": 9, \"Host\": \"algo-1\", \"Operation\": \"training\", \"Algorithm\": \"Linear Learner\", \"epoch\": 12}, \"StartTime\": 1604421773.343512}\n",
      "\u001b[0m\n",
      "\u001b[34m#metrics {\"Metrics\": {\"train_binary_classification_cross_entropy_objective\": {\"count\": 1, \"max\": 0.5397352073527872, \"sum\": 0.5397352073527872, \"min\": 0.5397352073527872}}, \"EndTime\": 1604421773.3436, \"Dimensions\": {\"model\": 10, \"Host\": \"algo-1\", \"Operation\": \"training\", \"Algorithm\": \"Linear Learner\", \"epoch\": 12}, \"StartTime\": 1604421773.343584}\n",
      "\u001b[0m\n",
      "\u001b[34m#metrics {\"Metrics\": {\"train_binary_classification_cross_entropy_objective\": {\"count\": 1, \"max\": 0.5628412795625627, \"sum\": 0.5628412795625627, \"min\": 0.5628412795625627}}, \"EndTime\": 1604421773.343655, \"Dimensions\": {\"model\": 11, \"Host\": \"algo-1\", \"Operation\": \"training\", \"Algorithm\": \"Linear Learner\", \"epoch\": 12}, \"StartTime\": 1604421773.343641}\n",
      "\u001b[0m\n",
      "\u001b[34m#metrics {\"Metrics\": {\"train_binary_classification_cross_entropy_objective\": {\"count\": 1, \"max\": 1.0755017712375052, \"sum\": 1.0755017712375052, \"min\": 1.0755017712375052}}, \"EndTime\": 1604421773.343713, \"Dimensions\": {\"model\": 12, \"Host\": \"algo-1\", \"Operation\": \"training\", \"Algorithm\": \"Linear Learner\", \"epoch\": 12}, \"StartTime\": 1604421773.343696}\n",
      "\u001b[0m\n",
      "\u001b[34m#metrics {\"Metrics\": {\"train_binary_classification_cross_entropy_objective\": {\"count\": 1, \"max\": 1.9008306893523061, \"sum\": 1.9008306893523061, \"min\": 1.9008306893523061}}, \"EndTime\": 1604421773.343782, \"Dimensions\": {\"model\": 13, \"Host\": \"algo-1\", \"Operation\": \"training\", \"Algorithm\": \"Linear Learner\", \"epoch\": 12}, \"StartTime\": 1604421773.343765}\n",
      "\u001b[0m\n",
      "\u001b[34m#metrics {\"Metrics\": {\"train_binary_classification_cross_entropy_objective\": {\"count\": 1, \"max\": 1.0757020232406926, \"sum\": 1.0757020232406926, \"min\": 1.0757020232406926}}, \"EndTime\": 1604421773.343843, \"Dimensions\": {\"model\": 14, \"Host\": \"algo-1\", \"Operation\": \"training\", \"Algorithm\": \"Linear Learner\", \"epoch\": 12}, \"StartTime\": 1604421773.343827}\n",
      "\u001b[0m\n",
      "\u001b[34m#metrics {\"Metrics\": {\"train_binary_classification_cross_entropy_objective\": {\"count\": 1, \"max\": 1.9031578739001456, \"sum\": 1.9031578739001456, \"min\": 1.9031578739001456}}, \"EndTime\": 1604421773.343901, \"Dimensions\": {\"model\": 15, \"Host\": \"algo-1\", \"Operation\": \"training\", \"Algorithm\": \"Linear Learner\", \"epoch\": 12}, \"StartTime\": 1604421773.343885}\n",
      "\u001b[0m\n",
      "\u001b[34m#metrics {\"Metrics\": {\"train_binary_classification_cross_entropy_objective\": {\"count\": 1, \"max\": 0.5467983733490109, \"sum\": 0.5467983733490109, \"min\": 0.5467983733490109}}, \"EndTime\": 1604421773.34396, \"Dimensions\": {\"model\": 16, \"Host\": \"algo-1\", \"Operation\": \"training\", \"Algorithm\": \"Linear Learner\", \"epoch\": 12}, \"StartTime\": 1604421773.343944}\n",
      "\u001b[0m\n",
      "\u001b[34m#metrics {\"Metrics\": {\"train_binary_classification_cross_entropy_objective\": {\"count\": 1, \"max\": 0.5710167886316776, \"sum\": 0.5710167886316776, \"min\": 0.5710167886316776}}, \"EndTime\": 1604421773.34402, \"Dimensions\": {\"model\": 17, \"Host\": \"algo-1\", \"Operation\": \"training\", \"Algorithm\": \"Linear Learner\", \"epoch\": 12}, \"StartTime\": 1604421773.344004}\n",
      "\u001b[0m\n",
      "\u001b[34m#metrics {\"Metrics\": {\"train_binary_classification_cross_entropy_objective\": {\"count\": 1, \"max\": 0.5467916619405151, \"sum\": 0.5467916619405151, \"min\": 0.5467916619405151}}, \"EndTime\": 1604421773.34409, \"Dimensions\": {\"model\": 18, \"Host\": \"algo-1\", \"Operation\": \"training\", \"Algorithm\": \"Linear Learner\", \"epoch\": 12}, \"StartTime\": 1604421773.344072}\n",
      "\u001b[0m\n",
      "\u001b[34m#metrics {\"Metrics\": {\"train_binary_classification_cross_entropy_objective\": {\"count\": 1, \"max\": 0.5710151850804687, \"sum\": 0.5710151850804687, \"min\": 0.5710151850804687}}, \"EndTime\": 1604421773.34415, \"Dimensions\": {\"model\": 19, \"Host\": \"algo-1\", \"Operation\": \"training\", \"Algorithm\": \"Linear Learner\", \"epoch\": 12}, \"StartTime\": 1604421773.344134}\n",
      "\u001b[0m\n",
      "\u001b[34m#metrics {\"Metrics\": {\"train_binary_classification_cross_entropy_objective\": {\"count\": 1, \"max\": 1.0932206359549537, \"sum\": 1.0932206359549537, \"min\": 1.0932206359549537}}, \"EndTime\": 1604421773.344203, \"Dimensions\": {\"model\": 20, \"Host\": \"algo-1\", \"Operation\": \"training\", \"Algorithm\": \"Linear Learner\", \"epoch\": 12}, \"StartTime\": 1604421773.344189}\n",
      "\u001b[0m\n",
      "\u001b[34m#metrics {\"Metrics\": {\"train_binary_classification_cross_entropy_objective\": {\"count\": 1, \"max\": 1.9059499186513886, \"sum\": 1.9059499186513886, \"min\": 1.9059499186513886}}, \"EndTime\": 1604421773.344263, \"Dimensions\": {\"model\": 21, \"Host\": \"algo-1\", \"Operation\": \"training\", \"Algorithm\": \"Linear Learner\", \"epoch\": 12}, \"StartTime\": 1604421773.344247}\n",
      "\u001b[0m\n",
      "\u001b[34m#metrics {\"Metrics\": {\"train_binary_classification_cross_entropy_objective\": {\"count\": 1, \"max\": 1.0933160673571773, \"sum\": 1.0933160673571773, \"min\": 1.0933160673571773}}, \"EndTime\": 1604421773.344322, \"Dimensions\": {\"model\": 22, \"Host\": \"algo-1\", \"Operation\": \"training\", \"Algorithm\": \"Linear Learner\", \"epoch\": 12}, \"StartTime\": 1604421773.344305}\n",
      "\u001b[0m\n",
      "\u001b[34m#metrics {\"Metrics\": {\"train_binary_classification_cross_entropy_objective\": {\"count\": 1, \"max\": 1.9056122289213118, \"sum\": 1.9056122289213118, \"min\": 1.9056122289213118}}, \"EndTime\": 1604421773.344394, \"Dimensions\": {\"model\": 23, \"Host\": \"algo-1\", \"Operation\": \"training\", \"Algorithm\": \"Linear Learner\", \"epoch\": 12}, \"StartTime\": 1604421773.344376}\n",
      "\u001b[0m\n",
      "\u001b[34m#metrics {\"Metrics\": {\"train_binary_classification_cross_entropy_objective\": {\"count\": 1, \"max\": 0.6760826814174652, \"sum\": 0.6760826814174652, \"min\": 0.6760826814174652}}, \"EndTime\": 1604421773.344464, \"Dimensions\": {\"model\": 24, \"Host\": \"algo-1\", \"Operation\": \"training\", \"Algorithm\": \"Linear Learner\", \"epoch\": 12}, \"StartTime\": 1604421773.344447}\n",
      "\u001b[0m\n",
      "\u001b[34m#metrics {\"Metrics\": {\"train_binary_classification_cross_entropy_objective\": {\"count\": 1, \"max\": 0.698167261481285, \"sum\": 0.698167261481285, \"min\": 0.698167261481285}}, \"EndTime\": 1604421773.344522, \"Dimensions\": {\"model\": 25, \"Host\": \"algo-1\", \"Operation\": \"training\", \"Algorithm\": \"Linear Learner\", \"epoch\": 12}, \"StartTime\": 1604421773.344506}\n",
      "\u001b[0m\n",
      "\u001b[34m#metrics {\"Metrics\": {\"train_binary_classification_cross_entropy_objective\": {\"count\": 1, \"max\": 0.6761033594608307, \"sum\": 0.6761033594608307, \"min\": 0.6761033594608307}}, \"EndTime\": 1604421773.344574, \"Dimensions\": {\"model\": 26, \"Host\": \"algo-1\", \"Operation\": \"training\", \"Algorithm\": \"Linear Learner\", \"epoch\": 12}, \"StartTime\": 1604421773.344561}\n",
      "\u001b[0m\n",
      "\u001b[34m#metrics {\"Metrics\": {\"train_binary_classification_cross_entropy_objective\": {\"count\": 1, \"max\": 0.6983526945114136, \"sum\": 0.6983526945114136, \"min\": 0.6983526945114136}}, \"EndTime\": 1604421773.344634, \"Dimensions\": {\"model\": 27, \"Host\": \"algo-1\", \"Operation\": \"training\", \"Algorithm\": \"Linear Learner\", \"epoch\": 12}, \"StartTime\": 1604421773.344622}\n",
      "\u001b[0m\n",
      "\u001b[34m#metrics {\"Metrics\": {\"train_binary_classification_cross_entropy_objective\": {\"count\": 1, \"max\": 1.1435721276327968, \"sum\": 1.1435721276327968, \"min\": 1.1435721276327968}}, \"EndTime\": 1604421773.344691, \"Dimensions\": {\"model\": 28, \"Host\": \"algo-1\", \"Operation\": \"training\", \"Algorithm\": \"Linear Learner\", \"epoch\": 12}, \"StartTime\": 1604421773.344675}\n",
      "\u001b[0m\n",
      "\u001b[34m#metrics {\"Metrics\": {\"train_binary_classification_cross_entropy_objective\": {\"count\": 1, \"max\": 1.871671772194095, \"sum\": 1.871671772194095, \"min\": 1.871671772194095}}, \"EndTime\": 1604421773.344739, \"Dimensions\": {\"model\": 29, \"Host\": \"algo-1\", \"Operation\": \"training\", \"Algorithm\": \"Linear Learner\", \"epoch\": 12}, \"StartTime\": 1604421773.344728}\n",
      "\u001b[0m\n",
      "\u001b[34m#metrics {\"Metrics\": {\"train_binary_classification_cross_entropy_objective\": {\"count\": 1, \"max\": 1.1435774883255363, \"sum\": 1.1435774883255363, \"min\": 1.1435774883255363}}, \"EndTime\": 1604421773.344792, \"Dimensions\": {\"model\": 30, \"Host\": \"algo-1\", \"Operation\": \"training\", \"Algorithm\": \"Linear Learner\", \"epoch\": 12}, \"StartTime\": 1604421773.344776}\n",
      "\u001b[0m\n",
      "\u001b[34m#metrics {\"Metrics\": {\"train_binary_classification_cross_entropy_objective\": {\"count\": 1, \"max\": 1.872384555496974, \"sum\": 1.872384555496974, \"min\": 1.872384555496974}}, \"EndTime\": 1604421773.344868, \"Dimensions\": {\"model\": 31, \"Host\": \"algo-1\", \"Operation\": \"training\", \"Algorithm\": \"Linear Learner\", \"epoch\": 12}, \"StartTime\": 1604421773.34485}\n",
      "\u001b[0m\n",
      "\u001b[34m[11/03/2020 16:42:53 INFO 140649179998016] #quality_metric: host=algo-1, epoch=12, train binary_classification_cross_entropy_objective <loss>=0.53984245291\u001b[0m\n",
      "\u001b[34m[11/03/2020 16:42:53 INFO 140649179998016] #early_stopping_criteria_metric: host=algo-1, epoch=12, criteria=binary_classification_cross_entropy_objective, value=0.539715985898\u001b[0m\n",
      "\u001b[34m[11/03/2020 16:42:53 INFO 140649179998016] Epoch 12: Loss improved. Updating best model\u001b[0m\n",
      "\u001b[34m[11/03/2020 16:42:53 INFO 140649179998016] Saving model for epoch: 12\u001b[0m\n",
      "\u001b[34m[11/03/2020 16:42:53 INFO 140649179998016] Saved checkpoint to \"/tmp/tmpnanKMx/mx-mod-0000.params\"\u001b[0m\n",
      "\u001b[34m[11/03/2020 16:42:53 INFO 140649179998016] #progress_metric: host=algo-1, completed 86 % of epochs\u001b[0m\n",
      "\u001b[34m#metrics {\"Metrics\": {\"Max Batches Seen Between Resets\": {\"count\": 1, \"max\": 65, \"sum\": 65.0, \"min\": 65}, \"Number of Batches Since Last Reset\": {\"count\": 1, \"max\": 65, \"sum\": 65.0, \"min\": 65}, \"Number of Records Since Last Reset\": {\"count\": 1, \"max\": 12971, \"sum\": 12971.0, \"min\": 12971}, \"Total Batches Seen\": {\"count\": 1, \"max\": 897, \"sum\": 897.0, \"min\": 897}, \"Total Records Seen\": {\"count\": 1, \"max\": 179023, \"sum\": 179023.0, \"min\": 179023}, \"Max Records Seen Between Resets\": {\"count\": 1, \"max\": 12971, \"sum\": 12971.0, \"min\": 12971}, \"Reset Count\": {\"count\": 1, \"max\": 15, \"sum\": 15.0, \"min\": 15}}, \"EndTime\": 1604421773.35207, \"Dimensions\": {\"Host\": \"algo-1\", \"Meta\": \"training_data_iter\", \"Operation\": \"training\", \"Algorithm\": \"Linear Learner\", \"epoch\": 12}, \"StartTime\": 1604421771.543024}\n",
      "\u001b[0m\n",
      "\u001b[34m[11/03/2020 16:42:53 INFO 140649179998016] #throughput_metric: host=algo-1, train throughput=7169.62948529 records/second\u001b[0m\n",
      "\u001b[34m[2020-11-03 16:42:55.144] [tensorio] [info] epoch_stats={\"data_pipeline\": \"/opt/ml/input/data/train\", \"epoch\": 29, \"duration\": 1792, \"num_examples\": 65, \"num_bytes\": 1089564}\u001b[0m\n",
      "\u001b[34m#metrics {\"Metrics\": {\"train_binary_classification_cross_entropy_objective\": {\"count\": 1, \"max\": 0.5384982147999108, \"sum\": 0.5384982147999108, \"min\": 0.5384982147999108}}, \"EndTime\": 1604421775.144998, \"Dimensions\": {\"model\": 0, \"Host\": \"algo-1\", \"Operation\": \"training\", \"Algorithm\": \"Linear Learner\", \"epoch\": 13}, \"StartTime\": 1604421775.144872}\n",
      "\u001b[0m\n",
      "\u001b[34m#metrics {\"Metrics\": {\"train_binary_classification_cross_entropy_objective\": {\"count\": 1, \"max\": 0.5623534943908453, \"sum\": 0.5623534943908453, \"min\": 0.5623534943908453}}, \"EndTime\": 1604421775.145119, \"Dimensions\": {\"model\": 1, \"Host\": \"algo-1\", \"Operation\": \"training\", \"Algorithm\": \"Linear Learner\", \"epoch\": 13}, \"StartTime\": 1604421775.145097}\n",
      "\u001b[0m\n",
      "\u001b[34m#metrics {\"Metrics\": {\"train_binary_classification_cross_entropy_objective\": {\"count\": 1, \"max\": 0.5384761767182499, \"sum\": 0.5384761767182499, \"min\": 0.5384761767182499}}, \"EndTime\": 1604421775.145189, \"Dimensions\": {\"model\": 2, \"Host\": \"algo-1\", \"Operation\": \"training\", \"Algorithm\": \"Linear Learner\", \"epoch\": 13}, \"StartTime\": 1604421775.145176}\n",
      "\u001b[0m\n",
      "\u001b[34m#metrics {\"Metrics\": {\"train_binary_classification_cross_entropy_objective\": {\"count\": 1, \"max\": 0.5622443900816143, \"sum\": 0.5622443900816143, \"min\": 0.5622443900816143}}, \"EndTime\": 1604421775.145254, \"Dimensions\": {\"model\": 3, \"Host\": \"algo-1\", \"Operation\": \"training\", \"Algorithm\": \"Linear Learner\", \"epoch\": 13}, \"StartTime\": 1604421775.145235}\n",
      "\u001b[0m\n",
      "\u001b[34m#metrics {\"Metrics\": {\"train_binary_classification_cross_entropy_objective\": {\"count\": 1, \"max\": 1.0315236962493544, \"sum\": 1.0315236962493544, \"min\": 1.0315236962493544}}, \"EndTime\": 1604421775.14532, \"Dimensions\": {\"model\": 4, \"Host\": \"algo-1\", \"Operation\": \"training\", \"Algorithm\": \"Linear Learner\", \"epoch\": 13}, \"StartTime\": 1604421775.145302}\n",
      "\u001b[0m\n",
      "\u001b[34m#metrics {\"Metrics\": {\"train_binary_classification_cross_entropy_objective\": {\"count\": 1, \"max\": 1.9110534817380906, \"sum\": 1.9110534817380906, \"min\": 1.9110534817380906}}, \"EndTime\": 1604421775.145392, \"Dimensions\": {\"model\": 5, \"Host\": \"algo-1\", \"Operation\": \"training\", \"Algorithm\": \"Linear Learner\", \"epoch\": 13}, \"StartTime\": 1604421775.145374}\n",
      "\u001b[0m\n",
      "\u001b[34m#metrics {\"Metrics\": {\"train_binary_classification_cross_entropy_objective\": {\"count\": 1, \"max\": 1.0317946512195, \"sum\": 1.0317946512195, \"min\": 1.0317946512195}}, \"EndTime\": 1604421775.145466, \"Dimensions\": {\"model\": 6, \"Host\": \"algo-1\", \"Operation\": \"training\", \"Algorithm\": \"Linear Learner\", \"epoch\": 13}, \"StartTime\": 1604421775.145448}\n",
      "\u001b[0m\n",
      "\u001b[34m#metrics {\"Metrics\": {\"train_binary_classification_cross_entropy_objective\": {\"count\": 1, \"max\": 1.9081209606524956, \"sum\": 1.9081209606524956, \"min\": 1.9081209606524956}}, \"EndTime\": 1604421775.145572, \"Dimensions\": {\"model\": 7, \"Host\": \"algo-1\", \"Operation\": \"training\", \"Algorithm\": \"Linear Learner\", \"epoch\": 13}, \"StartTime\": 1604421775.145531}\n",
      "\u001b[0m\n",
      "\u001b[34m#metrics {\"Metrics\": {\"train_binary_classification_cross_entropy_objective\": {\"count\": 1, \"max\": 0.5383927508536727, \"sum\": 0.5383927508536727, \"min\": 0.5383927508536727}}, \"EndTime\": 1604421775.145654, \"Dimensions\": {\"model\": 8, \"Host\": \"algo-1\", \"Operation\": \"training\", \"Algorithm\": \"Linear Learner\", \"epoch\": 13}, \"StartTime\": 1604421775.145637}\n",
      "\u001b[0m\n",
      "\u001b[34m#metrics {\"Metrics\": {\"train_binary_classification_cross_entropy_objective\": {\"count\": 1, \"max\": 0.5624049613252282, \"sum\": 0.5624049613252282, \"min\": 0.5624049613252282}}, \"EndTime\": 1604421775.145713, \"Dimensions\": {\"model\": 9, \"Host\": \"algo-1\", \"Operation\": \"training\", \"Algorithm\": \"Linear Learner\", \"epoch\": 13}, \"StartTime\": 1604421775.145697}\n",
      "\u001b[0m\n",
      "\u001b[34m#metrics {\"Metrics\": {\"train_binary_classification_cross_entropy_objective\": {\"count\": 1, \"max\": 0.5384064791165293, \"sum\": 0.5384064791165293, \"min\": 0.5384064791165293}}, \"EndTime\": 1604421775.145768, \"Dimensions\": {\"model\": 10, \"Host\": \"algo-1\", \"Operation\": \"training\", \"Algorithm\": \"Linear Learner\", \"epoch\": 13}, \"StartTime\": 1604421775.145753}\n",
      "\u001b[0m\n",
      "\u001b[34m#metrics {\"Metrics\": {\"train_binary_classification_cross_entropy_objective\": {\"count\": 1, \"max\": 0.5624662867095321, \"sum\": 0.5624662867095321, \"min\": 0.5624662867095321}}, \"EndTime\": 1604421775.145828, \"Dimensions\": {\"model\": 11, \"Host\": \"algo-1\", \"Operation\": \"training\", \"Algorithm\": \"Linear Learner\", \"epoch\": 13}, \"StartTime\": 1604421775.145811}\n",
      "\u001b[0m\n",
      "\u001b[34m#metrics {\"Metrics\": {\"train_binary_classification_cross_entropy_objective\": {\"count\": 1, \"max\": 1.0291184708211245, \"sum\": 1.0291184708211245, \"min\": 1.0291184708211245}}, \"EndTime\": 1604421775.145897, \"Dimensions\": {\"model\": 12, \"Host\": \"algo-1\", \"Operation\": \"training\", \"Algorithm\": \"Linear Learner\", \"epoch\": 13}, \"StartTime\": 1604421775.145879}\n",
      "\u001b[0m\n",
      "\u001b[34m#metrics {\"Metrics\": {\"train_binary_classification_cross_entropy_objective\": {\"count\": 1, \"max\": 1.8926860097245028, \"sum\": 1.8926860097245028, \"min\": 1.8926860097245028}}, \"EndTime\": 1604421775.145955, \"Dimensions\": {\"model\": 13, \"Host\": \"algo-1\", \"Operation\": \"training\", \"Algorithm\": \"Linear Learner\", \"epoch\": 13}, \"StartTime\": 1604421775.145939}\n",
      "\u001b[0m\n",
      "\u001b[34m#metrics {\"Metrics\": {\"train_binary_classification_cross_entropy_objective\": {\"count\": 1, \"max\": 1.0294502100953855, \"sum\": 1.0294502100953855, \"min\": 1.0294502100953855}}, \"EndTime\": 1604421775.146008, \"Dimensions\": {\"model\": 14, \"Host\": \"algo-1\", \"Operation\": \"training\", \"Algorithm\": \"Linear Learner\", \"epoch\": 13}, \"StartTime\": 1604421775.145993}\n",
      "\u001b[0m\n",
      "\u001b[34m#metrics {\"Metrics\": {\"train_binary_classification_cross_entropy_objective\": {\"count\": 1, \"max\": 1.8991311575602416, \"sum\": 1.8991311575602416, \"min\": 1.8991311575602416}}, \"EndTime\": 1604421775.146066, \"Dimensions\": {\"model\": 15, \"Host\": \"algo-1\", \"Operation\": \"training\", \"Algorithm\": \"Linear Learner\", \"epoch\": 13}, \"StartTime\": 1604421775.14605}\n",
      "\u001b[0m\n",
      "\u001b[34m#metrics {\"Metrics\": {\"train_binary_classification_cross_entropy_objective\": {\"count\": 1, \"max\": 0.5454151398316026, \"sum\": 0.5454151398316026, \"min\": 0.5454151398316026}}, \"EndTime\": 1604421775.146119, \"Dimensions\": {\"model\": 16, \"Host\": \"algo-1\", \"Operation\": \"training\", \"Algorithm\": \"Linear Learner\", \"epoch\": 13}, \"StartTime\": 1604421775.146105}\n",
      "\u001b[0m\n",
      "\u001b[34m#metrics {\"Metrics\": {\"train_binary_classification_cross_entropy_objective\": {\"count\": 1, \"max\": 0.5706370716914535, \"sum\": 0.5706370716914535, \"min\": 0.5706370716914535}}, \"EndTime\": 1604421775.146173, \"Dimensions\": {\"model\": 17, \"Host\": \"algo-1\", \"Operation\": \"training\", \"Algorithm\": \"Linear Learner\", \"epoch\": 13}, \"StartTime\": 1604421775.146159}\n",
      "\u001b[0m\n",
      "\u001b[34m#metrics {\"Metrics\": {\"train_binary_classification_cross_entropy_objective\": {\"count\": 1, \"max\": 0.5454095344617963, \"sum\": 0.5454095344617963, \"min\": 0.5454095344617963}}, \"EndTime\": 1604421775.146253, \"Dimensions\": {\"model\": 18, \"Host\": \"algo-1\", \"Operation\": \"training\", \"Algorithm\": \"Linear Learner\", \"epoch\": 13}, \"StartTime\": 1604421775.146235}\n",
      "\u001b[0m\n",
      "\u001b[34m#metrics {\"Metrics\": {\"train_binary_classification_cross_entropy_objective\": {\"count\": 1, \"max\": 0.5706356564536691, \"sum\": 0.5706356564536691, \"min\": 0.5706356564536691}}, \"EndTime\": 1604421775.146318, \"Dimensions\": {\"model\": 19, \"Host\": \"algo-1\", \"Operation\": \"training\", \"Algorithm\": \"Linear Learner\", \"epoch\": 13}, \"StartTime\": 1604421775.146301}\n",
      "\u001b[0m\n",
      "\u001b[34m#metrics {\"Metrics\": {\"train_binary_classification_cross_entropy_objective\": {\"count\": 1, \"max\": 1.05437718873176, \"sum\": 1.05437718873176, \"min\": 1.05437718873176}}, \"EndTime\": 1604421775.146369, \"Dimensions\": {\"model\": 20, \"Host\": \"algo-1\", \"Operation\": \"training\", \"Algorithm\": \"Linear Learner\", \"epoch\": 13}, \"StartTime\": 1604421775.146354}\n",
      "\u001b[0m\n",
      "\u001b[34m#metrics {\"Metrics\": {\"train_binary_classification_cross_entropy_objective\": {\"count\": 1, \"max\": 1.8769895297080388, \"sum\": 1.8769895297080388, \"min\": 1.8769895297080388}}, \"EndTime\": 1604421775.146428, \"Dimensions\": {\"model\": 21, \"Host\": \"algo-1\", \"Operation\": \"training\", \"Algorithm\": \"Linear Learner\", \"epoch\": 13}, \"StartTime\": 1604421775.146411}\n",
      "\u001b[0m\n",
      "\u001b[34m#metrics {\"Metrics\": {\"train_binary_classification_cross_entropy_objective\": {\"count\": 1, \"max\": 1.0544512111677045, \"sum\": 1.0544512111677045, \"min\": 1.0544512111677045}}, \"EndTime\": 1604421775.14649, \"Dimensions\": {\"model\": 22, \"Host\": \"algo-1\", \"Operation\": \"training\", \"Algorithm\": \"Linear Learner\", \"epoch\": 13}, \"StartTime\": 1604421775.146474}\n",
      "\u001b[0m\n",
      "\u001b[34m#metrics {\"Metrics\": {\"train_binary_classification_cross_entropy_objective\": {\"count\": 1, \"max\": 1.8767183989363132, \"sum\": 1.8767183989363132, \"min\": 1.8767183989363132}}, \"EndTime\": 1604421775.146558, \"Dimensions\": {\"model\": 23, \"Host\": \"algo-1\", \"Operation\": \"training\", \"Algorithm\": \"Linear Learner\", \"epoch\": 13}, \"StartTime\": 1604421775.146539}\n",
      "\u001b[0m\n",
      "\u001b[34m#metrics {\"Metrics\": {\"train_binary_classification_cross_entropy_objective\": {\"count\": 1, \"max\": 0.6748010170459747, \"sum\": 0.6748010170459747, \"min\": 0.6748010170459747}}, \"EndTime\": 1604421775.146609, \"Dimensions\": {\"model\": 24, \"Host\": \"algo-1\", \"Operation\": \"training\", \"Algorithm\": \"Linear Learner\", \"epoch\": 13}, \"StartTime\": 1604421775.146593}\n",
      "\u001b[0m\n",
      "\u001b[34m#metrics {\"Metrics\": {\"train_binary_classification_cross_entropy_objective\": {\"count\": 1, \"max\": 0.6975672847032547, \"sum\": 0.6975672847032547, \"min\": 0.6975672847032547}}, \"EndTime\": 1604421775.146688, \"Dimensions\": {\"model\": 25, \"Host\": \"algo-1\", \"Operation\": \"training\", \"Algorithm\": \"Linear Learner\", \"epoch\": 13}, \"StartTime\": 1604421775.14667}\n",
      "\u001b[0m\n",
      "\u001b[34m#metrics {\"Metrics\": {\"train_binary_classification_cross_entropy_objective\": {\"count\": 1, \"max\": 0.6748398834466934, \"sum\": 0.6748398834466934, \"min\": 0.6748398834466934}}, \"EndTime\": 1604421775.146742, \"Dimensions\": {\"model\": 26, \"Host\": \"algo-1\", \"Operation\": \"training\", \"Algorithm\": \"Linear Learner\", \"epoch\": 13}, \"StartTime\": 1604421775.146727}\n",
      "\u001b[0m\n",
      "\u001b[34m#metrics {\"Metrics\": {\"train_binary_classification_cross_entropy_objective\": {\"count\": 1, \"max\": 0.6977354818582535, \"sum\": 0.6977354818582535, \"min\": 0.6977354818582535}}, \"EndTime\": 1604421775.146798, \"Dimensions\": {\"model\": 27, \"Host\": \"algo-1\", \"Operation\": \"training\", \"Algorithm\": \"Linear Learner\", \"epoch\": 13}, \"StartTime\": 1604421775.146781}\n",
      "\u001b[0m\n",
      "\u001b[34m#metrics {\"Metrics\": {\"train_binary_classification_cross_entropy_objective\": {\"count\": 1, \"max\": 1.1032427531480788, \"sum\": 1.1032427531480788, \"min\": 1.1032427531480788}}, \"EndTime\": 1604421775.146858, \"Dimensions\": {\"model\": 28, \"Host\": \"algo-1\", \"Operation\": \"training\", \"Algorithm\": \"Linear Learner\", \"epoch\": 13}, \"StartTime\": 1604421775.146842}\n",
      "\u001b[0m\n",
      "\u001b[34m#metrics {\"Metrics\": {\"train_binary_classification_cross_entropy_objective\": {\"count\": 1, \"max\": 1.8507290925900453, \"sum\": 1.8507290925900453, \"min\": 1.8507290925900453}}, \"EndTime\": 1604421775.146925, \"Dimensions\": {\"model\": 29, \"Host\": \"algo-1\", \"Operation\": \"training\", \"Algorithm\": \"Linear Learner\", \"epoch\": 13}, \"StartTime\": 1604421775.146908}\n",
      "\u001b[0m\n",
      "\u001b[34m#metrics {\"Metrics\": {\"train_binary_classification_cross_entropy_objective\": {\"count\": 1, \"max\": 1.1032538936659693, \"sum\": 1.1032538936659693, \"min\": 1.1032538936659693}}, \"EndTime\": 1604421775.146982, \"Dimensions\": {\"model\": 30, \"Host\": \"algo-1\", \"Operation\": \"training\", \"Algorithm\": \"Linear Learner\", \"epoch\": 13}, \"StartTime\": 1604421775.146967}\n",
      "\u001b[0m\n",
      "\u001b[34m#metrics {\"Metrics\": {\"train_binary_classification_cross_entropy_objective\": {\"count\": 1, \"max\": 1.8514050736965146, \"sum\": 1.8514050736965146, \"min\": 1.8514050736965146}}, \"EndTime\": 1604421775.147044, \"Dimensions\": {\"model\": 31, \"Host\": \"algo-1\", \"Operation\": \"training\", \"Algorithm\": \"Linear Learner\", \"epoch\": 13}, \"StartTime\": 1604421775.147026}\n",
      "\u001b[0m\n",
      "\u001b[34m[11/03/2020 16:42:55 INFO 140649179998016] #quality_metric: host=algo-1, epoch=13, train binary_classification_cross_entropy_objective <loss>=0.5384982148\u001b[0m\n",
      "\u001b[34m[11/03/2020 16:42:55 INFO 140649179998016] #early_stopping_criteria_metric: host=algo-1, epoch=13, criteria=binary_classification_cross_entropy_objective, value=0.538392750854\u001b[0m\n",
      "\u001b[34m[11/03/2020 16:42:55 INFO 140649179998016] Epoch 13: Loss improved. Updating best model\u001b[0m\n",
      "\u001b[34m[11/03/2020 16:42:55 INFO 140649179998016] Saving model for epoch: 13\u001b[0m\n",
      "\u001b[34m[11/03/2020 16:42:55 INFO 140649179998016] Saved checkpoint to \"/tmp/tmpSMyvH4/mx-mod-0000.params\"\u001b[0m\n",
      "\u001b[34m[11/03/2020 16:42:55 INFO 140649179998016] #progress_metric: host=algo-1, completed 93 % of epochs\u001b[0m\n",
      "\u001b[34m#metrics {\"Metrics\": {\"Max Batches Seen Between Resets\": {\"count\": 1, \"max\": 65, \"sum\": 65.0, \"min\": 65}, \"Number of Batches Since Last Reset\": {\"count\": 1, \"max\": 65, \"sum\": 65.0, \"min\": 65}, \"Number of Records Since Last Reset\": {\"count\": 1, \"max\": 12971, \"sum\": 12971.0, \"min\": 12971}, \"Total Batches Seen\": {\"count\": 1, \"max\": 962, \"sum\": 962.0, \"min\": 962}, \"Total Records Seen\": {\"count\": 1, \"max\": 191994, \"sum\": 191994.0, \"min\": 191994}, \"Max Records Seen Between Resets\": {\"count\": 1, \"max\": 12971, \"sum\": 12971.0, \"min\": 12971}, \"Reset Count\": {\"count\": 1, \"max\": 16, \"sum\": 16.0, \"min\": 16}}, \"EndTime\": 1604421775.154726, \"Dimensions\": {\"Host\": \"algo-1\", \"Meta\": \"training_data_iter\", \"Operation\": \"training\", \"Algorithm\": \"Linear Learner\", \"epoch\": 13}, \"StartTime\": 1604421773.352325}\n",
      "\u001b[0m\n",
      "\u001b[34m[11/03/2020 16:42:55 INFO 140649179998016] #throughput_metric: host=algo-1, train throughput=7195.99272998 records/second\u001b[0m\n",
      "\u001b[34m[2020-11-03 16:42:56.939] [tensorio] [info] epoch_stats={\"data_pipeline\": \"/opt/ml/input/data/train\", \"epoch\": 31, \"duration\": 1783, \"num_examples\": 65, \"num_bytes\": 1089564}\u001b[0m\n",
      "\u001b[34m#metrics {\"Metrics\": {\"train_binary_classification_cross_entropy_objective\": {\"count\": 1, \"max\": 0.5372762829298153, \"sum\": 0.5372762829298153, \"min\": 0.5372762829298153}}, \"EndTime\": 1604421776.939185, \"Dimensions\": {\"model\": 0, \"Host\": \"algo-1\", \"Operation\": \"training\", \"Algorithm\": \"Linear Learner\", \"epoch\": 14}, \"StartTime\": 1604421776.93911}\n",
      "\u001b[0m\n",
      "\u001b[34m#metrics {\"Metrics\": {\"train_binary_classification_cross_entropy_objective\": {\"count\": 1, \"max\": 0.5622173821739852, \"sum\": 0.5622173821739852, \"min\": 0.5622173821739852}}, \"EndTime\": 1604421776.939276, \"Dimensions\": {\"model\": 1, \"Host\": \"algo-1\", \"Operation\": \"training\", \"Algorithm\": \"Linear Learner\", \"epoch\": 14}, \"StartTime\": 1604421776.939255}\n",
      "\u001b[0m\n",
      "\u001b[34m#metrics {\"Metrics\": {\"train_binary_classification_cross_entropy_objective\": {\"count\": 1, \"max\": 0.5372591990977525, \"sum\": 0.5372591990977525, \"min\": 0.5372591990977525}}, \"EndTime\": 1604421776.939347, \"Dimensions\": {\"model\": 2, \"Host\": \"algo-1\", \"Operation\": \"training\", \"Algorithm\": \"Linear Learner\", \"epoch\": 14}, \"StartTime\": 1604421776.939329}\n",
      "\u001b[0m\n",
      "\u001b[34m#metrics {\"Metrics\": {\"train_binary_classification_cross_entropy_objective\": {\"count\": 1, \"max\": 0.5621167503204196, \"sum\": 0.5621167503204196, \"min\": 0.5621167503204196}}, \"EndTime\": 1604421776.939404, \"Dimensions\": {\"model\": 3, \"Host\": \"algo-1\", \"Operation\": \"training\", \"Algorithm\": \"Linear Learner\", \"epoch\": 14}, \"StartTime\": 1604421776.939389}\n",
      "\u001b[0m\n",
      "\u001b[34m#metrics {\"Metrics\": {\"train_binary_classification_cross_entropy_objective\": {\"count\": 1, \"max\": 0.9856694522409976, \"sum\": 0.9856694522409976, \"min\": 0.9856694522409976}}, \"EndTime\": 1604421776.939463, \"Dimensions\": {\"model\": 4, \"Host\": \"algo-1\", \"Operation\": \"training\", \"Algorithm\": \"Linear Learner\", \"epoch\": 14}, \"StartTime\": 1604421776.939449}\n",
      "\u001b[0m\n",
      "\u001b[34m#metrics {\"Metrics\": {\"train_binary_classification_cross_entropy_objective\": {\"count\": 1, \"max\": 1.8897230893374222, \"sum\": 1.8897230893374222, \"min\": 1.8897230893374222}}, \"EndTime\": 1604421776.939514, \"Dimensions\": {\"model\": 5, \"Host\": \"algo-1\", \"Operation\": \"training\", \"Algorithm\": \"Linear Learner\", \"epoch\": 14}, \"StartTime\": 1604421776.939501}\n",
      "\u001b[0m\n",
      "\u001b[34m#metrics {\"Metrics\": {\"train_binary_classification_cross_entropy_objective\": {\"count\": 1, \"max\": 0.9860386842811341, \"sum\": 0.9860386842811341, \"min\": 0.9860386842811341}}, \"EndTime\": 1604421776.93956, \"Dimensions\": {\"model\": 6, \"Host\": \"algo-1\", \"Operation\": \"training\", \"Algorithm\": \"Linear Learner\", \"epoch\": 14}, \"StartTime\": 1604421776.93955}\n",
      "\u001b[0m\n",
      "\u001b[34m#metrics {\"Metrics\": {\"train_binary_classification_cross_entropy_objective\": {\"count\": 1, \"max\": 1.8891943776899558, \"sum\": 1.8891943776899558, \"min\": 1.8891943776899558}}, \"EndTime\": 1604421776.939624, \"Dimensions\": {\"model\": 7, \"Host\": \"algo-1\", \"Operation\": \"training\", \"Algorithm\": \"Linear Learner\", \"epoch\": 14}, \"StartTime\": 1604421776.939605}\n",
      "\u001b[0m\n",
      "\u001b[34m#metrics {\"Metrics\": {\"train_binary_classification_cross_entropy_objective\": {\"count\": 1, \"max\": 0.5371881330292672, \"sum\": 0.5371881330292672, \"min\": 0.5371881330292672}}, \"EndTime\": 1604421776.939687, \"Dimensions\": {\"model\": 8, \"Host\": \"algo-1\", \"Operation\": \"training\", \"Algorithm\": \"Linear Learner\", \"epoch\": 14}, \"StartTime\": 1604421776.93967}\n",
      "\u001b[0m\n",
      "\u001b[34m#metrics {\"Metrics\": {\"train_binary_classification_cross_entropy_objective\": {\"count\": 1, \"max\": 0.5622659337706863, \"sum\": 0.5622659337706863, \"min\": 0.5622659337706863}}, \"EndTime\": 1604421776.939752, \"Dimensions\": {\"model\": 9, \"Host\": \"algo-1\", \"Operation\": \"training\", \"Algorithm\": \"Linear Learner\", \"epoch\": 14}, \"StartTime\": 1604421776.939736}\n",
      "\u001b[0m\n",
      "\u001b[34m#metrics {\"Metrics\": {\"train_binary_classification_cross_entropy_objective\": {\"count\": 1, \"max\": 0.5371972425375133, \"sum\": 0.5371972425375133, \"min\": 0.5371972425375133}}, \"EndTime\": 1604421776.939812, \"Dimensions\": {\"model\": 10, \"Host\": \"algo-1\", \"Operation\": \"training\", \"Algorithm\": \"Linear Learner\", \"epoch\": 14}, \"StartTime\": 1604421776.939796}\n",
      "\u001b[0m\n",
      "\u001b[34m#metrics {\"Metrics\": {\"train_binary_classification_cross_entropy_objective\": {\"count\": 1, \"max\": 0.5623213676922023, \"sum\": 0.5623213676922023, \"min\": 0.5623213676922023}}, \"EndTime\": 1604421776.939872, \"Dimensions\": {\"model\": 11, \"Host\": \"algo-1\", \"Operation\": \"training\", \"Algorithm\": \"Linear Learner\", \"epoch\": 14}, \"StartTime\": 1604421776.939856}\n",
      "\u001b[0m\n",
      "\u001b[34m#metrics {\"Metrics\": {\"train_binary_classification_cross_entropy_objective\": {\"count\": 1, \"max\": 0.9863749036744207, \"sum\": 0.9863749036744207, \"min\": 0.9863749036744207}}, \"EndTime\": 1604421776.939932, \"Dimensions\": {\"model\": 12, \"Host\": \"algo-1\", \"Operation\": \"training\", \"Algorithm\": \"Linear Learner\", \"epoch\": 14}, \"StartTime\": 1604421776.939916}\n",
      "\u001b[0m\n",
      "\u001b[34m#metrics {\"Metrics\": {\"train_binary_classification_cross_entropy_objective\": {\"count\": 1, \"max\": 1.8979323982982717, \"sum\": 1.8979323982982717, \"min\": 1.8979323982982717}}, \"EndTime\": 1604421776.940001, \"Dimensions\": {\"model\": 13, \"Host\": \"algo-1\", \"Operation\": \"training\", \"Algorithm\": \"Linear Learner\", \"epoch\": 14}, \"StartTime\": 1604421776.939983}\n",
      "\u001b[0m\n",
      "\u001b[34m#metrics {\"Metrics\": {\"train_binary_classification_cross_entropy_objective\": {\"count\": 1, \"max\": 0.9866138181132351, \"sum\": 0.9866138181132351, \"min\": 0.9866138181132351}}, \"EndTime\": 1604421776.940073, \"Dimensions\": {\"model\": 14, \"Host\": \"algo-1\", \"Operation\": \"training\", \"Algorithm\": \"Linear Learner\", \"epoch\": 14}, \"StartTime\": 1604421776.940061}\n",
      "\u001b[0m\n",
      "\u001b[34m#metrics {\"Metrics\": {\"train_binary_classification_cross_entropy_objective\": {\"count\": 1, \"max\": 1.9008519854186128, \"sum\": 1.9008519854186128, \"min\": 1.9008519854186128}}, \"EndTime\": 1604421776.940113, \"Dimensions\": {\"model\": 15, \"Host\": \"algo-1\", \"Operation\": \"training\", \"Algorithm\": \"Linear Learner\", \"epoch\": 14}, \"StartTime\": 1604421776.940101}\n",
      "\u001b[0m\n",
      "\u001b[34m#metrics {\"Metrics\": {\"train_binary_classification_cross_entropy_objective\": {\"count\": 1, \"max\": 0.5441418576613068, \"sum\": 0.5441418576613068, \"min\": 0.5441418576613068}}, \"EndTime\": 1604421776.940178, \"Dimensions\": {\"model\": 16, \"Host\": \"algo-1\", \"Operation\": \"training\", \"Algorithm\": \"Linear Learner\", \"epoch\": 14}, \"StartTime\": 1604421776.940161}\n",
      "\u001b[0m\n",
      "\u001b[34m#metrics {\"Metrics\": {\"train_binary_classification_cross_entropy_objective\": {\"count\": 1, \"max\": 0.5704799545183777, \"sum\": 0.5704799545183777, \"min\": 0.5704799545183777}}, \"EndTime\": 1604421776.940248, \"Dimensions\": {\"model\": 17, \"Host\": \"algo-1\", \"Operation\": \"training\", \"Algorithm\": \"Linear Learner\", \"epoch\": 14}, \"StartTime\": 1604421776.94023}\n",
      "\u001b[0m\n",
      "\u001b[34m#metrics {\"Metrics\": {\"train_binary_classification_cross_entropy_objective\": {\"count\": 1, \"max\": 0.5441371412947774, \"sum\": 0.5441371412947774, \"min\": 0.5441371412947774}}, \"EndTime\": 1604421776.940307, \"Dimensions\": {\"model\": 18, \"Host\": \"algo-1\", \"Operation\": \"training\", \"Algorithm\": \"Linear Learner\", \"epoch\": 14}, \"StartTime\": 1604421776.94029}\n",
      "\u001b[0m\n",
      "\u001b[34m#metrics {\"Metrics\": {\"train_binary_classification_cross_entropy_objective\": {\"count\": 1, \"max\": 0.5704786827787757, \"sum\": 0.5704786827787757, \"min\": 0.5704786827787757}}, \"EndTime\": 1604421776.940373, \"Dimensions\": {\"model\": 19, \"Host\": \"algo-1\", \"Operation\": \"training\", \"Algorithm\": \"Linear Learner\", \"epoch\": 14}, \"StartTime\": 1604421776.940355}\n",
      "\u001b[0m\n",
      "\u001b[34m#metrics {\"Metrics\": {\"train_binary_classification_cross_entropy_objective\": {\"count\": 1, \"max\": 1.020684700443162, \"sum\": 1.020684700443162, \"min\": 1.020684700443162}}, \"EndTime\": 1604421776.940435, \"Dimensions\": {\"model\": 20, \"Host\": \"algo-1\", \"Operation\": \"training\", \"Algorithm\": \"Linear Learner\", \"epoch\": 14}, \"StartTime\": 1604421776.940418}\n",
      "\u001b[0m\n",
      "\u001b[34m#metrics {\"Metrics\": {\"train_binary_classification_cross_entropy_objective\": {\"count\": 1, \"max\": 1.876860365967027, \"sum\": 1.876860365967027, \"min\": 1.876860365967027}}, \"EndTime\": 1604421776.940497, \"Dimensions\": {\"model\": 21, \"Host\": \"algo-1\", \"Operation\": \"training\", \"Algorithm\": \"Linear Learner\", \"epoch\": 14}, \"StartTime\": 1604421776.940481}\n",
      "\u001b[0m\n",
      "\u001b[34m#metrics {\"Metrics\": {\"train_binary_classification_cross_entropy_objective\": {\"count\": 1, \"max\": 1.0207457203122614, \"sum\": 1.0207457203122614, \"min\": 1.0207457203122614}}, \"EndTime\": 1604421776.940569, \"Dimensions\": {\"model\": 22, \"Host\": \"algo-1\", \"Operation\": \"training\", \"Algorithm\": \"Linear Learner\", \"epoch\": 14}, \"StartTime\": 1604421776.940551}\n",
      "\u001b[0m\n",
      "\u001b[34m#metrics {\"Metrics\": {\"train_binary_classification_cross_entropy_objective\": {\"count\": 1, \"max\": 1.8766321525095782, \"sum\": 1.8766321525095782, \"min\": 1.8766321525095782}}, \"EndTime\": 1604421776.940627, \"Dimensions\": {\"model\": 23, \"Host\": \"algo-1\", \"Operation\": \"training\", \"Algorithm\": \"Linear Learner\", \"epoch\": 14}, \"StartTime\": 1604421776.940611}\n",
      "\u001b[0m\n",
      "\u001b[34m#metrics {\"Metrics\": {\"train_binary_classification_cross_entropy_objective\": {\"count\": 1, \"max\": 0.673951861858368, \"sum\": 0.673951861858368, \"min\": 0.673951861858368}}, \"EndTime\": 1604421776.940681, \"Dimensions\": {\"model\": 24, \"Host\": \"algo-1\", \"Operation\": \"training\", \"Algorithm\": \"Linear Learner\", \"epoch\": 14}, \"StartTime\": 1604421776.940666}\n",
      "\u001b[0m\n",
      "\u001b[34m#metrics {\"Metrics\": {\"train_binary_classification_cross_entropy_objective\": {\"count\": 1, \"max\": 0.6977949053049087, \"sum\": 0.6977949053049087, \"min\": 0.6977949053049087}}, \"EndTime\": 1604421776.940736, \"Dimensions\": {\"model\": 25, \"Host\": \"algo-1\", \"Operation\": \"training\", \"Algorithm\": \"Linear Learner\", \"epoch\": 14}, \"StartTime\": 1604421776.94072}\n",
      "\u001b[0m\n",
      "\u001b[34m#metrics {\"Metrics\": {\"train_binary_classification_cross_entropy_objective\": {\"count\": 1, \"max\": 0.6740058499574662, \"sum\": 0.6740058499574662, \"min\": 0.6740058499574662}}, \"EndTime\": 1604421776.940786, \"Dimensions\": {\"model\": 26, \"Host\": \"algo-1\", \"Operation\": \"training\", \"Algorithm\": \"Linear Learner\", \"epoch\": 14}, \"StartTime\": 1604421776.940771}\n",
      "\u001b[0m\n",
      "\u001b[34m#metrics {\"Metrics\": {\"train_binary_classification_cross_entropy_objective\": {\"count\": 1, \"max\": 0.6979478365182876, \"sum\": 0.6979478365182876, \"min\": 0.6979478365182876}}, \"EndTime\": 1604421776.940837, \"Dimensions\": {\"model\": 27, \"Host\": \"algo-1\", \"Operation\": \"training\", \"Algorithm\": \"Linear Learner\", \"epoch\": 14}, \"StartTime\": 1604421776.940821}\n",
      "\u001b[0m\n",
      "\u001b[34m#metrics {\"Metrics\": {\"train_binary_classification_cross_entropy_objective\": {\"count\": 1, \"max\": 1.067817211151123, \"sum\": 1.067817211151123, \"min\": 1.067817211151123}}, \"EndTime\": 1604421776.940887, \"Dimensions\": {\"model\": 28, \"Host\": \"algo-1\", \"Operation\": \"training\", \"Algorithm\": \"Linear Learner\", \"epoch\": 14}, \"StartTime\": 1604421776.940877}\n",
      "\u001b[0m\n",
      "\u001b[34m#metrics {\"Metrics\": {\"train_binary_classification_cross_entropy_objective\": {\"count\": 1, \"max\": 1.8447593978582881, \"sum\": 1.8447593978582881, \"min\": 1.8447593978582881}}, \"EndTime\": 1604421776.940917, \"Dimensions\": {\"model\": 29, \"Host\": \"algo-1\", \"Operation\": \"training\", \"Algorithm\": \"Linear Learner\", \"epoch\": 14}, \"StartTime\": 1604421776.94091}\n",
      "\u001b[0m\n",
      "\u001b[34m#metrics {\"Metrics\": {\"train_binary_classification_cross_entropy_objective\": {\"count\": 1, \"max\": 1.0678274036198854, \"sum\": 1.0678274036198854, \"min\": 1.0678274036198854}}, \"EndTime\": 1604421776.940955, \"Dimensions\": {\"model\": 30, \"Host\": \"algo-1\", \"Operation\": \"training\", \"Algorithm\": \"Linear Learner\", \"epoch\": 14}, \"StartTime\": 1604421776.940942}\n",
      "\u001b[0m\n",
      "\u001b[34m#metrics {\"Metrics\": {\"train_binary_classification_cross_entropy_objective\": {\"count\": 1, \"max\": 1.845337596142199, \"sum\": 1.845337596142199, \"min\": 1.845337596142199}}, \"EndTime\": 1604421776.94101, \"Dimensions\": {\"model\": 31, \"Host\": \"algo-1\", \"Operation\": \"training\", \"Algorithm\": \"Linear Learner\", \"epoch\": 14}, \"StartTime\": 1604421776.940994}\n",
      "\u001b[0m\n",
      "\u001b[34m[11/03/2020 16:42:56 INFO 140649179998016] #quality_metric: host=algo-1, epoch=14, train binary_classification_cross_entropy_objective <loss>=0.53727628293\u001b[0m\n",
      "\u001b[34m[11/03/2020 16:42:56 INFO 140649179998016] #early_stopping_criteria_metric: host=algo-1, epoch=14, criteria=binary_classification_cross_entropy_objective, value=0.537188133029\u001b[0m\n",
      "\u001b[34m[11/03/2020 16:42:56 INFO 140649179998016] Epoch 14: Loss improved. Updating best model\u001b[0m\n",
      "\u001b[34m[11/03/2020 16:42:56 INFO 140649179998016] Saving model for epoch: 14\u001b[0m\n",
      "\u001b[34m[11/03/2020 16:42:56 INFO 140649179998016] Saved checkpoint to \"/tmp/tmpUIJUc0/mx-mod-0000.params\"\u001b[0m\n",
      "\u001b[34m[11/03/2020 16:42:56 INFO 140649179998016] #progress_metric: host=algo-1, completed 100 % of epochs\u001b[0m\n",
      "\u001b[34m#metrics {\"Metrics\": {\"Max Batches Seen Between Resets\": {\"count\": 1, \"max\": 65, \"sum\": 65.0, \"min\": 65}, \"Number of Batches Since Last Reset\": {\"count\": 1, \"max\": 65, \"sum\": 65.0, \"min\": 65}, \"Number of Records Since Last Reset\": {\"count\": 1, \"max\": 12971, \"sum\": 12971.0, \"min\": 12971}, \"Total Batches Seen\": {\"count\": 1, \"max\": 1027, \"sum\": 1027.0, \"min\": 1027}, \"Total Records Seen\": {\"count\": 1, \"max\": 204965, \"sum\": 204965.0, \"min\": 204965}, \"Max Records Seen Between Resets\": {\"count\": 1, \"max\": 12971, \"sum\": 12971.0, \"min\": 12971}, \"Reset Count\": {\"count\": 1, \"max\": 17, \"sum\": 17.0, \"min\": 17}}, \"EndTime\": 1604421776.947958, \"Dimensions\": {\"Host\": \"algo-1\", \"Meta\": \"training_data_iter\", \"Operation\": \"training\", \"Algorithm\": \"Linear Learner\", \"epoch\": 14}, \"StartTime\": 1604421775.154995}\n",
      "\u001b[0m\n",
      "\u001b[34m[11/03/2020 16:42:56 INFO 140649179998016] #throughput_metric: host=algo-1, train throughput=7233.95000753 records/second\u001b[0m\n",
      "\u001b[34m[11/03/2020 16:42:56 WARNING 140649179998016] wait_for_all_workers will not sync workers since the kv store is not running distributed\u001b[0m\n",
      "\u001b[34m[11/03/2020 16:42:56 WARNING 140649179998016] wait_for_all_workers will not sync workers since the kv store is not running distributed\u001b[0m\n",
      "\u001b[34m[2020-11-03 16:42:56.949] [tensorio] [info] epoch_stats={\"data_pipeline\": \"/opt/ml/input/data/train\", \"epoch\": 33, \"duration\": 1, \"num_examples\": 1, \"num_bytes\": 16800}\u001b[0m\n",
      "\u001b[34m[2020-11-03 16:42:57.133] [tensorio] [info] epoch_stats={\"data_pipeline\": \"/opt/ml/input/data/train\", \"epoch\": 36, \"duration\": 181, \"num_examples\": 65, \"num_bytes\": 1089564}\u001b[0m\n",
      "\u001b[34m[2020-11-03 16:42:57.328] [tensorio] [info] epoch_stats={\"data_pipeline\": \"/opt/ml/input/data/train\", \"epoch\": 38, \"duration\": 181, \"num_examples\": 65, \"num_bytes\": 1089564}\u001b[0m\n",
      "\u001b[34m[11/03/2020 16:42:57 INFO 140649179998016] #train_score (algo-1) : ('binary_classification_cross_entropy_objective', 0.5166134220827205)\u001b[0m\n",
      "\u001b[34m[11/03/2020 16:42:57 INFO 140649179998016] #train_score (algo-1) : ('binary_classification_accuracy', 0.7717215326497572)\u001b[0m\n",
      "\u001b[34m[11/03/2020 16:42:57 INFO 140649179998016] #train_score (algo-1) : ('binary_f_1.000', 0.6538866160140269)\u001b[0m\n",
      "\u001b[34m[11/03/2020 16:42:57 INFO 140649179998016] #train_score (algo-1) : ('precision', 0.8496354799513973)\u001b[0m\n",
      "\u001b[34m[11/03/2020 16:42:57 INFO 140649179998016] #train_score (algo-1) : ('recall', 0.5314459433783013)\u001b[0m\n",
      "\u001b[34m[11/03/2020 16:42:57 INFO 140649179998016] #train_score (algo-1) : ('roc_auc_score', 0.7641678484916042)\u001b[0m\n",
      "\u001b[34m[11/03/2020 16:42:57 INFO 140649179998016] #quality_metric: host=algo-1, train binary_classification_cross_entropy_objective <loss>=0.516613422083\u001b[0m\n",
      "\u001b[34m[11/03/2020 16:42:57 INFO 140649179998016] #quality_metric: host=algo-1, train binary_classification_accuracy <score>=0.77172153265\u001b[0m\n",
      "\u001b[34m[11/03/2020 16:42:57 INFO 140649179998016] #quality_metric: host=algo-1, train binary_f_1.000 <score>=0.653886616014\u001b[0m\n",
      "\u001b[34m[11/03/2020 16:42:57 INFO 140649179998016] #quality_metric: host=algo-1, train precision <score>=0.849635479951\u001b[0m\n",
      "\u001b[34m[11/03/2020 16:42:57 INFO 140649179998016] #quality_metric: host=algo-1, train recall <score>=0.531445943378\u001b[0m\n",
      "\u001b[34m[11/03/2020 16:42:57 INFO 140649179998016] #quality_metric: host=algo-1, train roc_auc_score <score>=0.764167848492\u001b[0m\n",
      "\u001b[34m[11/03/2020 16:42:57 INFO 140649179998016] Best model found for hyperparameters: {\"lr_scheduler_step\": 10, \"wd\": 0.01, \"optimizer\": \"adam\", \"lr_scheduler_factor\": 0.99, \"l1\": 0.0, \"learning_rate\": 0.005, \"lr_scheduler_minimum_lr\": 1e-05}\u001b[0m\n",
      "\u001b[34m[11/03/2020 16:42:57 INFO 140649179998016] Saved checkpoint to \"/tmp/tmpiDdBCX/mx-mod-0000.params\"\u001b[0m\n",
      "\u001b[34m[11/03/2020 16:42:57 INFO 140649179998016] Test data is not provided.\u001b[0m\n",
      "\u001b[34m#metrics {\"Metrics\": {\"totaltime\": {\"count\": 1, \"max\": 28873.520135879517, \"sum\": 28873.520135879517, \"min\": 28873.520135879517}, \"finalize.time\": {\"count\": 1, \"max\": 387.7420425415039, \"sum\": 387.7420425415039, \"min\": 387.7420425415039}, \"initialize.time\": {\"count\": 1, \"max\": 354.3739318847656, \"sum\": 354.3739318847656, \"min\": 354.3739318847656}, \"check_early_stopping.time\": {\"count\": 15, \"max\": 0.9970664978027344, \"sum\": 13.169050216674805, \"min\": 0.7708072662353516}, \"setuptime\": {\"count\": 1, \"max\": 24.060964584350586, \"sum\": 24.060964584350586, \"min\": 24.060964584350586}, \"update.time\": {\"count\": 15, \"max\": 2218.7600135803223, \"sum\": 27861.59658432007, \"min\": 1761.8019580841064}, \"epochs\": {\"count\": 1, \"max\": 15, \"sum\": 15.0, \"min\": 15}}, \"EndTime\": 1604421777.340988, \"Dimensions\": {\"Host\": \"algo-1\", \"Operation\": \"training\", \"Algorithm\": \"Linear Learner\"}, \"StartTime\": 1604421748.686228}\n",
      "\u001b[0m\n",
      "\n",
      "2020-11-03 16:43:07 Uploading - Uploading generated training model\n",
      "2020-11-03 16:43:07 Completed - Training job completed\n",
      "Training seconds: 84\n",
      "Billable seconds: 84\n"
     ]
    }
   ],
   "source": [
    "from sagemaker.amazon.amazon_estimator import get_image_uri\n",
    "\n",
    "container = get_image_uri(boto3.Session().region_name, 'linear-learner')\n",
    "\n",
    "from sagemaker import get_execution_role\n",
    "\n",
    "linear = sagemaker.estimator.Estimator(container,\n",
    "                                       get_execution_role(), \n",
    "                                       train_instance_count=1, \n",
    "                                       train_instance_type='ml.c4.xlarge',\n",
    "                                       output_path=output_location,\n",
    "                                       sagemaker_session=session)\n",
    "linear.set_hyperparameters(feature_dim=features.shape[1],\n",
    "                           predictor_type='binary_classifier',\n",
    "                           mini_batch_size=200)\n",
    "\n",
    "linear.fit({'train': s3_train_data},wait=True)"
   ]
  },
  {
   "cell_type": "code",
   "execution_count": null,
   "metadata": {},
   "outputs": [],
   "source": [
    "#delete old endpoint\n",
    "sagemaker.Session().delete_endpoint(\"arn:aws:sagemaker:us-west-2:163538056407:endpoint/stk-bot-detect-ticks\")"
   ]
  },
  {
   "cell_type": "code",
   "execution_count": 331,
   "metadata": {},
   "outputs": [
    {
     "name": "stderr",
     "output_type": "stream",
     "text": [
      "Parameter image will be renamed to image_uri in SageMaker Python SDK v2.\n"
     ]
    },
    {
     "name": "stdout",
     "output_type": "stream",
     "text": [
      "---------------!Endpoint name: stk-bot-detect-ticks\n"
     ]
    }
   ],
   "source": [
    "from sagemaker.predictor import csv_serializer, json_deserializer\n",
    "\n",
    "\n",
    "linear_predictor = linear.deploy(initial_instance_count=1,\n",
    "                                 endpoint_name='stk-bot-detect-ticks',\n",
    "                                 instance_type='ml.c4.large')\n",
    "# Specify input and output formats.\n",
    "linear_predictor.content_type = 'text/csv'\n",
    "linear_predictor.serializer = csv_serializer\n",
    "linear_predictor.deserializer = json_deserializer\n",
    "print('Endpoint name: {}'.format(linear_predictor.endpoint))"
   ]
  },
  {
   "cell_type": "code",
   "execution_count": 332,
   "metadata": {},
   "outputs": [
    {
     "name": "stdout",
     "output_type": "stream",
     "text": [
      "CPU times: user 19.8 ms, sys: 0 ns, total: 19.8 ms\n",
      "Wall time: 88.5 ms\n"
     ]
    },
    {
     "data": {
      "text/plain": [
       "'84351,83390,84010,83111,84537,83700,84320,83359,84847,83979'"
      ]
     },
     "execution_count": 332,
     "metadata": {},
     "output_type": "execute_result"
    }
   ],
   "source": [
    "%%time\n",
    "import pandas as pd\n",
    "\n",
    "try:\n",
    "  conn =  mysql.connector.connect(host=ENDPOINT, user=USR, passwd=PASWD, port=3306, database=DBNAME)\n",
    "  cur = conn.cursor()\n",
    "  cur.execute(\"\"\"\n",
    "        select group_concat(concat(m_ticks)) as sample\n",
    "                from (\n",
    "                        select concat(id,\"-\",m_kart_id) id, m_ticks\n",
    "                        from (\n",
    "                                select id,m_kart_id,m_ticks\n",
    "                                from (\n",
    "                                        select id,m_kart_id,m_ticks\n",
    "                                        from actions order by id desc limit 70) t1 order by m_kart_id limit 10) t2) t3; \n",
    "              \"\"\")\n",
    "  sample_list=cur.fetchall()  \n",
    "except Exception as e:\n",
    "  print(\"Database connection failed due to {}\".format(e))\n",
    "sample=''.join(sample_list[0])\n"
   ]
  },
  {
   "cell_type": "code",
   "execution_count": 368,
   "metadata": {},
   "outputs": [
    {
     "data": {
      "text/plain": [
       "<matplotlib.axes._subplots.AxesSubplot at 0x7f7426500e48>"
      ]
     },
     "execution_count": 368,
     "metadata": {},
     "output_type": "execute_result"
    },
    {
     "data": {
      "image/png": "[encoded data removed]",
      "text/plain": [
       "<Figure size 432x288 with 1 Axes>"
      ]
     },
     "metadata": {
      "needs_background": "light"
     },
     "output_type": "display_data"
    }
   ],
   "source": [
    "import pandas as pd\n",
    "#sample='31,31,62,93,124,155,186,217,248,279'\n",
    "#sample='124,155,186,217,248,279,310,341,372,403'\n",
    "#sample='310,341,372,403,434,465,496,527,558,589'\n",
    "#linear_predictor.predict(sample)\n",
    "sample_df=pd.Series([22406,22449,22482,22574,22583,22662,22716,22781,22795,23053])\n",
    "sample_df.plot.line()\n",
    "#linear_predictor.predict(sample_df.tolist())"
   ]
  },
  {
   "cell_type": "code",
   "execution_count": 3,
   "metadata": {},
   "outputs": [
    {
     "data": {
      "text/plain": [
       "<matplotlib.axes._subplots.AxesSubplot at 0x7f384b374160>"
      ]
     },
     "execution_count": 3,
     "metadata": {},
     "output_type": "execute_result"
    },
    {
     "data": {
      "image/png": "[encoded data removed]",
      "text/plain": [
       "<Figure size 432x288 with 1 Axes>"
      ]
     },
     "metadata": {
      "needs_background": "light"
     },
     "output_type": "display_data"
    }
   ],
   "source": [
    "sample_df=pd.Series([31,31,62,93,124,155,186,217,248,279,310,341,372,403,434,465,496,527,558,589])\n",
    "sample_df.plot.line()"
   ]
  },
  {
   "cell_type": "code",
   "execution_count": null,
   "metadata": {},
   "outputs": [],
   "source": [
    "sample='310,341,372,403,434,465,496,527,558,589'\n",
    "sample='589,558,527,496,465,434,403,372,341,310'\n",
    "sample='23053,22795,22781,22716,22662,22583,22574,22482,22449,22406'\n",
    "sample='589,558,527,496,465,434,403,372,341,310'\n",
    "linear_predictor.predict(sample)"
   ]
  },
  {
   "cell_type": "code",
   "execution_count": null,
   "metadata": {},
   "outputs": [],
   "source": [
    "%%time\n",
    "import pandas as pd\n",
    "from sagemaker.predictor import csv_serializer, json_deserializer\n",
    "\n",
    "linear_predictor.content_type = 'text/csv'\n",
    "linear_predictor.serializer = csv_serializer\n",
    "linear_predictor.accept = 'application/json'\n",
    "linear_predictor.deserializer = json_deserializer\n",
    "\n",
    "try:\n",
    "  conn =  mysql.connector.connect(host=ENDPOINT, user=USR, passwd=PASWD, port=3306, database=DBNAME)\n",
    "  cur = conn.cursor()\n",
    "  cur.execute(\"\"\"\n",
    "            select ticks_1,ticks_2,ticks_3,ticks_4,ticks_5,ticks_6,ticks_7,ticks_8,ticks_9,ticks_10 from ticks_session_sample;\n",
    "              \"\"\")\n",
    "  sample_list=cur.fetchall()  \n",
    "except Exception as e:\n",
    "  print(\"Database connection failed due to {}\".format(e))\n",
    "\n",
    "for sample in sample_list:\n",
    "  results=linear_predictor.predict(sample)\n",
    "  print('{} predict {}'.format(sample,results))"
   ]
  },
  {
   "cell_type": "markdown",
   "metadata": {},
   "source": [
    "## Full data - (ticks,action,value,value_l,value_r) - prepare the data "
   ]
  },
  {
   "cell_type": "code",
   "execution_count": 180,
   "metadata": {},
   "outputs": [
    {
     "name": "stdout",
     "output_type": "stream",
     "text": [
      "Index(['sessionid', 'id', 'm_ticks', 'm_kart_id', 'm_action', 'm_value',\n",
      "       'm_value_l', 'm_value_r', 'class'],\n",
      "      dtype='object')\n",
      "sessionid    76203\n",
      "id           76203\n",
      "m_ticks      76203\n",
      "m_kart_id    76203\n",
      "m_action     76203\n",
      "m_value      76203\n",
      "m_value_l    76203\n",
      "m_value_r    76203\n",
      "class        76203\n",
      "dtype: int64\n"
     ]
    }
   ],
   "source": [
    "actions = pd.DataFrame(action_list)\n",
    "actions.rename(columns={0:'sessionid',\n",
    "                        1:'id',\n",
    "                        2:'m_ticks',\n",
    "                        3:'m_kart_id',\n",
    "                        4:'m_action',\n",
    "                        5:'m_value',\n",
    "                        6:'m_value_l',\n",
    "                        7:'m_value_r',\n",
    "                        8:'class'\n",
    "                     }, \n",
    "                 inplace=True)\n",
    "print(actions.columns)\n",
    "print(actions.count())"
   ]
  },
  {
   "cell_type": "markdown",
   "metadata": {},
   "source": [
    "We used `id` for sorting the session actions but now we dont need it anymore."
   ]
  },
  {
   "cell_type": "code",
   "execution_count": 181,
   "metadata": {},
   "outputs": [],
   "source": [
    "full_actions=actions.drop('id',axis=1)"
   ]
  },
  {
   "cell_type": "markdown",
   "metadata": {},
   "source": [
    "Checking the amount of data we lose in aggreagtion. The session length is 25 so we are going loose all the session that are smaller than 25"
   ]
  },
  {
   "cell_type": "code",
   "execution_count": 185,
   "metadata": {},
   "outputs": [
    {
     "name": "stdout",
     "output_type": "stream",
     "text": [
      "sessionid\n",
      "0        99\n",
      "1       100\n",
      "2       100\n",
      "3       100\n",
      "4       100\n",
      "       ... \n",
      "1083    100\n",
      "1084    100\n",
      "1085    100\n",
      "1086    100\n",
      "1087     87\n",
      "Length: 769, dtype: int64\n",
      "76193\n"
     ]
    },
    {
     "data": {
      "text/plain": [
       "sessionid    76203\n",
       "m_ticks      76203\n",
       "m_kart_id    76203\n",
       "m_action     76203\n",
       "m_value      76203\n",
       "m_value_l    76203\n",
       "m_value_r    76203\n",
       "class        76203\n",
       "dtype: int64"
      ]
     },
     "execution_count": 185,
     "metadata": {},
     "output_type": "execute_result"
    }
   ],
   "source": [
    "print(full_actions.groupby(['sessionid'],axis=0).size())\n",
    "sum=0\n",
    "for i in full_actions.groupby(['sessionid'],axis=0).size():\n",
    "  #print(i,end='####')\n",
    "  if(i>session_len):\n",
    "    sum=sum+i\n",
    "print(sum)\n",
    "full_actions.count()"
   ]
  },
  {
   "cell_type": "markdown",
   "metadata": {},
   "source": [
    "Checking the size of sessions. Session is an ordered set of actions grouped by the sessiondid, the player kart id and the classification. \n",
    "\n",
    "Classification is set as 1 in case of human, and 0 as bot.\n",
    "\n",
    "The `sum` is the number of remaining data after aggregating on both the kartid and class."
   ]
  },
  {
   "cell_type": "markdown",
   "metadata": {},
   "source": [
    "Construct a dictonary based on `sessionid` and action classification `class`"
   ]
  },
  {
   "cell_type": "code",
   "execution_count": 186,
   "metadata": {},
   "outputs": [
    {
     "name": "stdout",
     "output_type": "stream",
     "text": [
      "76203\n"
     ]
    }
   ],
   "source": [
    "player_session_dict = {}\n",
    "i=0\n",
    "\n",
    "for index, row in full_actions.iterrows():\n",
    "  i=i+1\n",
    "  play_action_val=row['m_ticks'],row['m_action'],row['m_value'],row['m_value_l'],row['m_value_r']\n",
    "  play_action_key=row['sessionid'],row['m_kart_id'],row['class']\n",
    "  if(player_session_dict.get(play_action_key)):\n",
    "    session_list=player_session_dict[play_action_key]\n",
    "    session_list.append(play_action_val)\n",
    "    player_session_dict[play_action_key]=session_list \n",
    "  else:\n",
    "    session_list=[]\n",
    "    session_list.append(play_action_val)\n",
    "    player_session_dict[play_action_key]=session_list\n",
    "print(i)"
   ]
  },
  {
   "cell_type": "markdown",
   "metadata": {},
   "source": [
    "Check the session length (number of actions in a session)"
   ]
  },
  {
   "cell_type": "code",
   "execution_count": 187,
   "metadata": {},
   "outputs": [
    {
     "name": "stdout",
     "output_type": "stream",
     "text": [
      "\n",
      "number of actions pulled from aurora=76203\n",
      "number of actions after initial aggregations=67939\n"
     ]
    },
    {
     "data": {
      "text/plain": [
       "3814"
      ]
     },
     "execution_count": 187,
     "metadata": {},
     "output_type": "execute_result"
    }
   ],
   "source": [
    "sum=0\n",
    "for key in player_session_dict.keys():\n",
    "  if (len(player_session_dict[key])>=session_len):\n",
    "    #print(len(player_session_dict[key]),end = '###')\n",
    "    sum=sum+len(player_session_dict[key])\n",
    "print()\n",
    "print('number of actions pulled from aurora={}'.format(i))\n",
    "print('number of actions after initial aggregations={}'.format(sum))\n",
    "len(player_session_dict)"
   ]
  },
  {
   "cell_type": "markdown",
   "metadata": {},
   "source": [
    "Transpose the dataframe to a new column strucutre that concatenates series of consecutive actions in a fixed size of 25"
   ]
  },
  {
   "cell_type": "code",
   "execution_count": 189,
   "metadata": {},
   "outputs": [
    {
     "name": "stdout",
     "output_type": "stream",
     "text": [
      "5898\n"
     ]
    }
   ],
   "source": [
    "import numpy as np\n",
    "\n",
    "#a line in the array is five set of actions plus the classification \n",
    "size_of_arr_line=session_len*5+1\n",
    "sessions_array = np.zeros((5898,size_of_arr_line), dtype=float, order='C')\n",
    "\n",
    "i=0\n",
    "sum_of_actions=0\n",
    "for key in player_session_dict:\n",
    "  raw_session=player_session_dict[key]\n",
    "  #break the session into equal parts 25 actions long\n",
    "  sessions_list=[raw_session[i:i + session_len] for i in range(0, len(raw_session), session_len)]  \n",
    "  #every session has 25 action set\n",
    "  for session in sessions_list:\n",
    "    #including only the full sessions with excatly 25 actions\n",
    "    if(len(session)==session_len):\n",
    "      new_row=[]\n",
    "      for action in session:\n",
    "        new_row.append(action[0])\n",
    "        new_row.append(action[1])\n",
    "        new_row.append(action[2])\n",
    "        new_row.append(action[3])\n",
    "        new_row.append(action[4])\n",
    "      #add class field to the last column \n",
    "      new_row.append(key[2])\n",
    "      sessions_array[i]=np.asarray(new_row)\n",
    "      i=i+1 \n",
    "print(i)"
   ]
  },
  {
   "cell_type": "code",
   "execution_count": 190,
   "metadata": {},
   "outputs": [],
   "source": [
    "df=pd.DataFrame(sessions_array) "
   ]
  },
  {
   "cell_type": "code",
   "execution_count": 191,
   "metadata": {},
   "outputs": [
    {
     "data": {
      "text/html": [
       "<div>\n",
       "<style scoped>\n",
       "    .dataframe tbody tr th:only-of-type {\n",
       "        vertical-align: middle;\n",
       "    }\n",
       "\n",
       "    .dataframe tbody tr th {\n",
       "        vertical-align: top;\n",
       "    }\n",
       "\n",
       "    .dataframe thead th {\n",
       "        text-align: right;\n",
       "    }\n",
       "</style>\n",
       "<table border=\"1\" class=\"dataframe\">\n",
       "  <thead>\n",
       "    <tr style=\"text-align: right;\">\n",
       "      <th></th>\n",
       "      <th>0</th>\n",
       "      <th>1</th>\n",
       "      <th>2</th>\n",
       "      <th>3</th>\n",
       "      <th>4</th>\n",
       "      <th>5</th>\n",
       "      <th>6</th>\n",
       "      <th>7</th>\n",
       "      <th>8</th>\n",
       "      <th>9</th>\n",
       "      <th>...</th>\n",
       "      <th>41</th>\n",
       "      <th>42</th>\n",
       "      <th>43</th>\n",
       "      <th>44</th>\n",
       "      <th>45</th>\n",
       "      <th>46</th>\n",
       "      <th>47</th>\n",
       "      <th>48</th>\n",
       "      <th>49</th>\n",
       "      <th>50</th>\n",
       "    </tr>\n",
       "  </thead>\n",
       "  <tbody>\n",
       "    <tr>\n",
       "      <th>0</th>\n",
       "      <td>21768.0</td>\n",
       "      <td>0.0</td>\n",
       "      <td>32768.0</td>\n",
       "      <td>0.0</td>\n",
       "      <td>0.0</td>\n",
       "      <td>21794.0</td>\n",
       "      <td>0.0</td>\n",
       "      <td>0.0</td>\n",
       "      <td>32768.0</td>\n",
       "      <td>0.0</td>\n",
       "      <td>...</td>\n",
       "      <td>0.0</td>\n",
       "      <td>32768.0</td>\n",
       "      <td>0.0</td>\n",
       "      <td>0.0</td>\n",
       "      <td>22313.0</td>\n",
       "      <td>0.0</td>\n",
       "      <td>0.0</td>\n",
       "      <td>32768.0</td>\n",
       "      <td>0.0</td>\n",
       "      <td>0.0</td>\n",
       "    </tr>\n",
       "    <tr>\n",
       "      <th>1</th>\n",
       "      <td>22357.0</td>\n",
       "      <td>0.0</td>\n",
       "      <td>32768.0</td>\n",
       "      <td>0.0</td>\n",
       "      <td>0.0</td>\n",
       "      <td>22406.0</td>\n",
       "      <td>0.0</td>\n",
       "      <td>0.0</td>\n",
       "      <td>32768.0</td>\n",
       "      <td>0.0</td>\n",
       "      <td>...</td>\n",
       "      <td>7.0</td>\n",
       "      <td>32768.0</td>\n",
       "      <td>0.0</td>\n",
       "      <td>0.0</td>\n",
       "      <td>22795.0</td>\n",
       "      <td>7.0</td>\n",
       "      <td>0.0</td>\n",
       "      <td>0.0</td>\n",
       "      <td>0.0</td>\n",
       "      <td>0.0</td>\n",
       "    </tr>\n",
       "    <tr>\n",
       "      <th>2</th>\n",
       "      <td>23053.0</td>\n",
       "      <td>0.0</td>\n",
       "      <td>32768.0</td>\n",
       "      <td>0.0</td>\n",
       "      <td>0.0</td>\n",
       "      <td>23074.0</td>\n",
       "      <td>0.0</td>\n",
       "      <td>0.0</td>\n",
       "      <td>32768.0</td>\n",
       "      <td>0.0</td>\n",
       "      <td>...</td>\n",
       "      <td>4.0</td>\n",
       "      <td>0.0</td>\n",
       "      <td>0.0</td>\n",
       "      <td>-32768.0</td>\n",
       "      <td>23885.0</td>\n",
       "      <td>1.0</td>\n",
       "      <td>0.0</td>\n",
       "      <td>0.0</td>\n",
       "      <td>-32768.0</td>\n",
       "      <td>0.0</td>\n",
       "    </tr>\n",
       "    <tr>\n",
       "      <th>3</th>\n",
       "      <td>23896.0</td>\n",
       "      <td>4.0</td>\n",
       "      <td>32768.0</td>\n",
       "      <td>0.0</td>\n",
       "      <td>0.0</td>\n",
       "      <td>23914.0</td>\n",
       "      <td>4.0</td>\n",
       "      <td>0.0</td>\n",
       "      <td>0.0</td>\n",
       "      <td>0.0</td>\n",
       "      <td>...</td>\n",
       "      <td>0.0</td>\n",
       "      <td>32768.0</td>\n",
       "      <td>0.0</td>\n",
       "      <td>0.0</td>\n",
       "      <td>24195.0</td>\n",
       "      <td>0.0</td>\n",
       "      <td>0.0</td>\n",
       "      <td>32768.0</td>\n",
       "      <td>0.0</td>\n",
       "      <td>0.0</td>\n",
       "    </tr>\n",
       "    <tr>\n",
       "      <th>4</th>\n",
       "      <td>21777.0</td>\n",
       "      <td>1.0</td>\n",
       "      <td>32768.0</td>\n",
       "      <td>0.0</td>\n",
       "      <td>0.0</td>\n",
       "      <td>21801.0</td>\n",
       "      <td>1.0</td>\n",
       "      <td>0.0</td>\n",
       "      <td>0.0</td>\n",
       "      <td>-32768.0</td>\n",
       "      <td>...</td>\n",
       "      <td>1.0</td>\n",
       "      <td>32768.0</td>\n",
       "      <td>0.0</td>\n",
       "      <td>0.0</td>\n",
       "      <td>22163.0</td>\n",
       "      <td>1.0</td>\n",
       "      <td>0.0</td>\n",
       "      <td>0.0</td>\n",
       "      <td>-32768.0</td>\n",
       "      <td>0.0</td>\n",
       "    </tr>\n",
       "  </tbody>\n",
       "</table>\n",
       "<p>5 rows × 51 columns</p>\n",
       "</div>"
      ],
      "text/plain": [
       "        0    1        2    3    4        5    6    7        8        9   ...  \\\n",
       "0  21768.0  0.0  32768.0  0.0  0.0  21794.0  0.0  0.0  32768.0      0.0  ...   \n",
       "1  22357.0  0.0  32768.0  0.0  0.0  22406.0  0.0  0.0  32768.0      0.0  ...   \n",
       "2  23053.0  0.0  32768.0  0.0  0.0  23074.0  0.0  0.0  32768.0      0.0  ...   \n",
       "3  23896.0  4.0  32768.0  0.0  0.0  23914.0  4.0  0.0      0.0      0.0  ...   \n",
       "4  21777.0  1.0  32768.0  0.0  0.0  21801.0  1.0  0.0      0.0 -32768.0  ...   \n",
       "\n",
       "    41       42   43       44       45   46   47       48       49   50  \n",
       "0  0.0  32768.0  0.0      0.0  22313.0  0.0  0.0  32768.0      0.0  0.0  \n",
       "1  7.0  32768.0  0.0      0.0  22795.0  7.0  0.0      0.0      0.0  0.0  \n",
       "2  4.0      0.0  0.0 -32768.0  23885.0  1.0  0.0      0.0 -32768.0  0.0  \n",
       "3  0.0  32768.0  0.0      0.0  24195.0  0.0  0.0  32768.0      0.0  0.0  \n",
       "4  1.0  32768.0  0.0      0.0  22163.0  1.0  0.0      0.0 -32768.0  0.0  \n",
       "\n",
       "[5 rows x 51 columns]"
      ]
     },
     "execution_count": 191,
     "metadata": {},
     "output_type": "execute_result"
    }
   ],
   "source": [
    "df.head()"
   ]
  },
  {
   "cell_type": "code",
   "execution_count": 192,
   "metadata": {},
   "outputs": [
    {
     "name": "stdout",
     "output_type": "stream",
     "text": [
      "10\n",
      "0.0        17\n",
      "2.0         1\n",
      "5.0         1\n",
      "15.0        1\n",
      "64.0        1\n",
      "           ..\n",
      "75795.0     1\n",
      "95893.0     1\n",
      "96643.0     1\n",
      "96906.0     1\n",
      "97667.0     1\n",
      "Length: 5140, dtype: int64\n"
     ]
    },
    {
     "data": {
      "text/html": [
       "<div>\n",
       "<style scoped>\n",
       "    .dataframe tbody tr th:only-of-type {\n",
       "        vertical-align: middle;\n",
       "    }\n",
       "\n",
       "    .dataframe tbody tr th {\n",
       "        vertical-align: top;\n",
       "    }\n",
       "\n",
       "    .dataframe thead th {\n",
       "        text-align: right;\n",
       "    }\n",
       "</style>\n",
       "<table border=\"1\" class=\"dataframe\">\n",
       "  <thead>\n",
       "    <tr style=\"text-align: right;\">\n",
       "      <th></th>\n",
       "      <th>0</th>\n",
       "      <th>1</th>\n",
       "      <th>2</th>\n",
       "      <th>3</th>\n",
       "      <th>4</th>\n",
       "      <th>5</th>\n",
       "      <th>6</th>\n",
       "      <th>7</th>\n",
       "      <th>8</th>\n",
       "      <th>9</th>\n",
       "      <th>...</th>\n",
       "      <th>41</th>\n",
       "      <th>42</th>\n",
       "      <th>43</th>\n",
       "      <th>44</th>\n",
       "      <th>45</th>\n",
       "      <th>46</th>\n",
       "      <th>47</th>\n",
       "      <th>48</th>\n",
       "      <th>49</th>\n",
       "      <th>50</th>\n",
       "    </tr>\n",
       "  </thead>\n",
       "  <tbody>\n",
       "    <tr>\n",
       "      <th>0</th>\n",
       "      <td>21768.0</td>\n",
       "      <td>0.0</td>\n",
       "      <td>32768.0</td>\n",
       "      <td>0.0</td>\n",
       "      <td>0.0</td>\n",
       "      <td>21794.0</td>\n",
       "      <td>0.0</td>\n",
       "      <td>0.0</td>\n",
       "      <td>32768.0</td>\n",
       "      <td>0.0</td>\n",
       "      <td>...</td>\n",
       "      <td>0.0</td>\n",
       "      <td>32768.0</td>\n",
       "      <td>0.0</td>\n",
       "      <td>0.0</td>\n",
       "      <td>22313.0</td>\n",
       "      <td>0.0</td>\n",
       "      <td>0.0</td>\n",
       "      <td>32768.0</td>\n",
       "      <td>0.0</td>\n",
       "      <td>0.0</td>\n",
       "    </tr>\n",
       "  </tbody>\n",
       "</table>\n",
       "<p>1 rows × 51 columns</p>\n",
       "</div>"
      ],
      "text/plain": [
       "        0    1        2    3    4        5    6    7        8    9   ...   41  \\\n",
       "0  21768.0  0.0  32768.0  0.0  0.0  21794.0  0.0  0.0  32768.0  0.0  ...  0.0   \n",
       "\n",
       "        42   43   44       45   46   47       48   49   50  \n",
       "0  32768.0  0.0  0.0  22313.0  0.0  0.0  32768.0  0.0  0.0  \n",
       "\n",
       "[1 rows x 51 columns]"
      ]
     },
     "execution_count": 192,
     "metadata": {},
     "output_type": "execute_result"
    }
   ],
   "source": [
    "print(df.groupby(session_len,axis=0).size())\n",
    "df.head(1)"
   ]
  },
  {
   "cell_type": "markdown",
   "metadata": {},
   "source": [
    "To check if we did not loose data we need to multiple the number by 25"
   ]
  },
  {
   "cell_type": "code",
   "execution_count": 194,
   "metadata": {},
   "outputs": [
    {
     "data": {
      "text/plain": [
       "class\n",
       "0    65618\n",
       "1    10585\n",
       "dtype: int64"
      ]
     },
     "execution_count": 194,
     "metadata": {},
     "output_type": "execute_result"
    }
   ],
   "source": [
    "full_actions.groupby(['class'],axis=0).size()"
   ]
  },
  {
   "cell_type": "markdown",
   "metadata": {},
   "source": [
    "Check how much data was lost during transformation."
   ]
  },
  {
   "cell_type": "code",
   "execution_count": 700,
   "metadata": {},
   "outputs": [
    {
     "name": "stdout",
     "output_type": "stream",
     "text": [
      "0.03143830233167409\n",
      "0.03237606464293514\n"
     ]
    }
   ],
   "source": [
    "print(120/3817)\n",
    "print(1186/36632)"
   ]
  },
  {
   "cell_type": "code",
   "execution_count": 195,
   "metadata": {},
   "outputs": [
    {
     "name": "stdout",
     "output_type": "stream",
     "text": [
      "RangeIndex(start=0, stop=51, step=1)\n",
      "feature_columns=RangeIndex(start=0, stop=50, step=1)\n",
      "label_column=50\n"
     ]
    }
   ],
   "source": [
    "print(df.columns)\n",
    "feature_columns = df.columns[:-1]\n",
    "label_column = df.columns[-1]\n",
    "\n",
    "print('feature_columns={}'.format(feature_columns))\n",
    "print('label_column={}'.format(label_column))\n",
    "\n",
    "features = df[feature_columns].values.astype('float32')\n",
    "labels = (df[label_column].values).astype('float32')"
   ]
  },
  {
   "cell_type": "markdown",
   "metadata": {},
   "source": [
    "### Prepare Data and Upload to S3"
   ]
  },
  {
   "cell_type": "code",
   "execution_count": 196,
   "metadata": {},
   "outputs": [],
   "source": [
    "import io\n",
    "import sagemaker.amazon.common as smac\n",
    "\n",
    "buf = io.BytesIO()\n",
    "smac.write_numpy_to_dense_tensor(buf, features, labels)\n",
    "buf.seek(0);"
   ]
  },
  {
   "cell_type": "markdown",
   "metadata": {},
   "source": [
    "Now we upload the data to S3 using boto3."
   ]
  },
  {
   "cell_type": "code",
   "execution_count": 197,
   "metadata": {},
   "outputs": [
    {
     "name": "stdout",
     "output_type": "stream",
     "text": [
      "Uploaded training data location: s3://stk-events/anticheat-model/train/recordio-pb-data\n",
      "Training artifacts will be uploaded to: s3://stk-events/anticheat-model/output\n"
     ]
    }
   ],
   "source": [
    "import boto3\n",
    "import os\n",
    "import sagemaker\n",
    "\n",
    "session = sagemaker.Session()\n",
    "bucket = 'stk-events'\n",
    "\n",
    "prefix = 'anticheat-model'\n",
    "key = 'recordio-pb-data'\n",
    "\n",
    "boto3.resource('s3').Bucket(bucket).Object(os.path.join(prefix, 'train', key)).upload_fileobj(buf)\n",
    "\n",
    "s3_train_data = 's3://{}/{}/train/{}'.format(bucket, prefix, key)\n",
    "print('Uploaded training data location: {}'.format(s3_train_data))\n",
    "\n",
    "output_location = 's3://{}/{}/output'.format(bucket, prefix)\n",
    "print('Training artifacts will be uploaded to: {}'.format(output_location))"
   ]
  },
  {
   "cell_type": "code",
   "execution_count": 198,
   "metadata": {},
   "outputs": [
    {
     "name": "stderr",
     "output_type": "stream",
     "text": [
      "'get_image_uri' method will be deprecated in favor of 'ImageURIProvider' class in SageMaker Python SDK v2.\n",
      "Parameter image_name will be renamed to image_uri in SageMaker Python SDK v2.\n",
      "'s3_input' class will be renamed to 'TrainingInput' in SageMaker Python SDK v2.\n"
     ]
    }
   ],
   "source": [
    "from sagemaker.amazon.amazon_estimator import get_image_uri\n",
    "\n",
    "container = get_image_uri(boto3.Session().region_name, 'linear-learner')\n",
    "\n",
    "from sagemaker import get_execution_role\n",
    "\n",
    "linear = sagemaker.estimator.Estimator(container,\n",
    "                                       get_execution_role(), \n",
    "                                       train_instance_count=1, \n",
    "                                       train_instance_type='ml.c4.xlarge',\n",
    "                                       output_path=output_location,\n",
    "                                       sagemaker_session=session)\n",
    "linear.set_hyperparameters(feature_dim=features.shape[1],\n",
    "                           predictor_type='binary_classifier',\n",
    "                           mini_batch_size=200)\n",
    "\n",
    "linear.fit({'train': s3_train_data},wait=False)"
   ]
  },
  {
   "cell_type": "markdown",
   "metadata": {},
   "source": [
    "### Host Linear Classifier"
   ]
  },
  {
   "cell_type": "markdown",
   "metadata": {},
   "source": [
    "Now we deploy the estimator to and endpoint.\n"
   ]
  },
  {
   "cell_type": "code",
   "execution_count": null,
   "metadata": {},
   "outputs": [],
   "source": [
    "#sagemaker.Session().delete_endpoint(linear.endpoint)\n",
    "from sagemaker.predictor import csv_serializer, json_deserializer\n",
    "\n",
    "#delete old endpoint\n",
    "sagemaker.Session().delete_endpoint(linear.endpoint)\n",
    "\n",
    "linear_predictor = linear.deploy(initial_instance_count=1,\n",
    "                                 endpoint_name=\"stk-bot-detector\",\n",
    "                                 instance_type='ml.m4.xlarge')\n",
    "# Specify input and output formats.\n",
    "linear_predictor.content_type = 'text/csv'\n",
    "linear_predictor.serializer = csv_serializer\n",
    "linear_predictor.deserializer = json_deserializer\n",
    "print('Endpoint name: {}'.format(linear_predictor.endpoint))"
   ]
  },
  {
   "cell_type": "code",
   "execution_count": 664,
   "metadata": {},
   "outputs": [],
   "source": [
    "from sagemaker.predictor import csv_serializer, json_deserializer\n",
    "\n",
    "linear_predictor.content_type = 'text/csv'\n",
    "linear_predictor.serializer = csv_serializer\n",
    "linear_predictor.accept = 'application/json'\n",
    "linear_predictor.deserializer = json_deserializer"
   ]
  },
  {
   "cell_type": "markdown",
   "metadata": {},
   "source": [
    "### Calling the endpoint"
   ]
  },
  {
   "cell_type": "markdown",
   "metadata": {},
   "source": [
    "prepare the parameters for the model endpoint call.\n",
    "\n",
    "This SQL will return a game session actions (25 actions) that we trained the model with"
   ]
  },
  {
   "cell_type": "markdown",
   "metadata": {},
   "source": [
    "```sql\n",
    "select concat(id,\"-\",m_kart_id) id, m_ticks,m_action,m_value,m_value_l,m_value_r \n",
    "from (\n",
    "    select id,m_kart_id,m_ticks,m_action,m_value,m_value_l,m_value_r \n",
    "    from actions order by m_kart_id,id limit 25) t;\n",
    "```"
   ]
  },
  {
   "cell_type": "markdown",
   "metadata": {},
   "source": [
    "Here is an example result"
   ]
  },
  {
   "cell_type": "markdown",
   "metadata": {},
   "source": [
    "```\n",
    "mysql> select * from tmp\n",
    "    -> ;\n",
    "+-------+---------+----------+---------+-----------+-----------+\n",
    "| id    | ticks   |   action |   value |   value_l |   value_r |\n",
    "+-------+---------+----------+---------+-----------+-----------+\n",
    "| 0     |      31 |        1 |    4479 |         0 |         0 |\n",
    "| 1     |      32 |        2 |   32768 |         0 |     -4479 |\n",
    "| 2     |      62 |        1 |    5423 |         0 |     -4479 |\n",
    "| 3     |      93 |        1 |    6317 |         0 |     -5423 |\n",
    "| 4     |     124 |        1 |    5064 |         0 |     -6317 |\n",
    "| 5     |     155 |        1 |    5729 |         0 |     -5064 |\n",
    "| 6     |     186 |        1 |    6469 |         0 |     -5729 |\n",
    "| 7     |     217 |        1 |    6714 |         0 |     -6469 |\n",
    "| 8     |     248 |        0 |   32768 |         0 |     -6714 |\n",
    "| 9.    |     279 |        1 |    7953 |     32768 |     -6714 |\n",
    "| 10    |     310 |        1 |   14415 |     32768 |     -7953 |\n",
    "| 11    |     341 |        0 |    3698 |     32768 |    -14415 |\n",
    "| 12    |     372 |        0 |    5492 |      3698 |    -14415 |\n",
    "| 13    |     403 |        0 |   20817 |      5492 |    -14415 |\n",
    "| 14    |     434 |        0 |   26290 |     20817 |    -14415 |\n",
    "| 15.   |     465 |        0 |   24373 |     26290 |    -14415 |\n",
    "| 16.   |     496 |        0 |   11402 |     24373 |    -14415 |\n",
    "| 17.   |     527 |        0 |   10370 |     11402 |    -14415 |\n",
    "| 18.   |     558 |        0 |   12071 |     10370 |    -14415 |\n",
    "| 19.   |     589 |        0 |   15223 |     12071 |    -14415 |\n",
    "| 20.   |     620 |        0 |   17070 |     15223 |    -14415 |\n",
    "| 21.   |     651 |        0 |   19485 |     17070 |    -14415 |\n",
    "| 22.   |     682 |        0 |   16294 |     19485 |    -14415 |\n",
    "| 23.   |     713 |        0 |   12267 |     16294 |    -14415 |\n",
    "| 24.   |     744 |        0 |   10856 |     12267 |    -14415 |\n",
    "+-------+---------+----------+---------+-----------+-----------+\n",
    "```"
   ]
  },
  {
   "cell_type": "markdown",
   "metadata": {},
   "source": [
    "We need to concatenate the 25 results into a single line to send it to the model endpoint."
   ]
  },
  {
   "cell_type": "markdown",
   "metadata": {},
   "source": [
    "```\n",
    "+---------+----------+---------+-----------+-----------+      +---------+---------+--------+----------+----------+\n",
    "| ticks_0 | action_0 | value_0 | value_l_0 | value_r_0 |..... |ticks_24 |action_24|value_24|value_l_24|value_r_24|\n",
    "+---------+----------+---------+-----------+-----------+      +---------+---------+--------+----------+----------+\n",
    "    31         1         4479       0            0                 744      0        10856     12267     -14415\n",
    "```"
   ]
  },
  {
   "cell_type": "markdown",
   "metadata": {},
   "source": [
    "```sql\n",
    "select group_concat(concat(m_ticks,',',m_action,',',m_value,',',m_value_l,',',m_value_r)) as col \n",
    "from (select concat(id,\"-\",m_kart_id) id, m_ticks,m_action,m_value,m_value_l,m_value_r  \n",
    "      from (     \n",
    "          select id,m_kart_id,m_ticks,m_action,m_value,m_value_l,m_value_r      \n",
    "          from actions order by m_kart_id,id limit 25) \n",
    "      t) \n",
    "t1;\n",
    "```"
   ]
  },
  {
   "cell_type": "code",
   "execution_count": 665,
   "metadata": {},
   "outputs": [
    {
     "name": "stdout",
     "output_type": "stream",
     "text": [
      "CPU times: user 19.4 ms, sys: 0 ns, total: 19.4 ms\n",
      "Wall time: 98.7 ms\n"
     ]
    }
   ],
   "source": [
    "%%time\n",
    "import pandas as pd\n",
    "\n",
    "modulo_size=224\n",
    "\n",
    "try:\n",
    "  conn =  mysql.connector.connect(host=ENDPOINT, user=USR, passwd=PASWD, port=3306, database=DBNAME)\n",
    "  cur = conn.cursor()\n",
    "  cur.execute(\"\"\"\n",
    "        select group_concat(concat(m_ticks,',',m_action,',',m_value,',',m_value_l,',',m_value_r)) as sample\n",
    "                from (\n",
    "                        select concat(id,\"-\",m_kart_id) id, m_ticks,m_action,m_value,m_value_l,m_value_r\n",
    "                        from (\n",
    "                                select id,m_kart_id,m_ticks,m_action,m_value,m_value_l,m_value_r\n",
    "                                from (\n",
    "                                        select id,m_kart_id,m_ticks,m_action,m_value,m_value_l,m_value_r\n",
    "                                        from actions order by id desc limit 70) t1 order by m_kart_id limit 25) t2) t3; \n",
    "              \"\"\")\n",
    "  sample_list=cur.fetchall()  \n",
    "except Exception as e:\n",
    "  print(\"Database connection failed due to {}\".format(e))\n",
    "sample=''.join(sample_list[0])"
   ]
  },
  {
   "cell_type": "code",
   "execution_count": 666,
   "metadata": {},
   "outputs": [],
   "source": [
    "sample=''.join(sample_list[0])"
   ]
  },
  {
   "cell_type": "code",
   "execution_count": 667,
   "metadata": {},
   "outputs": [
    {
     "data": {
      "text/plain": [
       "'80447,0,0,32768,0,78329,1,0,0,-32768,76364,1,32768,0,0,78647,1,0,0,-32768,76891,0,0,32768,0,79382,1,32768,0,0,77409,4,0,32768,0,79825,1,0,0,-32768,77971,1,32768,0,0,80669,3,0,0,0,78484,1,32768,0,0,76713,1,32768,0,0,79121,1,0,0,-32768,77126,0,32768,0,0,79600,1,32768,0,0,77585,0,32768,0,0,80430,0,32768,0,0,78299,1,32768,0,0,76239,1,0,0,-32768,78622,1,32768,0,0,76875,0,32768,0,0,79270,1,0,0,-32768,77261,0,32768,0,0,79774,1,32768,0,0,77882,1,0,0,-32768'"
      ]
     },
     "execution_count": 667,
     "metadata": {},
     "output_type": "execute_result"
    }
   ],
   "source": [
    "sample"
   ]
  },
  {
   "cell_type": "code",
   "execution_count": 668,
   "metadata": {},
   "outputs": [
    {
     "name": "stdout",
     "output_type": "stream",
     "text": [
      "{'predictions': [{'score': 0.0001962552487384528, 'predicted_label': 0}]}\n"
     ]
    }
   ],
   "source": [
    "results = linear_predictor.predict(sample)\n",
    "print(results)"
   ]
  },
  {
   "cell_type": "code",
   "execution_count": 671,
   "metadata": {},
   "outputs": [
    {
     "name": "stdout",
     "output_type": "stream",
     "text": [
      "CPU times: user 19.1 ms, sys: 0 ns, total: 19.1 ms\n",
      "Wall time: 63.7 ms\n"
     ]
    },
    {
     "data": {
      "text/plain": [
       "'62,1,846,0,-672,589,0,32768,32768,-32768,899,0,30620,19736,-1848,279,0,765,0,-102,651,7,32768,32768,-5391,31,1,672,0,0,837,0,3445,11325,-1848,217,1,69,0,-287,1085,0,32768,18005,-3301,434,0,32768,32768,-20774,775,0,11325,11227,-9552,155,1,456,0,-282,31,2,32768,0,-672,527,1,32768,32768,-29192,1023,1,3301,16818,-1848,372,1,9534,32768,-102,713,1,9552,32768,-19031,93,1,209,0,-846,930,0,32768,30620,-1848,310,0,508,765,-102,868,0,19736,3445,-1848,248,1,102,0,-69,806,1,1848,11325,-9552,186,1,287,0,-456,682,1,19031,32768,-5391'"
      ]
     },
     "execution_count": 671,
     "metadata": {},
     "output_type": "execute_result"
    }
   ],
   "source": [
    "%%time\n",
    "import pandas as pd\n",
    "\n",
    "modulo_size=224\n",
    "\n",
    "try:\n",
    "  conn =  mysql.connector.connect(host=ENDPOINT, user=USR, passwd=PASWD, port=3306, database=DBNAME)\n",
    "  cur = conn.cursor()\n",
    "  cur.execute(\"\"\"\n",
    "        select group_concat(concat(m_ticks,',',m_action,',',m_value,',',m_value_l,',',m_value_r)) as sample\n",
    "                from (\n",
    "                        select concat(id,\"-\",m_kart_id) id, m_ticks,m_action,m_value,m_value_l,m_value_r\n",
    "                        from (\n",
    "                                select id,m_kart_id,m_ticks,m_action,m_value,m_value_l,m_value_r\n",
    "                                from (\n",
    "                                        select id,m_kart_id,m_ticks,m_action,m_value,m_value_l,m_value_r\n",
    "                                        from actions where class=1 order by id limit 70) t1 order by m_kart_id limit 25) t2) t3; \n",
    "              \"\"\")\n",
    "  sample_list=cur.fetchall()  \n",
    "except Exception as e:\n",
    "  print(\"Database connection failed due to {}\".format(e))\n",
    "sample=''.join(sample_list[0])\n",
    "sample"
   ]
  },
  {
   "cell_type": "code",
   "execution_count": 672,
   "metadata": {},
   "outputs": [
    {
     "name": "stdout",
     "output_type": "stream",
     "text": [
      "{'predictions': [{'score': 0.15919774770736694, 'predicted_label': 0}]}\n"
     ]
    }
   ],
   "source": [
    "results = linear_predictor.predict(sample)\n",
    "print(results)"
   ]
  },
  {
   "cell_type": "markdown",
   "metadata": {},
   "source": [
    "### Clean up\n"
   ]
  },
  {
   "cell_type": "markdown",
   "metadata": {},
   "source": [
    "We will leave the prediction endpoint running at the end of this notebook so we can handle incoming event streams. However, don't forget to delete the prediction endpoint when you're done. You can do that at the Amazon SageMaker console in the Endpoints page. Or you can run linear_predictor.delete_endpoint()"
   ]
  }
 ],
 "metadata": {
  "kernelspec": {
   "display_name": "conda_pytorch_latest_p36",
   "language": "python",
   "name": "conda_pytorch_latest_p36"
  },
  "language_info": {
   "codemirror_mode": {
    "name": "ipython",
    "version": 3
   },
   "file_extension": ".py",
   "mimetype": "text/x-python",
   "name": "python",
   "nbconvert_exporter": "python",
   "pygments_lexer": "ipython3",
   "version": "3.6.10"
  }
 },
 "nbformat": 4,
 "nbformat_minor": 4
}
