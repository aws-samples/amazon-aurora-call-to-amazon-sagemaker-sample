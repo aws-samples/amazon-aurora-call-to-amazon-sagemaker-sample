{
 "cells": [
  {
   "cell_type": "markdown",
   "metadata": {},
   "source": [
    "# STK player bot detector with SageMaker Linear Regression - Logistic Regression¶\n"
   ]
  },
  {
   "cell_type": "markdown",
   "metadata": {},
   "source": [
    "#### Install packages"
   ]
  },
  {
   "cell_type": "code",
   "execution_count": 1,
   "metadata": {},
   "outputs": [
    {
     "name": "stdout",
     "output_type": "stream",
     "text": [
      "Collecting mysql-connector-python\n",
      "  Downloading mysql_connector_python-8.0.21-cp36-cp36m-manylinux1_x86_64.whl (15.8 MB)\n",
      "Requirement already satisfied: protobuf>=3.0.0 in /home/ec2-user/anaconda3/envs/pytorch_latest_p36/lib/python3.6/site-packages (from mysql-connector-python) (3.13.0)\n",
      "Requirement already satisfied: six>=1.9 in /home/ec2-user/anaconda3/envs/pytorch_latest_p36/lib/python3.6/site-packages (from protobuf>=3.0.0->mysql-connector-python) (1.14.0)\n",
      "Requirement already satisfied: setuptools in /home/ec2-user/anaconda3/envs/pytorch_latest_p36/lib/python3.6/site-packages (from protobuf>=3.0.0->mysql-connector-python) (45.2.0.post20200210)\n",
      "Installing collected packages: mysql-connector-python\n",
      "Successfully installed mysql-connector-python-8.0.21\n"
     ]
    },
    {
     "name": "stderr",
     "output_type": "stream",
     "text": [
      "bash: line 2: /home/ec2-user/SageMaker/amazon-aurora-call-to-amazon-sagemaker-sample/stk-sample/env-build/sagemaker/env: No such file or directory\n",
      "WARNING: You are using pip version 20.0.2; however, version 20.2.3 is available.\n",
      "You should consider upgrading via the '/home/ec2-user/anaconda3/envs/pytorch_latest_p36/bin/python -m pip install --upgrade pip' command.\n"
     ]
    }
   ],
   "source": [
    "%%bash \n",
    "home=`pwd`\n",
    ". $home/env\n",
    "pip3 install mysql-connector-python"
   ]
  },
  {
   "cell_type": "code",
   "execution_count": 2,
   "metadata": {},
   "outputs": [
    {
     "name": "stdout",
     "output_type": "stream",
     "text": [
      "arn:aws:iam::163538056407:role/service-role/AmazonSageMaker-ExecutionRole-20200913T212219\n"
     ]
    }
   ],
   "source": [
    "import sagemaker\n",
    "execution_role = sagemaker.get_execution_role()\n",
    "print(execution_role)"
   ]
  },
  {
   "cell_type": "markdown",
   "metadata": {},
   "source": [
    "### Get training and test data from Aurora DB"
   ]
  },
  {
   "cell_type": "code",
   "execution_count": 306,
   "metadata": {},
   "outputs": [
    {
     "name": "stdout",
     "output_type": "stream",
     "text": [
      "CPU times: user 6.55 ms, sys: 41 µs, total: 6.59 ms\n",
      "Wall time: 5.97 ms\n"
     ]
    }
   ],
   "source": [
    "%%time\n",
    "\n",
    "import json\n",
    "import boto3\n",
    "import csv\n",
    "import mysql.connector\n",
    "import sys\n",
    "import os\n",
    "import configparser\n",
    "\n",
    "config = configparser.ConfigParser()\n",
    "\n",
    "config.read('rds.ini')\n",
    "\n",
    "ENDPOINT=config['default']['ENDPOINT']\n",
    "USR=config['default']['USR']\n",
    "PASWD=config['default']['PASWD']\n",
    "REGION=config['default']['REGION']\n",
    "DBNAME=config['default']['DBNAME']\n",
    "\n",
    "client = boto3.client('rds')"
   ]
  },
  {
   "cell_type": "markdown",
   "metadata": {},
   "source": [
    "Getting the right size of the grouping"
   ]
  },
  {
   "cell_type": "code",
   "execution_count": 307,
   "metadata": {},
   "outputs": [
    {
     "name": "stdout",
     "output_type": "stream",
     "text": [
      "actions_size=169275\n",
      "modulo_size=1692.75\n",
      "CPU times: user 20.2 ms, sys: 0 ns, total: 20.2 ms\n",
      "Wall time: 119 ms\n"
     ]
    }
   ],
   "source": [
    "%%time\n",
    "import pandas as pd\n",
    "\n",
    "group_size=100\n",
    "\n",
    "try:\n",
    "  conn =  mysql.connector.connect(host=ENDPOINT, user=USR, passwd=PASWD, port=3306, database=DBNAME)\n",
    "  cur = conn.cursor()\n",
    "  cur.execute(\"\"\"SELECT count(id) from actions where class is not null\"\"\")\n",
    "  actions_size_list=cur.fetchall()\n",
    "  actions_size_df=pd.DataFrame(actions_size_list)\n",
    "  actions_size=actions_size_df[0].values[0]\n",
    "  print(\"actions_size=\"+str(actions_size))\n",
    "  modulo_size=actions_size/group_size\n",
    "  print(\"modulo_size=\"+str(modulo_size))\n",
    "except Exception as e:\n",
    "  print(\"Database connection failed due to {}\".format(e))"
   ]
  },
  {
   "cell_type": "code",
   "execution_count": 308,
   "metadata": {},
   "outputs": [
    {
     "name": "stdout",
     "output_type": "stream",
     "text": [
      "CPU times: user 507 ms, sys: 57.3 ms, total: 564 ms\n",
      "Wall time: 695 ms\n"
     ]
    }
   ],
   "source": [
    "%%time\n",
    "import pandas as pd\n",
    "\n",
    "modulo_size=100\n",
    "\n",
    "try:\n",
    "  conn =  mysql.connector.connect(host=ENDPOINT, user=USR, passwd=PASWD, port=3306, database=DBNAME)\n",
    "  cur = conn.cursor()\n",
    "  \n",
    "  cur.execute(\"\"\"SELECT id,m_ticks,m_action,m_value,m_value_l,m_value_r,class FROM actions WHERE class=1 order by id\"\"\")\n",
    "  bot_action_list=cur.fetchall()\n",
    "  cur.execute(\"\"\"SELECT id,m_ticks,m_action,m_value,m_value_l,m_value_r,class FROM actions WHERE class=0 order by id\"\"\")\n",
    "  player_action_list=cur.fetchall()  \n",
    "  cur.execute(\"\"\"\n",
    "                  SELECT FLOOR(id/100) sessionid,id,m_ticks,m_kart_id,m_action,m_value,m_value_l,m_value_r,class\n",
    "                  FROM actions \n",
    "                  WHERE class IS NOT NULL\n",
    "                  ORDER BY id,m_kart_id \n",
    "              \"\"\")\n",
    "  action_list=cur.fetchall()  \n",
    "except Exception as e:\n",
    "  print(\"Database connection failed due to {}\".format(e))\n",
    "  "
   ]
  },
  {
   "cell_type": "markdown",
   "metadata": {},
   "source": [
    "### Investigate and process the data"
   ]
  },
  {
   "cell_type": "code",
   "execution_count": 309,
   "metadata": {},
   "outputs": [],
   "source": [
    "import pandas as pd\n",
    "bot_actions = pd.DataFrame(bot_action_list)\n",
    "player_actions = pd.DataFrame(player_action_list)"
   ]
  },
  {
   "cell_type": "code",
   "execution_count": 310,
   "metadata": {},
   "outputs": [],
   "source": [
    "bot_actions.rename(columns={0:'id',\n",
    "                            1:'m_ticks',\n",
    "                            2:'m_action',\n",
    "                            3:'m_value',\n",
    "                            4:'m_value_l',\n",
    "                            5:'m_value_r',\n",
    "                            6:'class'\n",
    "                           }, \n",
    "                 inplace=True)"
   ]
  },
  {
   "cell_type": "code",
   "execution_count": 311,
   "metadata": {},
   "outputs": [],
   "source": [
    "player_actions.rename(columns={0:'id',\n",
    "                            1:'m_ticks',\n",
    "                            2:'m_action',\n",
    "                            3:'m_value',\n",
    "                            4:'m_value_l',\n",
    "                            5:'m_value_r',\n",
    "                            6:'class'\n",
    "                           }, \n",
    "                 inplace=True)"
   ]
  },
  {
   "cell_type": "markdown",
   "metadata": {},
   "source": [
    "### Let's look for interesting data patterns"
   ]
  },
  {
   "cell_type": "code",
   "execution_count": 312,
   "metadata": {},
   "outputs": [],
   "source": [
    "import matplotlib.pyplot as plt\n",
    "import pandas as pd"
   ]
  },
  {
   "cell_type": "markdown",
   "metadata": {},
   "source": [
    "#### Corralation between ticks in bots and humans"
   ]
  },
  {
   "cell_type": "code",
   "execution_count": 317,
   "metadata": {},
   "outputs": [
    {
     "data": {
      "image/png": "[encoded data removed]",
      "text/plain": [
       "<Figure size 432x288 with 1 Axes>"
      ]
     },
     "metadata": {
      "needs_background": "light"
     },
     "output_type": "display_data"
    }
   ],
   "source": [
    "bot_actions[31600:32000].plot(kind='scatter',x='id',y='m_ticks',color='red')\n",
    "plt.show()"
   ]
  },
  {
   "cell_type": "code",
   "execution_count": 316,
   "metadata": {},
   "outputs": [
    {
     "data": {
      "image/png": "[encoded data removed]",
      "text/plain": [
       "<Figure size 432x288 with 1 Axes>"
      ]
     },
     "metadata": {
      "needs_background": "light"
     },
     "output_type": "display_data"
    }
   ],
   "source": [
    "player_actions[31600:32000].plot(kind='scatter',x='id',y='m_ticks',color='blue')\n",
    "plt.show()"
   ]
  },
  {
   "cell_type": "markdown",
   "metadata": {},
   "source": [
    "Correlation between action values in bots and humans"
   ]
  },
  {
   "cell_type": "markdown",
   "metadata": {},
   "source": [
    "We can see that `m_ticks` are random for humans and consistent for bots.\n"
   ]
  },
  {
   "cell_type": "markdown",
   "metadata": {},
   "source": [
    "#### Correlation between action values in bots and humans"
   ]
  },
  {
   "cell_type": "code",
   "execution_count": 87,
   "metadata": {},
   "outputs": [
    {
     "data": {
      "image/png": "[encoded data removed]",
      "text/plain": [
       "<Figure size 432x288 with 1 Axes>"
      ]
     },
     "metadata": {
      "needs_background": "light"
     },
     "output_type": "display_data"
    }
   ],
   "source": [
    "bot_actions[600:1800].plot(kind='scatter',x='id',y='m_value',color='red')\n",
    "plt.show()"
   ]
  },
  {
   "cell_type": "code",
   "execution_count": 89,
   "metadata": {},
   "outputs": [
    {
     "data": {
      "image/png": "[encoded data removed]",
      "text/plain": [
       "<Figure size 432x288 with 1 Axes>"
      ]
     },
     "metadata": {
      "needs_background": "light"
     },
     "output_type": "display_data"
    }
   ],
   "source": [
    "player_actions[1600:2800].plot(kind='scatter',x='id',y='m_value',color='blue')\n",
    "plt.show()"
   ]
  },
  {
   "cell_type": "code",
   "execution_count": 94,
   "metadata": {},
   "outputs": [
    {
     "data": {
      "image/png": "[encoded data removed]",
      "text/plain": [
       "<Figure size 432x288 with 1 Axes>"
      ]
     },
     "metadata": {
      "needs_background": "light"
     },
     "output_type": "display_data"
    }
   ],
   "source": [
    "bot_actions[1600:2000].plot(kind='scatter',x='id',y='m_value_r',color='red')\n",
    "plt.show()"
   ]
  },
  {
   "cell_type": "code",
   "execution_count": 95,
   "metadata": {},
   "outputs": [
    {
     "data": {
      "image/png": "[encoded data removed]",
      "text/plain": [
       "<Figure size 432x288 with 1 Axes>"
      ]
     },
     "metadata": {
      "needs_background": "light"
     },
     "output_type": "display_data"
    }
   ],
   "source": [
    "player_actions[1600:2000].plot(kind='scatter',x='id',y='m_value_r',color='blue')\n",
    "plt.show()"
   ]
  },
  {
   "cell_type": "markdown",
   "metadata": {},
   "source": [
    "Alright, enough with the graphs, lets build a data structure for a model training. We will focus on `m_ticks`, `m_value` as bots value distribution differ than human action value."
   ]
  },
  {
   "cell_type": "markdown",
   "metadata": {},
   "source": [
    "# Build few models - full data, m_ticks, and m_value"
   ]
  },
  {
   "cell_type": "markdown",
   "metadata": {},
   "source": [
    "## ticks data - (ticks,action,value,value_l,value_r) - prepare the data "
   ]
  },
  {
   "cell_type": "code",
   "execution_count": 318,
   "metadata": {},
   "outputs": [
    {
     "name": "stdout",
     "output_type": "stream",
     "text": [
      "Index(['sessionid', 'id', 'm_ticks', 'm_kart_id', 'm_action', 'm_value',\n",
      "       'm_value_l', 'm_value_r', 'class'],\n",
      "      dtype='object')\n",
      "sessionid    169275\n",
      "id           169275\n",
      "m_ticks      169275\n",
      "m_kart_id    169275\n",
      "m_action     169275\n",
      "m_value      169275\n",
      "m_value_l    169275\n",
      "m_value_r    169275\n",
      "class        169275\n",
      "dtype: int64\n"
     ]
    }
   ],
   "source": [
    "ticks_actions = pd.DataFrame(action_list)\n",
    "ticks_actions.rename(columns={0:'sessionid',\n",
    "                        1:'id',\n",
    "                        2:'m_ticks',\n",
    "                        3:'m_kart_id',\n",
    "                        4:'m_action',\n",
    "                        5:'m_value',\n",
    "                        6:'m_value_l',\n",
    "                        7:'m_value_r',\n",
    "                        8:'class'\n",
    "                     }, \n",
    "                 inplace=True)\n",
    "print(ticks_actions.columns)\n",
    "print(ticks_actions.count())"
   ]
  },
  {
   "cell_type": "code",
   "execution_count": 319,
   "metadata": {},
   "outputs": [],
   "source": [
    "ticks_actions=ticks_actions.drop('id',axis=1)\n",
    "ticks_actions=ticks_actions.drop('m_action',axis=1)\n",
    "ticks_actions=ticks_actions.drop('m_value',axis=1)\n",
    "ticks_actions=ticks_actions.drop('m_value_l',axis=1)\n",
    "ticks_actions=ticks_actions.drop('m_value_r',axis=1)"
   ]
  },
  {
   "cell_type": "code",
   "execution_count": 320,
   "metadata": {},
   "outputs": [
    {
     "name": "stdout",
     "output_type": "stream",
     "text": [
      "class\n",
      "0    92887\n",
      "1    76388\n",
      "dtype: int64\n"
     ]
    }
   ],
   "source": [
    "ticks_actions.head()\n",
    "print(ticks_actions.groupby('class',axis=0).size())"
   ]
  },
  {
   "cell_type": "markdown",
   "metadata": {},
   "source": [
    "Populate a dictionary with series of `m_ticks` with the same `session_id`, `m_kart_id` and `class`. the output number should indicate the same size of the data in Aurora."
   ]
  },
  {
   "cell_type": "code",
   "execution_count": 321,
   "metadata": {},
   "outputs": [
    {
     "name": "stdout",
     "output_type": "stream",
     "text": [
      "169275\n"
     ]
    }
   ],
   "source": [
    "player_session_dict = {}\n",
    "i=0\n",
    "\n",
    "for index, row in ticks_actions.iterrows():\n",
    "  i=i+1\n",
    "  play_action_val=row['m_ticks']\n",
    "  play_action_key=row['sessionid'],row['m_kart_id'],row['class']\n",
    "  if(player_session_dict.get(play_action_key)):\n",
    "    session_list=player_session_dict[play_action_key]\n",
    "    session_list.append(play_action_val)\n",
    "    player_session_dict[play_action_key]=session_list \n",
    "  else:\n",
    "    session_list=[]\n",
    "    session_list.append(play_action_val)\n",
    "    player_session_dict[play_action_key]=session_list\n",
    "print(i)"
   ]
  },
  {
   "cell_type": "code",
   "execution_count": 324,
   "metadata": {},
   "outputs": [
    {
     "name": "stdout",
     "output_type": "stream",
     "text": [
      "number of 0 keys in full session 7539\n",
      "number of 1 keys in full session 5263\n",
      "the size of the sessions_array is 12802\n"
     ]
    }
   ],
   "source": [
    "import numpy as np\n",
    "session_len=10\n",
    "#a line in the array includes m_ticks plus the classification \n",
    "size_of_arr_line=session_len*1+1\n",
    "sessions_array = np.zeros((12803,size_of_arr_line), dtype=float, order='C')\n",
    "k=0\n",
    "j=0\n",
    "i=0\n",
    "sum_of_actions=0\n",
    "for key in player_session_dict:\n",
    "  raw_session=player_session_dict[key]\n",
    "  #break the session into equal parts session_len actions long\n",
    "  sessions_list=[raw_session[i:i + session_len] for i in range(0, len(raw_session), session_len)] \n",
    "  #every session has session_len action set\n",
    "  for session in sessions_list:\n",
    "    #including only the full sessions with excatly 25 actions\n",
    "    if(len(session)==session_len):\n",
    "      k=k+1\n",
    "      if(key[2]==0):\n",
    "        j=j+1\n",
    "      else:\n",
    "        i=i+1\n",
    "      new_row=[]\n",
    "      for action in session:\n",
    "        new_row.append(action)\n",
    "      #add class field to the last column \n",
    "      new_row.append(key[2])\n",
    "      sessions_array[k]=np.asarray(new_row)\n",
    "       \n",
    "print('number of 0 keys in full session {}'.format(j))\n",
    "print('number of 1 keys in full session {}'.format(i))\n",
    "print('the size of the sessions_array is {}'.format(k))"
   ]
  },
  {
   "cell_type": "code",
   "execution_count": 325,
   "metadata": {},
   "outputs": [
    {
     "data": {
      "text/html": [
       "<div>\n",
       "<style scoped>\n",
       "    .dataframe tbody tr th:only-of-type {\n",
       "        vertical-align: middle;\n",
       "    }\n",
       "\n",
       "    .dataframe tbody tr th {\n",
       "        vertical-align: top;\n",
       "    }\n",
       "\n",
       "    .dataframe thead th {\n",
       "        text-align: right;\n",
       "    }\n",
       "</style>\n",
       "<table border=\"1\" class=\"dataframe\">\n",
       "  <thead>\n",
       "    <tr style=\"text-align: right;\">\n",
       "      <th></th>\n",
       "      <th>0</th>\n",
       "      <th>1</th>\n",
       "      <th>2</th>\n",
       "      <th>3</th>\n",
       "      <th>4</th>\n",
       "      <th>5</th>\n",
       "      <th>6</th>\n",
       "      <th>7</th>\n",
       "      <th>8</th>\n",
       "      <th>9</th>\n",
       "      <th>10</th>\n",
       "    </tr>\n",
       "  </thead>\n",
       "  <tbody>\n",
       "    <tr>\n",
       "      <th>0</th>\n",
       "      <td>0.0</td>\n",
       "      <td>0.0</td>\n",
       "      <td>0.0</td>\n",
       "      <td>0.0</td>\n",
       "      <td>0.0</td>\n",
       "      <td>0.0</td>\n",
       "      <td>0.0</td>\n",
       "      <td>0.0</td>\n",
       "      <td>0.0</td>\n",
       "      <td>0.0</td>\n",
       "      <td>0.0</td>\n",
       "    </tr>\n",
       "    <tr>\n",
       "      <th>1</th>\n",
       "      <td>21768.0</td>\n",
       "      <td>21794.0</td>\n",
       "      <td>21830.0</td>\n",
       "      <td>21891.0</td>\n",
       "      <td>21936.0</td>\n",
       "      <td>21980.0</td>\n",
       "      <td>22101.0</td>\n",
       "      <td>22141.0</td>\n",
       "      <td>22295.0</td>\n",
       "      <td>22313.0</td>\n",
       "      <td>0.0</td>\n",
       "    </tr>\n",
       "    <tr>\n",
       "      <th>2</th>\n",
       "      <td>22357.0</td>\n",
       "      <td>22406.0</td>\n",
       "      <td>22449.0</td>\n",
       "      <td>22482.0</td>\n",
       "      <td>22574.0</td>\n",
       "      <td>22583.0</td>\n",
       "      <td>22662.0</td>\n",
       "      <td>22716.0</td>\n",
       "      <td>22781.0</td>\n",
       "      <td>22795.0</td>\n",
       "      <td>0.0</td>\n",
       "    </tr>\n",
       "    <tr>\n",
       "      <th>3</th>\n",
       "      <td>23053.0</td>\n",
       "      <td>23074.0</td>\n",
       "      <td>23446.0</td>\n",
       "      <td>23465.0</td>\n",
       "      <td>23650.0</td>\n",
       "      <td>23666.0</td>\n",
       "      <td>23723.0</td>\n",
       "      <td>23862.0</td>\n",
       "      <td>23864.0</td>\n",
       "      <td>23885.0</td>\n",
       "      <td>0.0</td>\n",
       "    </tr>\n",
       "    <tr>\n",
       "      <th>4</th>\n",
       "      <td>23896.0</td>\n",
       "      <td>23914.0</td>\n",
       "      <td>23922.0</td>\n",
       "      <td>23956.0</td>\n",
       "      <td>23999.0</td>\n",
       "      <td>24037.0</td>\n",
       "      <td>24105.0</td>\n",
       "      <td>24130.0</td>\n",
       "      <td>24156.0</td>\n",
       "      <td>24195.0</td>\n",
       "      <td>0.0</td>\n",
       "    </tr>\n",
       "    <tr>\n",
       "      <th>...</th>\n",
       "      <td>...</td>\n",
       "      <td>...</td>\n",
       "      <td>...</td>\n",
       "      <td>...</td>\n",
       "      <td>...</td>\n",
       "      <td>...</td>\n",
       "      <td>...</td>\n",
       "      <td>...</td>\n",
       "      <td>...</td>\n",
       "      <td>...</td>\n",
       "      <td>...</td>\n",
       "    </tr>\n",
       "    <tr>\n",
       "      <th>12798</th>\n",
       "      <td>83700.0</td>\n",
       "      <td>83731.0</td>\n",
       "      <td>83762.0</td>\n",
       "      <td>83793.0</td>\n",
       "      <td>83824.0</td>\n",
       "      <td>83855.0</td>\n",
       "      <td>83886.0</td>\n",
       "      <td>83917.0</td>\n",
       "      <td>83948.0</td>\n",
       "      <td>83979.0</td>\n",
       "      <td>1.0</td>\n",
       "    </tr>\n",
       "    <tr>\n",
       "      <th>12799</th>\n",
       "      <td>84010.0</td>\n",
       "      <td>84041.0</td>\n",
       "      <td>84072.0</td>\n",
       "      <td>84103.0</td>\n",
       "      <td>84134.0</td>\n",
       "      <td>84165.0</td>\n",
       "      <td>84196.0</td>\n",
       "      <td>84227.0</td>\n",
       "      <td>84258.0</td>\n",
       "      <td>84289.0</td>\n",
       "      <td>1.0</td>\n",
       "    </tr>\n",
       "    <tr>\n",
       "      <th>12800</th>\n",
       "      <td>84320.0</td>\n",
       "      <td>84351.0</td>\n",
       "      <td>84382.0</td>\n",
       "      <td>84382.0</td>\n",
       "      <td>84413.0</td>\n",
       "      <td>84413.0</td>\n",
       "      <td>84444.0</td>\n",
       "      <td>84444.0</td>\n",
       "      <td>84475.0</td>\n",
       "      <td>84475.0</td>\n",
       "      <td>1.0</td>\n",
       "    </tr>\n",
       "    <tr>\n",
       "      <th>12801</th>\n",
       "      <td>84506.0</td>\n",
       "      <td>84537.0</td>\n",
       "      <td>84568.0</td>\n",
       "      <td>84599.0</td>\n",
       "      <td>84630.0</td>\n",
       "      <td>84661.0</td>\n",
       "      <td>84692.0</td>\n",
       "      <td>84723.0</td>\n",
       "      <td>84754.0</td>\n",
       "      <td>84785.0</td>\n",
       "      <td>1.0</td>\n",
       "    </tr>\n",
       "    <tr>\n",
       "      <th>12802</th>\n",
       "      <td>82553.0</td>\n",
       "      <td>82584.0</td>\n",
       "      <td>82615.0</td>\n",
       "      <td>82615.0</td>\n",
       "      <td>82646.0</td>\n",
       "      <td>82646.0</td>\n",
       "      <td>82677.0</td>\n",
       "      <td>82708.0</td>\n",
       "      <td>82739.0</td>\n",
       "      <td>82770.0</td>\n",
       "      <td>1.0</td>\n",
       "    </tr>\n",
       "  </tbody>\n",
       "</table>\n",
       "<p>12803 rows × 11 columns</p>\n",
       "</div>"
      ],
      "text/plain": [
       "             0        1        2        3        4        5        6        7  \\\n",
       "0          0.0      0.0      0.0      0.0      0.0      0.0      0.0      0.0   \n",
       "1      21768.0  21794.0  21830.0  21891.0  21936.0  21980.0  22101.0  22141.0   \n",
       "2      22357.0  22406.0  22449.0  22482.0  22574.0  22583.0  22662.0  22716.0   \n",
       "3      23053.0  23074.0  23446.0  23465.0  23650.0  23666.0  23723.0  23862.0   \n",
       "4      23896.0  23914.0  23922.0  23956.0  23999.0  24037.0  24105.0  24130.0   \n",
       "...        ...      ...      ...      ...      ...      ...      ...      ...   \n",
       "12798  83700.0  83731.0  83762.0  83793.0  83824.0  83855.0  83886.0  83917.0   \n",
       "12799  84010.0  84041.0  84072.0  84103.0  84134.0  84165.0  84196.0  84227.0   \n",
       "12800  84320.0  84351.0  84382.0  84382.0  84413.0  84413.0  84444.0  84444.0   \n",
       "12801  84506.0  84537.0  84568.0  84599.0  84630.0  84661.0  84692.0  84723.0   \n",
       "12802  82553.0  82584.0  82615.0  82615.0  82646.0  82646.0  82677.0  82708.0   \n",
       "\n",
       "             8        9   10  \n",
       "0          0.0      0.0  0.0  \n",
       "1      22295.0  22313.0  0.0  \n",
       "2      22781.0  22795.0  0.0  \n",
       "3      23864.0  23885.0  0.0  \n",
       "4      24156.0  24195.0  0.0  \n",
       "...        ...      ...  ...  \n",
       "12798  83948.0  83979.0  1.0  \n",
       "12799  84258.0  84289.0  1.0  \n",
       "12800  84475.0  84475.0  1.0  \n",
       "12801  84754.0  84785.0  1.0  \n",
       "12802  82739.0  82770.0  1.0  \n",
       "\n",
       "[12803 rows x 11 columns]"
      ]
     },
     "execution_count": 325,
     "metadata": {},
     "output_type": "execute_result"
    }
   ],
   "source": [
    "df=pd.DataFrame(sessions_array) \n",
    "df"
   ]
  },
  {
   "cell_type": "code",
   "execution_count": 340,
   "metadata": {},
   "outputs": [
    {
     "name": "stdout",
     "output_type": "stream",
     "text": [
      "10\n",
      "0.0    7540\n",
      "1.0    5263\n",
      "dtype: int64\n"
     ]
    },
    {
     "data": {
      "text/html": [
       "<div>\n",
       "<style scoped>\n",
       "    .dataframe tbody tr th:only-of-type {\n",
       "        vertical-align: middle;\n",
       "    }\n",
       "\n",
       "    .dataframe tbody tr th {\n",
       "        vertical-align: top;\n",
       "    }\n",
       "\n",
       "    .dataframe thead th {\n",
       "        text-align: right;\n",
       "    }\n",
       "</style>\n",
       "<table border=\"1\" class=\"dataframe\">\n",
       "  <thead>\n",
       "    <tr style=\"text-align: right;\">\n",
       "      <th></th>\n",
       "      <th>0</th>\n",
       "      <th>1</th>\n",
       "      <th>2</th>\n",
       "      <th>3</th>\n",
       "      <th>4</th>\n",
       "      <th>5</th>\n",
       "      <th>6</th>\n",
       "      <th>7</th>\n",
       "      <th>8</th>\n",
       "      <th>9</th>\n",
       "      <th>10</th>\n",
       "    </tr>\n",
       "  </thead>\n",
       "  <tbody>\n",
       "    <tr>\n",
       "      <th>0</th>\n",
       "      <td>0.0</td>\n",
       "      <td>0.0</td>\n",
       "      <td>0.0</td>\n",
       "      <td>0.0</td>\n",
       "      <td>0.0</td>\n",
       "      <td>0.0</td>\n",
       "      <td>0.0</td>\n",
       "      <td>0.0</td>\n",
       "      <td>0.0</td>\n",
       "      <td>0.0</td>\n",
       "      <td>0.0</td>\n",
       "    </tr>\n",
       "    <tr>\n",
       "      <th>1</th>\n",
       "      <td>21768.0</td>\n",
       "      <td>21794.0</td>\n",
       "      <td>21830.0</td>\n",
       "      <td>21891.0</td>\n",
       "      <td>21936.0</td>\n",
       "      <td>21980.0</td>\n",
       "      <td>22101.0</td>\n",
       "      <td>22141.0</td>\n",
       "      <td>22295.0</td>\n",
       "      <td>22313.0</td>\n",
       "      <td>0.0</td>\n",
       "    </tr>\n",
       "    <tr>\n",
       "      <th>2</th>\n",
       "      <td>22357.0</td>\n",
       "      <td>22406.0</td>\n",
       "      <td>22449.0</td>\n",
       "      <td>22482.0</td>\n",
       "      <td>22574.0</td>\n",
       "      <td>22583.0</td>\n",
       "      <td>22662.0</td>\n",
       "      <td>22716.0</td>\n",
       "      <td>22781.0</td>\n",
       "      <td>22795.0</td>\n",
       "      <td>0.0</td>\n",
       "    </tr>\n",
       "    <tr>\n",
       "      <th>3</th>\n",
       "      <td>23053.0</td>\n",
       "      <td>23074.0</td>\n",
       "      <td>23446.0</td>\n",
       "      <td>23465.0</td>\n",
       "      <td>23650.0</td>\n",
       "      <td>23666.0</td>\n",
       "      <td>23723.0</td>\n",
       "      <td>23862.0</td>\n",
       "      <td>23864.0</td>\n",
       "      <td>23885.0</td>\n",
       "      <td>0.0</td>\n",
       "    </tr>\n",
       "    <tr>\n",
       "      <th>4</th>\n",
       "      <td>23896.0</td>\n",
       "      <td>23914.0</td>\n",
       "      <td>23922.0</td>\n",
       "      <td>23956.0</td>\n",
       "      <td>23999.0</td>\n",
       "      <td>24037.0</td>\n",
       "      <td>24105.0</td>\n",
       "      <td>24130.0</td>\n",
       "      <td>24156.0</td>\n",
       "      <td>24195.0</td>\n",
       "      <td>0.0</td>\n",
       "    </tr>\n",
       "    <tr>\n",
       "      <th>...</th>\n",
       "      <td>...</td>\n",
       "      <td>...</td>\n",
       "      <td>...</td>\n",
       "      <td>...</td>\n",
       "      <td>...</td>\n",
       "      <td>...</td>\n",
       "      <td>...</td>\n",
       "      <td>...</td>\n",
       "      <td>...</td>\n",
       "      <td>...</td>\n",
       "      <td>...</td>\n",
       "    </tr>\n",
       "    <tr>\n",
       "      <th>995</th>\n",
       "      <td>23297.0</td>\n",
       "      <td>23298.0</td>\n",
       "      <td>23299.0</td>\n",
       "      <td>23300.0</td>\n",
       "      <td>23326.0</td>\n",
       "      <td>23327.0</td>\n",
       "      <td>23329.0</td>\n",
       "      <td>23330.0</td>\n",
       "      <td>23331.0</td>\n",
       "      <td>23332.0</td>\n",
       "      <td>0.0</td>\n",
       "    </tr>\n",
       "    <tr>\n",
       "      <th>996</th>\n",
       "      <td>23249.0</td>\n",
       "      <td>23251.0</td>\n",
       "      <td>23252.0</td>\n",
       "      <td>23253.0</td>\n",
       "      <td>23255.0</td>\n",
       "      <td>23256.0</td>\n",
       "      <td>23256.0</td>\n",
       "      <td>23257.0</td>\n",
       "      <td>23258.0</td>\n",
       "      <td>23260.0</td>\n",
       "      <td>0.0</td>\n",
       "    </tr>\n",
       "    <tr>\n",
       "      <th>997</th>\n",
       "      <td>23261.0</td>\n",
       "      <td>23262.0</td>\n",
       "      <td>23263.0</td>\n",
       "      <td>23284.0</td>\n",
       "      <td>23285.0</td>\n",
       "      <td>23286.0</td>\n",
       "      <td>23287.0</td>\n",
       "      <td>23299.0</td>\n",
       "      <td>23300.0</td>\n",
       "      <td>23301.0</td>\n",
       "      <td>0.0</td>\n",
       "    </tr>\n",
       "    <tr>\n",
       "      <th>998</th>\n",
       "      <td>23302.0</td>\n",
       "      <td>23303.0</td>\n",
       "      <td>23304.0</td>\n",
       "      <td>23306.0</td>\n",
       "      <td>23316.0</td>\n",
       "      <td>23317.0</td>\n",
       "      <td>23318.0</td>\n",
       "      <td>23320.0</td>\n",
       "      <td>23321.0</td>\n",
       "      <td>23322.0</td>\n",
       "      <td>0.0</td>\n",
       "    </tr>\n",
       "    <tr>\n",
       "      <th>999</th>\n",
       "      <td>23329.0</td>\n",
       "      <td>23330.0</td>\n",
       "      <td>23331.0</td>\n",
       "      <td>23333.0</td>\n",
       "      <td>23334.0</td>\n",
       "      <td>23336.0</td>\n",
       "      <td>23337.0</td>\n",
       "      <td>23339.0</td>\n",
       "      <td>23340.0</td>\n",
       "      <td>23341.0</td>\n",
       "      <td>0.0</td>\n",
       "    </tr>\n",
       "  </tbody>\n",
       "</table>\n",
       "<p>1000 rows × 11 columns</p>\n",
       "</div>"
      ],
      "text/plain": [
       "           0        1        2        3        4        5        6        7  \\\n",
       "0        0.0      0.0      0.0      0.0      0.0      0.0      0.0      0.0   \n",
       "1    21768.0  21794.0  21830.0  21891.0  21936.0  21980.0  22101.0  22141.0   \n",
       "2    22357.0  22406.0  22449.0  22482.0  22574.0  22583.0  22662.0  22716.0   \n",
       "3    23053.0  23074.0  23446.0  23465.0  23650.0  23666.0  23723.0  23862.0   \n",
       "4    23896.0  23914.0  23922.0  23956.0  23999.0  24037.0  24105.0  24130.0   \n",
       "..       ...      ...      ...      ...      ...      ...      ...      ...   \n",
       "995  23297.0  23298.0  23299.0  23300.0  23326.0  23327.0  23329.0  23330.0   \n",
       "996  23249.0  23251.0  23252.0  23253.0  23255.0  23256.0  23256.0  23257.0   \n",
       "997  23261.0  23262.0  23263.0  23284.0  23285.0  23286.0  23287.0  23299.0   \n",
       "998  23302.0  23303.0  23304.0  23306.0  23316.0  23317.0  23318.0  23320.0   \n",
       "999  23329.0  23330.0  23331.0  23333.0  23334.0  23336.0  23337.0  23339.0   \n",
       "\n",
       "           8        9   10  \n",
       "0        0.0      0.0  0.0  \n",
       "1    22295.0  22313.0  0.0  \n",
       "2    22781.0  22795.0  0.0  \n",
       "3    23864.0  23885.0  0.0  \n",
       "4    24156.0  24195.0  0.0  \n",
       "..       ...      ...  ...  \n",
       "995  23331.0  23332.0  0.0  \n",
       "996  23258.0  23260.0  0.0  \n",
       "997  23300.0  23301.0  0.0  \n",
       "998  23321.0  23322.0  0.0  \n",
       "999  23340.0  23341.0  0.0  \n",
       "\n",
       "[1000 rows x 11 columns]"
      ]
     },
     "execution_count": 340,
     "metadata": {},
     "output_type": "execute_result"
    }
   ],
   "source": [
    "print(df.groupby(session_len,axis=0).size())\n",
    "df.head(1000)"
   ]
  },
  {
   "cell_type": "code",
   "execution_count": 327,
   "metadata": {},
   "outputs": [
    {
     "name": "stdout",
     "output_type": "stream",
     "text": [
      "feature_columns=RangeIndex(start=0, stop=10, step=1)\n",
      "label_column=10\n",
      "[23053. 23074. 23446. 23465. 23650. 23666. 23723. 23862. 23864. 23885.]\n"
     ]
    },
    {
     "data": {
      "text/plain": [
       "0.0"
      ]
     },
     "execution_count": 327,
     "metadata": {},
     "output_type": "execute_result"
    }
   ],
   "source": [
    "feature_columns = df.columns[:-1]\n",
    "label_column = df.columns[-1]\n",
    "\n",
    "print('feature_columns={}'.format(feature_columns))\n",
    "print('label_column={}'.format(label_column))\n",
    "\n",
    "features = df[feature_columns].values.astype('float32')\n",
    "labels = (df[label_column].values).astype('float32')\n",
    "print(features[3])\n",
    "labels[3]"
   ]
  },
  {
   "cell_type": "code",
   "execution_count": 328,
   "metadata": {},
   "outputs": [],
   "source": [
    "import io\n",
    "import sagemaker.amazon.common as smac\n",
    "\n",
    "buf = io.BytesIO()\n",
    "smac.write_numpy_to_dense_tensor(buf, features, labels)\n",
    "buf.seek(0);"
   ]
  },
  {
   "cell_type": "code",
   "execution_count": 329,
   "metadata": {},
   "outputs": [
    {
     "name": "stdout",
     "output_type": "stream",
     "text": [
      "Uploaded training data location: s3://stk-events/bot-detect-ticks-model/train/recordio-pb-data\n",
      "Training artifacts will be uploaded to: s3://stk-events/bot-detect-ticks-model/output\n"
     ]
    }
   ],
   "source": [
    "import boto3\n",
    "import os\n",
    "import sagemaker\n",
    "\n",
    "session = sagemaker.Session()\n",
    "bucket = 'stk-events'\n",
    "\n",
    "prefix = 'bot-detect-ticks-model'\n",
    "key = 'recordio-pb-data'\n",
    "\n",
    "boto3.resource('s3').Bucket(bucket).Object(os.path.join(prefix, 'train', key)).upload_fileobj(buf)\n",
    "\n",
    "s3_train_data = 's3://{}/{}/train/{}'.format(bucket, prefix, key)\n",
    "print('Uploaded training data location: {}'.format(s3_train_data))\n",
    "\n",
    "output_location = 's3://{}/{}/output'.format(bucket, prefix)\n",
    "print('Training artifacts will be uploaded to: {}'.format(output_location))"
   ]
  },
  {
   "cell_type": "code",
   "execution_count": null,
   "metadata": {},
   "outputs": [],
   "source": [
    "from sagemaker.amazon.amazon_estimator import get_image_uri\n",
    "\n",
    "container = get_image_uri(boto3.Session().region_name, 'linear-learner')\n",
    "\n",
    "from sagemaker import get_execution_role\n",
    "\n",
    "linear = sagemaker.estimator.Estimator(container,\n",
    "                                       get_execution_role(), \n",
    "                                       train_instance_count=1, \n",
    "                                       train_instance_type='ml.c4.xlarge',\n",
    "                                       output_path=output_location,\n",
    "                                       sagemaker_session=session)\n",
    "linear.set_hyperparameters(feature_dim=features.shape[1],\n",
    "                           predictor_type='binary_classifier',\n",
    "                           mini_batch_size=200)\n",
    "\n",
    "linear.fit({'train': s3_train_data},wait=True)"
   ]
  },
  {
   "cell_type": "code",
   "execution_count": null,
   "metadata": {},
   "outputs": [],
   "source": [
    "#delete old endpoint\n",
    "sagemaker.Session().delete_endpoint(\"arn:aws:sagemaker:us-west-2:163538056407:endpoint/stk-bot-detect-ticks\")"
   ]
  },
  {
   "cell_type": "code",
   "execution_count": 331,
   "metadata": {},
   "outputs": [
    {
     "name": "stderr",
     "output_type": "stream",
     "text": [
      "Parameter image will be renamed to image_uri in SageMaker Python SDK v2.\n"
     ]
    },
    {
     "name": "stdout",
     "output_type": "stream",
     "text": [
      "---------------!Endpoint name: stk-bot-detect-ticks\n"
     ]
    }
   ],
   "source": [
    "from sagemaker.predictor import csv_serializer, json_deserializer\n",
    "\n",
    "\n",
    "linear_predictor = linear.deploy(initial_instance_count=1,\n",
    "                                 endpoint_name='stk-bot-detect-ticks',\n",
    "                                 instance_type='ml.c4.large')\n",
    "# Specify input and output formats.\n",
    "linear_predictor.content_type = 'text/csv'\n",
    "linear_predictor.serializer = csv_serializer\n",
    "linear_predictor.deserializer = json_deserializer\n",
    "print('Endpoint name: {}'.format(linear_predictor.endpoint))"
   ]
  },
  {
   "cell_type": "code",
   "execution_count": 332,
   "metadata": {},
   "outputs": [
    {
     "name": "stdout",
     "output_type": "stream",
     "text": [
      "CPU times: user 19.8 ms, sys: 0 ns, total: 19.8 ms\n",
      "Wall time: 88.5 ms\n"
     ]
    },
    {
     "data": {
      "text/plain": [
       "'84351,83390,84010,83111,84537,83700,84320,83359,84847,83979'"
      ]
     },
     "execution_count": 332,
     "metadata": {},
     "output_type": "execute_result"
    }
   ],
   "source": [
    "%%time\n",
    "import pandas as pd\n",
    "\n",
    "try:\n",
    "  conn =  mysql.connector.connect(host=ENDPOINT, user=USR, passwd=PASWD, port=3306, database=DBNAME)\n",
    "  cur = conn.cursor()\n",
    "  cur.execute(\"\"\"\n",
    "        select group_concat(concat(m_ticks)) as sample\n",
    "                from (\n",
    "                        select concat(id,\"-\",m_kart_id) id, m_ticks\n",
    "                        from (\n",
    "                                select id,m_kart_id,m_ticks\n",
    "                                from (\n",
    "                                        select id,m_kart_id,m_ticks\n",
    "                                        from actions order by id desc limit 70) t1 order by m_kart_id limit 10) t2) t3; \n",
    "              \"\"\")\n",
    "  sample_list=cur.fetchall()  \n",
    "except Exception as e:\n",
    "  print(\"Database connection failed due to {}\".format(e))\n",
    "sample=''.join(sample_list[0])\n",
    "sample"
   ]
  },
  {
   "cell_type": "code",
   "execution_count": 339,
   "metadata": {},
   "outputs": [
    {
     "name": "stdout",
     "output_type": "stream",
     "text": [
      "(14102, 14155, 14250, 14287, 14445, 14475, 14476, 14498, 14555, 14586) predict {'predictions': [{'score': 0.23823519051074982, 'predicted_label': 0}]}\n",
      "(10261, 10261, 10261, 10261, 10261, 10261, 10261, 10261, 10292, 10292) predict {'predictions': [{'score': 0.20649145543575287, 'predicted_label': 0}]}\n",
      "CPU times: user 30.2 ms, sys: 4.5 ms, total: 34.7 ms\n",
      "Wall time: 152 ms\n"
     ]
    }
   ],
   "source": [
    "%%time\n",
    "import pandas as pd\n",
    "from sagemaker.predictor import csv_serializer, json_deserializer\n",
    "\n",
    "linear_predictor.content_type = 'text/csv'\n",
    "linear_predictor.serializer = csv_serializer\n",
    "linear_predictor.accept = 'application/json'\n",
    "linear_predictor.deserializer = json_deserializer\n",
    "\n",
    "try:\n",
    "  conn =  mysql.connector.connect(host=ENDPOINT, user=USR, passwd=PASWD, port=3306, database=DBNAME)\n",
    "  cur = conn.cursor()\n",
    "  cur.execute(\"\"\"\n",
    "            select ticks_1,ticks_2,ticks_3,ticks_4,ticks_5,ticks_6,ticks_7,ticks_8,ticks_9,ticks_10 from ticks_session_sample;\n",
    "              \"\"\")\n",
    "  sample_list=cur.fetchall()  \n",
    "except Exception as e:\n",
    "  print(\"Database connection failed due to {}\".format(e))\n",
    "\n",
    "for sample in sample_list:\n",
    "  results=linear_predictor.predict(sample)\n",
    "  print('{} predict {}'.format(sample,results))"
   ]
  },
  {
   "cell_type": "markdown",
   "metadata": {},
   "source": [
    "## Full data - (ticks,action,value,value_l,value_r) - prepare the data "
   ]
  },
  {
   "cell_type": "code",
   "execution_count": 180,
   "metadata": {},
   "outputs": [
    {
     "name": "stdout",
     "output_type": "stream",
     "text": [
      "Index(['sessionid', 'id', 'm_ticks', 'm_kart_id', 'm_action', 'm_value',\n",
      "       'm_value_l', 'm_value_r', 'class'],\n",
      "      dtype='object')\n",
      "sessionid    76203\n",
      "id           76203\n",
      "m_ticks      76203\n",
      "m_kart_id    76203\n",
      "m_action     76203\n",
      "m_value      76203\n",
      "m_value_l    76203\n",
      "m_value_r    76203\n",
      "class        76203\n",
      "dtype: int64\n"
     ]
    }
   ],
   "source": [
    "actions = pd.DataFrame(action_list)\n",
    "actions.rename(columns={0:'sessionid',\n",
    "                        1:'id',\n",
    "                        2:'m_ticks',\n",
    "                        3:'m_kart_id',\n",
    "                        4:'m_action',\n",
    "                        5:'m_value',\n",
    "                        6:'m_value_l',\n",
    "                        7:'m_value_r',\n",
    "                        8:'class'\n",
    "                     }, \n",
    "                 inplace=True)\n",
    "print(actions.columns)\n",
    "print(actions.count())"
   ]
  },
  {
   "cell_type": "markdown",
   "metadata": {},
   "source": [
    "We used `id` for sorting the session actions but now we dont need it anymore."
   ]
  },
  {
   "cell_type": "code",
   "execution_count": 181,
   "metadata": {},
   "outputs": [],
   "source": [
    "full_actions=actions.drop('id',axis=1)"
   ]
  },
  {
   "cell_type": "markdown",
   "metadata": {},
   "source": [
    "Checking the amount of data we lose in aggreagtion. The session length is 25 so we are going loose all the session that are smaller than 25"
   ]
  },
  {
   "cell_type": "code",
   "execution_count": 185,
   "metadata": {},
   "outputs": [
    {
     "name": "stdout",
     "output_type": "stream",
     "text": [
      "sessionid\n",
      "0        99\n",
      "1       100\n",
      "2       100\n",
      "3       100\n",
      "4       100\n",
      "       ... \n",
      "1083    100\n",
      "1084    100\n",
      "1085    100\n",
      "1086    100\n",
      "1087     87\n",
      "Length: 769, dtype: int64\n",
      "76193\n"
     ]
    },
    {
     "data": {
      "text/plain": [
       "sessionid    76203\n",
       "m_ticks      76203\n",
       "m_kart_id    76203\n",
       "m_action     76203\n",
       "m_value      76203\n",
       "m_value_l    76203\n",
       "m_value_r    76203\n",
       "class        76203\n",
       "dtype: int64"
      ]
     },
     "execution_count": 185,
     "metadata": {},
     "output_type": "execute_result"
    }
   ],
   "source": [
    "print(full_actions.groupby(['sessionid'],axis=0).size())\n",
    "sum=0\n",
    "for i in full_actions.groupby(['sessionid'],axis=0).size():\n",
    "  #print(i,end='####')\n",
    "  if(i>session_len):\n",
    "    sum=sum+i\n",
    "print(sum)\n",
    "full_actions.count()"
   ]
  },
  {
   "cell_type": "markdown",
   "metadata": {},
   "source": [
    "Checking the size of sessions. Session is an ordered set of actions grouped by the sessiondid, the player kart id and the classification. \n",
    "\n",
    "Classification is set as 1 in case of human, and 0 as bot.\n",
    "\n",
    "The `sum` is the number of remaining data after aggregating on both the kartid and class."
   ]
  },
  {
   "cell_type": "markdown",
   "metadata": {},
   "source": [
    "Construct a dictonary based on `sessionid` and action classification `class`"
   ]
  },
  {
   "cell_type": "code",
   "execution_count": 186,
   "metadata": {},
   "outputs": [
    {
     "name": "stdout",
     "output_type": "stream",
     "text": [
      "76203\n"
     ]
    }
   ],
   "source": [
    "player_session_dict = {}\n",
    "i=0\n",
    "\n",
    "for index, row in full_actions.iterrows():\n",
    "  i=i+1\n",
    "  play_action_val=row['m_ticks'],row['m_action'],row['m_value'],row['m_value_l'],row['m_value_r']\n",
    "  play_action_key=row['sessionid'],row['m_kart_id'],row['class']\n",
    "  if(player_session_dict.get(play_action_key)):\n",
    "    session_list=player_session_dict[play_action_key]\n",
    "    session_list.append(play_action_val)\n",
    "    player_session_dict[play_action_key]=session_list \n",
    "  else:\n",
    "    session_list=[]\n",
    "    session_list.append(play_action_val)\n",
    "    player_session_dict[play_action_key]=session_list\n",
    "print(i)"
   ]
  },
  {
   "cell_type": "markdown",
   "metadata": {},
   "source": [
    "Check the session length (number of actions in a session)"
   ]
  },
  {
   "cell_type": "code",
   "execution_count": 187,
   "metadata": {},
   "outputs": [
    {
     "name": "stdout",
     "output_type": "stream",
     "text": [
      "\n",
      "number of actions pulled from aurora=76203\n",
      "number of actions after initial aggregations=67939\n"
     ]
    },
    {
     "data": {
      "text/plain": [
       "3814"
      ]
     },
     "execution_count": 187,
     "metadata": {},
     "output_type": "execute_result"
    }
   ],
   "source": [
    "sum=0\n",
    "for key in player_session_dict.keys():\n",
    "  if (len(player_session_dict[key])>=session_len):\n",
    "    #print(len(player_session_dict[key]),end = '###')\n",
    "    sum=sum+len(player_session_dict[key])\n",
    "print()\n",
    "print('number of actions pulled from aurora={}'.format(i))\n",
    "print('number of actions after initial aggregations={}'.format(sum))\n",
    "len(player_session_dict)"
   ]
  },
  {
   "cell_type": "markdown",
   "metadata": {},
   "source": [
    "Transpose the dataframe to a new column strucutre that concatenates series of consecutive actions in a fixed size of 25"
   ]
  },
  {
   "cell_type": "code",
   "execution_count": 189,
   "metadata": {},
   "outputs": [
    {
     "name": "stdout",
     "output_type": "stream",
     "text": [
      "5898\n"
     ]
    }
   ],
   "source": [
    "import numpy as np\n",
    "\n",
    "#a line in the array is five set of actions plus the classification \n",
    "size_of_arr_line=session_len*5+1\n",
    "sessions_array = np.zeros((5898,size_of_arr_line), dtype=float, order='C')\n",
    "\n",
    "i=0\n",
    "sum_of_actions=0\n",
    "for key in player_session_dict:\n",
    "  raw_session=player_session_dict[key]\n",
    "  #break the session into equal parts 25 actions long\n",
    "  sessions_list=[raw_session[i:i + session_len] for i in range(0, len(raw_session), session_len)]  \n",
    "  #every session has 25 action set\n",
    "  for session in sessions_list:\n",
    "    #including only the full sessions with excatly 25 actions\n",
    "    if(len(session)==session_len):\n",
    "      new_row=[]\n",
    "      for action in session:\n",
    "        new_row.append(action[0])\n",
    "        new_row.append(action[1])\n",
    "        new_row.append(action[2])\n",
    "        new_row.append(action[3])\n",
    "        new_row.append(action[4])\n",
    "      #add class field to the last column \n",
    "      new_row.append(key[2])\n",
    "      sessions_array[i]=np.asarray(new_row)\n",
    "      i=i+1 \n",
    "print(i)"
   ]
  },
  {
   "cell_type": "code",
   "execution_count": 190,
   "metadata": {},
   "outputs": [],
   "source": [
    "df=pd.DataFrame(sessions_array) "
   ]
  },
  {
   "cell_type": "code",
   "execution_count": 191,
   "metadata": {},
   "outputs": [
    {
     "data": {
      "text/html": [
       "<div>\n",
       "<style scoped>\n",
       "    .dataframe tbody tr th:only-of-type {\n",
       "        vertical-align: middle;\n",
       "    }\n",
       "\n",
       "    .dataframe tbody tr th {\n",
       "        vertical-align: top;\n",
       "    }\n",
       "\n",
       "    .dataframe thead th {\n",
       "        text-align: right;\n",
       "    }\n",
       "</style>\n",
       "<table border=\"1\" class=\"dataframe\">\n",
       "  <thead>\n",
       "    <tr style=\"text-align: right;\">\n",
       "      <th></th>\n",
       "      <th>0</th>\n",
       "      <th>1</th>\n",
       "      <th>2</th>\n",
       "      <th>3</th>\n",
       "      <th>4</th>\n",
       "      <th>5</th>\n",
       "      <th>6</th>\n",
       "      <th>7</th>\n",
       "      <th>8</th>\n",
       "      <th>9</th>\n",
       "      <th>...</th>\n",
       "      <th>41</th>\n",
       "      <th>42</th>\n",
       "      <th>43</th>\n",
       "      <th>44</th>\n",
       "      <th>45</th>\n",
       "      <th>46</th>\n",
       "      <th>47</th>\n",
       "      <th>48</th>\n",
       "      <th>49</th>\n",
       "      <th>50</th>\n",
       "    </tr>\n",
       "  </thead>\n",
       "  <tbody>\n",
       "    <tr>\n",
       "      <th>0</th>\n",
       "      <td>21768.0</td>\n",
       "      <td>0.0</td>\n",
       "      <td>32768.0</td>\n",
       "      <td>0.0</td>\n",
       "      <td>0.0</td>\n",
       "      <td>21794.0</td>\n",
       "      <td>0.0</td>\n",
       "      <td>0.0</td>\n",
       "      <td>32768.0</td>\n",
       "      <td>0.0</td>\n",
       "      <td>...</td>\n",
       "      <td>0.0</td>\n",
       "      <td>32768.0</td>\n",
       "      <td>0.0</td>\n",
       "      <td>0.0</td>\n",
       "      <td>22313.0</td>\n",
       "      <td>0.0</td>\n",
       "      <td>0.0</td>\n",
       "      <td>32768.0</td>\n",
       "      <td>0.0</td>\n",
       "      <td>0.0</td>\n",
       "    </tr>\n",
       "    <tr>\n",
       "      <th>1</th>\n",
       "      <td>22357.0</td>\n",
       "      <td>0.0</td>\n",
       "      <td>32768.0</td>\n",
       "      <td>0.0</td>\n",
       "      <td>0.0</td>\n",
       "      <td>22406.0</td>\n",
       "      <td>0.0</td>\n",
       "      <td>0.0</td>\n",
       "      <td>32768.0</td>\n",
       "      <td>0.0</td>\n",
       "      <td>...</td>\n",
       "      <td>7.0</td>\n",
       "      <td>32768.0</td>\n",
       "      <td>0.0</td>\n",
       "      <td>0.0</td>\n",
       "      <td>22795.0</td>\n",
       "      <td>7.0</td>\n",
       "      <td>0.0</td>\n",
       "      <td>0.0</td>\n",
       "      <td>0.0</td>\n",
       "      <td>0.0</td>\n",
       "    </tr>\n",
       "    <tr>\n",
       "      <th>2</th>\n",
       "      <td>23053.0</td>\n",
       "      <td>0.0</td>\n",
       "      <td>32768.0</td>\n",
       "      <td>0.0</td>\n",
       "      <td>0.0</td>\n",
       "      <td>23074.0</td>\n",
       "      <td>0.0</td>\n",
       "      <td>0.0</td>\n",
       "      <td>32768.0</td>\n",
       "      <td>0.0</td>\n",
       "      <td>...</td>\n",
       "      <td>4.0</td>\n",
       "      <td>0.0</td>\n",
       "      <td>0.0</td>\n",
       "      <td>-32768.0</td>\n",
       "      <td>23885.0</td>\n",
       "      <td>1.0</td>\n",
       "      <td>0.0</td>\n",
       "      <td>0.0</td>\n",
       "      <td>-32768.0</td>\n",
       "      <td>0.0</td>\n",
       "    </tr>\n",
       "    <tr>\n",
       "      <th>3</th>\n",
       "      <td>23896.0</td>\n",
       "      <td>4.0</td>\n",
       "      <td>32768.0</td>\n",
       "      <td>0.0</td>\n",
       "      <td>0.0</td>\n",
       "      <td>23914.0</td>\n",
       "      <td>4.0</td>\n",
       "      <td>0.0</td>\n",
       "      <td>0.0</td>\n",
       "      <td>0.0</td>\n",
       "      <td>...</td>\n",
       "      <td>0.0</td>\n",
       "      <td>32768.0</td>\n",
       "      <td>0.0</td>\n",
       "      <td>0.0</td>\n",
       "      <td>24195.0</td>\n",
       "      <td>0.0</td>\n",
       "      <td>0.0</td>\n",
       "      <td>32768.0</td>\n",
       "      <td>0.0</td>\n",
       "      <td>0.0</td>\n",
       "    </tr>\n",
       "    <tr>\n",
       "      <th>4</th>\n",
       "      <td>21777.0</td>\n",
       "      <td>1.0</td>\n",
       "      <td>32768.0</td>\n",
       "      <td>0.0</td>\n",
       "      <td>0.0</td>\n",
       "      <td>21801.0</td>\n",
       "      <td>1.0</td>\n",
       "      <td>0.0</td>\n",
       "      <td>0.0</td>\n",
       "      <td>-32768.0</td>\n",
       "      <td>...</td>\n",
       "      <td>1.0</td>\n",
       "      <td>32768.0</td>\n",
       "      <td>0.0</td>\n",
       "      <td>0.0</td>\n",
       "      <td>22163.0</td>\n",
       "      <td>1.0</td>\n",
       "      <td>0.0</td>\n",
       "      <td>0.0</td>\n",
       "      <td>-32768.0</td>\n",
       "      <td>0.0</td>\n",
       "    </tr>\n",
       "  </tbody>\n",
       "</table>\n",
       "<p>5 rows × 51 columns</p>\n",
       "</div>"
      ],
      "text/plain": [
       "        0    1        2    3    4        5    6    7        8        9   ...  \\\n",
       "0  21768.0  0.0  32768.0  0.0  0.0  21794.0  0.0  0.0  32768.0      0.0  ...   \n",
       "1  22357.0  0.0  32768.0  0.0  0.0  22406.0  0.0  0.0  32768.0      0.0  ...   \n",
       "2  23053.0  0.0  32768.0  0.0  0.0  23074.0  0.0  0.0  32768.0      0.0  ...   \n",
       "3  23896.0  4.0  32768.0  0.0  0.0  23914.0  4.0  0.0      0.0      0.0  ...   \n",
       "4  21777.0  1.0  32768.0  0.0  0.0  21801.0  1.0  0.0      0.0 -32768.0  ...   \n",
       "\n",
       "    41       42   43       44       45   46   47       48       49   50  \n",
       "0  0.0  32768.0  0.0      0.0  22313.0  0.0  0.0  32768.0      0.0  0.0  \n",
       "1  7.0  32768.0  0.0      0.0  22795.0  7.0  0.0      0.0      0.0  0.0  \n",
       "2  4.0      0.0  0.0 -32768.0  23885.0  1.0  0.0      0.0 -32768.0  0.0  \n",
       "3  0.0  32768.0  0.0      0.0  24195.0  0.0  0.0  32768.0      0.0  0.0  \n",
       "4  1.0  32768.0  0.0      0.0  22163.0  1.0  0.0      0.0 -32768.0  0.0  \n",
       "\n",
       "[5 rows x 51 columns]"
      ]
     },
     "execution_count": 191,
     "metadata": {},
     "output_type": "execute_result"
    }
   ],
   "source": [
    "df.head()"
   ]
  },
  {
   "cell_type": "code",
   "execution_count": 192,
   "metadata": {},
   "outputs": [
    {
     "name": "stdout",
     "output_type": "stream",
     "text": [
      "10\n",
      "0.0        17\n",
      "2.0         1\n",
      "5.0         1\n",
      "15.0        1\n",
      "64.0        1\n",
      "           ..\n",
      "75795.0     1\n",
      "95893.0     1\n",
      "96643.0     1\n",
      "96906.0     1\n",
      "97667.0     1\n",
      "Length: 5140, dtype: int64\n"
     ]
    },
    {
     "data": {
      "text/html": [
       "<div>\n",
       "<style scoped>\n",
       "    .dataframe tbody tr th:only-of-type {\n",
       "        vertical-align: middle;\n",
       "    }\n",
       "\n",
       "    .dataframe tbody tr th {\n",
       "        vertical-align: top;\n",
       "    }\n",
       "\n",
       "    .dataframe thead th {\n",
       "        text-align: right;\n",
       "    }\n",
       "</style>\n",
       "<table border=\"1\" class=\"dataframe\">\n",
       "  <thead>\n",
       "    <tr style=\"text-align: right;\">\n",
       "      <th></th>\n",
       "      <th>0</th>\n",
       "      <th>1</th>\n",
       "      <th>2</th>\n",
       "      <th>3</th>\n",
       "      <th>4</th>\n",
       "      <th>5</th>\n",
       "      <th>6</th>\n",
       "      <th>7</th>\n",
       "      <th>8</th>\n",
       "      <th>9</th>\n",
       "      <th>...</th>\n",
       "      <th>41</th>\n",
       "      <th>42</th>\n",
       "      <th>43</th>\n",
       "      <th>44</th>\n",
       "      <th>45</th>\n",
       "      <th>46</th>\n",
       "      <th>47</th>\n",
       "      <th>48</th>\n",
       "      <th>49</th>\n",
       "      <th>50</th>\n",
       "    </tr>\n",
       "  </thead>\n",
       "  <tbody>\n",
       "    <tr>\n",
       "      <th>0</th>\n",
       "      <td>21768.0</td>\n",
       "      <td>0.0</td>\n",
       "      <td>32768.0</td>\n",
       "      <td>0.0</td>\n",
       "      <td>0.0</td>\n",
       "      <td>21794.0</td>\n",
       "      <td>0.0</td>\n",
       "      <td>0.0</td>\n",
       "      <td>32768.0</td>\n",
       "      <td>0.0</td>\n",
       "      <td>...</td>\n",
       "      <td>0.0</td>\n",
       "      <td>32768.0</td>\n",
       "      <td>0.0</td>\n",
       "      <td>0.0</td>\n",
       "      <td>22313.0</td>\n",
       "      <td>0.0</td>\n",
       "      <td>0.0</td>\n",
       "      <td>32768.0</td>\n",
       "      <td>0.0</td>\n",
       "      <td>0.0</td>\n",
       "    </tr>\n",
       "  </tbody>\n",
       "</table>\n",
       "<p>1 rows × 51 columns</p>\n",
       "</div>"
      ],
      "text/plain": [
       "        0    1        2    3    4        5    6    7        8    9   ...   41  \\\n",
       "0  21768.0  0.0  32768.0  0.0  0.0  21794.0  0.0  0.0  32768.0  0.0  ...  0.0   \n",
       "\n",
       "        42   43   44       45   46   47       48   49   50  \n",
       "0  32768.0  0.0  0.0  22313.0  0.0  0.0  32768.0  0.0  0.0  \n",
       "\n",
       "[1 rows x 51 columns]"
      ]
     },
     "execution_count": 192,
     "metadata": {},
     "output_type": "execute_result"
    }
   ],
   "source": [
    "print(df.groupby(session_len,axis=0).size())\n",
    "df.head(1)"
   ]
  },
  {
   "cell_type": "markdown",
   "metadata": {},
   "source": [
    "To check if we did not loose data we need to multiple the number by 25"
   ]
  },
  {
   "cell_type": "code",
   "execution_count": 194,
   "metadata": {},
   "outputs": [
    {
     "data": {
      "text/plain": [
       "class\n",
       "0    65618\n",
       "1    10585\n",
       "dtype: int64"
      ]
     },
     "execution_count": 194,
     "metadata": {},
     "output_type": "execute_result"
    }
   ],
   "source": [
    "full_actions.groupby(['class'],axis=0).size()"
   ]
  },
  {
   "cell_type": "markdown",
   "metadata": {},
   "source": [
    "Check how much data was lost during transformation."
   ]
  },
  {
   "cell_type": "code",
   "execution_count": 700,
   "metadata": {},
   "outputs": [
    {
     "name": "stdout",
     "output_type": "stream",
     "text": [
      "0.03143830233167409\n",
      "0.03237606464293514\n"
     ]
    }
   ],
   "source": [
    "print(120/3817)\n",
    "print(1186/36632)"
   ]
  },
  {
   "cell_type": "code",
   "execution_count": 195,
   "metadata": {},
   "outputs": [
    {
     "name": "stdout",
     "output_type": "stream",
     "text": [
      "RangeIndex(start=0, stop=51, step=1)\n",
      "feature_columns=RangeIndex(start=0, stop=50, step=1)\n",
      "label_column=50\n"
     ]
    }
   ],
   "source": [
    "print(df.columns)\n",
    "feature_columns = df.columns[:-1]\n",
    "label_column = df.columns[-1]\n",
    "\n",
    "print('feature_columns={}'.format(feature_columns))\n",
    "print('label_column={}'.format(label_column))\n",
    "\n",
    "features = df[feature_columns].values.astype('float32')\n",
    "labels = (df[label_column].values).astype('float32')"
   ]
  },
  {
   "cell_type": "markdown",
   "metadata": {},
   "source": [
    "### Prepare Data and Upload to S3"
   ]
  },
  {
   "cell_type": "code",
   "execution_count": 196,
   "metadata": {},
   "outputs": [],
   "source": [
    "import io\n",
    "import sagemaker.amazon.common as smac\n",
    "\n",
    "buf = io.BytesIO()\n",
    "smac.write_numpy_to_dense_tensor(buf, features, labels)\n",
    "buf.seek(0);"
   ]
  },
  {
   "cell_type": "markdown",
   "metadata": {},
   "source": [
    "Now we upload the data to S3 using boto3."
   ]
  },
  {
   "cell_type": "code",
   "execution_count": 197,
   "metadata": {},
   "outputs": [
    {
     "name": "stdout",
     "output_type": "stream",
     "text": [
      "Uploaded training data location: s3://stk-events/anticheat-model/train/recordio-pb-data\n",
      "Training artifacts will be uploaded to: s3://stk-events/anticheat-model/output\n"
     ]
    }
   ],
   "source": [
    "import boto3\n",
    "import os\n",
    "import sagemaker\n",
    "\n",
    "session = sagemaker.Session()\n",
    "bucket = 'stk-events'\n",
    "\n",
    "prefix = 'anticheat-model'\n",
    "key = 'recordio-pb-data'\n",
    "\n",
    "boto3.resource('s3').Bucket(bucket).Object(os.path.join(prefix, 'train', key)).upload_fileobj(buf)\n",
    "\n",
    "s3_train_data = 's3://{}/{}/train/{}'.format(bucket, prefix, key)\n",
    "print('Uploaded training data location: {}'.format(s3_train_data))\n",
    "\n",
    "output_location = 's3://{}/{}/output'.format(bucket, prefix)\n",
    "print('Training artifacts will be uploaded to: {}'.format(output_location))"
   ]
  },
  {
   "cell_type": "code",
   "execution_count": 198,
   "metadata": {},
   "outputs": [
    {
     "name": "stderr",
     "output_type": "stream",
     "text": [
      "'get_image_uri' method will be deprecated in favor of 'ImageURIProvider' class in SageMaker Python SDK v2.\n",
      "Parameter image_name will be renamed to image_uri in SageMaker Python SDK v2.\n",
      "'s3_input' class will be renamed to 'TrainingInput' in SageMaker Python SDK v2.\n"
     ]
    }
   ],
   "source": [
    "from sagemaker.amazon.amazon_estimator import get_image_uri\n",
    "\n",
    "container = get_image_uri(boto3.Session().region_name, 'linear-learner')\n",
    "\n",
    "from sagemaker import get_execution_role\n",
    "\n",
    "linear = sagemaker.estimator.Estimator(container,\n",
    "                                       get_execution_role(), \n",
    "                                       train_instance_count=1, \n",
    "                                       train_instance_type='ml.c4.xlarge',\n",
    "                                       output_path=output_location,\n",
    "                                       sagemaker_session=session)\n",
    "linear.set_hyperparameters(feature_dim=features.shape[1],\n",
    "                           predictor_type='binary_classifier',\n",
    "                           mini_batch_size=200)\n",
    "\n",
    "linear.fit({'train': s3_train_data},wait=False)"
   ]
  },
  {
   "cell_type": "markdown",
   "metadata": {},
   "source": [
    "### Host Linear Classifier"
   ]
  },
  {
   "cell_type": "markdown",
   "metadata": {},
   "source": [
    "Now we deploy the estimator to and endpoint.\n"
   ]
  },
  {
   "cell_type": "code",
   "execution_count": null,
   "metadata": {},
   "outputs": [],
   "source": [
    "#sagemaker.Session().delete_endpoint(linear.endpoint)\n",
    "from sagemaker.predictor import csv_serializer, json_deserializer\n",
    "\n",
    "#delete old endpoint\n",
    "sagemaker.Session().delete_endpoint(linear.endpoint)\n",
    "\n",
    "linear_predictor = linear.deploy(initial_instance_count=1,\n",
    "                                 endpoint_name=\"stk-bot-detector\",\n",
    "                                 instance_type='ml.m4.xlarge')\n",
    "# Specify input and output formats.\n",
    "linear_predictor.content_type = 'text/csv'\n",
    "linear_predictor.serializer = csv_serializer\n",
    "linear_predictor.deserializer = json_deserializer\n",
    "print('Endpoint name: {}'.format(linear_predictor.endpoint))"
   ]
  },
  {
   "cell_type": "code",
   "execution_count": 664,
   "metadata": {},
   "outputs": [],
   "source": [
    "from sagemaker.predictor import csv_serializer, json_deserializer\n",
    "\n",
    "linear_predictor.content_type = 'text/csv'\n",
    "linear_predictor.serializer = csv_serializer\n",
    "linear_predictor.accept = 'application/json'\n",
    "linear_predictor.deserializer = json_deserializer"
   ]
  },
  {
   "cell_type": "markdown",
   "metadata": {},
   "source": [
    "### Calling the endpoint"
   ]
  },
  {
   "cell_type": "markdown",
   "metadata": {},
   "source": [
    "prepare the parameters for the model endpoint call.\n",
    "\n",
    "This SQL will return a game session actions (25 actions) that we trained the model with"
   ]
  },
  {
   "cell_type": "markdown",
   "metadata": {},
   "source": [
    "```sql\n",
    "select concat(id,\"-\",m_kart_id) id, m_ticks,m_action,m_value,m_value_l,m_value_r \n",
    "from (\n",
    "    select id,m_kart_id,m_ticks,m_action,m_value,m_value_l,m_value_r \n",
    "    from actions order by m_kart_id,id limit 25) t;\n",
    "```"
   ]
  },
  {
   "cell_type": "markdown",
   "metadata": {},
   "source": [
    "Here is an example result"
   ]
  },
  {
   "cell_type": "markdown",
   "metadata": {},
   "source": [
    "```\n",
    "mysql> select * from tmp\n",
    "    -> ;\n",
    "+-------+---------+----------+---------+-----------+-----------+\n",
    "| id    | ticks   |   action |   value |   value_l |   value_r |\n",
    "+-------+---------+----------+---------+-----------+-----------+\n",
    "| 0     |      31 |        1 |    4479 |         0 |         0 |\n",
    "| 1     |      32 |        2 |   32768 |         0 |     -4479 |\n",
    "| 2     |      62 |        1 |    5423 |         0 |     -4479 |\n",
    "| 3     |      93 |        1 |    6317 |         0 |     -5423 |\n",
    "| 4     |     124 |        1 |    5064 |         0 |     -6317 |\n",
    "| 5     |     155 |        1 |    5729 |         0 |     -5064 |\n",
    "| 6     |     186 |        1 |    6469 |         0 |     -5729 |\n",
    "| 7     |     217 |        1 |    6714 |         0 |     -6469 |\n",
    "| 8     |     248 |        0 |   32768 |         0 |     -6714 |\n",
    "| 9.    |     279 |        1 |    7953 |     32768 |     -6714 |\n",
    "| 10    |     310 |        1 |   14415 |     32768 |     -7953 |\n",
    "| 11    |     341 |        0 |    3698 |     32768 |    -14415 |\n",
    "| 12    |     372 |        0 |    5492 |      3698 |    -14415 |\n",
    "| 13    |     403 |        0 |   20817 |      5492 |    -14415 |\n",
    "| 14    |     434 |        0 |   26290 |     20817 |    -14415 |\n",
    "| 15.   |     465 |        0 |   24373 |     26290 |    -14415 |\n",
    "| 16.   |     496 |        0 |   11402 |     24373 |    -14415 |\n",
    "| 17.   |     527 |        0 |   10370 |     11402 |    -14415 |\n",
    "| 18.   |     558 |        0 |   12071 |     10370 |    -14415 |\n",
    "| 19.   |     589 |        0 |   15223 |     12071 |    -14415 |\n",
    "| 20.   |     620 |        0 |   17070 |     15223 |    -14415 |\n",
    "| 21.   |     651 |        0 |   19485 |     17070 |    -14415 |\n",
    "| 22.   |     682 |        0 |   16294 |     19485 |    -14415 |\n",
    "| 23.   |     713 |        0 |   12267 |     16294 |    -14415 |\n",
    "| 24.   |     744 |        0 |   10856 |     12267 |    -14415 |\n",
    "+-------+---------+----------+---------+-----------+-----------+\n",
    "```"
   ]
  },
  {
   "cell_type": "markdown",
   "metadata": {},
   "source": [
    "We need to concatenate the 25 results into a single line to send it to the model endpoint."
   ]
  },
  {
   "cell_type": "markdown",
   "metadata": {},
   "source": [
    "```\n",
    "+---------+----------+---------+-----------+-----------+      +---------+---------+--------+----------+----------+\n",
    "| ticks_0 | action_0 | value_0 | value_l_0 | value_r_0 |..... |ticks_24 |action_24|value_24|value_l_24|value_r_24|\n",
    "+---------+----------+---------+-----------+-----------+      +---------+---------+--------+----------+----------+\n",
    "    31         1         4479       0            0                 744      0        10856     12267     -14415\n",
    "```"
   ]
  },
  {
   "cell_type": "markdown",
   "metadata": {},
   "source": [
    "```sql\n",
    "select group_concat(concat(m_ticks,',',m_action,',',m_value,',',m_value_l,',',m_value_r)) as col \n",
    "from (select concat(id,\"-\",m_kart_id) id, m_ticks,m_action,m_value,m_value_l,m_value_r  \n",
    "      from (     \n",
    "          select id,m_kart_id,m_ticks,m_action,m_value,m_value_l,m_value_r      \n",
    "          from actions order by m_kart_id,id limit 25) \n",
    "      t) \n",
    "t1;\n",
    "```"
   ]
  },
  {
   "cell_type": "code",
   "execution_count": 665,
   "metadata": {},
   "outputs": [
    {
     "name": "stdout",
     "output_type": "stream",
     "text": [
      "CPU times: user 19.4 ms, sys: 0 ns, total: 19.4 ms\n",
      "Wall time: 98.7 ms\n"
     ]
    }
   ],
   "source": [
    "%%time\n",
    "import pandas as pd\n",
    "\n",
    "modulo_size=224\n",
    "\n",
    "try:\n",
    "  conn =  mysql.connector.connect(host=ENDPOINT, user=USR, passwd=PASWD, port=3306, database=DBNAME)\n",
    "  cur = conn.cursor()\n",
    "  cur.execute(\"\"\"\n",
    "        select group_concat(concat(m_ticks,',',m_action,',',m_value,',',m_value_l,',',m_value_r)) as sample\n",
    "                from (\n",
    "                        select concat(id,\"-\",m_kart_id) id, m_ticks,m_action,m_value,m_value_l,m_value_r\n",
    "                        from (\n",
    "                                select id,m_kart_id,m_ticks,m_action,m_value,m_value_l,m_value_r\n",
    "                                from (\n",
    "                                        select id,m_kart_id,m_ticks,m_action,m_value,m_value_l,m_value_r\n",
    "                                        from actions order by id desc limit 70) t1 order by m_kart_id limit 25) t2) t3; \n",
    "              \"\"\")\n",
    "  sample_list=cur.fetchall()  \n",
    "except Exception as e:\n",
    "  print(\"Database connection failed due to {}\".format(e))\n",
    "sample=''.join(sample_list[0])"
   ]
  },
  {
   "cell_type": "code",
   "execution_count": 666,
   "metadata": {},
   "outputs": [],
   "source": [
    "sample=''.join(sample_list[0])"
   ]
  },
  {
   "cell_type": "code",
   "execution_count": 667,
   "metadata": {},
   "outputs": [
    {
     "data": {
      "text/plain": [
       "'80447,0,0,32768,0,78329,1,0,0,-32768,76364,1,32768,0,0,78647,1,0,0,-32768,76891,0,0,32768,0,79382,1,32768,0,0,77409,4,0,32768,0,79825,1,0,0,-32768,77971,1,32768,0,0,80669,3,0,0,0,78484,1,32768,0,0,76713,1,32768,0,0,79121,1,0,0,-32768,77126,0,32768,0,0,79600,1,32768,0,0,77585,0,32768,0,0,80430,0,32768,0,0,78299,1,32768,0,0,76239,1,0,0,-32768,78622,1,32768,0,0,76875,0,32768,0,0,79270,1,0,0,-32768,77261,0,32768,0,0,79774,1,32768,0,0,77882,1,0,0,-32768'"
      ]
     },
     "execution_count": 667,
     "metadata": {},
     "output_type": "execute_result"
    }
   ],
   "source": [
    "sample"
   ]
  },
  {
   "cell_type": "code",
   "execution_count": 668,
   "metadata": {},
   "outputs": [
    {
     "name": "stdout",
     "output_type": "stream",
     "text": [
      "{'predictions': [{'score': 0.0001962552487384528, 'predicted_label': 0}]}\n"
     ]
    }
   ],
   "source": [
    "results = linear_predictor.predict(sample)\n",
    "print(results)"
   ]
  },
  {
   "cell_type": "code",
   "execution_count": 671,
   "metadata": {},
   "outputs": [
    {
     "name": "stdout",
     "output_type": "stream",
     "text": [
      "CPU times: user 19.1 ms, sys: 0 ns, total: 19.1 ms\n",
      "Wall time: 63.7 ms\n"
     ]
    },
    {
     "data": {
      "text/plain": [
       "'62,1,846,0,-672,589,0,32768,32768,-32768,899,0,30620,19736,-1848,279,0,765,0,-102,651,7,32768,32768,-5391,31,1,672,0,0,837,0,3445,11325,-1848,217,1,69,0,-287,1085,0,32768,18005,-3301,434,0,32768,32768,-20774,775,0,11325,11227,-9552,155,1,456,0,-282,31,2,32768,0,-672,527,1,32768,32768,-29192,1023,1,3301,16818,-1848,372,1,9534,32768,-102,713,1,9552,32768,-19031,93,1,209,0,-846,930,0,32768,30620,-1848,310,0,508,765,-102,868,0,19736,3445,-1848,248,1,102,0,-69,806,1,1848,11325,-9552,186,1,287,0,-456,682,1,19031,32768,-5391'"
      ]
     },
     "execution_count": 671,
     "metadata": {},
     "output_type": "execute_result"
    }
   ],
   "source": [
    "%%time\n",
    "import pandas as pd\n",
    "\n",
    "modulo_size=224\n",
    "\n",
    "try:\n",
    "  conn =  mysql.connector.connect(host=ENDPOINT, user=USR, passwd=PASWD, port=3306, database=DBNAME)\n",
    "  cur = conn.cursor()\n",
    "  cur.execute(\"\"\"\n",
    "        select group_concat(concat(m_ticks,',',m_action,',',m_value,',',m_value_l,',',m_value_r)) as sample\n",
    "                from (\n",
    "                        select concat(id,\"-\",m_kart_id) id, m_ticks,m_action,m_value,m_value_l,m_value_r\n",
    "                        from (\n",
    "                                select id,m_kart_id,m_ticks,m_action,m_value,m_value_l,m_value_r\n",
    "                                from (\n",
    "                                        select id,m_kart_id,m_ticks,m_action,m_value,m_value_l,m_value_r\n",
    "                                        from actions where class=1 order by id limit 70) t1 order by m_kart_id limit 25) t2) t3; \n",
    "              \"\"\")\n",
    "  sample_list=cur.fetchall()  \n",
    "except Exception as e:\n",
    "  print(\"Database connection failed due to {}\".format(e))\n",
    "sample=''.join(sample_list[0])\n",
    "sample"
   ]
  },
  {
   "cell_type": "code",
   "execution_count": 672,
   "metadata": {},
   "outputs": [
    {
     "name": "stdout",
     "output_type": "stream",
     "text": [
      "{'predictions': [{'score': 0.15919774770736694, 'predicted_label': 0}]}\n"
     ]
    }
   ],
   "source": [
    "results = linear_predictor.predict(sample)\n",
    "print(results)"
   ]
  },
  {
   "cell_type": "markdown",
   "metadata": {},
   "source": [
    "### Clean up\n"
   ]
  },
  {
   "cell_type": "markdown",
   "metadata": {},
   "source": [
    "We will leave the prediction endpoint running at the end of this notebook so we can handle incoming event streams. However, don't forget to delete the prediction endpoint when you're done. You can do that at the Amazon SageMaker console in the Endpoints page. Or you can run linear_predictor.delete_endpoint()"
   ]
  }
 ],
 "metadata": {
  "kernelspec": {
   "display_name": "conda_pytorch_latest_p36",
   "language": "python",
   "name": "conda_pytorch_latest_p36"
  },
  "language_info": {
   "codemirror_mode": {
    "name": "ipython",
    "version": 3
   },
   "file_extension": ".py",
   "mimetype": "text/x-python",
   "name": "python",
   "nbconvert_exporter": "python",
   "pygments_lexer": "ipython3",
   "version": "3.6.10"
  }
 },
 "nbformat": 4,
 "nbformat_minor": 4
}
